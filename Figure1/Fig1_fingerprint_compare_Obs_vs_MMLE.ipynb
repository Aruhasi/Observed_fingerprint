{
 "cells": [
  {
   "cell_type": "markdown",
   "metadata": {},
   "source": [
    "\"\"\"\n",
    "This script is used to plot the Global mean surface air temperature (GMSAT) from observation and multimodel simulation.\n",
    "\"\"\""
   ]
  },
  {
   "cell_type": "markdown",
   "metadata": {},
   "source": [
    "## import observation data"
   ]
  },
  {
   "cell_type": "code",
   "execution_count": null,
   "metadata": {},
   "outputs": [],
   "source": [
    "import numpy as np\n",
    "import xarray as xr\n",
    "import cartopy.crs as ccrs\n",
    "import cartopy.feature as cfeature\n",
    "import cartopy.mpl.ticker as cticker\n",
    "import matplotlib.pyplot as plt\n",
    "import matplotlib\n",
    "import pandas as pd\n",
    "from pathlib import Path\n",
    "import glob\n",
    "# %%\n",
    "# define function\n",
    "import src.SAT_function_Obs_Fingerprint as data_process\n",
    "import src.Data_Preprocess as preprocess"
   ]
  },
  {
   "cell_type": "code",
   "execution_count": null,
   "metadata": {},
   "outputs": [],
   "source": [
    "# subplot a: global mean temperature anomalies during 1850-2022 HadCRUT5\n",
    "input_observation = './Data/'\n",
    "\n",
    "tas_HadCRUT_annual = xr.open_dataset(input_observation + 'tas_HadCRUT5_annual_anomalies.nc')"
   ]
  },
  {
   "cell_type": "code",
   "execution_count": null,
   "metadata": {},
   "outputs": [],
   "source": [
    "tas_HadCRUT_annual"
   ]
  },
  {
   "cell_type": "code",
   "execution_count": null,
   "metadata": {},
   "outputs": [],
   "source": [
    "# tas_HadCRUT_annual = tas_HadCRUT_annual.rename({'__xarray_dataarray_variable__': 'tas_HadCRUT5'})"
   ]
  },
  {
   "cell_type": "code",
   "execution_count": null,
   "metadata": {},
   "outputs": [],
   "source": [
    "tas_HadCRUT_annual_1850_2022 = tas_HadCRUT_annual.sel(year=slice('1993', '2022')).tas"
   ]
  },
  {
   "cell_type": "code",
   "execution_count": null,
   "metadata": {},
   "outputs": [],
   "source": [
    "tas_HadCRUT5_annual_ano = tas_HadCRUT_annual_1850_2022.mean(dim=['year'])"
   ]
  },
  {
   "cell_type": "code",
   "execution_count": null,
   "metadata": {},
   "outputs": [],
   "source": [
    "tas_HadCRUT5_annual_ano.min().values, tas_HadCRUT5_annual_ano.max().values"
   ]
  },
  {
   "cell_type": "markdown",
   "metadata": {},
   "source": [
    "## Input the multimodel mean GMST data"
   ]
  },
  {
   "cell_type": "markdown",
   "metadata": {},
   "source": [
    "### Subplot b: plot the multimodel ensemble mean timeseries"
   ]
  },
  {
   "cell_type": "code",
   "execution_count": null,
   "metadata": {},
   "outputs": [],
   "source": [
    "input_model = './Data/Timeseries/'\n",
    "\n",
    "ACCESS_GMSAT_annual_ENS     = xr.open_dataset(input_model + 'GMSAT_ACCESS_annual_timeseries_ENS.nc')\n",
    "CanESM_GMSAT_annual_ENS     = xr.open_dataset(input_model + 'GMSAT_CanESM5_annual_timeseries_ENS.nc')\n",
    "EC_Earth_GMSAT_annual_ENS   = xr.open_dataset(input_model + 'GMSAT_EC_Earth_annual_timeseries_ENS.nc')\n",
    "IPSL_GMSAT_annual_ENS   = xr.open_dataset(input_model + 'GMSAT_IPSL_CM6A_annual_timeseries_ENS.nc')\n",
    "MIROC_GMSAT_annual_ENS  = xr.open_dataset(input_model + 'GMSAT_MIROC6_annual_timeseries_ENS.nc')\n",
    "MPI_GMSAT_annual_ENS    = xr.open_dataset(input_model + 'GMSAT_MPI_ESM_annual_timeseries_ENS.nc')\n",
    "MMEM_GMSAT_annual_ENS   = xr.open_dataset(input_model + 'GMSAT_SMILEs_ENS_annual_timeseries.nc')"
   ]
  },
  {
   "cell_type": "code",
   "execution_count": null,
   "metadata": {},
   "outputs": [],
   "source": [
    "MMEM_GMSAT_annual_ENS_check = xr.open_dataset(input_model + 'GMSAT_SMILEs_ENS_annual_timeseries_obtained_basedOn_ModelENS.nc')"
   ]
  },
  {
   "cell_type": "markdown",
   "metadata": {},
   "source": [
    "### Subplot c: plotting the alpha and beta coefficients spatial pattern"
   ]
  },
  {
   "cell_type": "code",
   "execution_count": null,
   "metadata": {},
   "outputs": [],
   "source": [
    "# load the data\n",
    "# MMEM GMSAT annual regression coefficient\n",
    "dir_path = './Figure1/'\n",
    "\n",
    "beta_MMEM_HadCRUT5_annual = xr.open_dataset(dir_path + 'HadCRUT_slope_Beta_coefficients_MMEM_TS.nc')\n",
    "alpha_MMEM_HadCRUT5_annual = xr.open_dataset(dir_path + 'HadCRUT_intercept_Alpha_constant_MMEM_TS.nc')"
   ]
  },
  {
   "cell_type": "code",
   "execution_count": null,
   "metadata": {},
   "outputs": [],
   "source": [
    "beta_MMEM_HadCRUT5_annual = beta_MMEM_HadCRUT5_annual.rename({'__xarray_dataarray_variable__': 'beta_MMEM_HadCRUT5'})\n",
    "alpha_MMEM_HadCRUT5_annual = alpha_MMEM_HadCRUT5_annual.rename({'__xarray_dataarray_variable__': 'alpha_MMEM_HadCRUT5'})"
   ]
  },
  {
   "cell_type": "code",
   "execution_count": null,
   "metadata": {},
   "outputs": [],
   "source": [
    "beta_MMEM_HadCRUT5_annual['beta_MMEM_HadCRUT5'].min().values, beta_MMEM_HadCRUT5_annual['beta_MMEM_HadCRUT5'].max().values"
   ]
  },
  {
   "cell_type": "code",
   "execution_count": null,
   "metadata": {},
   "outputs": [],
   "source": [
    "alpha_MMEM_HadCRUT5_annual['alpha_MMEM_HadCRUT5'].min().values, alpha_MMEM_HadCRUT5_annual['alpha_MMEM_HadCRUT5'].max().values"
   ]
  },
  {
   "cell_type": "code",
   "execution_count": null,
   "metadata": {},
   "outputs": [],
   "source": [
    "dir_MMEM = './Figure1/fingerprint_output/'\n",
    "MMEM_beta_pattern = xr.open_dataset(dir_MMEM+'MMEM_GSAT_slope_Beta_coefficients_1850_2022.nc')"
   ]
  },
  {
   "cell_type": "code",
   "execution_count": null,
   "metadata": {},
   "outputs": [],
   "source": [
    "MMEM_beta_pattern"
   ]
  },
  {
   "cell_type": "markdown",
   "metadata": {},
   "source": [
    "### Subplot d: the reconstructed y mean and the y residual from the raw data"
   ]
  },
  {
   "cell_type": "code",
   "execution_count": null,
   "metadata": {},
   "outputs": [],
   "source": [
    "dir_const = './Data/'\n",
    "\n",
    "GSAT_estimate_forced = xr.open_dataset(dir_const + 'GSAT_HadCRUT5_Forced_anomalies_1850_2022.nc')\n",
    "GSAT_estimate_internal = xr.open_dataset(dir_const + 'GSAT_HadCRUT5_Internal_Variability_anomalies_1850_2022.nc')"
   ]
  },
  {
   "cell_type": "code",
   "execution_count": null,
   "metadata": {},
   "outputs": [],
   "source": [
    "GSAT_estimate_forced = GSAT_estimate_forced.rename({'__xarray_dataarray_variable__': 'GSAT_HadCRUT5_Forced'})\n",
    "GSAT_estimate_internal = GSAT_estimate_internal.rename({'__xarray_dataarray_variable__': 'GSAT_HadCRUT5_Internal'})"
   ]
  },
  {
   "cell_type": "code",
   "execution_count": null,
   "metadata": {},
   "outputs": [],
   "source": [
    "# Calculate the last 30years mean\n",
    "GSAT_estimate_forced_1993_2022 = GSAT_estimate_forced.sel(year=slice('1993', '2022')).GSAT_HadCRUT5_Forced"
   ]
  },
  {
   "cell_type": "code",
   "execution_count": null,
   "metadata": {},
   "outputs": [],
   "source": [
    "GSAT_estimate_forced_mean = GSAT_estimate_forced_1993_2022.mean(dim=['year'])\n",
    "# GSAT_estimate_internal_mean = GSAT_estimate_internal['GSAT_HadCRUT5_Internal'].mean(dim=['year'])"
   ]
  },
  {
   "cell_type": "code",
   "execution_count": null,
   "metadata": {},
   "outputs": [],
   "source": [
    "GSAT_estimate_forced_mean.min().values, GSAT_estimate_forced_mean.max().values"
   ]
  },
  {
   "cell_type": "markdown",
   "metadata": {},
   "source": [
    "### Subplot e: the MMLE SAT anomalies during 1993-2022"
   ]
  },
  {
   "cell_type": "code",
   "execution_count": null,
   "metadata": {},
   "outputs": [],
   "source": [
    "dir_MMLE = './time_dependency/Data/'\n",
    "MMLE_ds = xr.open_dataset(dir_MMLE + 'SMILEs_annual_ano_1850_2022.nc')\n",
    "MMLE_ds"
   ]
  },
  {
   "cell_type": "code",
   "execution_count": null,
   "metadata": {},
   "outputs": [],
   "source": [
    "MMLE_30yr_mean = MMLE_ds.sel(year=slice('1993', '2022')).tas.mean(dim=['year'])"
   ]
  },
  {
   "cell_type": "code",
   "execution_count": null,
   "metadata": {},
   "outputs": [],
   "source": [
    "MMLE_30yr_mean"
   ]
  },
  {
   "cell_type": "markdown",
   "metadata": {},
   "source": [
    "## Plotting "
   ]
  },
  {
   "cell_type": "code",
   "execution_count": null,
   "metadata": {},
   "outputs": [],
   "source": [
    "import svgwrite\n",
    "from matplotlib.lines import Line2D\n",
    "from matplotlib.legend_handler import HandlerLine2D\n",
    "from matplotlib.legend import Legend\n",
    "import matplotlib.lines as Line2D\n",
    "\n",
    "import cartopy.crs as ccrs\n",
    "import matplotlib.pyplot as plt\n",
    "import matplotlib.colors as colors\n",
    "import matplotlib.ticker as mticker\n",
    "import cartopy.feature as cfeature\n",
    "import cartopy.mpl.ticker as cticker\n",
    "import matplotlib.patches as mpatches\n",
    "import matplotlib.lines as mlines\n",
    "import matplotlib.gridspec as gridspec\n",
    "import matplotlib as mpl\n",
    "import seaborn as sns\n",
    "from matplotlib.colors import ListedColormap\n",
    "from matplotlib.colors import BoundaryNorm, ListedColormap"
   ]
  },
  {
   "cell_type": "code",
   "execution_count": null,
   "metadata": {},
   "outputs": [],
   "source": [
    "#Plotting\n",
    "# setting the parameters for the figure\n",
    "plt.rcParams['figure.figsize'] = (8, 10)\n",
    "plt.rcParams['font.size'] = 16\n",
    "# plt.rcParams['font.family'] = 'sans-serif'\n",
    "plt.rcParams['axes.labelsize'] = 16\n",
    "plt.rcParams['ytick.direction'] = 'out'\n",
    "plt.rcParams['ytick.minor.visible'] = True\n",
    "plt.rcParams['ytick.major.right'] = True\n",
    "plt.rcParams['ytick.right'] = True\n",
    "plt.rcParams['xtick.bottom'] = True\n",
    "# plt.rcParams['savefig.transparent'] = True # save the figure with a transparent background\n",
    "plt.savefig(\"figure.eps\", format=\"eps\")\n"
   ]
  },
  {
   "cell_type": "code",
   "execution_count": null,
   "metadata": {},
   "outputs": [],
   "source": [
    "# Setting the range of the x-axis\n",
    "x = np.arange(1850, 2023, 1)"
   ]
  },
  {
   "cell_type": "code",
   "execution_count": null,
   "metadata": {},
   "outputs": [],
   "source": [
    "obs_name = [\"HadCRUT5\"]\n",
    "model_names = [\"CanESM5(50)\", \"IPSL-CM6A-LR(32)\", \"EC-Earth3(21)\", \"ACCESS-ESM1.5(40)\", \"MPI-ESM1.2-LR(50)\",\"MIROC6(50)\"]\n",
    "\n",
    "RGB_dict = {'CanESM5(50)':np.array([50, 34, 136])/255., \n",
    "            'IPSL-CM6A-LR(32)':np.array([68, 170, 152])/255., \n",
    "            'EC-Earth3(21)':np.array([221, 204, 118])/255., \n",
    "            'ACCESS-ESM1.5(40)':np.array([204, 101, 119])/255.,\n",
    "            'MPI-ESM1.2-LR(50)':np.array([170, 67, 153])/255., \n",
    "            'MIROC6(50)':np.array([136, 33, 85])/255., \n",
    "            'MMLE':np.array([0, 0, 0])/255.}"
   ]
  },
  {
   "cell_type": "code",
   "execution_count": null,
   "metadata": {},
   "outputs": [],
   "source": [
    "c_obs = \"orange\"\n",
    "c_obs_1 = \"blue\"\n",
    "c_obs_2 = \"green\" #'darkred'\n",
    "\n",
    "obs_color = {\n",
    "    \"MLOST\": c_obs,\n",
    "    \"HadCRUT5\": c_obs_1,\n",
    "    \"Berkeley\": c_obs_2\n",
    "}\n",
    "\n",
    "for obs in obs_name:\n",
    "    print(obs)\n",
    "    obs_color[obs]\n",
    "    print(obs_color[obs])\n",
    "    \n",
    "lw_obs = 1.5\n",
    "lw_model = 2.5\n",
    "xmin, xmax = 1850, 2022\n",
    "ymin, ymax = -1.5, 2.0"
   ]
  },
  {
   "cell_type": "code",
   "execution_count": null,
   "metadata": {},
   "outputs": [],
   "source": [
    "RGB_dict[model_names[0]],model_names[0]"
   ]
  },
  {
   "cell_type": "markdown",
   "metadata": {},
   "source": [
    "### Plot the y (original SAT anomalies data spatial pattern)"
   ]
  },
  {
   "cell_type": "code",
   "execution_count": null,
   "metadata": {},
   "outputs": [],
   "source": [
    "# define the contourf plot function\n",
    "def plot_data(data,lats,lons,levels=None, extend=None,cmap=None, title=\"\", ax=None, show_xticks=False, show_yticks=False):\n",
    "    if ax is None:\n",
    "        fig, ax = plt.subplots(subplot_kw={'projection': ccrs.Robinson()})\n",
    "    \n",
    "    # ax.set_extent([lons.min(), lons.max(), lats.min(), lats.max()], crs=ccrs.PlateCarree())\n",
    "    # Add coastlines\n",
    "    ax.coastlines(resolution='110m')\n",
    "    gl = ax.gridlines(draw_labels=True, dms=True, x_inline=False, y_inline=False,\n",
    "                      colors='gray', alpha=0.15, linestyle='--', linewidth=0.25)\n",
    "\n",
    "    # Disable labels on the top and right of the plot\n",
    "    gl.top_labels = False\n",
    "    gl.right_labels = False\n",
    "\n",
    "    # Enable labels on the bottom and left of the plot\n",
    "    gl.bottom_labels = show_xticks\n",
    "    gl.left_labels = show_yticks\n",
    "    gl.xformatter = cticker.LongitudeFormatter()\n",
    "    gl.yformatter = cticker.LatitudeFormatter()\n",
    "    gl.xlabel_style = {'size': 14}\n",
    "    gl.ylabel_style = {'size': 14}\n",
    "    \n",
    "    if show_xticks:\n",
    "        gl.bottom_labels = True\n",
    "    if show_yticks:\n",
    "        gl.left_labels = True\n",
    "    # Add filled contour plot\n",
    "    cf = ax.contourf(lons, lats, data, levels=levels, extend=extend, cmap=cmap, transform=ccrs.PlateCarree())\n",
    "    \n",
    "    # Add title\n",
    "    ax.set_title(title, loc='center', fontsize=16, pad=5.0)\n",
    "    return cf"
   ]
  },
  {
   "cell_type": "code",
   "execution_count": null,
   "metadata": {},
   "outputs": [],
   "source": [
    "import matplotlib.pyplot as plt\n",
    "import patchworklib as pw\n",
    "import cartopy.util as cutil\n"
   ]
  },
  {
   "cell_type": "code",
   "execution_count": null,
   "metadata": {},
   "outputs": [],
   "source": [
    "from matplotlib.colors import LinearSegmentedColormap, Normalize\n",
    "from matplotlib.colors import BoundaryNorm\n",
    "import cartopy.util as cutil\n",
    "import seaborn as sns\n",
    "import matplotlib.colors as mcolors\n",
    "import palettable\n",
    "#  cmap = mcolors.ListedColormap(palettable.scientific.diverging.Vik_20.mpl_colors)\n",
    "cmap=mcolors.ListedColormap(palettable.cmocean.diverging.Balance_20.mpl_colors)"
   ]
  },
  {
   "cell_type": "code",
   "execution_count": null,
   "metadata": {},
   "outputs": [],
   "source": [
    "# Four subplots\n",
    "\"\"\"\n",
    "    subplot a: global mean temperature anomalies during 1850-2022 HadCRUT5; contourf plot\n",
    "    subplot b: model simulated GSAT timeseries in each SMILEs and MMEM 1850-2022; x-y line plot\n",
    "    subplot c: GSAT anomalies Beta and Alpha coefficients; contourf plot (from top to bottom: Beta, Alpha two subplots concatenated)\n",
    "    subplot d: GSAT anomalies spatial pattern by construction, with the internal variability and forced component; contourf plot \n",
    "    (from top to bottom: forced component, internal variability two subplots concatenated)\n",
    "\"\"\""
   ]
  },
  {
   "cell_type": "code",
   "execution_count": null,
   "metadata": {},
   "outputs": [],
   "source": [
    "# subplot b: model simulated GSAT timeseries in each SMILEs and MMEM 1850-2022\n",
    "# plot the GMSAT timeseries\n",
    "fig2, ax2 = plt.subplots(figsize=(15, 6))\n",
    "plt.plot([xmin,xmax],[0,0], color='grey', linestyle='-', linewidth=0.75)\n",
    "# seven lines for six SMILEs and one MMEM\n",
    "ax2.plot(x, CanESM_GMSAT_annual_ENS['tas'], color=RGB_dict[model_names[0]], label=model_names[0], linewidth=lw_model,\n",
    "         linestyle= '--', alpha=0.75)\n",
    "ax2.plot(x, IPSL_GMSAT_annual_ENS['tas'], color=RGB_dict[model_names[1]], label=model_names[1], linewidth=lw_model,\n",
    "            linestyle= '--', alpha=0.75)\n",
    "ax2.plot(x, EC_Earth_GMSAT_annual_ENS['tas'], color=RGB_dict[model_names[2]], label=model_names[2], linewidth=lw_model,\n",
    "            linestyle= '--', alpha=0.75)\n",
    "ax2.plot(x, ACCESS_GMSAT_annual_ENS['tas'], color=RGB_dict[model_names[3]], label=model_names[3], linewidth=lw_model,\n",
    "            linestyle= '--', alpha=0.75)\n",
    "ax2.plot(x, MPI_GMSAT_annual_ENS['tas'], color=RGB_dict[model_names[4]], label=model_names[4], linewidth=lw_model,\n",
    "            linestyle= '--', alpha=0.75)\n",
    "ax2.plot(x, MIROC_GMSAT_annual_ENS['tas'], color=RGB_dict[model_names[5]], label=model_names[5], linewidth=lw_model,\n",
    "            linestyle= '--', alpha=0.75)\n",
    "ax2.plot(x, MMEM_GMSAT_annual_ENS['tas'], color=RGB_dict['MMLE'], label='MMLE(243)', linewidth=lw_model)\n",
    "\n",
    "# Add legend\n",
    "plt.axvspan(1950, 2022, alpha=0.25, color='grey')\n",
    "plt.text(1950, 2.05, '1950-2022', fontsize=18)\n",
    "plt.xlim(xmin, xmax)\n",
    "plt.ylim(ymin, ymax)\n",
    "plt.xticks(fontsize=16)\n",
    "plt.yticks(fontsize=16)\n",
    "plt.ylabel('SAT anomaly relative to 1961-1990(°C)', fontsize=18)\n",
    "legend = plt.legend(loc='upper left', fontsize=14, ncol=2, title='CMIP6 Models', title_fontsize='16')\n",
    "plt.text(1843, 2.15, 'a', fontsize=22, fontweight='bold', ha='left')\n",
    "plt.text(1849, 2.15, r'$\\langle \\bar{x}_t \\rangle$'+' timeseries', fontsize=20)\n",
    "plt.savefig(\"Fig-1a.png\", dpi=300, bbox_inches='tight')\n",
    "plt.savefig(\"Fig-1a.pdf\", dpi=300, bbox_inches='tight')\n",
    "plt.savefig(\"Fig-1a.eps\", format='eps', dpi=300, bbox_inches='tight')\n",
    "\n",
    "plt.show()"
   ]
  },
  {
   "cell_type": "code",
   "execution_count": null,
   "metadata": {},
   "outputs": [],
   "source": [
    "input_diff_dir =  './Revised_main_figures/Figure1_Method_schematic/data/'\n",
    "\n",
    "MMEM_beta_pattern_diff = xr.open_dataset(input_diff_dir + 'MMEM_GSAT_slope_Beta_coefficients_diff_1850_2022.nc')\n",
    "Forced_anomalies_diff = xr.open_dataset(input_diff_dir + 'MMEM_GSAT_Forced_anomalies_diff_1993_2022.nc')"
   ]
  },
  {
   "cell_type": "code",
   "execution_count": null,
   "metadata": {},
   "outputs": [],
   "source": [
    "MMEM_beta_pattern_diff"
   ]
  },
  {
   "cell_type": "code",
   "execution_count": null,
   "metadata": {},
   "outputs": [],
   "source": [
    "GSAT_estimate_forced_mean.min().values, GSAT_estimate_forced_mean.max().values"
   ]
  },
  {
   "cell_type": "code",
   "execution_count": null,
   "metadata": {},
   "outputs": [],
   "source": [
    "Forced_anomalies_diff"
   ]
  },
  {
   "cell_type": "code",
   "execution_count": null,
   "metadata": {},
   "outputs": [],
   "source": [
    "import os\n",
    "import numpy as np\n",
    "import matplotlib.pyplot as plt\n",
    "import cartopy.crs as ccrs\n",
    "import cartopy.util as cutil\n",
    "from matplotlib.gridspec import GridSpec\n",
    "\n",
    "# contour settings\n",
    "bounds_fp   = np.arange(-1.0, 1.1, 0.1)\n",
    "cmap_fp     = 'RdBu_r'\n",
    "bounds_anom = np.arange(-1.0, 1.1, 0.1)\n",
    "cmap_anom   = 'RdBu_r'\n",
    "\n",
    "fig = plt.figure(figsize=(18, 10))\n",
    "gs  = GridSpec(2, 3, figure=fig, wspace=0.05, hspace=0.05)\n",
    "\n",
    "# ────────────────────────────────────────────────────────────────────────────\n",
    "# Top row: fingerprint patterns (b,c,d)\n",
    "# ────────────────────────────────────────────────────────────────────────────\n",
    "titles_fp = [rf\"OBS ($\\beta$)\", rf\"MMLE ($\\beta$)\", \"c - b\"]\n",
    "letters   = ['b','c','d']\n",
    "axes_fp   = []   # collect them here\n",
    "\n",
    "for i, da in enumerate([beta_MMEM_HadCRUT5_annual['beta_MMEM_HadCRUT5'], MMEM_beta_pattern['coefficients'], MMEM_beta_pattern_diff[\"slope_diff\"]]):\n",
    "    ax = fig.add_subplot(gs[0, i], projection=ccrs.Robinson(180))\n",
    "    data_cyc, lon_cyc = cutil.add_cyclic_point(da, coord=da.lon)\n",
    "    im_fp = plot_data(\n",
    "        data_cyc, da.lat, lon_cyc,\n",
    "        levels=bounds_fp, cmap=cmap_fp, extend='both',\n",
    "        title=titles_fp[i], ax=ax,\n",
    "        show_xticks=True, show_yticks=(i==0)\n",
    "    )\n",
    "    ax.text(-0.05, 1.05, letters[i],\n",
    "            transform=ax.transAxes,\n",
    "            fontsize=20, fontweight='bold')\n",
    "    axes_fp.append(ax)\n",
    "# ────────────────────────────────────────────────────────────────────────────\n",
    "# Bottom row: composite anomalies (e,f,g)\n",
    "# ────────────────────────────────────────────────────────────────────────────\n",
    "titles_an  = ['OBS ' + '(' +r'$\\hat{y} = \\beta_{i,j} \\langle \\bar{x}_t \\rangle + \\alpha_{i,j}$'+ ')', 'MMLE ' + '('+ r'$y_{MMLE}$'+')', \"f - e\"]\n",
    "letters_an = ['e','f','g']\n",
    "axes_an    = []  # collect these\n",
    "\n",
    "for i, da in enumerate([GSAT_estimate_forced_mean, MMLE_30yr_mean, Forced_anomalies_diff[\"Forced_anomalies_diff\"]]):\n",
    "    ax = fig.add_subplot(gs[1, i], projection=ccrs.Robinson(180))\n",
    "    data_cyc, lon_cyc = cutil.add_cyclic_point(da, coord=da.lon)\n",
    "    im_an = plot_data(\n",
    "        data_cyc, da.lat, lon_cyc,\n",
    "        levels=bounds_anom, cmap=cmap_anom, extend='both',\n",
    "        title=titles_an[i], ax=ax,\n",
    "        show_xticks=True, show_yticks=(i==0)\n",
    "    )\n",
    "    ax.text(-0.05, 1.05, letters_an[i],\n",
    "            transform=ax.transAxes,\n",
    "            fontsize=20, fontweight='bold')\n",
    "    axes_an.append(ax)\n",
    "\n",
    "# create a narrow axes at the bottom of row 0\n",
    "cax_fp = fig.add_axes([0.3, 0.52, 0.45, 0.025])  \n",
    "cb_fp  = fig.colorbar(\n",
    "    im_fp,           # last mappable from the fp‐loop\n",
    "    cax=cax_fp,      # place it in that new axes\n",
    "    orientation='horizontal'\n",
    ")\n",
    "cb_fp.set_label('Regression coefficient', fontsize=16)\n",
    "cb_fp.ax.tick_params(labelsize=14)\n",
    "cb_fp.ax.minorticks_off()\n",
    "\n",
    "\n",
    "# ────────────────────────────────────────────────────────────────────────────\n",
    "# shared horizontal colorbar for the anomalies row\n",
    "# ────────────────────────────────────────────────────────────────────────────\n",
    "# create a narrow axes at the bottom of the figure\n",
    "cax_an = fig.add_axes([0.3, 0.12, 0.45, 0.025])\n",
    "cb_an  = fig.colorbar(\n",
    "    im_an,           # last mappable from the anom‐loop\n",
    "    cax=cax_an,      # place it in that new axes\n",
    "    orientation='horizontal'\n",
    ")\n",
    "cb_an.set_label('SAT anomaly (°C)', fontsize=16)\n",
    "cb_an.ax.tick_params(labelsize=14)\n",
    "cb_an.ax.minorticks_off()\n",
    "# ────────────────────────────────────────────────────────────────────────────\n",
    "# Save & show\n",
    "# ────────────────────────────────────────────────────────────────────────────\n",
    "os.makedirs(\"figures\", exist_ok=True)\n",
    "for ext in (\"png\", \"pdf\", \"eps\"):\n",
    "    fig.savefig(f\"figures/Fig1_b-g_horizontal_cbars.{ext}\",\n",
    "                dpi=300, bbox_inches=\"tight\")\n",
    "plt.show()\n"
   ]
  },
  {
   "cell_type": "code",
   "execution_count": null,
   "metadata": {},
   "outputs": [],
   "source": []
  }
 ],
 "metadata": {
  "kernelspec": {
   "display_name": "mykernel",
   "language": "python",
   "name": "python3"
  },
  "language_info": {
   "codemirror_mode": {
    "name": "ipython",
    "version": 3
   },
   "file_extension": ".py",
   "mimetype": "text/x-python",
   "name": "python",
   "nbconvert_exporter": "python",
   "pygments_lexer": "ipython3",
   "version": "3.9.20"
  }
 },
 "nbformat": 4,
 "nbformat_minor": 2
}
