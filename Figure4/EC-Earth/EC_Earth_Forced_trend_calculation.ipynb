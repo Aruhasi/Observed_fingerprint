{
 "cells": [
  {
   "cell_type": "markdown",
   "metadata": {},
   "source": [
    "## GSAT trend patterns"
   ]
  },
  {
   "cell_type": "code",
   "execution_count": null,
   "metadata": {},
   "outputs": [],
   "source": [
    "# In[1]:\n",
    "import numpy as np\n",
    "import xarray as xr\n",
    "import pandas as pd\n",
    "import matplotlib.pyplot as plt\n",
    "import cartopy.crs as ccrs\n",
    "import cartopy.feature as cfeature\n",
    "# %%\n",
    "# define function\n",
    "import src.SAT_function as data_process\n",
    "import src.Data_Preprocess as preprocess"
   ]
  },
  {
   "cell_type": "code",
   "execution_count": null,
   "metadata": {},
   "outputs": [],
   "source": [
    "import src.slurm_cluster as scluster\n",
    "client, scluster = scluster.init_dask_slurm_cluster()"
   ]
  },
  {
   "cell_type": "code",
   "execution_count": null,
   "metadata": {},
   "outputs": [],
   "source": [
    "def func_mk(x):\n",
    "    \"\"\"\n",
    "    Mann-Kendall test for trend\n",
    "    \"\"\"\n",
    "    results = data_process.mk_test(x)\n",
    "    slope = results[0]\n",
    "    p_val = results[1]\n",
    "    return slope, p_val\n",
    " "
   ]
  },
  {
   "cell_type": "markdown",
   "metadata": {},
   "source": [
    "### loaded the separated data from models"
   ]
  },
  {
   "cell_type": "code",
   "execution_count": null,
   "metadata": {},
   "outputs": [],
   "source": [
    "dir1 ='/work/mh0033/m301036/Land_surf_temp/Disentangling_OBS_SAT_trend/Figure2/EC_Earth/'\n",
    "EC_Earth_forced = xr.open_mfdataset(dir1 + 'GSAT_EC_Earth_Forced_anomalies_1850_2022.nc',chunks={'run': 1})\n",
    "EC_Earth_internal = xr.open_mfdataset(dir1 + 'GSAT_EC_Earth_Internal_Variability_anomalies_1850_2022.nc', chunks={'run': 1})"
   ]
  },
  {
   "cell_type": "code",
   "execution_count": null,
   "metadata": {},
   "outputs": [],
   "source": [
    "EC_Earth_internal"
   ]
  },
  {
   "cell_type": "code",
   "execution_count": null,
   "metadata": {},
   "outputs": [],
   "source": [
    "EC_Earth_forced = EC_Earth_forced.rename({'__xarray_dataarray_variable__':'tas'})"
   ]
  },
  {
   "cell_type": "code",
   "execution_count": null,
   "metadata": {},
   "outputs": [],
   "source": [
    "EC_Earth_forced"
   ]
  },
  {
   "cell_type": "markdown",
   "metadata": {},
   "source": [
    "### Calculate the trend on 10-73yrs length with end year anchoring at 2022"
   ]
  },
  {
   "cell_type": "code",
   "execution_count": null,
   "metadata": {},
   "outputs": [],
   "source": [
    "import pandas as pd\n",
    "import numpy as np\n",
    "\n",
    "start_year = 1950\n",
    "end_year = 2022\n",
    "min_length = 10"
   ]
  },
  {
   "cell_type": "code",
   "execution_count": null,
   "metadata": {},
   "outputs": [],
   "source": [
    "years = np.arange(start_year, end_year + 1)\n",
    "\n",
    "# Prepare a dictionary to hold the trend DataArrays for each period\n",
    "trend_data = {}\n",
    "p_value_data = {}\n",
    "\n",
    "for begin_year in range(start_year, end_year - min_length+2):\n",
    "    # Select the data from the start year to the last year\n",
    "    time_slice = EC_Earth_forced.sel(year=slice(begin_year, end_year))\n",
    "    \n",
    "    # Calculate the trend for each grid cell\n",
    "    trend, p_values = xr.apply_ufunc(\n",
    "        func_mk,   # Pass the appropriate years\n",
    "        time_slice,\n",
    "        input_core_dims=[[\"year\"]],\n",
    "        output_core_dims=[[], []],\n",
    "        vectorize=True,\n",
    "        dask=\"parallelized\",\n",
    "        output_dtypes=[float, float],\n",
    "        dask_gufunc_kwargs={'allow_rechunk': True}\n",
    "    )\n",
    "    period_key = f'{begin_year}-{end_year}'\n",
    "    trend_data[period_key] = trend\n",
    "    p_value_data[period_key] = p_values"
   ]
  },
  {
   "cell_type": "code",
   "execution_count": null,
   "metadata": {},
   "outputs": [],
   "source": [
    "trend_data"
   ]
  },
  {
   "cell_type": "code",
   "execution_count": null,
   "metadata": {},
   "outputs": [],
   "source": [
    "# Convert dictionaries to xarray DataArray for saving\n",
    "trend_da = xr.concat(trend_data.values(), dim=pd.Index(trend_data, name='period'))\n"
   ]
  },
  {
   "cell_type": "code",
   "execution_count": null,
   "metadata": {},
   "outputs": [],
   "source": [
    "p_value_da = xr.concat(p_value_data.values(), dim=pd.Index(p_value_data, name='period'))"
   ]
  },
  {
   "cell_type": "code",
   "execution_count": null,
   "metadata": {},
   "outputs": [],
   "source": [
    "trend_da['period']"
   ]
  },
  {
   "cell_type": "code",
   "execution_count": null,
   "metadata": {},
   "outputs": [],
   "source": [
    "trend_da.sel(period='1950-2022')"
   ]
  },
  {
   "cell_type": "code",
   "execution_count": null,
   "metadata": {},
   "outputs": [],
   "source": [
    "# trend_annual_np = {}\n",
    "# pvalue_annual_np = {}\n",
    "\n",
    "# for i in trend_data.keys():\n",
    "#     trend_annual_np[i] = trend_data[i].values\n",
    "#     pvalue_annual_np[i] = p_value_data[i].values"
   ]
  },
  {
   "cell_type": "code",
   "execution_count": null,
   "metadata": {},
   "outputs": [],
   "source": [
    "# trend_annual_da = {}\n",
    "# pvalue_annual_da = {}\n",
    "\n",
    "# for interval, data in trend_annual_np.items():\n",
    "#     trend_annual_da[interval] = xr.DataArray(data, dims=[\"run\",\"lat\", \"lon\"], coords={\"run\": EC_Earth_forced_data_dict[interval].run, \n",
    "#     \"lat\": EC_Earth_forced_data_dict[interval].lat, \"lon\": EC_Earth_forced_data_dict[interval].lon})\n",
    "# for interval, data in pvalue_annual_np.items():\n",
    "#     pvalue_annual_da[interval] = xr.DataArray(data, dims=[\"run\",\"lat\", \"lon\"], coords={\"run\": EC_Earth_forced_data_dict[interval].run, \n",
    "#     \"lat\": EC_Earth_forced_data_dict[interval].lat, \"lon\": EC_Earth_forced_data_dict[interval].lon})"
   ]
  },
  {
   "cell_type": "code",
   "execution_count": null,
   "metadata": {},
   "outputs": [],
   "source": [
    "# out put the forced trend and pvalue\n",
    "dir_out ='/work/mh0033/m301036/Land_surf_temp/Disentangling_OBS_SAT_trend/LE_evaluation/Fig3_EC_Earth/output/'\n",
    "\n",
    "trend_da.to_netcdf(dir_out + 'EC_Earth_forced_segmented_trend.nc')\n",
    "# p_value_xr.to_netcdf(dir_out + 'EC_Earth_forced_segmented_pvalue.nc')"
   ]
  },
  {
   "cell_type": "code",
   "execution_count": null,
   "metadata": {},
   "outputs": [],
   "source": [
    "trend_da"
   ]
  },
  {
   "cell_type": "code",
   "execution_count": null,
   "metadata": {},
   "outputs": [],
   "source": []
  }
 ],
 "metadata": {
  "kernelspec": {
   "display_name": "mykernel",
   "language": "python",
   "name": "python3"
  },
  "language_info": {
   "codemirror_mode": {
    "name": "ipython",
    "version": 3
   },
   "file_extension": ".py",
   "mimetype": "text/x-python",
   "name": "python",
   "nbconvert_exporter": "python",
   "pygments_lexer": "ipython3",
   "version": "3.9.20"
  }
 },
 "nbformat": 4,
 "nbformat_minor": 2
}
