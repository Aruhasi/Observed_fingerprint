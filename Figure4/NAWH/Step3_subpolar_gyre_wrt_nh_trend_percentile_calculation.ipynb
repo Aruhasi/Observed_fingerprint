{
 "cells": [
  {
   "cell_type": "markdown",
   "id": "16b9370f-6718-47da-a1a5-862f7f35f1ca",
   "metadata": {},
   "source": [
    "### Import the necessary database"
   ]
  },
  {
   "cell_type": "code",
   "execution_count": null,
   "id": "89fc7789-c98b-4eb3-bd53-7b6a80515a0f",
   "metadata": {
    "tags": []
   },
   "outputs": [],
   "source": [
    "import numpy as np\n",
    "import xarray as xr\n",
    "import pandas as pd\n",
    "import matplotlib.pyplot as plt\n",
    "import cartopy.crs as ccrs\n",
    "import cartopy.feature as cfeature"
   ]
  },
  {
   "cell_type": "code",
   "execution_count": null,
   "id": "4a8116bf",
   "metadata": {},
   "outputs": [],
   "source": [
    "#In[2]:\n",
    "# define function\n",
    "import src.SAT_function as data_process\n",
    "import src.Data_Preprocess as preprosess"
   ]
  },
  {
   "cell_type": "code",
   "execution_count": null,
   "id": "9c157868",
   "metadata": {},
   "outputs": [],
   "source": [
    "# import src.slurm_cluster as scluster\n",
    "# client, scluster = scluster.init_dask_slurm_cluster(scale=4, cores=50, memory=\"200GB\")"
   ]
  },
  {
   "cell_type": "code",
   "execution_count": null,
   "id": "5952639e",
   "metadata": {},
   "outputs": [],
   "source": [
    "# input the data\n",
    "dir_in = '/work/mh0033/m301036/Land_surf_temp/Disentangling_OBS_SAT_trend/Figure4/data/NAT_wrt_nh_Keil/'"
   ]
  },
  {
   "cell_type": "code",
   "execution_count": null,
   "id": "f0132846-56e9-4a2e-8fd3-02271dfb086b",
   "metadata": {
    "tags": []
   },
   "outputs": [],
   "source": [
    "# Input the MMEM of SAT-OBS internal variability\n",
    "ds = xr.open_mfdataset(dir_in + 'Internal_subpolar_gyre_wrt_NH_mean_trend_segmented.nc')"
   ]
  },
  {
   "cell_type": "code",
   "execution_count": null,
   "id": "561c7cb3",
   "metadata": {},
   "outputs": [],
   "source": [
    "ds"
   ]
  },
  {
   "cell_type": "markdown",
   "id": "653736e5",
   "metadata": {},
   "source": [
    "### specify the 5 and 95 percentile values for each year step and output the 10-73yr unforced percentile timeseires for each regions"
   ]
  },
  {
   "cell_type": "code",
   "execution_count": null,
   "id": "4b8b2e5a",
   "metadata": {},
   "outputs": [],
   "source": [
    "# define the function to calculate the percentile\n",
    "def calc_percentile(da, q):\n",
    "    \"\"\" Calculate the qth percentile of the data along the specified dimension.\n",
    "    Args:\n",
    "    da: xr.DataArray\n",
    "    dim: str\n",
    "    q: float\n",
    "    Returns:\n",
    "    xr.DataArray\n",
    "    \"\"\"\n",
    "    # remove nans for da\n",
    "    da = da.dropna(dim='segment')\n",
    "    lower_percentile = np.percentile(da, q)\n",
    "    upper_percentile = np.percentile(da, 100-q)\n",
    "    \n",
    "    return lower_percentile, upper_percentile"
   ]
  },
  {
   "cell_type": "code",
   "execution_count": null,
   "id": "f57c4826",
   "metadata": {},
   "outputs": [],
   "source": [
    "ds['ICV_trend_11yr']"
   ]
  },
  {
   "cell_type": "code",
   "execution_count": null,
   "id": "9e56ac88-a9d9-49f7-b765-4660083b0068",
   "metadata": {
    "tags": []
   },
   "outputs": [],
   "source": [
    "# calculate the regional mean's percentile\n",
    "vars_yr = np.arange(10,74)\n",
    "print(vars_yr)\n",
    "# 5%---[0]\n",
    "unforced_trend_subpolar_gyre_lower_percentile = {}\n",
    "\n",
    "# 95%---[1]\n",
    "unforced_trend_subpolar_gyre_upper_percentile = {}\n",
    "\n",
    "for var_yr in vars_yr:\n",
    "    unforced_trend_subpolar_gyre_lower_percentile[str(var_yr)], unforced_trend_subpolar_gyre_upper_percentile[str(var_yr)] = calc_percentile(ds['ICV_trend_'+str(var_yr)+'yr'], 5)\n",
    "    "
   ]
  },
  {
   "cell_type": "code",
   "execution_count": null,
   "id": "6a05dd62",
   "metadata": {},
   "outputs": [],
   "source": [
    "unforced_trend_subpolar_gyre_lower_percentile"
   ]
  },
  {
   "cell_type": "code",
   "execution_count": null,
   "id": "0d22750e-d773-4fd6-a799-a534eece1065",
   "metadata": {
    "tags": []
   },
   "outputs": [],
   "source": [
    "# check the seires for different time scales\n",
    "unforced_trend_subpolar_gyre_lower_percentile['73'], unforced_trend_subpolar_gyre_upper_percentile['73']"
   ]
  },
  {
   "cell_type": "code",
   "execution_count": null,
   "id": "1aea5d20",
   "metadata": {},
   "outputs": [],
   "source": [
    "list(unforced_trend_subpolar_gyre_lower_percentile.values())"
   ]
  },
  {
   "cell_type": "code",
   "execution_count": null,
   "id": "4c3a0dd6",
   "metadata": {},
   "outputs": [],
   "source": [
    "# transform the dictionary to the dataarray\n",
    "unforced_trend_subpolar_gyre_lower_percentile_da = xr.DataArray(list(unforced_trend_subpolar_gyre_lower_percentile.values()), coords=[('time', vars_yr)])\n",
    "unforced_trend_subpolar_gyre_upper_percentile_da = xr.DataArray(list(unforced_trend_subpolar_gyre_upper_percentile.values()), coords=[('time', vars_yr)])"
   ]
  },
  {
   "cell_type": "code",
   "execution_count": null,
   "id": "eb8e2e25",
   "metadata": {},
   "outputs": [],
   "source": [
    "# save the percentile data\n",
    "dir_out = '/work/mh0033/m301036/Land_surf_temp/Disentangling_OBS_SAT_trend/Figure4/data/NAT_wrt_nh_Keil/'\n",
    "unforced_trend_subpolar_gyre_lower_percentile_da.to_netcdf(dir_out+'internal_subpolar_gyre_trend_lower_percentile.nc')\n",
    "unforced_trend_subpolar_gyre_upper_percentile_da.to_netcdf(dir_out+'internal_subpolar_gyre_trend_upper_percentile.nc')"
   ]
  },
  {
   "cell_type": "code",
   "execution_count": null,
   "id": "c17e252a",
   "metadata": {},
   "outputs": [],
   "source": []
  }
 ],
 "metadata": {
  "kernelspec": {
   "display_name": "My Kernel",
   "language": "python",
   "name": "my-kernel"
  },
  "language_info": {
   "codemirror_mode": {
    "name": "ipython",
    "version": 3
   },
   "file_extension": ".py",
   "mimetype": "text/x-python",
   "name": "python",
   "nbconvert_exporter": "python",
   "pygments_lexer": "ipython3",
   "version": "3.9.-1"
  }
 },
 "nbformat": 4,
 "nbformat_minor": 5
}
