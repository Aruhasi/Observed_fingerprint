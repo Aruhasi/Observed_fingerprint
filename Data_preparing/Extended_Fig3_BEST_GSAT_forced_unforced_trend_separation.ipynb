{
 "cells": [
  {
   "cell_type": "markdown",
   "metadata": {},
   "source": [
    "## GSAT trend patterns"
   ]
  },
  {
   "cell_type": "code",
   "execution_count": null,
   "metadata": {},
   "outputs": [],
   "source": [
    "# In[1]:\n",
    "import numpy as np\n",
    "import xarray as xr\n",
    "import pandas as pd\n",
    "import matplotlib.pyplot as plt\n",
    "import cartopy.crs as ccrs\n",
    "import cartopy.feature as cfeature\n",
    "# %%\n",
    "# define function\n",
    "import src.SAT_function as data_process\n",
    "import src.Data_Preprocess as preprocess"
   ]
  },
  {
   "cell_type": "code",
   "execution_count": null,
   "metadata": {},
   "outputs": [],
   "source": [
    "# import src.slurm_cluster as scluster\n",
    "# client, scluster = scluster.init_dask_slurm_cluster()"
   ]
  },
  {
   "cell_type": "code",
   "execution_count": null,
   "metadata": {},
   "outputs": [],
   "source": [
    "def func_mk(x):\n",
    "    \"\"\"\n",
    "    Mann-Kendall test for trend\n",
    "    \"\"\"\n",
    "    results = data_process.mk_test(x)\n",
    "    slope = results[0]\n",
    "    p_val = results[1]\n",
    "    return slope, p_val"
   ]
  },
  {
   "cell_type": "code",
   "execution_count": null,
   "metadata": {},
   "outputs": [],
   "source": [
    "# load data\n",
    "input_observation = '/work/mh0033/m301036/Land_surf_temp/Disentangling_OBS_SAT_trend/Supp_Figure1/'\n",
    "\n",
    "BEST_annual_ano = xr.open_dataset(input_observation + 'tas_Berkeley_annual_anomalies.nc')\n"
   ]
  },
  {
   "cell_type": "code",
   "execution_count": null,
   "metadata": {},
   "outputs": [],
   "source": [
    "BEST_annual_ano['tas'].min().values\n",
    "# print(BEST_annual_ano['tas'].values)"
   ]
  },
  {
   "cell_type": "code",
   "execution_count": null,
   "metadata": {},
   "outputs": [],
   "source": [
    "# input GSAT time series\n",
    "input_ts_dir = '/work/mh0033/m301036/Land_surf_temp/Disentangling_OBS_SAT_trend/Supp_Figure1/'\n",
    "\n",
    "GSAT_MMM_annual = xr.open_dataset(input_ts_dir + 'GMSAT_SMILEs_ENS_annual_timeseries_obtained_basedOn_ModelENS.nc')\n",
    "GSAT_MMM_annual"
   ]
  },
  {
   "cell_type": "code",
   "execution_count": null,
   "metadata": {},
   "outputs": [],
   "source": [
    "GSAT_CanESM5_ENS_annual = xr.open_dataset(input_ts_dir + 'GMSAT_CanESM5_annual_timeseries_ENS.nc')\n",
    "GSAT_CanESM5_ENS_annual"
   ]
  },
  {
   "cell_type": "code",
   "execution_count": null,
   "metadata": {},
   "outputs": [],
   "source": [
    "GSAT_IPSL_ENS_annual = xr.open_dataset(input_ts_dir + 'GMSAT_IPSL_CM6A_annual_timeseries_ENS.nc')\n",
    "GSAT_IPSL_ENS_annual"
   ]
  },
  {
   "cell_type": "code",
   "execution_count": null,
   "metadata": {},
   "outputs": [],
   "source": [
    "GSAT_ACCESS_ENS_annual = xr.open_dataset(input_ts_dir + 'GMSAT_ACCESS_annual_timeseries_ENS.nc')\n",
    "GSAT_ACCESS_ENS_annual"
   ]
  },
  {
   "cell_type": "code",
   "execution_count": null,
   "metadata": {},
   "outputs": [],
   "source": [
    "GSAT_EC_Earth_ENS_annual = xr.open_dataset(input_ts_dir + 'GMSAT_EC_Earth_annual_timeseries_ENS.nc')\n",
    "GSAT_EC_Earth_ENS_annual"
   ]
  },
  {
   "cell_type": "code",
   "execution_count": null,
   "metadata": {},
   "outputs": [],
   "source": [
    "GSAT_MPI_ESM_ENS_annual = xr.open_dataset(input_ts_dir + 'GMSAT_MPI_ESM_annual_timeseries_ENS.nc')\n",
    "GSAT_MPI_ESM_ENS_annual"
   ]
  },
  {
   "cell_type": "code",
   "execution_count": null,
   "metadata": {},
   "outputs": [],
   "source": [
    "GSAT_MIROC6_ENS_annual = xr.open_dataset(input_ts_dir + 'GMSAT_MIROC6_annual_timeseries_ENS.nc')\n",
    "GSAT_MIROC6_ENS_annual"
   ]
  },
  {
   "cell_type": "code",
   "execution_count": null,
   "metadata": {},
   "outputs": [],
   "source": [
    "BEST_slope_Forced_signal, BEST_intercept_Forced_signal = data_process.linear_regression_gmst(\n",
    "    GSAT_MMM_annual['tas'],\n",
    "    BEST_annual_ano.values)\n",
    "\n",
    "BEST_slope_Forced_signal_da = xr.DataArray(BEST_slope_Forced_signal, coords=[lat, lon], dims=['lat', 'lon'])\n",
    "BEST_intercept_Forced_signal_da = xr.DataArray(BEST_intercept_Forced_signal, coords=[lat, lon], dims=['lat', 'lon'])"
   ]
  },
  {
   "cell_type": "code",
   "execution_count": null,
   "metadata": {},
   "outputs": [],
   "source": [
    "BEST_slope_Forced_signal_da"
   ]
  },
  {
   "cell_type": "code",
   "execution_count": null,
   "metadata": {},
   "outputs": [],
   "source": [
    "# Reconstruction of the forced signal\n",
    "BEST_Forced_signal           = GSAT_MMM_annual['tas'] * BEST_slope_Forced_signal_da  + BEST_intercept_Forced_signal_da\n",
    "# BEST_Forced_signal_CanESM5   = GSAT_CanESM5_ENS_annual['tas'] * BEST_slope_Forced_signal_CanESM5_da  + BEST_intercept_Forced_signal_CanESM5_da\n",
    "# BEST_Forced_signal_IPSL      = GSAT_IPSL_ENS_annual['tas'] * BEST_slope_Forced_signal_IPSL_da   + BEST_intercept_Forced_signal_IPSL_da\n",
    "# BEST_Forced_signal_ACCESS    = GSAT_ACCESS_ENS_annual['tas'] * BEST_slope_Forced_signal_ACCESS_da   + BEST_intercept_Forced_signal_ACCESS_da\n",
    "# BEST_Forced_signal_EC_Earth  = GSAT_EC_Earth_ENS_annual['tas'] * BEST_slope_Forced_signal_EC_Earth_da   + BEST_intercept_Forced_signal_EC_Earth_da\n",
    "# BEST_Forced_signal_MPI_ESM   = GSAT_MPI_ESM_ENS_annual['tas'] * BEST_slope_Forced_signal_MPI_ESM_da + BEST_intercept_Forced_signal_MPI_ESM_da\n",
    "# BEST_Forced_signal_MIROC6    = GSAT_MIROC6_ENS_annual['tas'] * BEST_slope_Forced_signal_MIROC6_da  + BEST_intercept_Forced_signal_MIROC6_da"
   ]
  },
  {
   "cell_type": "code",
   "execution_count": null,
   "metadata": {},
   "outputs": [],
   "source": [
    "BEST_Forced_signal"
   ]
  },
  {
   "cell_type": "code",
   "execution_count": null,
   "metadata": {},
   "outputs": [],
   "source": [
    "# Residual\n",
    "BEST_residual            = BEST_annual_ano - BEST_Forced_signal\n",
    "# BEST_residual_CanESM5    = BEST - BEST_Forced_signal_CanESM5\n",
    "# BEST_residual_IPSL       = BEST - BEST_Forced_signal_IPSL\n",
    "# BEST_residual_ACCESS     = BEST - BEST_Forced_signal_ACCESS\n",
    "# BEST_residual_EC_Earth   = BEST - BEST_Forced_signal_EC_Earth\n",
    "# BEST_residual_MPI_ESM    = BEST - BEST_Forced_signal_MPI_ESM\n",
    "# BEST_residual_MIROC6     = BEST - BEST_Forced_signal_MIROC6"
   ]
  },
  {
   "cell_type": "code",
   "execution_count": null,
   "metadata": {},
   "outputs": [],
   "source": [
    "BEST_residual"
   ]
  },
  {
   "cell_type": "markdown",
   "metadata": {},
   "source": [
    "#### Output the anomalies of forced and unforced to calculate the trend sensitivity to diff ECS"
   ]
  },
  {
   "cell_type": "code",
   "execution_count": null,
   "metadata": {},
   "outputs": [],
   "source": [
    "output_dir = '/work/mh0033/m301036/Land_surf_temp/Disentangling_OBS_SAT_trend/Supp_obs_records/data/'\n",
    "\n",
    "BEST_Forced_signal.to_netcdf(output_dir + 'BEST_Forced_signal.nc')\n",
    "BEST_residual.to_netcdf(output_dir + 'BEST_residual.nc')\n",
    "\n",
    "# BEST_Forced_signal_CanESM5.to_netcdf(output_dir + 'BEST_Forced_signal_CanESM5.nc')\n",
    "# BEST_residual_CanESM5.to_netcdf(output_dir + 'BEST_residual_CanESM5.nc')\n",
    "\n",
    "# BEST_Forced_signal_IPSL.to_netcdf(output_dir + 'BEST_Forced_signal_IPSL.nc')\n",
    "# BEST_residual_IPSL.to_netcdf(output_dir + 'BEST_residual_IPSL.nc')\n",
    "\n",
    "# BEST_Forced_signal_ACCESS.to_netcdf(output_dir + 'BEST_Forced_signal_ACCESS.nc')\n",
    "# BEST_residual_ACCESS.to_netcdf(output_dir + 'BEST_residual_ACCESS.nc')\n",
    "\n",
    "# BEST_Forced_signal_EC_Earth.to_netcdf(output_dir + 'BEST_Forced_signal_EC_Earth.nc')\n",
    "# BEST_residual_EC_Earth.to_netcdf(output_dir + 'BEST_residual_EC_Earth.nc')\n",
    "\n",
    "# BEST_Forced_signal_MPI_ESM.to_netcdf(output_dir + 'BEST_Forced_signal_MPI_ESM.nc')\n",
    "# BEST_residual_MPI_ESM.to_netcdf(output_dir + 'BEST_residual_MPI_ESM.nc')\n",
    "\n",
    "# BEST_Forced_signal_MIROC6.to_netcdf(output_dir + 'BEST_Forced_signal_MIROC6.nc')\n",
    "# BEST_residual_MIROC6.to_netcdf(output_dir + 'BEST_residual_MIROC6.nc')"
   ]
  },
  {
   "cell_type": "code",
   "execution_count": null,
   "metadata": {},
   "outputs": [],
   "source": [
    "# BEST_Forced_signal_MPI_ESM"
   ]
  },
  {
   "cell_type": "markdown",
   "metadata": {},
   "source": [
    "### Calculate the forced and unforced trend patterns"
   ]
  },
  {
   "cell_type": "code",
   "execution_count": null,
   "metadata": {},
   "outputs": [],
   "source": [
    "# calcualte the BEST forced trend pattern\n",
    "BEST_annual_forced_trend, BEST_annual_forced_p_value = xr.apply_ufunc(\n",
    "    func_mk,\n",
    "    BEST_Forced_signal.sel(year=slice(1950,2022)),\n",
    "    input_core_dims=[['year']],\n",
    "    output_core_dims=[[], []],\n",
    "    vectorize=True,\n",
    "    dask='parallelized',\n",
    "    output_dtypes=[float, float],\n",
    "    dask_gufunc_kwargs={'allow_rechunk': True}\n",
    "    # output_sizes={'lat': BEST_annual_ano['lat'].size, 'lon': BEST_annual_ano['lon'].size},\n",
    "    )\n",
    "# BEST_annual_forced_trend_CanESM5, BEST_annual_forced_p_value_CanESM5 = xr.apply_ufunc(\n",
    "#     func_mk,\n",
    "#     BEST_Forced_signal_CanESM5.sel(year=slice(1950,2022)),\n",
    "#     input_core_dims=[['year']],\n",
    "#     output_core_dims=[[], []],\n",
    "#     vectorize=True,\n",
    "#     dask='parallelized',\n",
    "#     output_dtypes=[float, float],\n",
    "#     dask_gufunc_kwargs={'allow_rechunk': True}\n",
    "#     # output_sizes={'lat': BEST_annual_ano['lat'].size, 'lon': BEST_annual_ano['lon'].size},\n",
    "#     )\n",
    "\n",
    "# BEST_annual_forced_trend_IPSL, BEST_annual_forced_p_value_IPSL = xr.apply_ufunc(\n",
    "#     func_mk,\n",
    "#     BEST_Forced_signal_IPSL.sel(year=slice(1950,2022)),\n",
    "#     input_core_dims=[['year']],\n",
    "#     output_core_dims=[[], []],\n",
    "#     vectorize=True,\n",
    "#     dask='parallelized',\n",
    "#     output_dtypes=[float, float],\n",
    "#     dask_gufunc_kwargs={'allow_rechunk': True}\n",
    "#     # output_sizes={'lat': BEST_annual_ano['lat'].size, 'lon': BEST_annual_ano['lon'].size},\n",
    "#     )\n",
    "\n",
    "# BEST_annual_forced_trend_ACCESS, BEST_annual_forced_p_value_ACCESS = xr.apply_ufunc(\n",
    "#     func_mk,\n",
    "#     BEST_Forced_signal_ACCESS.sel(year=slice(1950,2022)),\n",
    "#     input_core_dims=[['year']],\n",
    "#     output_core_dims=[[], []],\n",
    "#     vectorize=True,\n",
    "#     dask='parallelized',\n",
    "#     output_dtypes=[float, float],\n",
    "#     dask_gufunc_kwargs={'allow_rechunk': True}\n",
    "#     # output_sizes={'lat': BEST_annual_ano['lat'].size, 'lon': BEST_annual_ano['lon'].size},\n",
    "#     )\n",
    "\n",
    "# BEST_annual_forced_trend_EC_Earth, BEST_annual_forced_p_value_EC_Earth = xr.apply_ufunc(\n",
    "#     func_mk,\n",
    "#     BEST_Forced_signal_EC_Earth.sel(year=slice(1950,2022)),\n",
    "#     input_core_dims=[['year']],\n",
    "#     output_core_dims=[[], []],\n",
    "#     vectorize=True,\n",
    "#     dask='parallelized',\n",
    "#     output_dtypes=[float, float],\n",
    "#     dask_gufunc_kwargs={'allow_rechunk': True}\n",
    "#     # output_sizes={'lat': BEST_annual_ano['lat'].size, 'lon': BEST_annual_ano['lon'].size},\n",
    "#     )\n",
    "\n",
    "# BEST_annual_forced_trend_MPI_ESM, BEST_annual_forced_p_value_MPI_ESM = xr.apply_ufunc(\n",
    "#     func_mk,\n",
    "#     BEST_Forced_signal_MPI_ESM.sel(year=slice(1950,2022)),\n",
    "#     input_core_dims=[['year']],\n",
    "#     output_core_dims=[[], []],\n",
    "#     vectorize=True,\n",
    "#     dask='parallelized',\n",
    "#     output_dtypes=[float, float],\n",
    "#     dask_gufunc_kwargs={'allow_rechunk': True}\n",
    "#     # output_sizes={'lat': BEST_annual_ano['lat'].size, 'lon': BEST_annual_ano['lon'].size},\n",
    "#     )\n",
    "\n",
    "# BEST_annual_forced_trend_MIROC6, BEST_annual_forced_p_value_MIROC6 = xr.apply_ufunc(\n",
    "#     func_mk,\n",
    "#     BEST_Forced_signal_MIROC6.sel(year=slice(1950,2022)),\n",
    "#     input_core_dims=[['year']],\n",
    "#     output_core_dims=[[], []],\n",
    "#     vectorize=True,\n",
    "#     dask='parallelized',\n",
    "#     output_dtypes=[float, float],\n",
    "#     dask_gufunc_kwargs={'allow_rechunk': True}\n",
    "#     # output_sizes={'lat': BEST_annual_ano['lat'].size, 'lon': BEST_annual_ano['lon'].size},\n",
    "    # )"
   ]
  },
  {
   "cell_type": "code",
   "execution_count": null,
   "metadata": {},
   "outputs": [],
   "source": [
    "# Residual trend\n",
    "BEST_annual_residual_trend, BEST_annual_residual_p_value = xr.apply_ufunc(\n",
    "    func_mk,\n",
    "    BEST_residual.sel(year=slice(1950,2022)),\n",
    "    input_core_dims=[['year']],\n",
    "    output_core_dims=[[], []],\n",
    "    vectorize=True,\n",
    "    dask='parallelized',\n",
    "    output_dtypes=[float, float],\n",
    "    dask_gufunc_kwargs={'allow_rechunk': True}\n",
    "    # output_sizes={'lat': BEST_annual_ano['lat'].size, 'lon': BEST_annual_ano['lon'].size},\n",
    "    )"
   ]
  },
  {
   "cell_type": "code",
   "execution_count": null,
   "metadata": {},
   "outputs": [],
   "source": [
    "# BEST_annual_residual_trend_CanESM5, BEST_annual_residual_p_value_CanESM5 = xr.apply_ufunc(\n",
    "#     func_mk,\n",
    "#     BEST_residual_CanESM5.sel(year=slice(1950,2022)),\n",
    "#     input_core_dims=[['year']],\n",
    "#     output_core_dims=[[], []],\n",
    "#     vectorize=True,\n",
    "#     dask='parallelized',\n",
    "#     output_dtypes=[float, float],\n",
    "#     dask_gufunc_kwargs={'allow_rechunk': True}\n",
    "#     # output_sizes={'lat': BEST_annual_ano['lat'].size, 'lon': BEST_annual_ano['lon'].size},\n",
    "#     )\n",
    "\n",
    "# BEST_annual_residual_trend_IPSL, BEST_annual_residual_p_value_IPSL = xr.apply_ufunc(\n",
    "#     func_mk,\n",
    "#     BEST_residual_IPSL.sel(year=slice(1950,2022)),\n",
    "#     input_core_dims=[['year']],\n",
    "#     output_core_dims=[[], []],\n",
    "#     vectorize=True,\n",
    "#     dask='parallelized',\n",
    "#     output_dtypes=[float, float],\n",
    "#     dask_gufunc_kwargs={'allow_rechunk': True}\n",
    "#     # output_sizes={'lat': BEST_annual_ano['lat'].size, 'lon': BEST_annual_ano['lon'].size},\n",
    "#     )\n",
    "\n",
    "# BEST_annual_residual_trend_ACCESS, BEST_annual_residual_p_value_ACCESS = xr.apply_ufunc(\n",
    "#     func_mk,\n",
    "#     BEST_residual_ACCESS.sel(year=slice(1950,2022)),\n",
    "#     input_core_dims=[['year']],\n",
    "#     output_core_dims=[[], []],\n",
    "#     vectorize=True,\n",
    "#     dask='parallelized',\n",
    "#     output_dtypes=[float, float],\n",
    "#     dask_gufunc_kwargs={'allow_rechunk': True}\n",
    "#     # output_sizes={'lat': BEST_annual_ano['lat'].size, 'lon': BEST_annual_ano['lon'].size},\n",
    "#     )\n",
    "\n",
    "# BEST_annual_residual_trend_EC_Earth, BEST_annual_residual_p_value_EC_Earth = xr.apply_ufunc(\n",
    "#     func_mk,\n",
    "#     BEST_residual_EC_Earth.sel(year=slice(1950,2022)),\n",
    "#     input_core_dims=[['year']],\n",
    "#     output_core_dims=[[], []],\n",
    "#     vectorize=True,\n",
    "#     dask='parallelized',\n",
    "#     output_dtypes=[float, float],\n",
    "#     dask_gufunc_kwargs={'allow_rechunk': True}\n",
    "#     # output_sizes={'lat': BEST_annual_ano['lat'].size, 'lon': BEST_annual_ano['lon'].size},\n",
    "#     )\n",
    "\n",
    "# BEST_annual_residual_trend_MPI_ESM, BEST_annual_residual_p_value_MPI_ESM = xr.apply_ufunc(\n",
    "#     func_mk,\n",
    "#     BEST_residual_MPI_ESM.sel(year=slice(1950,2022)),\n",
    "#     input_core_dims=[['year']],\n",
    "#     output_core_dims=[[], []],\n",
    "#     vectorize=True,\n",
    "#     dask='parallelized',\n",
    "#     output_dtypes=[float, float],\n",
    "#     dask_gufunc_kwargs={'allow_rechunk': True}\n",
    "#     # output_sizes={'lat': BEST_annual_ano['lat'].size, 'lon': BEST_annual_ano['lon'].size},\n",
    "#     )\n",
    "\n",
    "# BEST_annual_residual_trend_MIROC6, BEST_annual_residual_p_value_MIROC6 = xr.apply_ufunc(\n",
    "#     func_mk,\n",
    "#     BEST_residual_MIROC6.sel(year=slice(1950,2022)),\n",
    "#     input_core_dims=[['year']],\n",
    "#     output_core_dims=[[], []],\n",
    "#     vectorize=True,\n",
    "#     dask='parallelized',\n",
    "#     output_dtypes=[float, float],\n",
    "#     dask_gufunc_kwargs={'allow_rechunk': True}\n",
    "#     # output_sizes={'lat': BEST_annual_ano['lat'].size, 'lon': BEST_annual_ano['lon'].size},\n",
    "#     )"
   ]
  },
  {
   "cell_type": "code",
   "execution_count": null,
   "metadata": {},
   "outputs": [],
   "source": [
    "# # calculate the raw trend pattern\n",
    "# BEST_annual_trend, BEST_annual_p_value = xr.apply_ufunc(\n",
    "#     func_mk,\n",
    "#     BEST.sel(year=slice(1950,2022)),\n",
    "#     input_core_dims=[[\"year\"]],\n",
    "#     output_core_dims=[[], []],\n",
    "#     vectorize=True,\n",
    "#     dask='parallelized',\n",
    "#     output_dtypes=[float, float],\n",
    "#     dask_gufunc_kwargs={'allow_rechunk': True}\n",
    "#     # output_sizes={'lat': BEST_annual_ano.lat.size, 'lon': BEST_annual_ano.lon.size},\n",
    "#     )"
   ]
  },
  {
   "cell_type": "markdown",
   "metadata": {},
   "source": [
    "#### define function"
   ]
  },
  {
   "cell_type": "code",
   "execution_count": null,
   "metadata": {},
   "outputs": [],
   "source": [
    "# variable_name = ['10yr', '20yr', '30yr', '40yr', '50yr', '60yr', '70yr']\n",
    "# # define the function\n",
    "# def separate_data_into_intervals(data, start_year, end_year, time_interval):\n",
    "#     \"\"\"\n",
    "#     This function is used to separate the data into different time intervals\n",
    "#     \"\"\"\n",
    "#     # create a dictionary to store the data\n",
    "#     data_dict = {}\n",
    "#     for i in range(len(variable_name)):\n",
    "#         # calculate the start year and end year\n",
    "#         start_year = time_interval[variable_name[i]][0]\n",
    "#         end_year = time_interval[variable_name[i]][1]\n",
    "#         # select the data\n",
    "#         data_dict[variable_name[i]] = data.sel(year=slice(str(start_year), str(end_year)))\n",
    "#     return data_dict"
   ]
  },
  {
   "cell_type": "code",
   "execution_count": null,
   "metadata": {},
   "outputs": [],
   "source": [
    "# time_interval = {\n",
    "#     \"10yr\":(2013,2022),\n",
    "#     \"20yr\":(2003,2022),\n",
    "#     \"30yr\":(1993,2022),\n",
    "#     \"40yr\":(1983,2022),\n",
    "#     \"50yr\":(1973,2022),\n",
    "#     \"60yr\":(1963,2022),\n",
    "#     \"70yr\":(1953,2022)\n",
    "# }\n",
    "# start_year = 1950\n",
    "# end_year   = 2022"
   ]
  },
  {
   "cell_type": "code",
   "execution_count": null,
   "metadata": {},
   "outputs": [],
   "source": [
    "# data_dict = separate_data_into_intervals(BEST, start_year, end_year, time_interval)\n",
    "# forced_dict = separate_data_into_intervals(BEST_forced, start_year, end_year, time_interval)\n",
    "# internal_dict = separate_data_into_intervals(BEST_internal, start_year, end_year, time_interval)"
   ]
  },
  {
   "cell_type": "code",
   "execution_count": null,
   "metadata": {},
   "outputs": [],
   "source": [
    "# data_dict['10yr']"
   ]
  },
  {
   "cell_type": "code",
   "execution_count": null,
   "metadata": {},
   "outputs": [],
   "source": [
    "# # 1st calculate the origianl trend \n",
    "# trend_dict = {}\n",
    "# pvalue_dict = {}\n",
    "\n",
    "# for i in range(len(variable_name)):\n",
    "#     data_var = data_dict[variable_name[i]]['tas']\n",
    "    \n",
    "#     slope, p_values = xr.apply_ufunc(\n",
    "#         data_process.apply_mannkendall,\n",
    "#         data_var,\n",
    "#         input_core_dims=[[\"year\"]],\n",
    "#         output_core_dims=[[], []],\n",
    "#         vectorize=True,\n",
    "#         dask=\"parallelized\",\n",
    "#         output_dtypes=[float, float],\n",
    "#         dask_gufunc_kwargs={'allow_rechunk': True}\n",
    "#     )\n",
    "#     trend_dict[variable_name[i]] = slope\n",
    "#     pvalue_dict[variable_name[i]] = p_values"
   ]
  },
  {
   "cell_type": "code",
   "execution_count": null,
   "metadata": {},
   "outputs": [],
   "source": [
    "# trend_annual_np = {}\n",
    "# pvalue_annual_np = {}\n",
    "\n",
    "# for i in range(len(variable_name)):\n",
    "#     trend_annual_np[variable_name[i]] = trend_dict[variable_name[i]].values\n",
    "#     pvalue_annual_np[variable_name[i]] = pvalue_dict[variable_name[i]].values\n",
    "    \n",
    "# trend_annual_np['10yr']"
   ]
  },
  {
   "cell_type": "code",
   "execution_count": null,
   "metadata": {},
   "outputs": [],
   "source": [
    "# trend_annual_da = {}\n",
    "# pvalue_annual_da = {}\n",
    "\n",
    "# for interval, data in trend_annual_np.items():\n",
    "#     trend_annual_da[interval] = xr.DataArray(data, dims=[\"lat\", \"lon\"], coords={\"lat\": data_dict[interval].lat, \"lon\": data_dict[interval].lon})\n",
    "# for interval, data in pvalue_annual_np.items():\n",
    "#     pvalue_annual_da[interval] = xr.DataArray(data, dims=[\"lat\", \"lon\"], coords={\"lat\": data_dict[interval].lat, \"lon\": data_dict[interval].lon})"
   ]
  },
  {
   "cell_type": "code",
   "execution_count": null,
   "metadata": {},
   "outputs": [],
   "source": [
    "# # save the data into netcdf file\n",
    "# dir_output = '/work/mh0033/m301036/Land_surf_temp/analyses_1850_2100/Manuscript_visual_schematic/1950_2022_results/Trend_data/'\n",
    "# for interval, data in trend_annual_da.items():\n",
    "#     data.to_netcdf(dir_output + 'BEST_annual_' + interval + '_trend_MIROC6.nc')\n",
    "    \n",
    "# for interval, data in pvalue_annual_da.items():\n",
    "#     data.to_netcdf(dir_output + 'BEST_annual_' + interval + '_p_value_MIROC6.nc')"
   ]
  },
  {
   "cell_type": "code",
   "execution_count": null,
   "metadata": {},
   "outputs": [],
   "source": [
    "# # 2nd calculate the forced trend\n",
    "# forced_trend_dict = {}\n",
    "# forced_pvalue_dict = {}\n",
    "\n",
    "# for i in range(len(variable_name)):\n",
    "#     data_var = forced_dict[variable_name[i]]['tas']\n",
    "    \n",
    "#     slope, p_values = xr.apply_ufunc(\n",
    "#         data_process.apply_mannkendall,\n",
    "#         data_var,\n",
    "#         input_core_dims=[[\"year\"]],\n",
    "#         output_core_dims=[[], []],\n",
    "#         vectorize=True,\n",
    "#         dask=\"parallelized\",\n",
    "#         output_dtypes=[float, float],\n",
    "#         dask_gufunc_kwargs={'allow_rechunk': True}\n",
    "#     )\n",
    "#     forced_trend_dict[variable_name[i]] = slope\n",
    "#     forced_pvalue_dict[variable_name[i]] = p_values\n",
    "\n",
    "# forced_trend_annual_np = {}\n",
    "# forced_pvalue_annual_np = {}\n",
    "\n",
    "# for i in range(len(variable_name)):\n",
    "#     forced_trend_annual_np[variable_name[i]] = forced_trend_dict[variable_name[i]].values\n",
    "#     forced_pvalue_annual_np[variable_name[i]] = forced_pvalue_dict[variable_name[i]].values\n",
    "    \n",
    "# forced_trend_annual_da = {}\n",
    "# forced_pvalue_annual_da = {}\n",
    "\n",
    "# for interval, data in forced_trend_annual_np.items():\n",
    "#     forced_trend_annual_da[interval] = xr.DataArray(data, dims=[\"lat\", \"lon\"], coords={\"lat\": data_dict[interval].lat, \"lon\": data_dict[interval].lon})\n",
    "# for interval, data in forced_pvalue_annual_np.items():\n",
    "#     forced_pvalue_annual_da[interval] = xr.DataArray(data, dims=[\"lat\", \"lon\"], coords={\"lat\": data_dict[interval].lat, \"lon\": data_dict[interval].lon})"
   ]
  },
  {
   "cell_type": "code",
   "execution_count": null,
   "metadata": {},
   "outputs": [],
   "source": [
    "# # save the data into netcdf file\n",
    "# dir_output = '/work/mh0033/m301036/Land_surf_temp/analyses_1850_2100/Manuscript_visual_schematic/1950_2022_results/Trend_data/'\n",
    "# for interval, data in forced_trend_annual_da.items():\n",
    "#     data.to_netcdf(dir_output + 'BEST_annual_forced_' + interval + '_trend_MIROC6.nc')\n",
    "    \n",
    "# for interval, data in forced_pvalue_annual_da.items():\n",
    "#     data.to_netcdf(dir_output + 'BEST_annual_forced_' + interval + '_p_value_MIROC6.nc')"
   ]
  },
  {
   "cell_type": "code",
   "execution_count": null,
   "metadata": {},
   "outputs": [],
   "source": [
    "# # 3rd calculate the internal trend\n",
    "# internal_trend_dict = {}\n",
    "# internal_pvalue_dict = {}\n",
    "\n",
    "# for i in range(len(variable_name)):\n",
    "#     data_var = internal_dict[variable_name[i]]['tas']\n",
    "    \n",
    "#     slope, p_values = xr.apply_ufunc(\n",
    "#         data_process.apply_mannkendall,\n",
    "#         data_var,\n",
    "#         input_core_dims=[[\"year\"]],\n",
    "#         output_core_dims=[[], []],\n",
    "#         vectorize=True,\n",
    "#         dask=\"parallelized\",\n",
    "#         output_dtypes=[float, float],\n",
    "#         dask_gufunc_kwargs={'allow_rechunk': True}\n",
    "#     )\n",
    "#     internal_trend_dict[variable_name[i]] = slope\n",
    "#     internal_pvalue_dict[variable_name[i]] = p_values\n",
    "\n",
    "# internal_trend_annual_np = {}\n",
    "# internal_pvalue_annual_np = {}\n",
    "\n",
    "# for i in range(len(variable_name)):\n",
    "#     internal_trend_annual_np[variable_name[i]] = internal_trend_dict[variable_name[i]].values\n",
    "#     internal_pvalue_annual_np[variable_name[i]] = internal_pvalue_dict[variable_name[i]].values\n",
    "    \n",
    "# internal_trend_annual_da = {}\n",
    "# internal_pvalue_annual_da = {}\n",
    "\n",
    "# for interval, data in internal_trend_annual_np.items():\n",
    "#     internal_trend_annual_da[interval] = xr.DataArray(data, dims=[\"lat\", \"lon\"], coords={\"lat\": data_dict[interval].lat, \"lon\": data_dict[interval].lon})\n",
    "# for interval, data in internal_pvalue_annual_np.items():\n",
    "#     internal_pvalue_annual_da[interval] = xr.DataArray(data, dims=[\"lat\", \"lon\"], coords={\"lat\": data_dict[interval].lat, \"lon\": data_dict[interval].lon})\n"
   ]
  },
  {
   "cell_type": "code",
   "execution_count": null,
   "metadata": {},
   "outputs": [],
   "source": [
    "# # save the data into netcdf file\n",
    "# dir_output = '/work/mh0033/m301036/Land_surf_temp/analyses_1850_2100/Manuscript_visual_schematic/1950_2022_results/Trend_data/'\n",
    "# for interval, data in internal_trend_annual_da.items():\n",
    "#     data.to_netcdf(dir_output + 'BEST_annual_internal_' + interval + '_trend_MIROC6.nc')\n",
    "    \n",
    "# for interval, data in internal_pvalue_annual_da.items():\n",
    "#     data.to_netcdf(dir_output + 'BEST_annual_internal_' + interval + '_p_value_MIROC6.nc')"
   ]
  },
  {
   "cell_type": "code",
   "execution_count": null,
   "metadata": {},
   "outputs": [],
   "source": []
  }
 ],
 "metadata": {
  "kernelspec": {
   "display_name": "My Kernel",
   "language": "python",
   "name": "my-kernel"
  },
  "language_info": {
   "codemirror_mode": {
    "name": "ipython",
    "version": 3
   },
   "file_extension": ".py",
   "mimetype": "text/x-python",
   "name": "python",
   "nbconvert_exporter": "python",
   "pygments_lexer": "ipython3",
   "version": "3.9.20"
  }
 },
 "nbformat": 4,
 "nbformat_minor": 2
}
