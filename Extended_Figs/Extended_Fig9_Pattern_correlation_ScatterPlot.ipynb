{
 "cells": [
  {
   "cell_type": "markdown",
   "metadata": {},
   "source": [
    "### This script entitled to output the box plot of the pattern correlation of the simulation and observations, overlapped with the MMEM, SMILE ensemble pattern versus observations"
   ]
  },
  {
   "cell_type": "code",
   "execution_count": null,
   "metadata": {},
   "outputs": [],
   "source": [
    "import numpy as np\n",
    "import xarray as xr\n",
    "import pandas as pd\n",
    "import matplotlib.pyplot as plt\n",
    "import cartopy.crs as ccrs\n",
    "import cartopy.feature as cfeature"
   ]
  },
  {
   "cell_type": "code",
   "execution_count": null,
   "metadata": {},
   "outputs": [],
   "source": [
    "# def read_correlations(file_path):\n",
    "#     with open(file_path, 'r') as file:\n",
    "#         # Split the file content by newlines and convert each piece to a float\n",
    "#         return [float(correlation) for correlation in file.read().splitlines()]"
   ]
  },
  {
   "cell_type": "code",
   "execution_count": null,
   "metadata": {},
   "outputs": [],
   "source": [
    "def read_correlations(file_path):\n",
    "    correlations = {\n",
    "        '10-year': [],\n",
    "        '30-year': [],\n",
    "        '60-year': []\n",
    "    }\n",
    "    \n",
    "    current_period = '10-year'  # Initialize with the first period\n",
    "\n",
    "    with open(file_path, 'r') as file:\n",
    "        for line in file:\n",
    "            try:\n",
    "                # Try to convert the line into a float and add it to the current period list\n",
    "                correlations[current_period].append(float(line.strip()))\n",
    "            except ValueError:\n",
    "                # If it fails, it's probably a header line; update the current period based on the header\n",
    "                if '10-year' in line:\n",
    "                    current_period = '10-year'\n",
    "                elif '30-year' in line:\n",
    "                    current_period = '30-year'\n",
    "                elif '60-year' in line:\n",
    "                    current_period = '60-year'\n",
    "                # If it's not a header, the line is skipped\n",
    "\n",
    "    return correlations\n"
   ]
  },
  {
   "cell_type": "code",
   "execution_count": null,
   "metadata": {},
   "outputs": [],
   "source": [
    "# input the pattern correlation of each models: single realization and the ensemble mean\n",
    "dir_in = './Figure2/'"
   ]
  },
  {
   "cell_type": "code",
   "execution_count": null,
   "metadata": {},
   "outputs": [],
   "source": [
    "CanESM5_run_ens_corr = read_correlations(dir_in + 'CanESM5/pattern_correlations.txt')\n",
    "IPSL_run_ens_corr = read_correlations(dir_in + 'IPSL/pattern_correlations.txt')\n",
    "EC_Earth_run_ens_corr = read_correlations(dir_in + 'EC_Earth/pattern_correlations.txt')\n",
    "ACCESS_run_ens_corr = read_correlations(dir_in + 'ACCESS/pattern_correlations.txt')\n",
    "MPI_ESM_run_ens_corr = read_correlations(dir_in + 'MPI_ESM/pattern_correlations.txt')\n",
    "MIROC6_run_ens_corr = read_correlations(dir_in + 'MIROC6/pattern_correlations.txt')"
   ]
  },
  {
   "cell_type": "code",
   "execution_count": null,
   "metadata": {},
   "outputs": [],
   "source": [
    "CanESM5_run_ens_corr"
   ]
  },
  {
   "cell_type": "code",
   "execution_count": null,
   "metadata": {},
   "outputs": [],
   "source": [
    "MMEM_corr = {'10-year': [0.82], '30-year': [0.86], '60-year': [0.87]}"
   ]
  },
  {
   "cell_type": "code",
   "execution_count": null,
   "metadata": {},
   "outputs": [],
   "source": [
    "type(MMEM_corr)"
   ]
  },
  {
   "cell_type": "code",
   "execution_count": null,
   "metadata": {},
   "outputs": [],
   "source": [
    "MMEM_corr"
   ]
  },
  {
   "cell_type": "code",
   "execution_count": null,
   "metadata": {},
   "outputs": [],
   "source": [
    "# Input the MMEM pattern correlation\n",
    "ens_obs_corr = read_correlations('./Supp_Figure7_Forced/pattern_correlations_trend_of_meanENS_Obs.txt')\n",
    "ens_obs_corr"
   ]
  },
  {
   "cell_type": "code",
   "execution_count": null,
   "metadata": {},
   "outputs": [],
   "source": [
    "# remove the first element of the list in the dictionary ens_obs_corr\n",
    "ens_obs_corr.keys()"
   ]
  },
  {
   "cell_type": "code",
   "execution_count": null,
   "metadata": {},
   "outputs": [],
   "source": [
    "merged_data = {}\n",
    "for key in ens_obs_corr.keys():\n",
    "    merged_data[key] = ens_obs_corr[key][2:]\n",
    "    # merged_data[key].extend([model[1][key][0] for model in models_data])\n",
    "    merged_data[key].append(MMEM_corr[key][0])"
   ]
  },
  {
   "cell_type": "code",
   "execution_count": null,
   "metadata": {},
   "outputs": [],
   "source": [
    "merged_data"
   ]
  },
  {
   "cell_type": "code",
   "execution_count": null,
   "metadata": {},
   "outputs": [],
   "source": [
    "merged_data['10-year'][5]"
   ]
  },
  {
   "cell_type": "code",
   "execution_count": null,
   "metadata": {},
   "outputs": [],
   "source": [
    "ensemble_data ={\n",
    "    'CanESM5': {'10-year': merged_data['10-year'][5], '30-year': merged_data['30-year'][5], '60-year': merged_data['60-year'][5]},\n",
    "    'IPSL': {'10-year': merged_data['10-year'][4], '30-year': merged_data['30-year'][4], '60-year': merged_data['60-year'][4]},\n",
    "    'EC-Earth': {'10-year': merged_data['10-year'][3], '30-year': merged_data['30-year'][3], '60-year': merged_data['60-year'][3]},\n",
    "    'ACCESS': {'10-year': merged_data['10-year'][2], '30-year': merged_data['30-year'][2], '60-year': merged_data['60-year'][2]},\n",
    "    'MPI-ESM': {'10-year': merged_data['10-year'][1], '30-year': merged_data['30-year'][1], '60-year': merged_data['60-year'][1]},\n",
    "    'MIROC6': {'10-year': merged_data['10-year'][0], '30-year': merged_data['30-year'][0], '60-year': merged_data['60-year'][0]}\n",
    "}\n",
    "models_position = np.arange(len(ensemble_data))"
   ]
  },
  {
   "cell_type": "code",
   "execution_count": null,
   "metadata": {},
   "outputs": [],
   "source": [
    "models_data = {\n",
    "    'CanESM5': CanESM5_run_ens_corr,\n",
    "    'IPSL': IPSL_run_ens_corr,\n",
    "    'EC-Earth': EC_Earth_run_ens_corr,\n",
    "    'ACCESS': ACCESS_run_ens_corr,\n",
    "    'MPI-ESM': MPI_ESM_run_ens_corr,\n",
    "    'MIROC6': MIROC6_run_ens_corr,\n",
    "    'MMEM': MMEM_corr\n",
    "}"
   ]
  },
  {
   "cell_type": "code",
   "execution_count": null,
   "metadata": {},
   "outputs": [],
   "source": [
    "# Translate the pattern correlation into a list\n",
    "# models_data = [\n",
    "#     ('MMEM', MMEM_corr),\n",
    "#     ('CanESM5', CanESM5_run_ens_corr),\n",
    "#     ('IPSL', IPSL_run_ens_corr),\n",
    "#     ('EC_Earth', EC_Earth_run_ens_corr),\n",
    "#     ('ACCESS', ACCESS_run_ens_corr),\n",
    "#     ('MPI_ESM', MPI_ESM_run_ens_corr),\n",
    "#     ('MIROC6', MIROC6_run_ens_corr)\n",
    "# ]\n",
    "# models_position = np.arange(len(models_data))"
   ]
  },
  {
   "cell_type": "code",
   "execution_count": null,
   "metadata": {},
   "outputs": [],
   "source": [
    "time_periods = ['10-year', '30-year', '60-year']"
   ]
  },
  {
   "cell_type": "code",
   "execution_count": null,
   "metadata": {},
   "outputs": [],
   "source": [
    "plt.rcParams['figure.figsize'] = (15, 12)\n",
    "plt.rcParams['font.size']       = 16\n",
    "# plt.rcParams['font.family'] = 'sans-serif'\n",
    "plt.rcParams['axes.labelsize']  = 16\n",
    "plt.rcParams['ytick.direction'] = 'out'\n",
    "plt.rcParams['xtick.direction'] = 'out'\n",
    "plt.rcParams['ytick.minor.visible'] = False\n",
    "plt.rcParams['ytick.right']         = False\n",
    "plt.rcParams['xtick.bottom']        = True\n",
    "# set the ticker length\n",
    "plt.rcParams['xtick.major.size']    = 8\n",
    "plt.rcParams['xtick.major.width']   = 2.5\n",
    "plt.rcParams['ytick.major.size']    = 8\n",
    "plt.rcParams['ytick.major.width']   = 2.5\n",
    "# set the frame width\n",
    "plt.rcParams['axes.linewidth']      = 2.5\n",
    "# set the legend\n",
    "plt.rcParams['legend.fontsize']     = 16\n",
    "plt.rcParams['legend.frameon']      = False\n",
    "plt.rcParams['legend.handlelength'] = 0\n",
    "plt.rcParams['savefig.transparent'] = True # save the figure with a transparent background\n",
    "plt.rcParams['pdf.fonttype'] = 42 # embed the fonts in the pdf file\n",
    "# x = np.arange(1850, 2015, 1)"
   ]
  },
  {
   "cell_type": "code",
   "execution_count": null,
   "metadata": {},
   "outputs": [],
   "source": [
    "long_data = []\n",
    "\n",
    "# Loop through the dictionary and append each data point as a row in the list\n",
    "for model, correlations_dict in models_data.items():\n",
    "    for time_period, correlations in correlations_dict.items():\n",
    "        for correlation in correlations:\n",
    "            long_data.append({\n",
    "                'Model': model,\n",
    "                'Time Period': time_period,\n",
    "                'Correlation': correlation\n",
    "            })\n",
    "\n",
    "# Convert the list to a DataFrame\n",
    "long_df = pd.DataFrame(long_data)"
   ]
  },
  {
   "cell_type": "code",
   "execution_count": null,
   "metadata": {},
   "outputs": [],
   "source": [
    "long_df"
   ]
  },
  {
   "cell_type": "code",
   "execution_count": null,
   "metadata": {},
   "outputs": [],
   "source": [
    "unforced_CanESM5_run_obs_corr = read_correlations(dir_in + 'CanESM5/pattern_correlations_unforced_STD.txt')\n",
    "unforced_IPSL_run_obs_corr = read_correlations(dir_in + 'IPSL/pattern_correlations_unforced_STD.txt')\n",
    "unforced_EC_Earth_run_obs_corr = read_correlations(dir_in + 'EC_Earth/pattern_correlations_unforced_STD.txt')\n",
    "unforced_ACCESS_run_obs_corr = read_correlations(dir_in + 'ACCESS/pattern_correlations_unforced_STD.txt')\n",
    "unforced_MPI_ESM_run_obs_corr = read_correlations(dir_in + 'MPI_ESM/pattern_correlations_unforced_STD.txt')\n",
    "unforced_MIROC6_run_obs_corr = read_correlations(dir_in + 'MIROC6/pattern_correlations_unforced_STD.txt')"
   ]
  },
  {
   "cell_type": "code",
   "execution_count": null,
   "metadata": {},
   "outputs": [],
   "source": [
    "unforced_MIROC6_run_obs_corr"
   ]
  },
  {
   "cell_type": "code",
   "execution_count": null,
   "metadata": {},
   "outputs": [],
   "source": [
    "MMEM_unforced_corr = {'10-year': [0.67], '30-year': [0.60], '60-year': [0.58]}"
   ]
  },
  {
   "cell_type": "code",
   "execution_count": null,
   "metadata": {},
   "outputs": [],
   "source": [
    "# input the ensmeble mean pattern correlation of the unforced trend pattern\n",
    "ens_obs_unforced_corr = read_correlations('/work/mh0033/m301036/Land_surf_temp/Disentangling_OBS_SAT_trend/Supp_Figure7/pattern_correlations_noise_trend_std_model_vs_Obs.txt')\n",
    "ens_obs_unforced_corr"
   ]
  },
  {
   "cell_type": "code",
   "execution_count": null,
   "metadata": {},
   "outputs": [],
   "source": [
    "merged_unforced_data = {}\n",
    "for key in ens_obs_unforced_corr.keys():\n",
    "    merged_unforced_data[key] = ens_obs_unforced_corr[key][2:]\n",
    "    # merged_unforced_data[key].extend([model[1][key][0] for model in models_data])\n",
    "    merged_unforced_data[key].append(MMEM_unforced_corr[key][0])"
   ]
  },
  {
   "cell_type": "code",
   "execution_count": null,
   "metadata": {},
   "outputs": [],
   "source": [
    "merged_unforced_data"
   ]
  },
  {
   "cell_type": "code",
   "execution_count": null,
   "metadata": {},
   "outputs": [],
   "source": [
    "ensemble_unforced_data ={\n",
    "    'CanESM5': {'10-year': merged_unforced_data['10-year'][5], '30-year': merged_unforced_data['30-year'][5], '60-year': merged_unforced_data['60-year'][5]},\n",
    "    'IPSL': {'10-year': merged_unforced_data['10-year'][4], '30-year': merged_unforced_data['30-year'][4], '60-year': merged_unforced_data['60-year'][4]},\n",
    "    'EC-Earth': {'10-year': merged_unforced_data['10-year'][3], '30-year': merged_unforced_data['30-year'][3], '60-year': merged_unforced_data['60-year'][3]},\n",
    "    'ACCESS': {'10-year': merged_unforced_data['10-year'][2], '30-year': merged_unforced_data['30-year'][2], '60-year': merged_unforced_data['60-year'][2]},\n",
    "    'MPI-ESM': {'10-year': merged_unforced_data['10-year'][1], '30-year': merged_unforced_data['30-year'][1], '60-year': merged_unforced_data['60-year'][1]},\n",
    "    'MIROC6': {'10-year': merged_unforced_data['10-year'][0], '30-year': merged_unforced_data['30-year'][0], '60-year': merged_unforced_data['60-year'][0]}\n",
    "}\n",
    "models_unforced_position = np.arange(len(ensemble_unforced_data))"
   ]
  },
  {
   "cell_type": "code",
   "execution_count": null,
   "metadata": {},
   "outputs": [],
   "source": [
    "ensemble_unforced_data"
   ]
  },
  {
   "cell_type": "code",
   "execution_count": null,
   "metadata": {},
   "outputs": [],
   "source": [
    "models_unforced_data = {\n",
    "    'CanESM5': unforced_CanESM5_run_obs_corr,\n",
    "    'IPSL': unforced_IPSL_run_obs_corr,\n",
    "    'EC-Earth': unforced_EC_Earth_run_obs_corr,\n",
    "    'ACCESS': unforced_ACCESS_run_obs_corr,\n",
    "    'MPI-ESM': unforced_MPI_ESM_run_obs_corr,\n",
    "    'MIROC6': unforced_MIROC6_run_obs_corr,\n",
    "    'MMEM': MMEM_unforced_corr\n",
    "}"
   ]
  },
  {
   "cell_type": "code",
   "execution_count": null,
   "metadata": {},
   "outputs": [],
   "source": [
    "import cartopy.crs as ccrs\n",
    "import matplotlib.pyplot as plt\n",
    "import matplotlib.colors as colors\n",
    "import matplotlib.ticker as mticker\n",
    "import cartopy.feature as cfeature\n",
    "import cartopy.mpl.ticker as cticker\n",
    "import matplotlib.patches as mpatches\n",
    "import matplotlib.lines as mlines\n",
    "import matplotlib.gridspec as gridspec\n",
    "\n",
    "import seaborn as sns\n",
    "sns.set_style(\"whitegrid\")\n",
    "# sns.set_context(\"talk\")\n",
    "# sns.set_palette(\"colorblind\")\n",
    "\"\"\"\n",
    "plot the two subplots in one figure\n",
    "\"\"\"\n",
    "model_palette = {\n",
    "    'MMEM': ['#F9AE78','#E47159', '#3D5C6F'],\n",
    "    'CanESM5': ['#F9AE78','#E47159', '#3D5C6F'],   \n",
    "    'IPSL': ['#F9AE78','#E47159', '#3D5C6F'], \n",
    "    'EC-Earth': ['#F9AE78','#E47159', '#3D5C6F'], \n",
    "    'ACCESS': ['#F9AE78','#E47159', '#3D5C6F'],    \n",
    "    'MPI-ESM': ['#F9AE78','#E47159', '#3D5C6F'],   \n",
    "    'MIROC6': ['#F9AE78','#E47159', '#3D5C6F'], \n",
    "}\n",
    "\n",
    "fig, axs = plt.subplots(ncols=1, nrows=2, figsize=(16, 12))\n",
    "# fig = plt.figure(figsize=(20, 15))\n",
    "# gs = gridspec.GridSpec(2, 1, wspace=0.15)\n",
    "\n",
    "# axs[0] = plt.subplot(gs[0, 0])\n",
    "# axs[1] = plt.subplot(gs[1, 0])\n",
    "\n",
    "models_position = ['CanESM5', 'IPSL', 'EC-Earth', 'ACCESS', 'MPI-ESM', 'MIROC6', 'MMEM']\n",
    "sns.despine(bottom=True, left=True)\n",
    "\n",
    "for i, (model_name, model_correlations) in enumerate(models_data.items()):\n",
    "    if i == 6:\n",
    "        # Add MMEM horizontal lines\n",
    "        for j, time_period in enumerate(time_periods):\n",
    "            mmem_value = MMEM_corr[time_period]  # Get the MMEM value for the current time period\n",
    "            y_position = i + (j - 1) * 0.18  # Adjust for time period\n",
    "            # Draw the vertical line for the MMEM value at the correct x-position\n",
    "            axs[0].scatter(mmem_value, y_position, color=model_palette[model_name][j], label='' if i == 0 else \"\", alpha=1.0, s=125, marker='s', \n",
    "                       edgecolors='gray', linewidth=1.5)\n",
    "            # ax.scatter(mmem_value, y_position, color=model_palette[model_name][j], label='' if i == 0 else \"\", alpha=1.0, s=400, marker='|', \n",
    "            #            edgecolors='gray', linewidth=1.5)\n",
    "    else:\n",
    "        for j, time_period in enumerate(time_periods):\n",
    "            correlations = model_correlations[time_period]\n",
    "            y_positions = [i + (j - 1) * 0.18 for _ in correlations]\n",
    "        \n",
    "            axs[0].scatter(correlations, y_positions, color=model_palette[model_name][j], label=f'{time_period}'+'-forced' if i == 0 else \"\", alpha=0.70, s=45)\n",
    "            # Calculate box statistics\n",
    "            q25 = np.percentile(correlations, 25)\n",
    "            q50 = np.percentile(correlations, 50)\n",
    "            q75 = np.percentile(correlations, 75)\n",
    "            q05 = np.percentile(correlations, 5)\n",
    "            q95 = np.percentile(correlations, 95)\n",
    "\n",
    "            y_center = y_positions[0]\n",
    "\n",
    "            # Adjust box width and color\n",
    "            box_height = 0.28\n",
    "            # axs[0].add_patch(plt.Rectangle((q25, y_center - box_height / 2), q75 - q25, box_height,\n",
    "            #                             facecolor=model_palette[model_name][j], edgecolor='black', linewidth=1.5, alpha=0.3))\n",
    "\n",
    "            # # Median line\n",
    "            # axs[0].plot([q50, q50], [y_center - box_height / 2, y_center + box_height / 2], color='black', linewidth=1.5)\n",
    "\n",
    "            # # Whiskers\n",
    "            # axs[0].plot([q05, q25], [y_center, y_center], color='black', linewidth=1)\n",
    "            # axs[0].plot([q75, q95], [y_center, y_center], color='black', linewidth=1)\n",
    "\n",
    "# Add ensemble mean correlation values with larger hollow circles\n",
    "for i, time_period in enumerate(time_periods):\n",
    "    for j, model_name in enumerate(models_position):\n",
    "        if model_name == 'MMEM':\n",
    "            continue\n",
    "        ensemble_mean_corr = ensemble_data[model_name][time_period]\n",
    "        y_position = j + (i - 1) * 0.18\n",
    "        axs[0].scatter(ensemble_mean_corr, y_position,  color=model_palette[model_name][i],label=f'{time_period}'+'-ensemble mean' if j == 0 else \"\", \n",
    "                   alpha=1.0, s=125, linewidth=1.5, marker='s', edgecolor='gray')\n",
    "        # add box-and-whisker plot for the ensemble mean correlation\n",
    "for i, (model_name, model_correlations) in enumerate(models_unforced_data.items()):\n",
    "    if i == 6:\n",
    "        # Add MMEM horizontal lines\n",
    "        for j, time_period in enumerate(time_periods):\n",
    "            mmem_value = MMEM_unforced_corr[time_period]  # Get the MMEM value for the current time period\n",
    "            y_position = i + (j - 1) * 0.18  # Adjust for time period\n",
    "            # Draw the vertical line for the MMEM value at the correct x-position\n",
    "            axs[1].scatter(mmem_value, y_position, color=model_palette[model_name][j], label='' if i == 0 else \"\", alpha=1.0, s=125, marker='s', \n",
    "                       edgecolors='gray', linewidth=1.5)\n",
    "    else:\n",
    "        for j, time_period in enumerate(time_periods):\n",
    "            correlations = model_correlations[time_period]\n",
    "            y_positions = [i + (j - 1) * 0.18 for _ in correlations]\n",
    "        \n",
    "            axs[1].scatter(correlations, y_positions, color=model_palette[model_name][j], label=f'{time_period}' if i == 0 else \"\", alpha=0.70, s=45)\n",
    "            # Calculate box statistics\n",
    "            q25 = np.percentile(correlations, 25)\n",
    "            q50 = np.percentile(correlations, 50)\n",
    "            q75 = np.percentile(correlations, 75)\n",
    "            q05 = np.percentile(correlations, 5)\n",
    "            q95 = np.percentile(correlations, 95)\n",
    "\n",
    "            # axs[1].add_patch(plt.Rectangle((q25, y_positions[0] - 0.05), q75 - q25, 0.1,\n",
    "            #                             facecolor='none', edgecolor='black', linewidth=1.5))\n",
    "\n",
    "            # axs[1].plot([q50, q50], [y_positions[0] - 0.05, y_positions[0] + 0.05],\n",
    "            #             color='black', linewidth=1.5)\n",
    "\n",
    "            # axs[1].plot([q05, q25], [y_positions[0], y_positions[0]], color='black', linewidth=1)\n",
    "            # axs[1].plot([q75, q95], [y_positions[0], y_positions[0]], color='black', linewidth=1)\n",
    "\n",
    "# Add ensemble mean correlation values with larger hollow circles\n",
    "for i, time_period in enumerate(time_periods):\n",
    "    for j, model_name in enumerate(models_position):\n",
    "        if model_name == 'MMEM':\n",
    "            continue\n",
    "        ensemble_mean_corr = ensemble_unforced_data[model_name][time_period]\n",
    "        y_position = j + (i - 1) * 0.18\n",
    "        axs[1].scatter(ensemble_mean_corr, y_position,  color=model_palette[model_name][i], \n",
    "                   alpha=1.0, s=125, linewidth=1.5, marker='s', edgecolor='gray')\n",
    "\n",
    "y_labels = ['CanESM5', 'IPSL-CM6A-LR', 'EC-Earth', 'ACCESS-ESM1.5', 'MPI-ESM1.2-LR', 'MIROC6', 'MMLE']\n",
    "# ax.set_yticklabels(y_labels, fontsize=20) \n",
    "axs[0].set_yticks(range(len(models_position)))\n",
    "axs[0].set_yticklabels(y_labels, fontsize=22)\n",
    "\n",
    "# ax.margins(x=0.5,y=-0.25)fontweight='bold'\n",
    "axs[0].set_xlim(0.2, 1.0)\n",
    "axs[0].set_xticks(np.arange(0.2, 1.0, 0.2))\n",
    "axs[0].set_xticklabels([f'{i:.2f}' for i in np.arange(0.2, 1.0, 0.2)], fontsize=22)\n",
    "# axs[0]=plt.xlabel('Human forced SAT pattern correlation', fontsize=22, labelpad=20)\n",
    "# add the vertical line of the correlation value of 0.5\n",
    "# ax.axvline(x=0.7, color='gray', linestyle='--', linewidth=1.5, alpha=0.5)\n",
    "# ax.axvline(x=0.9, color='gray', linestyle='--', linewidth=1.5, alpha=0.5)\n",
    "\n",
    "axs[0].text(0.05, 7.2, 'a', fontsize=26, fontweight='bold', ha='left', va='center')\n",
    "axs[0].text(0.6, 6.85, 'Externally forced SAT pattern correlation', fontsize=22, ha='center')\n",
    "# subplots b\n",
    "axs[1].set_yticks(range(len(models_position)))\n",
    "axs[1].set_yticklabels(y_labels, fontsize=22)\n",
    "\n",
    "axs[1].set_xlim(0.2, 1.0)\n",
    "axs[1].set_xticks(np.arange(0.2, 1.0, 0.2))\n",
    "axs[1].set_xticklabels([f'{i:.2f}' for i in np.arange(0.2, 1.0, 0.2)], fontsize=22)\n",
    "# axs[1].xlabel('Internal variability SAT pattern correlation', fontsize=22, labelpad=20)\n",
    "\n",
    "# add the vertical line of the correlation value of 0.5\n",
    "# axs[1].axvline(x=0.7, color='gray', linestyle='--', linewidth=1.5, alpha=0.5)\n",
    "# axs[1].axvline(x=0.9, color='gray', linestyle='--', linewidth=1.5, alpha=0.5)\n",
    "# Add text to the left corner of the plot\n",
    "axs[1].text(0.05, 7.2, 'b', fontsize=26, fontweight='bold', ha='left', va='center')\n",
    "axs[1].text(0.6, 6.85, 'Internal variability SAT pattern correlation', fontsize=22, ha='center')\n",
    "\n",
    "# add the legend to whole figure\n",
    "\"\"\"\n",
    "the legend designed as the following:\n",
    "    2 Rows and 1 Columns\n",
    "    1. lengend for the time period: title = 'Trend length' text shows in corresponding color of dots\n",
    "    2. legend for the shapes: title = 'Pattern correlation' \n",
    "\"dots\" stands for the pattern correlation of the model single realization .vs. ensemble mean\n",
    "\"squares\" stands for the pattern correlation of the r(observed, modeled ensemble mean)\n",
    "    \n",
    "\"\"\"\n",
    "# Create a custom legend\n",
    "from matplotlib.lines import Line2D\n",
    "import matplotlib.patches as mpatches\n",
    "\n",
    "\n",
    "# legend_elements_pattern = [Line2D([0], [0], marker='o', color='w', markerfacecolor='gray', markersize=10, label='r(Single realization, Ensemble mean)'),\n",
    "#                            Line2D([0], [0], marker='s', color='w', markerfacecolor='gray', markersize=10, label='r(Observed, Ensemble mean)')]\n",
    "\n",
    "# # Add the first legend for the time periods\n",
    "# fig.legend(handles=legend_elements_time, loc='upper center', fontsize=16, title=\"Trend length\", title_fontsize='13', ncol=3, bbox_to_anchor=(0.5, 0.05))\n",
    "\n",
    "# # Add the second legend for the pattern correlation types\n",
    "# fig.legend(handles=legend_elements_pattern, loc='upper right', fontsize=16, title=\"Pattern correlation\", title_fontsize='13', bbox_to_anchor=(0.95, 0.05))\n",
    "\n",
    "legend_elements_pattern = [Line2D([0], [0], marker='o', color='w', markerfacecolor='gray', markersize=18, label='r(Single realization, ENS)'),\n",
    "                           Line2D([0], [0], marker='s', color='w', markerfacecolor='gray', markersize=18, label='r(OBS, ENS)')]\n",
    "\n",
    "# Add the first legend for the pattern correlation types\n",
    "fig.legend(handles=legend_elements_pattern, loc='upper right', fontsize=22, title=\"Pattern correlation\", title_fontsize='22', \n",
    "           ncol = 2, bbox_to_anchor=(0.95, 0.1))\n",
    "\n",
    "legend_elements_time = [Line2D([0], [0], color=model_palette['MMEM'][0], lw=0, label='10-year'),\n",
    "                   Line2D([0], [0], color=model_palette['MMEM'][1], lw=0, label='30-year'),\n",
    "                   Line2D([0], [0], color=model_palette['MMEM'][2], lw=0, label='60-year')]\n",
    "# Add the second legend list text with corresponding color\n",
    "fig.legend(handles=legend_elements_time, loc='upper center', fontsize=22, title=\"Trend length\", \n",
    "           title_fontsize='22', ncol=3, labelcolor='linecolor', bbox_to_anchor=(0.2, 0.1))\n",
    "\n",
    "# plt.tight_layout(pad=1.0)\n",
    "fig.subplots_adjust(top=0.95, bottom=0.15, left=0.2, right=0.9, hspace=0.4, wspace=0.25)\n",
    "fig.savefig('Extended_Fig9_distribution_Pcorr.png', dpi=300)\n",
    "fig.savefig('Extended_Fig9_distribution_Pcorr.eps', format='eps', dpi=300)\n",
    "fig.savefig('Extended_Fig9_distribution_Pcorr.pdf', format='pdf', dpi=300,transparent=True)\n",
    "\n",
    "plt.show()"
   ]
  },
  {
   "cell_type": "code",
   "execution_count": null,
   "metadata": {},
   "outputs": [],
   "source": []
  }
 ],
 "metadata": {
  "kernelspec": {
   "display_name": "mykernel",
   "language": "python",
   "name": "python3"
  },
  "language_info": {
   "codemirror_mode": {
    "name": "ipython",
    "version": 3
   },
   "file_extension": ".py",
   "mimetype": "text/x-python",
   "name": "python",
   "nbconvert_exporter": "python",
   "pygments_lexer": "ipython3",
   "version": "3.9.20"
  }
 },
 "nbformat": 4,
 "nbformat_minor": 2
}
