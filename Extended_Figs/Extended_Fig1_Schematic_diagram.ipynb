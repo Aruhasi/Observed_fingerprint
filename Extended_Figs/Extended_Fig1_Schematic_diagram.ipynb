{
 "cells": [
  {
   "cell_type": "markdown",
   "metadata": {},
   "source": [
    "\"\"\"\n",
    "This script is used to plot the Global mean surface air temperature (GMSAT) from observation and multimodel simulation.\n",
    "\"\"\""
   ]
  },
  {
   "cell_type": "markdown",
   "metadata": {},
   "source": [
    "## import observation data"
   ]
  },
  {
   "cell_type": "code",
   "execution_count": null,
   "metadata": {},
   "outputs": [],
   "source": [
    "import numpy as np\n",
    "import xarray as xr\n",
    "import cartopy.crs as ccrs\n",
    "import cartopy.feature as cfeature\n",
    "import cartopy.mpl.ticker as cticker\n",
    "import matplotlib.pyplot as plt\n",
    "import matplotlib\n",
    "import pandas as pd\n",
    "from pathlib import Path\n",
    "import glob\n",
    "# %%\n",
    "# define function\n",
    "import src.SAT_function_Obs_Fingerprint as data_process\n",
    "import src.Data_Preprocess as preprocess"
   ]
  },
  {
   "cell_type": "code",
   "execution_count": null,
   "metadata": {},
   "outputs": [],
   "source": [
    "# subplot a: global mean temperature anomalies during 1850-2022 HadCRUT5\n",
    "input_observation = './Supp_Figure1/'\n",
    "\n",
    "tas_HadCRUT_annual = xr.open_dataset(input_observation + 'tas_HadCRUT5_annual_anomalies.nc')"
   ]
  },
  {
   "cell_type": "code",
   "execution_count": null,
   "metadata": {},
   "outputs": [],
   "source": [
    "tas_HadCRUT_annual"
   ]
  },
  {
   "cell_type": "code",
   "execution_count": null,
   "metadata": {},
   "outputs": [],
   "source": [
    "# tas_HadCRUT_annual = tas_HadCRUT_annual.rename({'__xarray_dataarray_variable__': 'tas_HadCRUT5'})"
   ]
  },
  {
   "cell_type": "code",
   "execution_count": null,
   "metadata": {},
   "outputs": [],
   "source": [
    "tas_HadCRUT_annual_1850_2022 = tas_HadCRUT_annual.sel(year=slice('1993', '2022')).tas"
   ]
  },
  {
   "cell_type": "code",
   "execution_count": null,
   "metadata": {},
   "outputs": [],
   "source": [
    "tas_HadCRUT5_annual_ano = tas_HadCRUT_annual_1850_2022.mean(dim=['year'])"
   ]
  },
  {
   "cell_type": "code",
   "execution_count": null,
   "metadata": {},
   "outputs": [],
   "source": [
    "tas_HadCRUT5_annual_ano.min().values, tas_HadCRUT5_annual_ano.max().values"
   ]
  },
  {
   "cell_type": "markdown",
   "metadata": {},
   "source": [
    "## Input the multimodel mean GMST data"
   ]
  },
  {
   "cell_type": "code",
   "execution_count": null,
   "metadata": {},
   "outputs": [],
   "source": [
    "# load the data\n",
    "# MMEM GMSAT annual regression coefficient\n",
    "dir_path = '/work/mh0033/m301036/Land_surf_temp/Disentangling_OBS_SAT_trend/Figure1/'\n",
    "\n",
    "beta_MMEM_HadCRUT5_annual = xr.open_dataset(dir_path + 'HadCRUT_slope_Beta_coefficients_MMEM_TS.nc')\n",
    "alpha_MMEM_HadCRUT5_annual = xr.open_dataset(dir_path + 'HadCRUT_intercept_Alpha_constant_MMEM_TS.nc')"
   ]
  },
  {
   "cell_type": "code",
   "execution_count": null,
   "metadata": {},
   "outputs": [],
   "source": [
    "beta_MMEM_HadCRUT5_annual = beta_MMEM_HadCRUT5_annual.rename({'__xarray_dataarray_variable__': 'beta_MMEM_HadCRUT5'})\n",
    "alpha_MMEM_HadCRUT5_annual = alpha_MMEM_HadCRUT5_annual.rename({'__xarray_dataarray_variable__': 'alpha_MMEM_HadCRUT5'})"
   ]
  },
  {
   "cell_type": "code",
   "execution_count": null,
   "metadata": {},
   "outputs": [],
   "source": [
    "beta_MMEM_HadCRUT5_annual['beta_MMEM_HadCRUT5'].min().values, beta_MMEM_HadCRUT5_annual['beta_MMEM_HadCRUT5'].max().values"
   ]
  },
  {
   "cell_type": "code",
   "execution_count": null,
   "metadata": {},
   "outputs": [],
   "source": [
    "alpha_MMEM_HadCRUT5_annual['alpha_MMEM_HadCRUT5'].min().values, alpha_MMEM_HadCRUT5_annual['alpha_MMEM_HadCRUT5'].max().values"
   ]
  },
  {
   "cell_type": "markdown",
   "metadata": {},
   "source": [
    "### Subplot d: the reconstructed y mean and the y residual from the raw data"
   ]
  },
  {
   "cell_type": "code",
   "execution_count": null,
   "metadata": {},
   "outputs": [],
   "source": [
    "dir_const = '/work/mh0033/m301036/Land_surf_temp/Disentangling_OBS_SAT_trend/Supp_Figure1/data/'\n",
    "\n",
    "GSAT_estimate_forced = xr.open_dataset(dir_const + 'GSAT_HadCRUT5_Forced_anomalies_1850_2022.nc')\n",
    "GSAT_estimate_internal = xr.open_dataset(dir_const + 'GSAT_HadCRUT5_Internal_Variability_anomalies_1850_2022.nc')"
   ]
  },
  {
   "cell_type": "code",
   "execution_count": null,
   "metadata": {},
   "outputs": [],
   "source": [
    "GSAT_estimate_forced = GSAT_estimate_forced.rename({'__xarray_dataarray_variable__': 'GSAT_HadCRUT5_Forced'})\n",
    "GSAT_estimate_internal = GSAT_estimate_internal.rename({'__xarray_dataarray_variable__': 'GSAT_HadCRUT5_Internal'})"
   ]
  },
  {
   "cell_type": "code",
   "execution_count": null,
   "metadata": {},
   "outputs": [],
   "source": [
    "# Calculate the last 30years mean\n",
    "GSAT_estimate_forced_1993_2022 = GSAT_estimate_forced.sel(year=slice('1993', '2022')).GSAT_HadCRUT5_Forced"
   ]
  },
  {
   "cell_type": "code",
   "execution_count": null,
   "metadata": {},
   "outputs": [],
   "source": [
    "GSAT_estimate_forced_mean = GSAT_estimate_forced_1993_2022.mean(dim=['year'])\n",
    "# GSAT_estimate_internal_mean = GSAT_estimate_internal['GSAT_HadCRUT5_Internal'].mean(dim=['year'])"
   ]
  },
  {
   "cell_type": "code",
   "execution_count": null,
   "metadata": {},
   "outputs": [],
   "source": [
    "GSAT_estimate_forced_mean.min().values, GSAT_estimate_forced_mean.max().values"
   ]
  },
  {
   "cell_type": "code",
   "execution_count": null,
   "metadata": {},
   "outputs": [],
   "source": [
    "GSAT_estimate_internal_1993_2022 = GSAT_estimate_internal.sel(year=slice('1993', '2022')).GSAT_HadCRUT5_Internal\n",
    "GSAT_estimate_internal_mean = GSAT_estimate_internal_1993_2022.mean(dim=['year'])\n",
    "GSAT_estimate_internal_mean.min().values, GSAT_estimate_internal_mean.max().values"
   ]
  },
  {
   "cell_type": "markdown",
   "metadata": {},
   "source": [
    "## Plotting "
   ]
  },
  {
   "cell_type": "code",
   "execution_count": null,
   "metadata": {},
   "outputs": [],
   "source": [
    "import svgwrite\n",
    "from matplotlib.lines import Line2D\n",
    "from matplotlib.legend_handler import HandlerLine2D\n",
    "from matplotlib.legend import Legend\n",
    "import matplotlib.lines as Line2D\n",
    "\n",
    "import cartopy.crs as ccrs\n",
    "import matplotlib.pyplot as plt\n",
    "import matplotlib.colors as colors\n",
    "import matplotlib.ticker as mticker\n",
    "import cartopy.feature as cfeature\n",
    "import cartopy.mpl.ticker as cticker\n",
    "import matplotlib.patches as mpatches\n",
    "import matplotlib.lines as mlines\n",
    "import matplotlib.gridspec as gridspec\n",
    "import matplotlib as mpl\n",
    "import seaborn as sns\n",
    "from matplotlib.colors import ListedColormap\n",
    "from matplotlib.colors import BoundaryNorm, ListedColormap"
   ]
  },
  {
   "cell_type": "code",
   "execution_count": null,
   "metadata": {},
   "outputs": [],
   "source": [
    "#Plotting\n",
    "# setting the parameters for the figure\n",
    "plt.rcParams['figure.figsize'] = (8, 10)\n",
    "plt.rcParams['font.size'] = 16\n",
    "# plt.rcParams['font.family'] = 'sans-serif'\n",
    "plt.rcParams['axes.labelsize'] = 16\n",
    "plt.rcParams['ytick.direction'] = 'out'\n",
    "# plt.rcParams['ytick.minor.visible'] = True\n",
    "plt.rcParams['ytick.major.right'] = True\n",
    "plt.rcParams['ytick.right'] = True\n",
    "plt.rcParams['xtick.bottom'] = True\n",
    "plt.rcParams['savefig.transparent'] = True # save the figure with a transparent background"
   ]
  },
  {
   "cell_type": "code",
   "execution_count": null,
   "metadata": {},
   "outputs": [],
   "source": [
    "# Setting the range of the x-axis\n",
    "x = np.arange(1850, 2023, 1)"
   ]
  },
  {
   "cell_type": "code",
   "execution_count": null,
   "metadata": {},
   "outputs": [],
   "source": [
    "obs_name = [\"HadCRUT5\"]\n",
    "model_names = [\"CanESM5(50)\", \"IPSL-CM6A-LR(32)\", \"EC-Earth3(21)\", \"ACCESS-ESM1.5(40)\", \"MPI-ESM1.2-LR(50)\",\"MIROC6(50)\"]\n",
    "\n",
    "RGB_dict = {'CanESM5(50)':np.array([50, 34, 136])/255., \n",
    "            'IPSL-CM6A-LR(32)':np.array([68, 170, 152])/255., \n",
    "            'EC-Earth3(21)':np.array([221, 204, 118])/255., \n",
    "            'ACCESS-ESM1.5(40)':np.array([204, 101, 119])/255.,\n",
    "            'MPI-ESM1.2-LR(50)':np.array([170, 67, 153])/255., \n",
    "            'MIROC6(50)':np.array([136, 33, 85])/255., \n",
    "            'MME':np.array([0, 0, 0])/255.}"
   ]
  },
  {
   "cell_type": "code",
   "execution_count": null,
   "metadata": {},
   "outputs": [],
   "source": [
    "c_obs = \"orange\"\n",
    "c_obs_1 = \"blue\"\n",
    "c_obs_2 = \"green\" #'darkred'\n",
    "\n",
    "obs_color = {\n",
    "    \"MLOST\": c_obs,\n",
    "    \"HadCRUT5\": c_obs_1,\n",
    "    \"Berkeley\": c_obs_2\n",
    "}\n",
    "\n",
    "for obs in obs_name:\n",
    "    print(obs)\n",
    "    obs_color[obs]\n",
    "    print(obs_color[obs])\n",
    "    \n",
    "lw_obs = 1.5\n",
    "lw_model = 2.5\n",
    "xmin, xmax = 1850, 2022\n",
    "ymin, ymax = -1.5, 2.0"
   ]
  },
  {
   "cell_type": "code",
   "execution_count": null,
   "metadata": {},
   "outputs": [],
   "source": [
    "RGB_dict[model_names[0]],model_names[0]"
   ]
  },
  {
   "cell_type": "code",
   "execution_count": null,
   "metadata": {},
   "outputs": [],
   "source": [
    "# define the contourf plot function\n",
    "def plot_data(data,lats,lons,levels=None, extend=None,cmap=None, title=\"\", ax=None, show_xticks=False, show_yticks=False):\n",
    "    if ax is None:\n",
    "        fig, ax = plt.subplots(subplot_kw={'projection': ccrs.Robinson()})\n",
    "    \n",
    "    # ax.set_extent([lons.min(), lons.max(), lats.min(), lats.max()], crs=ccrs.PlateCarree())\n",
    "    # Add coastlines\n",
    "    ax.coastlines(resolution='110m')\n",
    "    gl = ax.gridlines(draw_labels=True, dms=True, x_inline=False, y_inline=False,\n",
    "                      colors='gray', alpha=0.5, linestyle='--', linewidth=0.5)\n",
    "\n",
    "    # Disable labels on the top and right of the plot\n",
    "    gl.top_labels = False\n",
    "    gl.right_labels = False\n",
    "\n",
    "    # Enable labels on the bottom and left of the plot\n",
    "    gl.bottom_labels = show_xticks\n",
    "    gl.left_labels = show_yticks\n",
    "    gl.xformatter = cticker.LongitudeFormatter()\n",
    "    gl.yformatter = cticker.LatitudeFormatter()\n",
    "    gl.xlabel_style = {'size': 14}\n",
    "    gl.ylabel_style = {'size': 14}\n",
    "    \n",
    "    if show_xticks:\n",
    "        gl.bottom_labels = True\n",
    "    if show_yticks:\n",
    "        gl.left_labels = True\n",
    "    # Add filled contour plot\n",
    "    cf = ax.contourf(lons, lats, data, levels=levels, extend=extend, cmap=cmap, transform=ccrs.PlateCarree())\n",
    "    \n",
    "    # Add title\n",
    "    ax.set_title(title, loc='center', fontsize=22, pad=5.0)\n",
    "    return cf"
   ]
  },
  {
   "cell_type": "code",
   "execution_count": null,
   "metadata": {},
   "outputs": [],
   "source": [
    "import matplotlib.pyplot as plt\n",
    "import patchworklib as pw\n",
    "import cartopy.util as cutil\n"
   ]
  },
  {
   "cell_type": "code",
   "execution_count": null,
   "metadata": {},
   "outputs": [],
   "source": [
    "from matplotlib.colors import LinearSegmentedColormap, Normalize\n",
    "from matplotlib.colors import BoundaryNorm\n",
    "import cartopy.util as cutil\n",
    "import seaborn as sns\n",
    "import matplotlib.colors as mcolors\n",
    "import palettable\n",
    "#  cmap = mcolors.ListedColormap(palettable.scientific.diverging.Vik_20.mpl_colors)\n",
    "cmap=mcolors.ListedColormap(palettable.cmocean.diverging.Balance_20.mpl_colors)"
   ]
  },
  {
   "cell_type": "code",
   "execution_count": null,
   "metadata": {},
   "outputs": [],
   "source": [
    "# Four subplots\n",
    "\"\"\"\n",
    "    subplot a: global mean temperature anomalies during 1850-2022 HadCRUT5; contourf plot\n",
    "    subplot b: model simulated GSAT timeseries in each SMILEs and MMEM 1850-2022; x-y line plot\n",
    "    subplot c: GSAT anomalies Beta and Alpha coefficients; contourf plot (from top to bottom: Beta, Alpha two subplots concatenated)\n",
    "    subplot d: GSAT anomalies spatial pattern by construction, with the internal variability and forced component; contourf plot \n",
    "    (from top to bottom: forced component, internal variability two subplots concatenated)\n",
    "\"\"\""
   ]
  },
  {
   "cell_type": "markdown",
   "metadata": {},
   "source": [
    "### Plot the third schematic diagram of the linear regression model to \n",
    "### extract the forced pattern with the alpha and betha scaling factors and the constant stands for intercepts"
   ]
  },
  {
   "cell_type": "code",
   "execution_count": null,
   "metadata": {},
   "outputs": [],
   "source": [
    "# Create the figure and a GridSpec layout\n",
    "fig = plt.figure(figsize=(18, 10))\n",
    "gs = gridspec.GridSpec(\n",
    "    2, 3,\n",
    "    height_ratios=[1, 1],\n",
    "    width_ratios=[1, 1, 1],  # make col 0 narrower to center a+b better\n",
    "    hspace=0.15, wspace=0.1\n",
    ")\n",
    "\n",
    "# ===== Row 1: Two panels centered =====\n",
    "ax0 = fig.add_subplot(gs[0, 0], projection=ccrs.Robinson(180))  # left (beta)\n",
    "ax1 = fig.add_subplot(gs[0, 1], projection=ccrs.Robinson(180))  # right (alpha)\n",
    "\n",
    "# ===== Row 2: Three panels full width =====\n",
    "ax2 = fig.add_subplot(gs[1, 0], projection=ccrs.Robinson(180))  # y\n",
    "ax3 = fig.add_subplot(gs[1, 1], projection=ccrs.Robinson(180))  # y_hat\n",
    "ax4 = fig.add_subplot(gs[1, 2], projection=ccrs.Robinson(180))  # residuals\n",
    "\n",
    "# === Plot 1: Beta and Alpha ===\n",
    "bounds = np.arange(-1.0, 1.1, 0.1)\n",
    "bounds_alpha = np.arange(-0.5, 0.55, 0.05)\n",
    "\n",
    "beta_anomalies = beta_MMEM_HadCRUT5_annual['beta_MMEM_HadCRUT5']\n",
    "beta_anomalies_with_cyclic, lon_cyclic = cutil.add_cyclic_point(beta_anomalies, coord=beta_MMEM_HadCRUT5_annual['lon'])\n",
    "contour_beta = plot_data(beta_anomalies_with_cyclic, beta_MMEM_HadCRUT5_annual['lat'], lon_cyclic, levels=bounds,\n",
    "                         extend='both', cmap='RdBu_r', title=\"Regression Coefficient (\"+r\"$\\beta$\"+\")\", ax=ax0,\n",
    "                         show_xticks=True, show_yticks=True)\n",
    "\n",
    "alpha_anomalies = alpha_MMEM_HadCRUT5_annual['alpha_MMEM_HadCRUT5']\n",
    "alpha_anomalies_with_cyclic, lon_cyclic = cutil.add_cyclic_point(alpha_anomalies, coord=alpha_MMEM_HadCRUT5_annual['lon'])\n",
    "contour_alpha = plot_data(alpha_anomalies_with_cyclic, alpha_MMEM_HadCRUT5_annual['lat'], lon_cyclic, levels=bounds_alpha,\n",
    "                          extend='both', cmap='RdBu_r', title=\"Intercept (\"+r\"$\\alpha$\"+\")\", ax=ax1,\n",
    "                          show_xticks=True, show_yticks=False)\n",
    "\n",
    "# === Plot 2: y, y_hat, residuals ===\n",
    "level_forced = np.arange(-1.0, 1.1, 0.1)\n",
    "level_internal = np.arange(-0.5, 0.55, 0.05)\n",
    "\n",
    "tas_obs_with_cyclic, lon_cyclic = cutil.add_cyclic_point(tas_HadCRUT5_annual_ano, coord=tas_HadCRUT5_annual_ano['lon'])\n",
    "contour_y = plot_data(tas_obs_with_cyclic, tas_HadCRUT5_annual_ano['lat'], lon_cyclic, levels=level_forced,\n",
    "                      extend='both', cmap='RdBu_r', title=r'$y$', ax=ax2,\n",
    "                      show_xticks=True, show_yticks=True)\n",
    "\n",
    "forced_with_cyclic, lon_cyclic = cutil.add_cyclic_point(GSAT_estimate_forced_mean, coord=GSAT_estimate_forced_mean['lon'])\n",
    "contour_yhat = plot_data(forced_with_cyclic, GSAT_estimate_forced_mean['lat'], lon_cyclic, levels=level_forced,\n",
    "                         extend='both', cmap='RdBu_r', title=r'$\\hat{y} = \\beta \\langle \\bar{x}_t \\rangle + \\alpha$', ax=ax3,\n",
    "                         show_xticks=True, show_yticks=False)\n",
    "\n",
    "internal_with_cyclic, lon_cyclic = cutil.add_cyclic_point(GSAT_estimate_internal_mean, coord=GSAT_estimate_internal_mean['lon'])\n",
    "contour_resid = plot_data(internal_with_cyclic, GSAT_estimate_internal_mean['lat'], lon_cyclic, levels=level_internal,\n",
    "                          extend='both', cmap='RdBu_r', title=r'$\\epsilon = y - \\hat{y}$', ax=ax4,\n",
    "                          show_xticks=True, show_yticks=False)\n",
    "\n",
    "# === Colorbars ===\n",
    "cbar_ax1 = fig.add_axes([0.135, 0.52, 0.22, 0.02])  # For beta\n",
    "cbar1 = plt.colorbar(contour_beta, cax=cbar_ax1, orientation='horizontal')\n",
    "cbar1.ax.tick_params(labelsize=14)\n",
    "\n",
    "cbar_ax2 = fig.add_axes([0.4, 0.52, 0.22, 0.02])  # For alpha\n",
    "cbar2 = plt.colorbar(contour_alpha, cax=cbar_ax2, orientation='horizontal')\n",
    "cbar2.ax.tick_params(labelsize=14)\n",
    "\n",
    "cbar_ax3 = fig.add_axes([0.2, 0.12, 0.35, 0.02])  # For y/yhat\n",
    "cbar3 = plt.colorbar(contour_y, cax=cbar_ax3, orientation='horizontal')\n",
    "cbar3.set_label('SAT anomalies (°C)', fontsize=16, labelpad=5)\n",
    "cbar3.ax.tick_params(labelsize=14)\n",
    "\n",
    "cbar_ax4 = fig.add_axes([0.68, 0.12, 0.22, 0.02])  # For residuals\n",
    "cbar4 = plt.colorbar(contour_resid, cax=cbar_ax4, orientation='horizontal')\n",
    "cbar4.set_label('SAT anomalies (°C)', fontsize=16, labelpad=5)\n",
    "cbar4.ax.tick_params(labelsize=14)\n",
    "\n",
    "# === Subplot labels ===\n",
    "ax0.text(-0.05, 1.05, 'a', transform=ax0.transAxes, fontsize=20, fontweight='bold')\n",
    "ax1.text(-0.05, 1.05, 'b', transform=ax1.transAxes, fontsize=20, fontweight='bold')\n",
    "ax2.text(-0.05, 1.05, 'c', transform=ax2.transAxes, fontsize=20, fontweight='bold')\n",
    "ax3.text(-0.05, 1.05, 'd', transform=ax3.transAxes, fontsize=20, fontweight='bold')\n",
    "ax4.text(-0.05, 1.05, 'e', transform=ax4.transAxes, fontsize=20, fontweight='bold')\n",
    "\n",
    "# === Save figure ===\n",
    "fig.savefig(\"Extended_Fig1_combined.png\", dpi=300, bbox_inches='tight')\n",
    "fig.savefig(\"Extended_Fig1_combined.pdf\", format='pdf', dpi=300, bbox_inches='tight')\n",
    "fig.savefig(\"Extended_Fig1_combined.eps\", format='eps', dpi=300, bbox_inches='tight')\n",
    "plt.show()"
   ]
  },
  {
   "cell_type": "code",
   "execution_count": null,
   "metadata": {},
   "outputs": [],
   "source": []
  }
 ],
 "metadata": {
  "kernelspec": {
   "display_name": "mykernel",
   "language": "python",
   "name": "python3"
  },
  "language_info": {
   "codemirror_mode": {
    "name": "ipython",
    "version": 3
   },
   "file_extension": ".py",
   "mimetype": "text/x-python",
   "name": "python",
   "nbconvert_exporter": "python",
   "pygments_lexer": "ipython3",
   "version": "3.9.20"
  }
 },
 "nbformat": 4,
 "nbformat_minor": 2
}
