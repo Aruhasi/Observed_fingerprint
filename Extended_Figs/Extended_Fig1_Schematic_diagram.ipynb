{
 "cells": [
  {
   "cell_type": "markdown",
   "metadata": {},
   "source": [
    "\"\"\"\n",
    "This script is used to plot the Global mean surface air temperature (GMSAT) from observation and multimodel simulation.\n",
    "\"\"\""
   ]
  },
  {
   "cell_type": "markdown",
   "metadata": {},
   "source": [
    "## import observation data"
   ]
  },
  {
   "cell_type": "code",
   "execution_count": null,
   "metadata": {},
   "outputs": [],
   "source": [
    "import numpy as np\n",
    "import xarray as xr\n",
    "import cartopy.crs as ccrs\n",
    "import cartopy.feature as cfeature\n",
    "import cartopy.mpl.ticker as cticker\n",
    "import matplotlib.pyplot as plt\n",
    "import matplotlib\n",
    "import pandas as pd\n",
    "from pathlib import Path\n",
    "import glob\n",
    "# %%\n",
    "# define function\n",
    "import src.SAT_function as data_process\n",
    "import src.Data_Preprocess as preprocess"
   ]
  },
  {
   "cell_type": "code",
   "execution_count": null,
   "metadata": {},
   "outputs": [],
   "source": [
    "# subplot a: global mean temperature anomalies during 1850-2022 HadCRUT5\n",
    "input_observation = '/work/mh0033/m301036/Land_surf_temp/Disentangling_OBS_SAT_trend/Supp_Figure1/'\n",
    "\n",
    "tas_HadCRUT_annual = xr.open_dataset(input_observation + 'tas_HadCRUT5_annual_anomalies.nc')"
   ]
  },
  {
   "cell_type": "code",
   "execution_count": null,
   "metadata": {},
   "outputs": [],
   "source": [
    "tas_HadCRUT_annual"
   ]
  },
  {
   "cell_type": "code",
   "execution_count": null,
   "metadata": {},
   "outputs": [],
   "source": [
    "# tas_HadCRUT_annual = tas_HadCRUT_annual.rename({'__xarray_dataarray_variable__': 'tas_HadCRUT5'})"
   ]
  },
  {
   "cell_type": "code",
   "execution_count": null,
   "metadata": {},
   "outputs": [],
   "source": [
    "tas_HadCRUT_annual_1850_2022 = tas_HadCRUT_annual.sel(year=slice('1993', '2022')).tas"
   ]
  },
  {
   "cell_type": "code",
   "execution_count": null,
   "metadata": {},
   "outputs": [],
   "source": [
    "tas_HadCRUT5_annual_ano = tas_HadCRUT_annual_1850_2022.mean(dim=['year'])"
   ]
  },
  {
   "cell_type": "code",
   "execution_count": null,
   "metadata": {},
   "outputs": [],
   "source": [
    "tas_HadCRUT5_annual_ano.min().values, tas_HadCRUT5_annual_ano.max().values"
   ]
  },
  {
   "cell_type": "markdown",
   "metadata": {},
   "source": [
    "## Input the multimodel mean GMST data"
   ]
  },
  {
   "cell_type": "markdown",
   "metadata": {},
   "source": [
    "### Subplot b: plot the multimodel ensemble mean timeseries"
   ]
  },
  {
   "cell_type": "code",
   "execution_count": null,
   "metadata": {},
   "outputs": [],
   "source": [
    "input_model = '/work/mh0033/m301036/Land_surf_temp/Disentangling_OBS_SAT_trend/Supp_Figure1/'\n",
    "\n",
    "ACCESS_GMSAT_annual_ENS     = xr.open_dataset(input_model + 'GMSAT_ACCESS_annual_timeseries_ENS.nc')\n",
    "CanESM_GMSAT_annual_ENS     = xr.open_dataset(input_model + 'GMSAT_CanESM5_annual_timeseries_ENS.nc')\n",
    "EC_Earth_GMSAT_annual_ENS   = xr.open_dataset(input_model + 'GMSAT_EC_Earth_annual_timeseries_ENS.nc')\n",
    "IPSL_GMSAT_annual_ENS   = xr.open_dataset(input_model + 'GMSAT_IPSL_CM6A_annual_timeseries_ENS.nc')\n",
    "MIROC_GMSAT_annual_ENS  = xr.open_dataset(input_model + 'GMSAT_MIROC6_annual_timeseries_ENS.nc')\n",
    "MPI_GMSAT_annual_ENS    = xr.open_dataset(input_model + 'GMSAT_MPI_ESM_annual_timeseries_ENS.nc')\n",
    "MMEM_GMSAT_annual_ENS   = xr.open_dataset(input_model + 'GMSAT_SMILEs_ENS_annual_timeseries.nc')"
   ]
  },
  {
   "cell_type": "code",
   "execution_count": null,
   "metadata": {},
   "outputs": [],
   "source": [
    "MMEM_GMSAT_annual_ENS_check = xr.open_dataset(input_model + 'GMSAT_SMILEs_ENS_annual_timeseries_obtained_basedOn_ModelENS.nc')"
   ]
  },
  {
   "cell_type": "code",
   "execution_count": null,
   "metadata": {},
   "outputs": [],
   "source": [
    "MPI_GMSAT_annual_ENS['tas'].min().values, MPI_GMSAT_annual_ENS['tas'].max().values"
   ]
  },
  {
   "cell_type": "code",
   "execution_count": null,
   "metadata": {},
   "outputs": [],
   "source": [
    "IPSL_GMSAT_annual_ENS"
   ]
  },
  {
   "cell_type": "markdown",
   "metadata": {},
   "source": [
    "### Subplot c: plotting the alpha and beta coefficients spatial pattern"
   ]
  },
  {
   "cell_type": "code",
   "execution_count": null,
   "metadata": {},
   "outputs": [],
   "source": [
    "# load the data\n",
    "# MMEM GMSAT annual regression coefficient\n",
    "dir_path = '/work/mh0033/m301036/Land_surf_temp/Disentangling_OBS_SAT_trend/Supp_Figure1/'\n",
    "\n",
    "beta_MMEM_HadCRUT5_annual = xr.open_dataset(dir_path + 'HadCRUT_slope_Beta_coefficients.nc')\n",
    "alpha_MMEM_HadCRUT5_annual = xr.open_dataset(dir_path + 'HadCRUT_intercept_Alpha_constant.nc')"
   ]
  },
  {
   "cell_type": "code",
   "execution_count": null,
   "metadata": {},
   "outputs": [],
   "source": [
    "beta_MMEM_HadCRUT5_annual = beta_MMEM_HadCRUT5_annual.rename({'__xarray_dataarray_variable__': 'beta_MMEM_HadCRUT5'})\n",
    "alpha_MMEM_HadCRUT5_annual = alpha_MMEM_HadCRUT5_annual.rename({'__xarray_dataarray_variable__': 'alpha_MMEM_HadCRUT5'})"
   ]
  },
  {
   "cell_type": "code",
   "execution_count": null,
   "metadata": {},
   "outputs": [],
   "source": [
    "beta_MMEM_HadCRUT5_annual['beta_MMEM_HadCRUT5'].min().values, beta_MMEM_HadCRUT5_annual['beta_MMEM_HadCRUT5'].max().values"
   ]
  },
  {
   "cell_type": "code",
   "execution_count": null,
   "metadata": {},
   "outputs": [],
   "source": [
    "alpha_MMEM_HadCRUT5_annual['alpha_MMEM_HadCRUT5'].min().values, alpha_MMEM_HadCRUT5_annual['alpha_MMEM_HadCRUT5'].max().values"
   ]
  },
  {
   "cell_type": "markdown",
   "metadata": {},
   "source": [
    "### Subplot d: the reconstructed y mean and the y residual from the raw data"
   ]
  },
  {
   "cell_type": "code",
   "execution_count": null,
   "metadata": {},
   "outputs": [],
   "source": [
    "dir_const = '/work/mh0033/m301036/Land_surf_temp/Disentangling_OBS_SAT_trend/Supp_Figure1/data/'\n",
    "\n",
    "GSAT_estimate_forced = xr.open_dataset(dir_const + 'GSAT_HadCRUT5_Forced_anomalies_1850_2022.nc')\n",
    "GSAT_estimate_internal = xr.open_dataset(dir_const + 'GSAT_HadCRUT5_Internal_Variability_anomalies_1850_2022.nc')"
   ]
  },
  {
   "cell_type": "code",
   "execution_count": null,
   "metadata": {},
   "outputs": [],
   "source": [
    "GSAT_estimate_forced = GSAT_estimate_forced.rename({'__xarray_dataarray_variable__': 'GSAT_HadCRUT5_Forced'})\n",
    "GSAT_estimate_internal = GSAT_estimate_internal.rename({'__xarray_dataarray_variable__': 'GSAT_HadCRUT5_Internal'})"
   ]
  },
  {
   "cell_type": "code",
   "execution_count": null,
   "metadata": {},
   "outputs": [],
   "source": [
    "# Calculate the last 30years mean\n",
    "GSAT_estimate_forced_1993_2022 = GSAT_estimate_forced.sel(year=slice('1993', '2022')).GSAT_HadCRUT5_Forced"
   ]
  },
  {
   "cell_type": "code",
   "execution_count": null,
   "metadata": {},
   "outputs": [],
   "source": [
    "GSAT_estimate_forced_mean = GSAT_estimate_forced_1993_2022.mean(dim=['year'])\n",
    "# GSAT_estimate_internal_mean = GSAT_estimate_internal['GSAT_HadCRUT5_Internal'].mean(dim=['year'])"
   ]
  },
  {
   "cell_type": "code",
   "execution_count": null,
   "metadata": {},
   "outputs": [],
   "source": [
    "GSAT_estimate_forced_mean.min().values, GSAT_estimate_forced_mean.max().values"
   ]
  },
  {
   "cell_type": "markdown",
   "metadata": {},
   "source": [
    "## Plotting "
   ]
  },
  {
   "cell_type": "code",
   "execution_count": null,
   "metadata": {},
   "outputs": [],
   "source": [
    "import svgwrite\n",
    "from matplotlib.lines import Line2D\n",
    "from matplotlib.legend_handler import HandlerLine2D\n",
    "from matplotlib.legend import Legend\n",
    "import matplotlib.lines as Line2D\n",
    "\n",
    "import cartopy.crs as ccrs\n",
    "import matplotlib.pyplot as plt\n",
    "import matplotlib.colors as colors\n",
    "import matplotlib.ticker as mticker\n",
    "import cartopy.feature as cfeature\n",
    "import cartopy.mpl.ticker as cticker\n",
    "import matplotlib.patches as mpatches\n",
    "import matplotlib.lines as mlines\n",
    "import matplotlib.gridspec as gridspec\n",
    "import matplotlib as mpl\n",
    "import seaborn as sns\n",
    "from matplotlib.colors import ListedColormap\n",
    "from matplotlib.colors import BoundaryNorm, ListedColormap"
   ]
  },
  {
   "cell_type": "code",
   "execution_count": null,
   "metadata": {},
   "outputs": [],
   "source": [
    "#Plotting\n",
    "# setting the parameters for the figure\n",
    "plt.rcParams['figure.figsize'] = (8, 10)\n",
    "plt.rcParams['font.size'] = 16\n",
    "# plt.rcParams['font.family'] = 'sans-serif'\n",
    "plt.rcParams['axes.labelsize'] = 16\n",
    "plt.rcParams['ytick.direction'] = 'out'\n",
    "plt.rcParams['ytick.minor.visible'] = True\n",
    "plt.rcParams['ytick.major.right'] = True\n",
    "plt.rcParams['ytick.right'] = True\n",
    "plt.rcParams['xtick.bottom'] = True\n",
    "plt.rcParams['savefig.transparent'] = True # save the figure with a transparent background"
   ]
  },
  {
   "cell_type": "code",
   "execution_count": null,
   "metadata": {},
   "outputs": [],
   "source": [
    "# Setting the range of the x-axis\n",
    "x = np.arange(1850, 2023, 1)"
   ]
  },
  {
   "cell_type": "code",
   "execution_count": null,
   "metadata": {},
   "outputs": [],
   "source": [
    "obs_name = [\"HadCRUT5\"]\n",
    "model_names = [\"CanESM5(50)\", \"IPSL-CM6A-LR(32)\", \"EC-Earth3(21)\", \"ACCESS-ESM1.5(40)\", \"MPI-ESM1.2-LR(50)\",\"MIROC6(50)\"]\n",
    "\n",
    "RGB_dict = {'CanESM5(50)':np.array([50, 34, 136])/255., \n",
    "            'IPSL-CM6A-LR(32)':np.array([68, 170, 152])/255., \n",
    "            'EC-Earth3(21)':np.array([221, 204, 118])/255., \n",
    "            'ACCESS-ESM1.5(40)':np.array([204, 101, 119])/255.,\n",
    "            'MPI-ESM1.2-LR(50)':np.array([170, 67, 153])/255., \n",
    "            'MIROC6(50)':np.array([136, 33, 85])/255., \n",
    "            'MME':np.array([0, 0, 0])/255.}"
   ]
  },
  {
   "cell_type": "code",
   "execution_count": null,
   "metadata": {},
   "outputs": [],
   "source": [
    "c_obs = \"orange\"\n",
    "c_obs_1 = \"blue\"\n",
    "c_obs_2 = \"green\" #'darkred'\n",
    "\n",
    "obs_color = {\n",
    "    \"MLOST\": c_obs,\n",
    "    \"HadCRUT5\": c_obs_1,\n",
    "    \"Berkeley\": c_obs_2\n",
    "}\n",
    "\n",
    "for obs in obs_name:\n",
    "    print(obs)\n",
    "    obs_color[obs]\n",
    "    print(obs_color[obs])\n",
    "    \n",
    "lw_obs = 1.5\n",
    "lw_model = 2.5\n",
    "xmin, xmax = 1850, 2022\n",
    "ymin, ymax = -1.5, 2.0"
   ]
  },
  {
   "cell_type": "code",
   "execution_count": null,
   "metadata": {},
   "outputs": [],
   "source": [
    "RGB_dict[model_names[0]],model_names[0]"
   ]
  },
  {
   "cell_type": "markdown",
   "metadata": {},
   "source": [
    "### Plot the y (original SAT anomalies data spatial pattern)"
   ]
  },
  {
   "cell_type": "code",
   "execution_count": null,
   "metadata": {},
   "outputs": [],
   "source": [
    "# define the contourf plot function\n",
    "def plot_data(data,lats,lons,levels=None, extend=None,cmap=None, title=\"\", ax=None, show_xticks=False, show_yticks=False):\n",
    "    if ax is None:\n",
    "        fig, ax = plt.subplots(subplot_kw={'projection': ccrs.Robinson()})\n",
    "    \n",
    "    # ax.set_extent([lons.min(), lons.max(), lats.min(), lats.max()], crs=ccrs.PlateCarree())\n",
    "    # Add coastlines\n",
    "    ax.coastlines(resolution='110m')\n",
    "    gl = ax.gridlines(draw_labels=True, dms=True, x_inline=False, y_inline=False,\n",
    "                      colors='gray', alpha=0.5, linestyle='--', linewidth=0.5)\n",
    "\n",
    "    # Disable labels on the top and right of the plot\n",
    "    gl.top_labels = False\n",
    "    gl.right_labels = False\n",
    "\n",
    "    # Enable labels on the bottom and left of the plot\n",
    "    gl.bottom_labels = show_xticks\n",
    "    gl.left_labels = show_yticks\n",
    "    gl.xformatter = cticker.LongitudeFormatter()\n",
    "    gl.yformatter = cticker.LatitudeFormatter()\n",
    "    gl.xlabel_style = {'size': 14}\n",
    "    gl.ylabel_style = {'size': 14}\n",
    "    \n",
    "    if show_xticks:\n",
    "        gl.bottom_labels = True\n",
    "    if show_yticks:\n",
    "        gl.left_labels = True\n",
    "    # Add filled contour plot\n",
    "    cf = ax.contourf(lons, lats, data, levels=levels, extend=extend, cmap=cmap, transform=ccrs.PlateCarree())\n",
    "    \n",
    "    # Add title\n",
    "    ax.set_title(title, loc='center', fontsize=18, pad=5.0)\n",
    "    return cf"
   ]
  },
  {
   "cell_type": "code",
   "execution_count": null,
   "metadata": {},
   "outputs": [],
   "source": [
    "import matplotlib.pyplot as plt\n",
    "import patchworklib as pw\n",
    "import cartopy.util as cutil\n"
   ]
  },
  {
   "cell_type": "code",
   "execution_count": null,
   "metadata": {},
   "outputs": [],
   "source": [
    "from matplotlib.colors import LinearSegmentedColormap, Normalize\n",
    "from matplotlib.colors import BoundaryNorm\n",
    "import cartopy.util as cutil\n",
    "import seaborn as sns\n",
    "import matplotlib.colors as mcolors\n",
    "import palettable\n",
    "#  cmap = mcolors.ListedColormap(palettable.scientific.diverging.Vik_20.mpl_colors)\n",
    "cmap=mcolors.ListedColormap(palettable.cmocean.diverging.Balance_20.mpl_colors)"
   ]
  },
  {
   "cell_type": "code",
   "execution_count": null,
   "metadata": {},
   "outputs": [],
   "source": [
    "# Four subplots\n",
    "\"\"\"\n",
    "    subplot a: global mean temperature anomalies during 1850-2022 HadCRUT5; contourf plot\n",
    "    subplot b: model simulated GSAT timeseries in each SMILEs and MMEM 1850-2022; x-y line plot\n",
    "    subplot c: GSAT anomalies Beta and Alpha coefficients; contourf plot (from top to bottom: Beta, Alpha two subplots concatenated)\n",
    "    subplot d: GSAT anomalies spatial pattern by construction, with the internal variability and forced component; contourf plot \n",
    "    (from top to bottom: forced component, internal variability two subplots concatenated)\n",
    "\"\"\""
   ]
  },
  {
   "cell_type": "code",
   "execution_count": null,
   "metadata": {},
   "outputs": [],
   "source": [
    "# subplot b: model simulated GSAT timeseries in each SMILEs and MMEM 1850-2022\n",
    "# plot the GMSAT timeseries\n",
    "fig2, ax2 = plt.subplots(figsize=(15, 6))\n",
    "plt.plot([xmin,xmax],[0,0], color='grey', linestyle='-', linewidth=0.75)\n",
    "# seven lines for six SMILEs and one MMEM\n",
    "ax2.plot(x, CanESM_GMSAT_annual_ENS['tas'], color=RGB_dict[model_names[0]], label=model_names[0], linewidth=lw_model,\n",
    "         linestyle= '--', alpha=0.75)\n",
    "ax2.plot(x, IPSL_GMSAT_annual_ENS['tas'], color=RGB_dict[model_names[1]], label=model_names[1], linewidth=lw_model,\n",
    "            linestyle= '--', alpha=0.75)\n",
    "ax2.plot(x, EC_Earth_GMSAT_annual_ENS['tas'], color=RGB_dict[model_names[2]], label=model_names[2], linewidth=lw_model,\n",
    "            linestyle= '--', alpha=0.75)\n",
    "ax2.plot(x, ACCESS_GMSAT_annual_ENS['tas'], color=RGB_dict[model_names[3]], label=model_names[3], linewidth=lw_model,\n",
    "            linestyle= '--', alpha=0.75)\n",
    "ax2.plot(x, MPI_GMSAT_annual_ENS['tas'], color=RGB_dict[model_names[4]], label=model_names[4], linewidth=lw_model,\n",
    "            linestyle= '--', alpha=0.75)\n",
    "ax2.plot(x, MIROC_GMSAT_annual_ENS['tas'], color=RGB_dict[model_names[5]], label=model_names[5], linewidth=lw_model,\n",
    "            linestyle= '--', alpha=0.75)\n",
    "ax2.plot(x, MMEM_GMSAT_annual_ENS['tas'], color=RGB_dict['MME'], label='MMEM(243)', linewidth=lw_model)\n",
    "# Add legend\n",
    "plt.axvspan(1950, 2022, alpha=0.25, color='grey')\n",
    "plt.text(1950, 2.05, '1950-2022', fontsize=20)\n",
    "plt.xlim(xmin, xmax)\n",
    "plt.ylim(ymin, ymax)\n",
    "plt.xticks(fontsize=16)\n",
    "plt.yticks(fontsize=16)\n",
    "plt.ylabel('SAT anomaly relative to 1961-1990(°C)', fontsize=20)\n",
    "legend = plt.legend(loc='upper left', fontsize=14, ncol=2, title='CMIP6 Models', title_fontsize='16')\n",
    "plt.text(1845, 2.15, 'a', fontsize=22, fontweight='bold', ha='left')\n",
    "plt.text(1849, 2.15, r'$\\langle \\bar{x}_t \\rangle$'+' timeseries', fontsize=22)\n",
    "plt.savefig(\"Extended-Fig-1a.png\", dpi=300, bbox_inches='tight')\n",
    "plt.savefig(\"Extended-Fig-1a.eps\", format='eps', dpi=300, bbox_inches='tight')\n",
    "\n",
    "plt.show()"
   ]
  },
  {
   "cell_type": "markdown",
   "metadata": {},
   "source": [
    "### Plot the third schematic diagram of the linear regression model to \n",
    "### extract the forced pattern with the alpha and betha scaling factors and the constant stands for intercepts"
   ]
  },
  {
   "cell_type": "code",
   "execution_count": null,
   "metadata": {},
   "outputs": [],
   "source": [
    "fig3, ax3 = plt.subplots(figsize=(15, 6), nrows=2, ncols=1, subplot_kw={'projection': ccrs.Robinson(180)})\n",
    "# subplot c: GSAT anomalies Beta and Alpha coefficients\n",
    "# plot the GSAT anomalies Beta and Alpha coefficients\n",
    "bounds = np.arange(-1.0,1.1,0.1)\n",
    "bounds_alpha = np.arange(-0.5,0.55,0.05)\n",
    "\n",
    "beta_anomalies = beta_MMEM_HadCRUT5_annual['beta_MMEM_HadCRUT5']\n",
    "beta_anomalies_with_cyclic, lon_cyclic = cutil.add_cyclic_point(beta_anomalies, coord=beta_MMEM_HadCRUT5_annual['lon'])\n",
    "contour_obj = plot_data(beta_anomalies_with_cyclic, beta_MMEM_HadCRUT5_annual['lat'], lon_cyclic, levels=bounds, \n",
    "                        extend='both', cmap='RdBu_r', title=r'$\\beta^*$', ax=ax3[0], show_xticks=False, show_yticks=True)\n",
    "\n",
    "alpha_anomalies = alpha_MMEM_HadCRUT5_annual['alpha_MMEM_HadCRUT5']\n",
    "alpha_anomalies_with_cyclic, lon_cyclic = cutil.add_cyclic_point(alpha_anomalies, coord=alpha_MMEM_HadCRUT5_annual['lon'])\n",
    "contour_obj1 = plot_data(alpha_anomalies_with_cyclic, alpha_MMEM_HadCRUT5_annual['lat'], lon_cyclic, levels=bounds_alpha,\n",
    "                        extend='both', cmap='RdBu_r', title=r'$\\alpha^*$', ax=ax3[1], show_xticks=True, show_yticks=True)\n",
    "\n",
    "# add colorbar to the right of the plot\n",
    "cbar_ax = fig3.add_axes([0.66, 0.54, 0.01, 0.3])\n",
    "cbar = plt.colorbar(contour_obj, cax=cbar_ax, orientation='vertical')\n",
    "cbar.ax.tick_params(labelsize=10)\n",
    "\n",
    "cbar_ax1 = fig3.add_axes([0.66, 0.14, 0.01, 0.3])\n",
    "cbar1 = plt.colorbar(contour_obj1, cax=cbar_ax1, orientation='vertical')\n",
    "cbar1.ax.tick_params(labelsize=10)\n",
    "\n",
    "# add title to the plot\n",
    "plt.text(-0.1, 1.05, 'b', fontsize=20,horizontalalignment='left', fontweight='bold', transform=ax3[0].transAxes)\n",
    "plt.text(-0.1, 1.05, 'c', fontsize=20,horizontalalignment='left', fontweight='bold', transform=ax3[1].transAxes)\n",
    "\n",
    "plt.text(0.5, 1.2, 'Regression coefficient and intercept', fontsize=16,horizontalalignment='center', transform=ax3[0].transAxes)\n",
    "\n",
    "plt.savefig(\"Extended-Fig1-b-c.png\", dpi=300, bbox_inches='tight')\n",
    "plt.savefig(\"Extended-Fig1-b-c.eps\", format='eps', dpi=300, bbox_inches='tight')\n",
    "\n",
    "plt.show()\n"
   ]
  },
  {
   "cell_type": "code",
   "execution_count": null,
   "metadata": {},
   "outputs": [],
   "source": [
    "GSAT_estimate_forced_mean.min().values, GSAT_estimate_forced_mean.max().values"
   ]
  },
  {
   "cell_type": "code",
   "execution_count": null,
   "metadata": {},
   "outputs": [],
   "source": [
    "# subplot d: GSAT anomalies spatial pattern by construction, with the internal variability and forced component\n",
    "# plot the GMSAT anomalies spatial pattern\n",
    "fig4, ax4 = plt.subplots(figsize=(15, 6), nrows=2, ncols=1, subplot_kw={'projection': ccrs.Robinson(180)})\n",
    "\n",
    "level_forced = np.arange(-1.0, 1.1, 0.1)\n",
    "\n",
    "tas_HadCRUT5_annual_ano_with_cyclic, lon_cyclic = cutil.add_cyclic_point(tas_HadCRUT5_annual_ano, coord=tas_HadCRUT5_annual_ano['lon'])\n",
    "contour_obj = plot_data(tas_HadCRUT5_annual_ano_with_cyclic, tas_HadCRUT5_annual_ano['lat'], lon_cyclic, levels=level_forced, \n",
    "                        extend='both', cmap='RdBu_r', \n",
    "                        title=r'$y$', ax=ax4[0], show_xticks=False, show_yticks=True)\n",
    "\n",
    "GSAT_estimate_forced_mean_with_cyclic, lon_cyclic = cutil.add_cyclic_point(GSAT_estimate_forced_mean, coord=GSAT_estimate_forced_mean['lon'])\n",
    "contour_obj1 = plot_data(GSAT_estimate_forced_mean_with_cyclic, GSAT_estimate_forced_mean['lat'], lon_cyclic, levels=level_forced, \n",
    "                        extend='both', cmap='RdBu_r', \n",
    "                        title=r'$\\hat{y} = \\beta_{i,j} \\langle \\bar{x}_t \\rangle + \\alpha_{i,j}$', ax=ax4[1], show_xticks=True, show_yticks=True)\n",
    "\n",
    "# add colorbar to the right of the plot\n",
    "cbar_ax = fig4.add_axes([0.66, 0.25, 0.01, 0.45])\n",
    "cbar = plt.colorbar(contour_obj, cax=cbar_ax, orientation='vertical')\n",
    "cbar.set_label('SAT anomalies (°C)', fontsize=12, labelpad=10, rotation=270)\n",
    "cbar.ax.tick_params(labelsize=10)\n",
    "# add title to the plot\n",
    "\n",
    "plt.text(-0.1, 1.05, 'd',fontsize=20, fontweight='bold', horizontalalignment='left',transform=ax4[0].transAxes)\n",
    "plt.text(-0.1, 1.05, 'e',fontsize=20, fontweight='bold', horizontalalignment='left',transform=ax4[1].transAxes)\n",
    "plt.text(0.55, 1.2, 'Raw and Reconstructed anomalies (1993-2022)', horizontalalignment='center',\n",
    "         fontsize=16, transform=ax4[0].transAxes)\n",
    "\n",
    "plt.savefig(\"Extended-Fig1-d-e-GSAT-annual-anomalies-1993-2022.png\", dpi=300, bbox_inches='tight')\n",
    "plt.savefig(\"Extended-Fig1-d-e-GSAT-annual-anomalies-1993-2022.eps\", format='eps', dpi=300, bbox_inches='tight')\n",
    "\n",
    "plt.show()"
   ]
  },
  {
   "cell_type": "code",
   "execution_count": null,
   "metadata": {},
   "outputs": [],
   "source": []
  }
 ],
 "metadata": {
  "kernelspec": {
   "display_name": "My Kernel",
   "language": "python",
   "name": "my-kernel"
  },
  "language_info": {
   "codemirror_mode": {
    "name": "ipython",
    "version": 3
   },
   "file_extension": ".py",
   "mimetype": "text/x-python",
   "name": "python",
   "nbconvert_exporter": "python",
   "pygments_lexer": "ipython3",
   "version": "3.9.20"
  }
 },
 "nbformat": 4,
 "nbformat_minor": 2
}
