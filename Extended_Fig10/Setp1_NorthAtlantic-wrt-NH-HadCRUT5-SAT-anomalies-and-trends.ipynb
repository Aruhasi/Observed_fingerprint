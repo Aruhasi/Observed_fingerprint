{
 "cells": [
  {
   "cell_type": "markdown",
   "metadata": {},
   "source": [
    "## Regional SAT anomalies calculation then calculate the trend"
   ]
  },
  {
   "cell_type": "code",
   "execution_count": null,
   "metadata": {},
   "outputs": [],
   "source": [
    "# In[1]:\n",
    "import numpy as np\n",
    "import xarray as xr\n",
    "import pandas as pd\n",
    "import matplotlib.pyplot as plt\n",
    "import cartopy.crs as ccrs\n",
    "import cartopy.feature as cfeature\n",
    "# %%\n",
    "# define function\n",
    "import src.SAT_function as data_process\n",
    "import src.Data_Preprocess as preprocess"
   ]
  },
  {
   "cell_type": "code",
   "execution_count": null,
   "metadata": {},
   "outputs": [],
   "source": [
    "# import src.slurm_cluster as scluster\n",
    "# client, scluster = scluster.init_dask_slurm_cluster(scale=2,cores=10, memory=\"200GB\")"
   ]
  },
  {
   "cell_type": "code",
   "execution_count": null,
   "metadata": {},
   "outputs": [],
   "source": [
    "def func_mk(x):\n",
    "    \"\"\"\n",
    "    Mann-Kendall test for trend\n",
    "    \"\"\"\n",
    "    results = data_process.mk_test(x)\n",
    "    slope = results[0]\n",
    "    p_val = results[1]\n",
    "    return slope, p_val"
   ]
  },
  {
   "cell_type": "code",
   "execution_count": null,
   "metadata": {},
   "outputs": [],
   "source": [
    "# load data\n",
    "dir_HadCRUT5 = '/work/mh0033/m301036/Land_surf_temp/Disentangling_OBS_SAT_trend/Supp_Figure1/'\n",
    "HadCRUT5 = xr.open_dataset(dir_HadCRUT5 + 'tas_HadCRUT5_annual_anomalies_processed.nc')\n",
    "\n",
    "dir1 ='/work/mh0033/m301036/Land_surf_temp/Disentangling_OBS_SAT_trend/Supplementary/S1/data_revise/'\n",
    "HadCRUT5_forced = xr.open_mfdataset(dir1 + 'HadCRUT_Forced_signal.nc',chunks={'lat':10,'lon':10})\n",
    "HadCRUT5_internal = xr.open_mfdataset(dir1 + 'HadCRUT_residual.nc',chunks={'lat':10,'lon':10})"
   ]
  },
  {
   "cell_type": "code",
   "execution_count": null,
   "metadata": {},
   "outputs": [],
   "source": [
    "HadCRUT5"
   ]
  },
  {
   "cell_type": "code",
   "execution_count": null,
   "metadata": {},
   "outputs": [],
   "source": [
    "HadCRUT5 = HadCRUT5.rename({'__xarray_dataarray_variable__':'tas'})\n",
    "HadCRUT5_forced = HadCRUT5_forced.rename({'__xarray_dataarray_variable__':'tas'})\n",
    "HadCRUT5_internal = HadCRUT5_internal.rename({'__xarray_dataarray_variable__':'tas'})"
   ]
  },
  {
   "cell_type": "code",
   "execution_count": null,
   "metadata": {},
   "outputs": [],
   "source": [
    "HadCRUT5"
   ]
  },
  {
   "cell_type": "markdown",
   "metadata": {},
   "source": [
    "### Calculate the trend end year fix to 2022, start with 73 year length and decrease length of trend every one year, the minimum trend length is 10yr "
   ]
  },
  {
   "cell_type": "code",
   "execution_count": null,
   "metadata": {},
   "outputs": [],
   "source": [
    "temp_data = HadCRUT5.tas\n",
    "temp_data_forced = HadCRUT5_forced.tas\n",
    "temp_data_internal = HadCRUT5_internal.tas"
   ]
  },
  {
   "cell_type": "code",
   "execution_count": null,
   "metadata": {},
   "outputs": [],
   "source": [
    "#Perfrom land sea mask\n",
    "land_sea_mask=xr.open_dataset('/work/mh0033/m301036/Data_storage/CMIP6-MPI-ESM-LR/GR15_lsm_regrid.nc')\n",
    "# land_sea_mask.coords\n",
    "land_sea_mask\n",
    "\n",
    "# mask the land area trend data\n",
    "mask_data = land_sea_mask['var1']\n",
    "mask_data"
   ]
  },
  {
   "cell_type": "code",
   "execution_count": null,
   "metadata": {},
   "outputs": [],
   "source": [
    "# Apply the land-sea mask to the trend data, mask the land area trend\n",
    "temp_data_masked = temp_data.where(mask_data[0,:,:]==0, drop = False)\n",
    "temp_data_forced_masked = temp_data_forced.where(mask_data[0,:,:]==0, drop = False)\n",
    "temp_data_internal_masked = temp_data_internal.where(mask_data[0,:,:]==0, drop = False)"
   ]
  },
  {
   "cell_type": "code",
   "execution_count": null,
   "metadata": {},
   "outputs": [],
   "source": [
    "temp_data"
   ]
  },
  {
   "cell_type": "code",
   "execution_count": null,
   "metadata": {},
   "outputs": [],
   "source": [
    "temp_data_masked"
   ]
  },
  {
   "cell_type": "code",
   "execution_count": null,
   "metadata": {},
   "outputs": [],
   "source": [
    "# flip the longitude to -180 to 180\n",
    "temp_data_adj = preprocess.convert_longitude(temp_data)\n",
    "temp_data_forced_adj = preprocess.convert_longitude(temp_data_forced)\n",
    "temp_data_internal_adj = preprocess.convert_longitude(temp_data_internal)"
   ]
  },
  {
   "cell_type": "code",
   "execution_count": null,
   "metadata": {},
   "outputs": [],
   "source": [
    "temp_data_masked_adj = preprocess.convert_longitude(temp_data_masked)\n",
    "temp_data_forced_masked_adj = preprocess.convert_longitude(temp_data_forced_masked)\n",
    "temp_data_internal_masked_adj = preprocess.convert_longitude(temp_data_internal_masked)"
   ]
  },
  {
   "cell_type": "code",
   "execution_count": null,
   "metadata": {},
   "outputs": [],
   "source": [
    "temp_data_adj"
   ]
  },
  {
   "cell_type": "code",
   "execution_count": null,
   "metadata": {},
   "outputs": [],
   "source": [
    "type(temp_data_adj)"
   ]
  },
  {
   "cell_type": "markdown",
   "metadata": {},
   "source": [
    "### Regional anomalies calculation"
   ]
  },
  {
   "cell_type": "code",
   "execution_count": null,
   "metadata": {},
   "outputs": [],
   "source": [
    "def plot_trend(temp_data, lats, lons, levels=None, extend=None, cmap=None, \n",
    "                                 title=\"\", ax=None, show_xticks=False, show_yticks=False):\n",
    "    \"\"\"\n",
    "    Plot the trend spatial pattern using Robinson projection with significance overlaid.\n",
    "\n",
    "    Parameters:\n",
    "    - temp_data: 2D numpy array with the trend values.\n",
    "    - lats, lons: 1D arrays of latitudes and longitudes.\n",
    "    - p_values: 2D array with p-values for each grid point.\n",
    "    - GMST_p_values: 2D array with GMST p-values for each grid point.\n",
    "    - title: Title for the plot.\n",
    "    - ax: Existing axis to plot on. If None, a new axis will be created.\n",
    "    - show_xticks, show_yticks: Boolean flags to show x and y axis ticks.\n",
    "    \n",
    "    Returns:\n",
    "    - contour_obj: The contour object from the plot.\n",
    "    \"\"\"\n",
    "    # Plotting\n",
    "    contour_obj = ax.contourf(lons, lats, temp_data, levels=levels, extend=extend, cmap=cmap, transform=ccrs.PlateCarree())\n",
    "\n",
    "    ax.coastlines(resolution='110m')\n",
    "    gl = ax.gridlines(draw_labels=True, dms=True, x_inline=False, y_inline=False,\n",
    "                      color='gray', alpha=0.35, linestyle='--')\n",
    "\n",
    "    # Disable labels on the top and right of the plot\n",
    "    gl.top_labels = False\n",
    "    gl.right_labels = False\n",
    "\n",
    "    # Enable labels on the bottom and left of the plot\n",
    "    gl.bottom_labels = show_xticks\n",
    "    gl.left_labels = show_yticks\n",
    "    gl.xformatter = cticker.LongitudeFormatter()\n",
    "    gl.yformatter = cticker.LatitudeFormatter()\n",
    "    gl.xlabel_style = {'size': 16}\n",
    "    gl.ylabel_style = {'size': 16}\n",
    "    \n",
    "    if show_xticks:\n",
    "        gl.bottom_labels = True\n",
    "    if show_yticks:\n",
    "        gl.left_labels = True\n",
    "    \n",
    "    # ax.set_title(title, loc='center', fontsize=18, pad=5.0)\n",
    "\n",
    "    return contour_obj\n",
    "# %%\n",
    "plt.rcParams['figure.figsize'] = (8, 10)\n",
    "plt.rcParams['font.size'] = 16\n",
    "# plt.rcParams['font.family'] = 'sans-serif'\n",
    "plt.rcParams['axes.labelsize'] = 16\n",
    "plt.rcParams['ytick.direction'] = 'out'\n",
    "plt.rcParams['ytick.minor.visible'] = True\n",
    "plt.rcParams['ytick.major.right'] = True\n",
    "plt.rcParams['ytick.right'] = True\n",
    "plt.rcParams['xtick.bottom'] = True\n",
    "plt.rcParams['savefig.dpi'] = 300\n",
    "plt.rcParams['savefig.bbox'] = 'tight'\n",
    "plt.rcParams['savefig.pad_inches'] = 0.1\n",
    "plt.rcParams['savefig.transparent'] = True\n",
    "\n",
    "import cartopy.crs as ccrs\n",
    "import matplotlib.pyplot as plt\n",
    "import matplotlib.colors as colors\n",
    "import matplotlib.ticker as mticker\n",
    "import cartopy.feature as cfeature\n",
    "import cartopy.mpl.ticker as cticker\n",
    "import matplotlib.patches as mpatches\n",
    "import matplotlib.lines as mlines\n",
    "import matplotlib.gridspec as gridspec\n",
    "import matplotlib as mpl\n",
    "import seaborn as sns\n",
    "from matplotlib.colors import ListedColormap\n",
    "from matplotlib.colors import BoundaryNorm, ListedColormap\n",
    "import cartopy.util as cutil\n",
    "import seaborn as sns\n",
    "import matplotlib.colors as mcolors\n",
    "import palettable"
   ]
  },
  {
   "cell_type": "code",
   "execution_count": null,
   "metadata": {},
   "outputs": [],
   "source": [
    "levels = np.arange(-3.5, 4.0, 0.25)"
   ]
  },
  {
   "cell_type": "code",
   "execution_count": null,
   "metadata": {},
   "outputs": [],
   "source": [
    "# Plot the North Atlantic region's temperature anomalies map\n",
    "region_sel = temp_data_masked_adj.sel(year=2020)\n",
    "region_sel\n",
    "\n",
    "fig = plt.figure(figsize=(15, 10))\n",
    "gs = gridspec.GridSpec(1, 1, figure=fig, hspace=0.01, wspace=0.01)\n",
    "\n",
    "ax = fig.add_subplot(gs[0,0], projection=ccrs.PlateCarree(central_longitude=0))\n",
    "# ax.set_global()\n",
    "# pvalue_annual_da_with_cyclic, _ = cutil.add_cyclic_point(pvalue_annual_da['40yr'], coord=lon)\n",
    "contour_obj = plot_trend(region_sel, region_sel.lat, region_sel.lon, levels=levels,extend='both', cmap='twilight_shifted',\n",
    "            title=\" \", ax=ax, show_xticks=True, show_yticks=True)\n",
    "ax.set_title('masked_unforced_SAT', fontsize=22, pad=10.0)\n",
    "\n",
    "plt.show()"
   ]
  },
  {
   "cell_type": "code",
   "execution_count": null,
   "metadata": {},
   "outputs": [],
   "source": [
    "lat = temp_data_adj.lat\n",
    "lon = temp_data_adj.lon\n",
    "\n",
    "lat1 = 42\n",
    "lat2 = 60\n",
    "lon1 = -50\n",
    "lon2 = -10"
   ]
  },
  {
   "cell_type": "code",
   "execution_count": null,
   "metadata": {},
   "outputs": [],
   "source": [
    "def calc_North_Atlantic_anomalies(data,mask_data):\n",
    "    ds_WH = data.sel(lat=slice(42, 60), lon=slice(-50, -10))\n",
    "    ds_WH_anomaly = data_process.calc_weighted_mean(ds_WH)\n",
    "    ds_sel = mask_data.sel(lat=slice(0, 90), lon=slice(-180,180))\n",
    "    ds_sel_anomaly = data_process.calc_weighted_mean(ds_sel)\n",
    "    \n",
    "    ds_anomalies = ds_WH_anomaly - ds_sel_anomaly\n",
    "    return ds_anomalies"
   ]
  },
  {
   "cell_type": "code",
   "execution_count": null,
   "metadata": {},
   "outputs": [],
   "source": [
    "temp_data_adj_subpolar_gyre = calc_North_Atlantic_anomalies(temp_data_adj,temp_data_masked_adj)\n",
    "\n",
    "temp_forced_data_adj_subpolar_gyre = calc_North_Atlantic_anomalies(temp_data_forced_adj,temp_data_forced_masked_adj)\n",
    "\n",
    "temp_internal_data_adj_subpolar_gyre = calc_North_Atlantic_anomalies(temp_data_internal_adj,temp_data_internal_masked_adj)"
   ]
  },
  {
   "cell_type": "code",
   "execution_count": null,
   "metadata": {},
   "outputs": [],
   "source": [
    "temp_data_adj_subpolar_gyre "
   ]
  },
  {
   "cell_type": "code",
   "execution_count": null,
   "metadata": {},
   "outputs": [],
   "source": [
    "# plot the aractic region anomaly year 2020\n",
    "# da_plot_subpolar_gyre = temp_internal_da_subpolar_gyre.sel(year=2020)\n",
    "da_plot = temp_data_internal_adj.sel(year=2020).sel(lat=slice(lat1, lat2), lon=slice(lon1, lon2))\n",
    "\n",
    "fig, ax = plt.subplots(subplot_kw={'projection': ccrs.Robinson(central_longitude=180)})\n",
    "\n",
    "contour_obj =  plot_trend(da_plot, da_plot.lat, da_plot.lon, levels=np.arange(-5, 5.5, 0.5), extend='both', cmap='RdBu_r',\n",
    "                                    title=\"subpolar_gyre region SAT anomaly 2020\", ax=ax, show_xticks=True, show_yticks=True)\n",
    "\n",
    "# colorbar\n",
    "cbar = plt.colorbar(contour_obj, ax=ax, orientation='horizontal', pad=0.05, aspect=50)\n",
    "cbar.set_label('Temperature anomaly (°C)')\n",
    "cbar.ax.tick_params(labelsize=14)\n",
    "\n",
    "plt.show()\n"
   ]
  },
  {
   "cell_type": "code",
   "execution_count": null,
   "metadata": {},
   "outputs": [],
   "source": [
    "dir_out = '/work/mh0033/m301036/Land_surf_temp/Disentangling_OBS_SAT_trend/Figure4/end_year_2013/data/'\n",
    "\n",
    "# temp_data_adj_subpolar_gyre.to_netcdf(dir_out + '1850_2022_Raw_subpolar_gyre_mean.nc')\n",
    "# temp_forced_data_adj_subpolar_gyre.to_netcdf(dir_out + '1850_2022_Forced_subpolar_gyre_mean.nc')\n",
    "# temp_internal_data_adj_subpolar_gyre.to_netcdf(dir_out + '1850_2022_Internal_subpolar_gyre_mean.nc')"
   ]
  },
  {
   "cell_type": "markdown",
   "metadata": {},
   "source": [
    "### Segments definitions"
   ]
  },
  {
   "cell_type": "code",
   "execution_count": null,
   "metadata": {},
   "outputs": [],
   "source": [
    "import pandas as pd\n",
    "import numpy as np\n",
    "\n",
    "start_year = 1950\n",
    "end_year = 2013\n",
    "min_length = 10"
   ]
  },
  {
   "cell_type": "code",
   "execution_count": null,
   "metadata": {},
   "outputs": [],
   "source": [
    "years = np.arange(start_year, end_year + 1)\n",
    "\n",
    "# Prepare a dictionary to hold the trend DataArrays for each period\n",
    "temp_data_segments = {}\n",
    "\n",
    "for begin_year in range(start_year, end_year - min_length+2):\n",
    "    # Select the data from the start year to the last year\n",
    "    time_slice = temp_data_adj_subpolar_gyre.sel(year=slice(begin_year, end_year))\n",
    "    \n",
    "    temp_data_segments[begin_year] = time_slice"
   ]
  },
  {
   "cell_type": "code",
   "execution_count": null,
   "metadata": {},
   "outputs": [],
   "source": [
    "temp_data_forced_segments = {}\n",
    "temp_data_internal_segments = {}\n",
    "\n",
    "for begin_year in range(start_year, end_year - min_length+2):\n",
    "    # Select the data from the start year to the last year\n",
    "    time_slice = temp_forced_data_adj_subpolar_gyre.sel(year=slice(begin_year, end_year))\n",
    "    \n",
    "    temp_data_forced_segments[begin_year] = time_slice\n",
    "\n",
    "for begin_year in range(start_year, end_year - min_length+2):\n",
    "    # Select the data from the start year to the last year\n",
    "    time_slice = temp_internal_data_adj_subpolar_gyre.sel(year=slice(begin_year, end_year))\n",
    "    \n",
    "    temp_data_internal_segments[begin_year] = time_slice"
   ]
  },
  {
   "cell_type": "code",
   "execution_count": null,
   "metadata": {},
   "outputs": [],
   "source": [
    "temp_data_segments"
   ]
  },
  {
   "cell_type": "code",
   "execution_count": null,
   "metadata": {},
   "outputs": [],
   "source": [
    "len(temp_data_segments.keys())"
   ]
  },
  {
   "cell_type": "code",
   "execution_count": null,
   "metadata": {},
   "outputs": [],
   "source": [
    "# calculate the trend for each segment\n",
    "trends = {}\n",
    "\n",
    "for begin_year in temp_data_segments.keys():\n",
    "    temp_data = temp_data_segments[begin_year]\n",
    "    temp_data_forced = temp_data_forced_segments[begin_year]\n",
    "    temp_data_internal = temp_data_internal_segments[begin_year]\n",
    "    \n",
    "    # Calculate the trend for each segment\n",
    "    trends[begin_year] = {}\n",
    "    trends[begin_year]['raw'] = data_process.mk_test(temp_data,a=0.05)[0]*10.0\n",
    "    trends[begin_year]['forced'] = data_process.mk_test(temp_data_forced,a=0.05)[0]*10.0\n",
    "    trends[begin_year]['internal'] = data_process.mk_test(temp_data_internal,a=0.05)[0]*10.0"
   ]
  },
  {
   "cell_type": "code",
   "execution_count": null,
   "metadata": {},
   "outputs": [],
   "source": [
    "trends"
   ]
  },
  {
   "cell_type": "code",
   "execution_count": null,
   "metadata": {},
   "outputs": [],
   "source": [
    "# transform the dictionary to dataframe\n",
    "trends_df = pd.DataFrame(trends).T\n",
    "trends_df\n",
    "\n",
    "# for interval, data in temp_annual_np.items():\n",
    "#     temp_annual_da[interval] = xr.DataArray(data, dims=[\"lat\", \"lon\"], coords={\"lat\": temp_data[interval].lat, \"lon\": temp_data[interval].lon})\n",
    "# for interval, data in pvalue_annual_np.items():\n",
    "#     pvalue_annual_da[interval] = xr.DataArray(data, dims=[\"lat\", \"lon\"], coords={\"lat\": temp_data[interval].lat, \"lon\": temp_data[interval].lon})"
   ]
  },
  {
   "cell_type": "code",
   "execution_count": null,
   "metadata": {},
   "outputs": [],
   "source": [
    "# data frame to dataset\n",
    "trends_ds = trends_df.to_xarray()"
   ]
  },
  {
   "cell_type": "code",
   "execution_count": null,
   "metadata": {},
   "outputs": [],
   "source": [
    "trends_ds"
   ]
  },
  {
   "cell_type": "code",
   "execution_count": null,
   "metadata": {},
   "outputs": [],
   "source": [
    "# export the trend to the netcdf file\n",
    "trends_ds.to_netcdf(dir_out + 'subpolar_gyre_wrt_nh_trend_variations.nc')"
   ]
  },
  {
   "cell_type": "code",
   "execution_count": null,
   "metadata": {},
   "outputs": [],
   "source": [
    "dirin = '/work/mh0033/m301036/Land_surf_temp/Disentangling_OBS_SAT_trend/Figure4/data/NAT_wrt_nh_Keil/'\n",
    "subpolar_gyre_unforced_lower = xr.open_dataset(f'{dirin}internal_subpolar_gyre_trend_lower_percentile.nc')\n",
    "subpolar_gyre_unforced_upper = xr.open_dataset(f'{dirin}internal_subpolar_gyre_trend_upper_percentile.nc')"
   ]
  },
  {
   "cell_type": "code",
   "execution_count": null,
   "metadata": {},
   "outputs": [],
   "source": [
    "subpolar_gyre_unforced_lower"
   ]
  },
  {
   "cell_type": "code",
   "execution_count": null,
   "metadata": {},
   "outputs": [],
   "source": [
    "subpolar_gyre_unforced_lower = subpolar_gyre_unforced_lower.rename_vars({'__xarray_dataarray_variable__':'trend'})\n",
    "subpolar_gyre_unforced_upper = subpolar_gyre_unforced_upper.rename_vars({'__xarray_dataarray_variable__':'trend'})"
   ]
  },
  {
   "cell_type": "code",
   "execution_count": null,
   "metadata": {},
   "outputs": [],
   "source": [
    "import seaborn as sns\n",
    "from matplotlib.lines import Line2D\n",
    "\n",
    "# sns.set_theme(style=\"whitegrid\")\n",
    "# Set the font dictionaries (for plot title and axis titles)\n",
    "title_font = {'fontname': 'Arial', 'size': '20', 'color': 'black', 'weight': 'normal',\n",
    "                'verticalalignment': 'bottom'}  # Bottom vertical alignment for more space\n",
    "axis_font = {'fontname': 'Arial', 'size': '20'}\n",
    "\n",
    "# Create the plot\n",
    "fig = plt.figure(figsize=(25, 15))\n",
    "gs = gridspec.GridSpec(2, 2, wspace=0.25, hspace=0.7)\n",
    "\n",
    "ax1 = plt.subplot(gs[0, 0])\n",
    "\n",
    "# define rgb colors for the outlines\n",
    "# colors = [(32,120,180), #blue\n",
    "#           (106,61,154), #purple\n",
    "#           (173,23,88), #magenta\n",
    "#           (255,127,0), #orange\n",
    "#           (226,26,27),#red\n",
    "#           (49,160,45) #green\n",
    "#          ]\n",
    "# colors_set = [(r / 255, g / 255, b / 255) for r, g, b in colors]\n",
    "colors = ['#0F1023','#B11927', '#407BD0', '#B7D0EA']\n",
    "line_widths = [5.5, 5.5, 5.5, 5.5, 1.5, 1.5, 1.5]\n",
    "titles = ['subpolar_gyre(WH)', 'Southeast Pacific(SEP)', 'Southern Ocean Pacific sector(SOP)']\n",
    "linestyles = ['-', '-', '-.', ':']\n",
    "\n",
    "vars = ['raw', 'forced', 'internal']\n",
    "# We use a loop to simulate multiple lines for each category\n",
    "for i, var in enumerate(vars):\n",
    "    # Plot the forced trends for the EU region\n",
    "    sns.lineplot(x=np.arange(1950,2005), y=trends_ds[var].values, color=colors[i], linestyle=linestyles[i], linewidth=3.5, ax=ax1)\n",
    "\n",
    "subpolar_gyre_unforced_lower_2013 = subpolar_gyre_unforced_lower.trend.values[0:55]\n",
    "subpolar_gyre_unforced_upper_2013 = subpolar_gyre_unforced_upper.trend.values[0:55]\n",
    "ax1.fill_between(np.arange(1950,2005), subpolar_gyre_unforced_lower_2013[::-1], subpolar_gyre_unforced_upper_2013[::-1], color=colors[3])\n",
    "\n",
    "ax1.set_xlim([1948, 2006])\n",
    "ax1.set_ylim([-1.0, 1.0])\n",
    "ax1.set_xticks([1954, 1964, 1974, 1984, 1994, 2004])\n",
    "ax1.set_xticklabels(['1954', '1964', '1974', '1984', '1994', '2004'])\n",
    "ax1_upper = ax1.twiny()\n",
    "ax1_upper.invert_xaxis()\n",
    "ax1_upper.set_xlim([67,8])\n",
    "ax1_upper.set_xlabel('Length of trends', fontsize=28, labelpad=10)\n",
    "ax1_upper.set_xticks([60, 50, 40, 30, 20, 10])\n",
    "ax1_upper.set_xticklabels(['60', '50', '40', '30', '20', '10'])\n",
    "ax1.spines['top'].set_linewidth(2.5)\n",
    "ax1.spines['right'].set_linewidth(2.5)\n",
    "ax1.spines['bottom'].set_linewidth(2.5)\n",
    "ax1.spines['left'].set_linewidth(2.5)\n",
    "ax1_upper.tick_params(axis='x', labelsize=26)\n",
    "ax1_upper.tick_params(axis='x', which='major', length=12, width=2.5, direction='in')\n",
    "ax1.axhline(y=0, color='grey', linestyle='--', linewidth=2.5, alpha=0.75)\n",
    "ax1.set_ylabel('Trend value (°C/decade)', fontsize=30)\n",
    "ax1.set_xlabel('Start year of linear trend', fontsize=30)\n",
    "ax1.set_title(titles[0], loc='left',fontsize=32,pad=20)\n",
    "ax1.tick_params(axis='x', which='major', length=12, labelsize=26, width=2.5, direction='in')\n",
    "ax1.tick_params(axis='y', which='major', length=12, labelsize=26, width=2.5, direction='in')\n",
    "# ax1.axvline(x=2013, color='#999A9E', linestyle='-', linewidth=2.5, alpha=0.75)\n",
    "# ax1.axvline(x=1993, color='#999A9E', linestyle='-', linewidth=2.5, alpha=0.75)\n",
    "ax1.axvline(x=1979, color='#999A9E', linestyle='-', linewidth=2.5, alpha=0.75)\n",
    "# ax1.axvline(x=1963, color='#999A9E', linestyle='-', linewidth=2.5, alpha=0.75)\n",
    "ax1.text(1979.1, -0.96, '1979-2013', fontsize=26, rotation=90, color='#999A9E')\n",
    "ax1.text(1940, 1.58, 'a', fontsize=42, ha='center', va='center', fontweight='bold')\n",
    "# custom_lines = [Line2D([0], [0], color=colors[0], lw=3.5),\n",
    "#                 Line2D([0], [0], color=colors[1], lw=3.5),\n",
    "#                 Line2D([0], [0], color=colors[2], lw=3.5)]\n",
    "# leg2 = ax1.legend(custom_lines, ['total', 'human forced', 'internal variability'], \n",
    "#                   loc='lower left', fontsize=26)\n",
    "# ax1.add_artist(leg2)\n",
    "\n",
    "plt.savefig('./subpolar_gyre_wrt_NHsst_trend_variations_end2013.png', dpi=300, bbox_inches='tight')\n",
    "plt.show()"
   ]
  },
  {
   "cell_type": "code",
   "execution_count": null,
   "metadata": {},
   "outputs": [],
   "source": [
    "# # 3rd calculate the internal trend\n",
    "# internal_temp_dict = {}\n",
    "# internal_pvalue_dict = {}\n",
    "\n",
    "# for i in range(len(variable_name)):\n",
    "#     data_var = internal_dict[variable_name[i]]['tas']\n",
    "    \n",
    "#     slope, p_values = xr.apply_ufunc(\n",
    "#         func_mk,\n",
    "#         data_var,\n",
    "#         input_core_dims=[[\"year\"]],\n",
    "#         output_core_dims=[[], []],\n",
    "#         vectorize=True,\n",
    "#         dask=\"parallelized\",\n",
    "#         output_dtypes=[float, float],\n",
    "#         dask_gufunc_kwargs={'allow_rechunk': True}\n",
    "#     )\n",
    "#     internal_temp_dict[variable_name[i]] = slope\n",
    "#     internal_pvalue_dict[variable_name[i]] = p_values\n",
    "\n",
    "# internal_temp_annual_np = {}\n",
    "# internal_pvalue_annual_np = {}\n",
    "\n",
    "# for i in range(len(variable_name)):\n",
    "#     internal_temp_annual_np[variable_name[i]] = internal_temp_dict[variable_name[i]].values\n",
    "#     internal_pvalue_annual_np[variable_name[i]] = internal_pvalue_dict[variable_name[i]].values\n",
    "    \n",
    "# internal_temp_annual_da = {}\n",
    "# internal_pvalue_annual_da = {}\n",
    "\n",
    "# for interval, data in internal_temp_annual_np.items():\n",
    "#     internal_temp_annual_da[interval] = xr.DataArray(data, dims=[\"lat\", \"lon\"], coords={\"lat\": data_dict[interval].lat, \"lon\": data_dict[interval].lon})\n",
    "# for interval, data in internal_pvalue_annual_np.items():\n",
    "#     internal_pvalue_annual_da[interval] = xr.DataArray(data, dims=[\"lat\", \"lon\"], coords={\"lat\": data_dict[interval].lat, \"lon\": data_dict[interval].lon})\n"
   ]
  },
  {
   "cell_type": "markdown",
   "metadata": {},
   "source": [
    "### Plotting with the Robinson Projections"
   ]
  },
  {
   "cell_type": "code",
   "execution_count": null,
   "metadata": {},
   "outputs": [],
   "source": [
    "# define an asymmetric colormap\n",
    "from matplotlib.colors import LinearSegmentedColormap, Normalize\n",
    "from matplotlib.colors import BoundaryNorm\n",
    "import cartopy.util as cutil\n",
    "import seaborn as sns\n",
    "import matplotlib.colors as mcolors\n",
    "import palettable"
   ]
  },
  {
   "cell_type": "code",
   "execution_count": null,
   "metadata": {},
   "outputs": [],
   "source": [
    "# transform the trend data unit to degree per decade\n",
    "for i in temp_annual_da.keys():\n",
    "    temp_annual_da[i] = temp_annual_da[i] * 10"
   ]
  },
  {
   "cell_type": "code",
   "execution_count": null,
   "metadata": {},
   "outputs": [],
   "source": [
    "# temp_annual_da.items()"
   ]
  },
  {
   "cell_type": "code",
   "execution_count": null,
   "metadata": {},
   "outputs": [],
   "source": [
    "# check the min and max value of the trend\n",
    "for i in temp_annual_da.keys():\n",
    "    print(i, temp_annual_da[i].min().values, temp_annual_da[i].max().values)"
   ]
  },
  {
   "cell_type": "code",
   "execution_count": null,
   "metadata": {},
   "outputs": [],
   "source": [
    "# # Define the GridSpec\n",
    "# fig = plt.figure(figsize=(15, 10))\n",
    "# gs = gridspec.GridSpec(2, 2, figure=fig, hspace=0.01, wspace=0.01)\n",
    "\n",
    "# ax = fig.add_subplot(gs[0, 0], projection=ccrs.Robinson(180))\n",
    "# temp_annual_da_with_cyclic, lon_cyclic = cutil.add_cyclic_point(temp_annual_da['35yr'], coord=lon)\n",
    "# pvalue_annual_da_with_cyclic, _ = cutil.add_cyclic_point(pvalue_annual_da['35yr'], coord=lon)\n",
    "# contour_obj = plot_temp_with_significance(temp_annual_da_with_cyclic, lat, lon_cyclic, pvalue_annual_da_with_cyclic,\n",
    "#             GMST_p_values=None, levels=levels,extend='both', cmap='twilight_shifted',\n",
    "#             title=\" \", ax=ax, show_xticks=False, show_yticks=True)\n",
    "# ax.set_title('Raw', fontsize=22, pad=10.0)\n",
    "\n",
    "# ax1 = fig.add_subplot(gs[0, 1], projection=ccrs.Robinson(180))\n",
    "# forced_temp_annual_da_with_cyclic, lon_cyclic = cutil.add_cyclic_point(forced_temp_annual_da['35yr'], coord=lon)\n",
    "# forced_pvalue_annual_da_with_cyclic, _ = cutil.add_cyclic_point(forced_pvalue_annual_da['35yr'], coord=lon)\n",
    "# contour_obj1 = plot_temp_with_significance(forced_temp_annual_da_with_cyclic, lat, lon_cyclic, forced_pvalue_annual_da_with_cyclic,\n",
    "#             GMST_p_values=None, levels=levels,extend='both', cmap='twilight_shifted',\n",
    "#             title=\" \", ax=ax1, show_xticks=False, show_yticks=False)\n",
    "# ax1.set_title('Forced wrt. MMEM', fontsize=22, pad=10.0)\n",
    "\n",
    "# ax2 = fig.add_subplot(gs[1, 0], projection=ccrs.Robinson(180))\n",
    "# internal_temp_annual_da_with_cyclic, lon_cyclic = cutil.add_cyclic_point(internal_temp_annual_da['35yr'], coord=lon)\n",
    "# internal_pvalue_annual_da_with_cyclic, _ = cutil.add_cyclic_point(internal_pvalue_annual_da['35yr'], coord=lon)\n",
    "# contour_obj2 = plot_temp_with_significance(internal_temp_annual_da_with_cyclic, lat, lon_cyclic, internal_pvalue_annual_da_with_cyclic,\n",
    "#             GMST_p_values=None, levels=levels,extend='both', cmap='twilight_shifted',\n",
    "#             title=\" \", ax=ax2, show_xticks=True, show_yticks=True)\n",
    "\n",
    "# ax2.set_title('Unforced wrt. MMEM', fontsize=22, pad=10.0)\n",
    "\n",
    "\n",
    "# ax3 = fig.add_subplot(gs[1, 1], projection=ccrs.Robinson(180))\n",
    "# MMEM_temp_annual_da_with_cyclic, lon_cyclic = cutil.add_cyclic_point(MMEM_temp_annual_da['35yr'], coord=lon)\n",
    "# MMEM_pvalue_annual_da_with_cyclic, _ = cutil.add_cyclic_point(MMEM_pvalue_annual_da['35yr'], coord=lon)\n",
    "\n",
    "# contour_obj3 = plot_temp_with_significance(MMEM_temp_annual_da_with_cyclic, lat, lon_cyclic, MMEM_pvalue_annual_da_with_cyclic,\n",
    "#             GMST_p_values=None, levels=levels,extend='both', cmap='twilight_shifted',\n",
    "#             title=\" \", ax=ax3, show_xticks=True, show_yticks=False)\n",
    "# ax3.set_title('MMEM', fontsize=22, pad=10.0)\n",
    "\n",
    "# # add a line for the Southern Ocean region as the boundary (40S)\n",
    "# # Southern Ocean box\n",
    "# ax.plot([0, 360, 360, 0, 0], [-40, -40, -60, -60, -40],\n",
    "# color='blue', linewidth=1.5, marker='.',\n",
    "# transform=ccrs.PlateCarree())\n",
    "\n",
    "# ax1.plot([0, 360, 360, 0, 0], [-40, -40, -60, -60, -40],\n",
    "# color='blue', linewidth=1.5, marker='.',\n",
    "# transform=ccrs.PlateCarree())\n",
    "\n",
    "# ax2.plot([0, 360, 360, 0, 0], [-40, -40, -60, -60, -40],\n",
    "# color='blue', linewidth=1.5, marker='.',\n",
    "# transform=ccrs.PlateCarree())\n",
    "\n",
    "# ax3.plot([0, 360, 360, 0, 0], [-40, -40, -60, -60, -40],\n",
    "# color='blue', linewidth=1.5, marker='.',\n",
    "# transform=ccrs.PlateCarree())\n",
    "\n",
    "# # # EU box\n",
    "# # ax.plot([45%360, 120%360, 120%360, 45%360, 45%360], [45, 45, 60, 60, 45],\n",
    "# # color='blue', linewidth=1.5, marker='.',\n",
    "# # transform=ccrs.PlateCarree())\n",
    "\n",
    "# # # NA box\n",
    "# # ax.plot([-120%360, -70%360, -70%360, -120%360, -120%360], [45, 45, 70, 70, 45],\n",
    "# # color='blue', linewidth=1.5, marker='.',\n",
    "# # transform=ccrs.PlateCarree())\n",
    "        \n",
    "# # add the title for each row\n",
    "# # for i, period in enumerate(periods):\n",
    "# #     axes[i,0].text(0.125, 1.1, titles_rows[i], va='bottom', ha='center', rotation='horizontal', fontsize=16, \n",
    "# #                     weight='bold',transform=axes[i, 0].transAxes)\n",
    "\n",
    "# # Add horizontal colorbars\n",
    "# cbar_ax = fig.add_axes([0.25, 0.10, 0.5, 0.015])\n",
    "# cbar = plt.colorbar(contour_obj, cax=cbar_ax, orientation='horizontal', extend=extend)\n",
    "# fig.text(0.5, 0.04,'Annual SAT trend ($^\\circ$C/35yr)',fontsize=18, ha='center', va='bottom')\n",
    "# cbar.ax.tick_params(labelsize=18)\n",
    "\n",
    "# plt.tight_layout()\n",
    "# fig.savefig('HadCRUT5-OLS-trend-pattern-separation-1979-2013.png', dpi=300, bbox_inches='tight')\n",
    "# plt.show()"
   ]
  },
  {
   "cell_type": "code",
   "execution_count": null,
   "metadata": {},
   "outputs": [],
   "source": [
    "# len(temp_annual_da.keys())"
   ]
  },
  {
   "cell_type": "markdown",
   "metadata": {},
   "source": [
    "### Output the figure to the PDF files"
   ]
  },
  {
   "cell_type": "code",
   "execution_count": null,
   "metadata": {},
   "outputs": [],
   "source": [
    "import matplotlib.pyplot as plt\n",
    "from matplotlib.backends.backend_pdf import PdfPages\n",
    "\n",
    "lat = temp_annual_da['1950-2022'].lat\n",
    "lon = temp_annual_da['1950-2022'].lon\n",
    "levels = np.arange(-0.5, 0.55, 0.05)\n",
    "extend = 'both'\n",
    "\n",
    "# Define the number of plots per page\n",
    "num_plots_per_page = 4\n",
    "num_subplots_x = 2  # Number of subplots in the x direction (columns)\n",
    "num_subplots_y = 2  # Number of subplots in the y direction (rows)\n",
    "\n",
    "# Define the dimensions of the figure for each page\n",
    "figsize_x = 20\n",
    "figsize_y = 12\n",
    "\n",
    "cmap = mcolors.ListedColormap(palettable.cmocean.diverging.Balance_20.mpl_colors)\n",
    "# # Create a PDF pages object\n",
    "# with PdfPages('./SAT_temp_figures.pdf') as pdf:\n",
    "#     # Create a new figure for adding subplots\n",
    "#     fig = plt.figure(figsize=(figsize_x, figsize_y))\n",
    "#     axes = np.empty((num_subplots_y, num_subplots_x), dtype=object)\n",
    "#     for i in range(num_subplots_y):\n",
    "#         for j in range(num_subplots_x):\n",
    "#             axes[i, j] = fig.add_subplot(num_subplots_y, num_subplots_x, i * num_subplots_x + j + 1, projection=ccrs.Robinson(180))\n",
    "        \n",
    "#             # Counter for the data items\n",
    "#             count = 0\n",
    "\n",
    "#             for interval,data in temp_annual_da.items():\n",
    "#             # Determine the position of the current plot\n",
    "#                 ix = count % num_subplots_x\n",
    "#                 iy = count // num_subplots_x % num_subplots_y\n",
    "\n",
    "#                 # Plot the data on the appropriate subplot\n",
    "#                 ax = axes[iy, ix]\n",
    "#                 temp_annual_da_with_cyclic, lon_cyclic = cutil.add_cyclic_point(data, coord=lon)\n",
    "#                 pvalue_annual_da_with_cyclic, _ = cutil.add_cyclic_point(pvalue_annual_da[interval], coord=lon)\n",
    "                \n",
    "#                 contour_obj = plot_temp_with_significance(temp_annual_da_with_cyclic, lat, lon_cyclic, pvalue_annual_da_with_cyclic,\n",
    "#                     GMST_p_values=None, levels=levels,extend='both', cmap='twilight_shifted',\n",
    "#                     title=\" \", ax=ax, show_xticks=False, show_yticks=False)\n",
    "#                 ax.set_title(f\"Trend for {interval}\")\n",
    "            \n",
    "#             count += 1\n",
    "\n",
    "#             # If we've reached the end of the page, save and start a new figure\n",
    "#             if (count % num_plots_per_page == 0) or (count == len(temp_annual_da.keys())):\n",
    "#                 pdf.savefig(fig)\n",
    "#                 plt.close(fig)  # Close the figure to free memory\n",
    "                \n",
    "#                 # If there's more data to plot, create a new figure\n",
    "#                 if count != len(temp_annual_da.keys()):\n",
    "#                     fig, axes = plt.subplots(num_subplots_y, num_subplots_x, figsize=(figsize_x, figsize_y))\n",
    "#                     fig.subplots_adjust(hspace=0.4, wspace=0.4)\n",
    "#             # add colorbar for each page\n",
    "#             cbar_ax = fig.add_axes([0.25, 0.10, 0.5, 0.015])\n",
    "#             cbar = plt.colorbar(contour_obj, cax=cbar_ax, orientation='horizontal', extend=extend)\n",
    "#             fig.text(0.5, 0.04,'Annual SAT trend ($^\\circ$C/decade)',fontsize=18, ha='center', va='bottom')\n",
    "#             cbar.ax.tick_params(labelsize=18)\n",
    "#             pdf.savefig(fig)\n",
    "#             plt.close(fig)"
   ]
  },
  {
   "cell_type": "code",
   "execution_count": null,
   "metadata": {},
   "outputs": [],
   "source": [
    "start_year = 1950\n",
    "end_year = 2022\n",
    "min_length = 10\n",
    "# num_plots_per_page = 4\n",
    "# num_subplots_x = 2\n",
    "# num_subplots_y = 2\n",
    "# figsize_x = 15\n",
    "# figsize_y = 8.5\n",
    "\n",
    "with PdfPages('./Raw_SAT_temp_figures_check_SEP.pdf') as pdf:\n",
    "    for start_page in range(0, len(trend_annual_da.keys()), num_plots_per_page):\n",
    "        fig, axes = plt.subplots(num_subplots_y, num_subplots_x, figsize=(figsize_x, figsize_y),\n",
    "                                 subplot_kw={'projection': ccrs.Robinson(central_longitude=180)})\n",
    "        fig.subplots_adjust(hspace=0.4, wspace=0.4)\n",
    "        \n",
    "        for i in range(num_plots_per_page):\n",
    "            idx = start_page + i\n",
    "            if idx >= len(trend_annual_da.keys()):\n",
    "                break\n",
    "            interval = list(trend_annual_da.keys())[idx]\n",
    "            data = trend_annual_da[interval]\n",
    "            \n",
    "            ix = i % num_subplots_x\n",
    "            iy = i // num_subplots_x\n",
    "            \n",
    "            ax = axes[iy, ix]\n",
    "         \n",
    "            # Add cyclic point to data\n",
    "            data_with_cyclic, lon_cyclic = cutil.add_cyclic_point(data, coord=lon)\n",
    "            p_values_with_cyclic, _ = cutil.add_cyclic_point(pvalue_annual_da[interval], coord=lon)\n",
    "            \n",
    "            # Plotting the data with significance\n",
    "            contour_obj = plot_trend_with_significance(data_with_cyclic, lat, lon_cyclic, p_values_with_cyclic,\n",
    "                                                        levels=levels, extend=extend, cmap=cmap,\n",
    "                                                        title=\" \", ax=ax, show_xticks=False, show_yticks=False)\n",
    "            ax.set_title(f\"Trend for {interval}\", fontsize=18)\n",
    "            ax.plot([200%360, 280%360, 280%360, 250%360, 200%360], [0, 0, -25, -25, 0],\n",
    "            color='tab:blue', linewidth=2.0,\n",
    "            transform=ccrs.PlateCarree())\n",
    "        # Add colorbar for each page\n",
    "        cbar_ax = fig.add_axes([0.25, 0.05, 0.5, 0.02])\n",
    "        cbar = plt.colorbar(contour_obj, cax=cbar_ax, orientation='horizontal', extend=extend)\n",
    "        cbar.set_label('Annual SAT trend (°C per decade)', fontsize=16)\n",
    "        \n",
    "        # Save the page\n",
    "        pdf.savefig(fig)\n",
    "        plt.close(fig)"
   ]
  },
  {
   "cell_type": "code",
   "execution_count": null,
   "metadata": {},
   "outputs": [],
   "source": [
    "client.close()\n",
    "scluster.close()"
   ]
  },
  {
   "cell_type": "code",
   "execution_count": null,
   "metadata": {},
   "outputs": [],
   "source": []
  }
 ],
 "metadata": {
  "kernelspec": {
   "display_name": "My Kernel",
   "language": "python",
   "name": "my-kernel"
  },
  "language_info": {
   "codemirror_mode": {
    "name": "ipython",
    "version": 3
   },
   "file_extension": ".py",
   "mimetype": "text/x-python",
   "name": "python",
   "nbconvert_exporter": "python",
   "pygments_lexer": "ipython3",
   "version": "3.9.-1"
  }
 },
 "nbformat": 4,
 "nbformat_minor": 2
}
