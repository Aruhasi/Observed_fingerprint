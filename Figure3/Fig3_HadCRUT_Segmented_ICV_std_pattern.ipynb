{
 "cells": [
  {
   "cell_type": "markdown",
   "id": "16b9370f-6718-47da-a1a5-862f7f35f1ca",
   "metadata": {},
   "source": [
    "### Import the necessary database"
   ]
  },
  {
   "cell_type": "code",
   "execution_count": null,
   "id": "89fc7789-c98b-4eb3-bd53-7b6a80515a0f",
   "metadata": {
    "tags": []
   },
   "outputs": [],
   "source": [
    "import numpy as np\n",
    "import xarray as xr\n",
    "import pandas as pd\n",
    "import matplotlib.pyplot as plt\n",
    "import cartopy.crs as ccrs\n",
    "import cartopy.feature as cfeature"
   ]
  },
  {
   "cell_type": "code",
   "execution_count": null,
   "id": "4a8116bf",
   "metadata": {},
   "outputs": [],
   "source": [
    "#In[2]:\n",
    "# define function\n",
    "import src.SAT_function as data_process\n",
    "import src.Data_Preprocess as preprosess"
   ]
  },
  {
   "cell_type": "code",
   "execution_count": null,
   "id": "9c157868",
   "metadata": {},
   "outputs": [],
   "source": [
    "# import src.slurm_cluster as scluster\n",
    "# client, scluster = scluster.init_dask_slurm_cluster()"
   ]
  },
  {
   "cell_type": "code",
   "execution_count": null,
   "id": "a71ea510",
   "metadata": {},
   "outputs": [],
   "source": [
    "import os\n",
    "\n",
    "dir_ICV_segment = '/work/mh0033/m301036/Land_surf_temp/Disentangling_OBS_SAT_trend/Figure3/data/segment_trends/'\n",
    "\n",
    "vars_name = np.arange(10, 74, 1).astype(str)\n",
    "\n",
    "# Create an empty xarray.Dataset\n",
    "combined_ds = xr.Dataset()\n",
    "\n",
    "# Loop over each segment length and load the data directly into the dataset\n",
    "for segment_length in vars_name:\n",
    "    file_path = dir_ICV_segment + f'GSAT_HadCRUT5_Internal_Variability_trend_{segment_length}yr_segments_1850_2022.nc'\n",
    "    \n",
    "    # Load each segment dataset\n",
    "    ds = xr.open_mfdataset(file_path, chunks={'segment': 1})\n",
    "    \n",
    "    # Add the variable directly to the combined dataset with a meaningful name\n",
    "    var_name = f'ICV_segments_{segment_length}yr_trend'\n",
    "    combined_ds[var_name] = ds[f'ICV_segments_{segment_length}yr_trend']\n",
    "\n",
    "# Now, `combined_ds` holds all the data\n",
    "print(combined_ds)"
   ]
  },
  {
   "cell_type": "code",
   "execution_count": null,
   "id": "05163a1a",
   "metadata": {},
   "outputs": [],
   "source": [
    "combined_ds"
   ]
  },
  {
   "cell_type": "code",
   "execution_count": null,
   "id": "9849a7ca",
   "metadata": {},
   "outputs": [],
   "source": [
    "# print(np.arange(10,31,1).astype(str))"
   ]
  },
  {
   "cell_type": "code",
   "execution_count": null,
   "id": "f0132846-56e9-4a2e-8fd3-02271dfb086b",
   "metadata": {
    "tags": []
   },
   "outputs": [],
   "source": [
    "# import os\n",
    "\n",
    "# dir_ICV_segment = '/work/mh0033/m301036/Land_surf_temp/Disentangling_OBS_SAT_trend/Figure3/data/segment_trends/'\n",
    "\n",
    "\n",
    "# ICV_data = {}\n",
    "# for vars in vars_name:\n",
    "#     file_path = dir_ICV_segment + f'GSAT_HadCRUT5_Internal_Variability_trend_{vars}yr_segments_1850_2022.nc'\n",
    "#     print(f'Checking file: {file_path}')\n",
    "    \n",
    "#     # Check if the file exists\n",
    "#     if os.path.exists(file_path):\n",
    "#         ICV_data[vars] = xr.open_mfdataset(file_path, chunks={'segment': 1})\n",
    "#     else:\n",
    "#         print(f\"File not found: {file_path}\")\n"
   ]
  },
  {
   "cell_type": "code",
   "execution_count": null,
   "id": "d4c69602",
   "metadata": {},
   "outputs": [],
   "source": [
    "# merged_ds = xr.merge([ds for ds in ICV_data.values()])"
   ]
  },
  {
   "cell_type": "code",
   "execution_count": null,
   "id": "7a4f1607",
   "metadata": {},
   "outputs": [],
   "source": [
    "# merged_ds"
   ]
  },
  {
   "cell_type": "code",
   "execution_count": null,
   "id": "361778be",
   "metadata": {
    "tags": []
   },
   "outputs": [],
   "source": [
    "# define function to calculate the standard deviation of the trend pattern of each interval of segments\n",
    "def std_trend_pattern(data):\n",
    "    \"\"\"\n",
    "    data: 4D array with dimensions [year, lat, lon, segment]\n",
    "    segment_length: length of each segment in years\n",
    "    \"\"\"\n",
    "    # calculate the standard deviation of the trend pattern of each interval of segments\n",
    "    std_trend_pattern = np.nanstd(data, axis=0)\n",
    "    \n",
    "    return std_trend_pattern"
   ]
  },
  {
   "cell_type": "code",
   "execution_count": null,
   "id": "6df7c2b0",
   "metadata": {
    "tags": []
   },
   "outputs": [],
   "source": [
    " # Calculate the standard deviation of the trend pattern of each interval of segments\n",
    "for segment_length in vars_name:\n",
    "    var_name = f'ICV_segments_{segment_length}yr_trend'\n",
    "\n",
    "    # Apply the custom function using apply_ufunc along the 'segment' dimension\n",
    "    combined_ds[f'{var_name}_std'] = xr.apply_ufunc(\n",
    "        std_trend_pattern,                       # Custom function\n",
    "        combined_ds[var_name],                   # Input data\n",
    "        input_core_dims=[['segment']],           # Dimension to apply the function along\n",
    "        output_core_dims=[[]],                   # Output does not keep 'segment' dimension\n",
    "        vectorize=True,                          # Apply element-wise\n",
    "        dask='parallelized',                     # Enable parallel computation with Dask\n",
    "        output_dtypes=[float],                   # Specify output data type\n",
    "        dask_gufunc_kwargs={'allow_rechunk': True}  # Allow rechunking if necessary\n",
    "    )\n"
   ]
  },
  {
   "cell_type": "code",
   "execution_count": null,
   "id": "505e1ed2",
   "metadata": {},
   "outputs": [],
   "source": [
    "combined_ds"
   ]
  },
  {
   "cell_type": "code",
   "execution_count": null,
   "id": "4dcd9ded",
   "metadata": {},
   "outputs": [],
   "source": [
    "# save the std of trend pattern of each trend years\n",
    "dir_output = '/work/mh0033/m301036/Land_surf_temp/Disentangling_OBS_SAT_trend/Figure3/data/ICV_STD_whole/'\n",
    "\n",
    "for segment_length in vars_name:\n",
    "    var_name = f'ICV_segments_{segment_length}yr_trend'\n",
    "    combined_ds[f'{var_name}_std'].to_netcdf(dir_output + f'GSAT_HadCRUT5_Internal_Variability_trend_{segment_length}yr_segments_1850_2022_std.nc')\n"
   ]
  },
  {
   "cell_type": "markdown",
   "id": "250b0183",
   "metadata": {},
   "source": [
    "### Plot the trend of the ICV patterns"
   ]
  },
  {
   "cell_type": "code",
   "execution_count": null,
   "id": "e881a39c",
   "metadata": {
    "tags": []
   },
   "outputs": [],
   "source": [
    "plt.rcParams['figure.figsize'] = (8, 10)\n",
    "plt.rcParams['font.size'] = 16\n",
    "# plt.rcParams['font.family'] = 'sans-serif'\n",
    "plt.rcParams['axes.labelsize'] = 16\n",
    "plt.rcParams['ytick.direction'] = 'out'\n",
    "plt.rcParams['ytick.minor.visible'] = True\n",
    "plt.rcParams['ytick.major.right'] = True\n",
    "plt.rcParams['ytick.right'] = True\n",
    "plt.rcParams['xtick.bottom'] = True\n",
    "plt.rcParams['savefig.transparent'] = True\n",
    "\n",
    "import cartopy.crs as ccrs\n",
    "import matplotlib.pyplot as plt\n",
    "import matplotlib.colors as colors\n",
    "import matplotlib.ticker as mticker\n",
    "import cartopy.feature as cfeature\n",
    "import cartopy.mpl.ticker as cticker\n",
    "import matplotlib.patches as mpatches\n",
    "import matplotlib.lines as mlines\n",
    "import matplotlib.gridspec as gridspec\n",
    "import matplotlib as mpl\n",
    "import seaborn as sns\n",
    "from matplotlib.colors import ListedColormap\n",
    "from matplotlib.colors import BoundaryNorm, ListedColormap"
   ]
  },
  {
   "cell_type": "code",
   "execution_count": null,
   "id": "6f6a59d0",
   "metadata": {
    "tags": []
   },
   "outputs": [],
   "source": [
    "def plot_trend(trend_data, lats, lons, levels=None, extend=None, cmap=None, \n",
    "                                 title=\"\", ax=None, show_xticks=False, show_yticks=False):\n",
    "    \"\"\"\n",
    "    Plot the trend spatial pattern using Robinson projection with significance overlaid.\n",
    "\n",
    "    Parameters:\n",
    "    - trend_data: 2D numpy array with the trend values.\n",
    "    - lats, lons: 1D arrays of latitudes and longitudes.\n",
    "    - p_values: 2D array with p-values for each grid point.\n",
    "    - GMST_p_values: 2D array with GMST p-values for each grid point.\n",
    "    - title: Title for the plot.\n",
    "    - ax: Existing axis to plot on. If None, a new axis will be created.\n",
    "    - show_xticks, show_yticks: Boolean flags to show x and y axis ticks.\n",
    "    \n",
    "    Returns:\n",
    "    - contour_obj: The contour object from the plot.\n",
    "    \"\"\"\n",
    "# Create a new figure/axis if none is provided\n",
    "    if ax is None:\n",
    "        fig, ax = plt.subplots(figsize=(20, 15), subplot_kw={'projection': ccrs.Robinson()})\n",
    "        ax.set_global()\n",
    "        \n",
    "    contour_obj = ax.contourf(lons, lats, trend_data, levels=levels, extend=extend, cmap=cmap, transform=ccrs.PlateCarree(central_longitude=0))\n",
    "    # Plot significance masks with different hatches\n",
    "    # ax.contourf(lons, lats, significance_mask, levels=[0.05, 1.0],hatches=['///'], colors='none', transform=ccrs.PlateCarree())\n",
    "\n",
    "    ax.coastlines(resolution='110m')\n",
    "    gl = ax.gridlines(draw_labels=True, dms=True, x_inline=False, y_inline=False, linewidth=1, color='gray', alpha=0.35)\n",
    "\n",
    "    # Disable labels on the top and right of the plot\n",
    "    gl.top_labels = False\n",
    "    gl.right_labels = False\n",
    "\n",
    "    # Enable labels on the bottom and left of the plot\n",
    "    gl.bottom_labels = show_xticks\n",
    "    gl.left_labels = show_yticks\n",
    "    gl.xformatter = cticker.LongitudeFormatter()\n",
    "    gl.yformatter = cticker.LatitudeFormatter()\n",
    "    gl.xlabel_style = {'size': 16}\n",
    "    gl.ylabel_style = {'size': 16}\n",
    "    \n",
    "    if show_xticks:\n",
    "        gl.bottom_labels = True\n",
    "    if show_yticks:\n",
    "        gl.left_labels = True\n",
    "    \n",
    "    ax.set_title(title, loc='center', fontsize=24, pad=5.0)\n",
    "\n",
    "    return contour_obj"
   ]
  },
  {
   "cell_type": "code",
   "execution_count": null,
   "id": "e1ccec18",
   "metadata": {},
   "outputs": [],
   "source": [
    "# define an asymmetric colormap\n",
    "from matplotlib.colors import LinearSegmentedColormap, Normalize\n",
    "from matplotlib.colors import BoundaryNorm\n",
    "\n",
    "intervals = [0.0, 0.05, 0.1, 0.15, 0.2, 0.3, 0.4, 0.5, 0.6, 0.7, 0.8, 0.9, 1.0, 1.2, 1.4, 1.6, 1.8, 2.0]\n",
    "\n",
    "# Normalizing the intervals to [0, 1]\n",
    "min_interval = min(intervals)\n",
    "max_interval = max(intervals)\n",
    "normalized_intervals = [(val - min_interval) / (max_interval - min_interval) for val in intervals]\n",
    "\n",
    "# colors = ['#2616D3', '#005EFF', '#0084FF', '#00A2FF', '#00BCDB', (1.0, 1.0, 1.0, 1.0),(1.0, 1.0, 1.0, 1.0),(1.0, 0.8, 0.5, 1.0),\n",
    "#     (1.0, 0.803921568627451, 0.607843137254902, 1.0), (1.0, 0.6000000000000001, 0.20000000000000018, 1.0),(1.0, 0.4039215686274509, 0.0, 1.0),(0.8999999999999999, 0.19999999999999996, 0.0, 1.0),\n",
    "#     (0.7470588235294118, 0.0, 0.0, 1.0), (0.6000000000000001, 0.0, 0.0, 1.0),(0.44705882352941173, 0.0, 0.0, 1.0),(0.30000000000000004, 0.0, 0.0, 1.0),(0.14705882352941177, 0.0, 0.0, 1.0),\n",
    "#     (0.0, 0.0, 0.0, 1.0)]\n",
    "\n",
    "# Creating a list of tuples with normalized positions and corresponding colors\n",
    "# color_list = list(zip(normalized_intervals, colors))\n",
    "\n",
    "# # Create the colormap\n",
    "# custom_cmap = LinearSegmentedColormap.from_list('my_custom_cmap', color_list)\n",
    "\n",
    "# # Create a normalization\n",
    "# norm = Normalize(vmin=min_interval, vmax=max_interval)"
   ]
  },
  {
   "cell_type": "code",
   "execution_count": null,
   "id": "2e4612d1",
   "metadata": {
    "tags": []
   },
   "outputs": [],
   "source": [
    "import seaborn as sns\n",
    "import palettable\n",
    "from palettable.colorbrewer.diverging import RdBu_11_r\n",
    "import matplotlib.colors as mcolors\n",
    "\n",
    "cmap = mcolors.ListedColormap(palettable.cmocean.sequential.Amp_20.mpl_colors)"
   ]
  },
  {
   "cell_type": "code",
   "execution_count": null,
   "id": "d091a057",
   "metadata": {},
   "outputs": [],
   "source": [
    "lat = combined_ds['lat'].values\n",
    "lon = combined_ds['lon'].values\n",
    "\n",
    "titles = [\"55yr\",  \"60yr\", \"30yr\"]\n",
    "\n",
    "import cartopy.util as cutil\n",
    "# levels = np.arange(-0.2, 0.25, 0.025)\n",
    "# Define the GridSpec\n",
    "fig,ax = plt.subplots(1, 3, figsize=(20, 12), subplot_kw={'projection': ccrs.Robinson(180)})\n",
    "\n",
    "levels = np.arange(0.0, 1.1, 0.1)\n",
    "\n",
    "trend_data_10yr = combined_ds['ICV_segments_55yr_trend_std'].values\n",
    "trend_with_cyclic_10yr, lon_with_cyclic = cutil.add_cyclic_point(trend_data_10yr, coord=lon)\n",
    "contour_obj = plot_trend(trend_with_cyclic_10yr, lat, lon_with_cyclic,levels=levels,extend='max',\n",
    "                    cmap=cmap,\n",
    "                    title=titles[0], ax=ax[0], show_xticks = True, show_yticks = True)\n",
    "\n",
    "trend_data_30yr = combined_ds['ICV_segments_60yr_trend_std'].values\n",
    "trend_with_cyclic_30yr, lon_with_cyclic = cutil.add_cyclic_point(trend_data_30yr, coord=lon)\n",
    "contour_obj1 = plot_trend(trend_with_cyclic_30yr, lat, lon_with_cyclic,levels=levels,extend='max',\n",
    "                    cmap=cmap,\n",
    "                    title=titles[1], ax=ax[1], show_xticks = True, show_yticks = False)\n",
    "\n",
    "# trend_data_60yr = combined_ds['ICV_segments_30yr_trend_std'].values\n",
    "# trend_with_cyclic_60yr, lon_with_cyclic = cutil.add_cyclic_point(trend_data_60yr, coord=lon)\n",
    "# contour_obj2 = plot_trend(trend_with_cyclic_60yr, lat, lon_with_cyclic,levels=levels,extend='max',\n",
    "#                     cmap=cmap,\n",
    "#                     title=titles[2], ax=ax[2], show_xticks = True, show_yticks = False)\n",
    "# sns.color_palette(\"rocket_r\", as_cmap=True)\n",
    "# Add horizontal colorbars\n",
    "cbar_ax = fig.add_axes([0.3, 0.3, 0.5, 0.025])\n",
    "cbar = plt.colorbar(contour_obj, cax=cbar_ax, orientation='horizontal', extend='max')\n",
    "cbar.ax.tick_params(labelsize=18)\n",
    "cbar.set_label('°C/decade', fontsize=22)\n",
    "\n",
    "plt.tight_layout()\n",
    "fig.savefig('ICV_std_patterns(55-60yrs).png', dpi=300, bbox_inches='tight')\n",
    "plt.show()"
   ]
  },
  {
   "cell_type": "code",
   "execution_count": null,
   "id": "c17e252a",
   "metadata": {},
   "outputs": [],
   "source": []
  }
 ],
 "metadata": {
  "kernelspec": {
   "display_name": "mykernel",
   "language": "python",
   "name": "python3"
  },
  "language_info": {
   "codemirror_mode": {
    "name": "ipython",
    "version": 3
   },
   "file_extension": ".py",
   "mimetype": "text/x-python",
   "name": "python",
   "nbconvert_exporter": "python",
   "pygments_lexer": "ipython3",
   "version": "3.9.20"
  }
 },
 "nbformat": 4,
 "nbformat_minor": 5
}
