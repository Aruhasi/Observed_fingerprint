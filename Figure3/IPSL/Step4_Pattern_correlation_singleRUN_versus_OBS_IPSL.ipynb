{
 "cells": [
  {
   "cell_type": "code",
   "execution_count": null,
   "metadata": {},
   "outputs": [],
   "source": [
    "# In[1]:\n",
    "import numpy as np\n",
    "import xarray as xr\n",
    "import pandas as pd\n",
    "import matplotlib.pyplot as plt\n",
    "import cartopy.crs as ccrs\n",
    "import cartopy.feature as cfeature\n",
    "# %%\n",
    "# define function\n",
    "import src.SAT_function as data_process\n",
    "import src.Data_Preprocess as preprocess"
   ]
  },
  {
   "cell_type": "code",
   "execution_count": null,
   "metadata": {},
   "outputs": [],
   "source": [
    "variable_names = ['10yr', '30yr', '60yr']"
   ]
  },
  {
   "cell_type": "code",
   "execution_count": null,
   "metadata": {},
   "outputs": [],
   "source": [
    "# out put the forced trend and pvalue\n",
    "dir_in ='./Figure3/IPSL/trend/'\n",
    "\n",
    "trend_annual_da = {}\n",
    "p_val_annual_da = {}\n",
    "\n",
    "for var in variable_names:\n",
    "    trend_annual_da[var] = xr.open_mfdataset(dir_in + 'IPSL_forced_' + var + '_trend.nc', chunks={'run': 1})\n",
    "    p_val_annual_da[var] = xr.open_mfdataset(dir_in + 'IPSL_forced_' + var + '_pvalue.nc', chunks={'run': 1})\n"
   ]
  },
  {
   "cell_type": "code",
   "execution_count": null,
   "metadata": {},
   "outputs": [],
   "source": [
    "# input the unforced trend and pvalue\n",
    "unforced_trend_da = {}\n",
    "unforced_p_val_da = {}\n",
    "\n",
    "for var in variable_names:\n",
    "    unforced_trend_da[var] = xr.open_mfdataset(dir_in + 'IPSL_unforced_' + var + '_trend.nc', chunks={'run': 1})\n",
    "    unforced_p_val_da[var] = xr.open_mfdataset(dir_in + 'IPSL_unforced_' + var + '_pvalue.nc', chunks={'run': 1})"
   ]
  },
  {
   "cell_type": "code",
   "execution_count": null,
   "metadata": {},
   "outputs": [],
   "source": [
    "unforced_trend_da"
   ]
  },
  {
   "cell_type": "markdown",
   "metadata": {},
   "source": [
    "### calculate the pattern correlation"
   ]
  },
  {
   "cell_type": "code",
   "execution_count": null,
   "metadata": {},
   "outputs": [],
   "source": [
    "# pattern correlation betwenn observed forced pattern vs. Model simulated forced pattern\n",
    "import scipy.stats as stats\n",
    "# 10yr forced trend in each realization .vs. IPSL ensemble trend IPSL_10yr_trend\n",
    "IPSL_forced_10yr_trend = trend_annual_da['10yr'].trend\n",
    "IPSL_forced_30yr_trend = trend_annual_da['30yr'].trend\n",
    "IPSL_forced_60yr_trend = trend_annual_da['60yr'].trend\n",
    "\n",
    "IPSL_unforced_10yr_trend = unforced_trend_da['10yr'].trend\n",
    "IPSL_unforced_30yr_trend = unforced_trend_da['30yr'].trend\n",
    "IPSL_unforced_60yr_trend = unforced_trend_da['60yr'].trend\n",
    "\n",
    "# # Pattern correlations calculation\n",
    "# trend_pattern_correlation_10yr = []\n",
    "# for i in range(len(trend_annual_da['10yr'].run)):\n",
    "#     trend_pattern_correlation_10yr.append(stats.pearsonr(IPSL_forced_10yr_trend.isel(run=i).values.flatten(), IPSL_10yr_trend['tas'].values.flatten())[0])\n",
    "\n",
    "# trend_pattern_correlation_30yr = []\n",
    "# for i in range(len(trend_annual_da['30yr'].run)):\n",
    "#     trend_pattern_correlation_30yr.append(stats.pearsonr(IPSL_forced_30yr_trend.isel(run=i).values.flatten(), IPSL_30yr_trend['tas'].values.flatten())[0])\n",
    "\n",
    "# trend_pattern_correlation_60yr = []\n",
    "# for i in range(len(trend_annual_da['60yr'].run)):\n",
    "#     trend_pattern_correlation_60yr.append(stats.pearsonr(IPSL_forced_60yr_trend.isel(run=i).values.flatten(), IPSL_60yr_trend['tas'].values.flatten())[0])\n",
    "    "
   ]
  },
  {
   "cell_type": "code",
   "execution_count": null,
   "metadata": {},
   "outputs": [],
   "source": [
    "# Input the observational forced and unforced trend wrt. IPSL-CM6A-LR\n",
    "dir_obs = './Figure3/data/'\n",
    "\n",
    "Obs_forced_10yr_trend = xr.open_dataset(dir_obs + 'HadCRUT5_annual_forced_10yr_trend_IPSL.nc')\n",
    "Obs_forced_30yr_trend = xr.open_dataset(dir_obs + 'HadCRUT5_annual_forced_30yr_trend_IPSL.nc')\n",
    "Obs_forced_60yr_trend = xr.open_dataset(dir_obs + 'HadCRUT5_annual_forced_60yr_trend_IPSL.nc')\n",
    "\n",
    "Obs_unforced_10yr_trend = xr.open_dataset(dir_obs + 'HadCRUT5_annual_internal_10yr_trend_IPSL.nc')\n",
    "Obs_unforced_30yr_trend = xr.open_dataset(dir_obs + 'HadCRUT5_annual_internal_30yr_trend_IPSL.nc')\n",
    "Obs_unforced_60yr_trend = xr.open_dataset(dir_obs + 'HadCRUT5_annual_internal_60yr_trend_IPSL.nc')"
   ]
  },
  {
   "cell_type": "code",
   "execution_count": null,
   "metadata": {},
   "outputs": [],
   "source": [
    "Obs_forced_10yr_trend"
   ]
  },
  {
   "cell_type": "code",
   "execution_count": null,
   "metadata": {},
   "outputs": [],
   "source": [
    "Obs_forced_10yr_trend = Obs_forced_10yr_trend.rename({'__xarray_dataarray_variable__':'tas'})\n",
    "Obs_forced_30yr_trend = Obs_forced_30yr_trend.rename({'__xarray_dataarray_variable__':'tas'})\n",
    "Obs_forced_60yr_trend = Obs_forced_60yr_trend.rename({'__xarray_dataarray_variable__':'tas'})\n",
    "\n",
    "Obs_unforced_10yr_trend = Obs_unforced_10yr_trend.rename({'__xarray_dataarray_variable__':'tas'})\n",
    "Obs_unforced_30yr_trend = Obs_unforced_30yr_trend.rename({'__xarray_dataarray_variable__':'tas'})\n",
    "Obs_unforced_60yr_trend = Obs_unforced_60yr_trend.rename({'__xarray_dataarray_variable__':'tas'})\n"
   ]
  },
  {
   "cell_type": "code",
   "execution_count": null,
   "metadata": {},
   "outputs": [],
   "source": [
    "# calculate the pattern correlation between observed and model's each realization simulated forced and unforced trend\n",
    "OBS_trend_pattern_correlation_10yr = []\n",
    "for i in range(len(trend_annual_da['10yr'].run)):\n",
    "    OBS_trend_pattern_correlation_10yr.append(stats.pearsonr(IPSL_forced_10yr_trend.isel(run=i).values.flatten(), \n",
    "        Obs_forced_10yr_trend['tas'].values.flatten())[0])\n",
    "\n",
    "OBS_trend_pattern_correlation_30yr = []\n",
    "for i in range(len(trend_annual_da['30yr'].run)):\n",
    "    OBS_trend_pattern_correlation_30yr.append(stats.pearsonr(IPSL_forced_30yr_trend.isel(run=i).values.flatten(), \n",
    "        Obs_forced_30yr_trend['tas'].values.flatten())[0])\n",
    "\n",
    "OBS_trend_pattern_correlation_60yr = []\n",
    "for i in range(len(trend_annual_da['60yr'].run)):\n",
    "    OBS_trend_pattern_correlation_60yr.append(stats.pearsonr(IPSL_forced_60yr_trend.isel(run=i).values.flatten(), \n",
    "        Obs_forced_60yr_trend['tas'].values.flatten())[0])"
   ]
  },
  {
   "cell_type": "code",
   "execution_count": null,
   "metadata": {},
   "outputs": [],
   "source": [
    "OBS_trend_pattern_correlation_10yr"
   ]
  },
  {
   "cell_type": "code",
   "execution_count": null,
   "metadata": {},
   "outputs": [],
   "source": [
    "OBS_trend_pattern_correlation_30yr"
   ]
  },
  {
   "cell_type": "code",
   "execution_count": null,
   "metadata": {},
   "outputs": [],
   "source": [
    "# Save to a text file\n",
    "with open('obsForced_vs_IPSLforced_pattern_correlations.txt', 'w') as file:\n",
    "    file.write('10-year Trend Pattern Correlations:\\n')\n",
    "    for correlation in OBS_trend_pattern_correlation_10yr:\n",
    "        file.write(f\"{correlation}\\n\")\n",
    "\n",
    "    file.write('\\n30-year Trend Pattern Correlations:\\n')\n",
    "    for correlation in OBS_trend_pattern_correlation_30yr:\n",
    "        file.write(f\"{correlation}\\n\")\n",
    "\n",
    "    file.write('\\n60-year Trend Pattern Correlations:\\n')\n",
    "    for correlation in OBS_trend_pattern_correlation_60yr:\n",
    "        file.write(f\"{correlation}\\n\")"
   ]
  },
  {
   "cell_type": "code",
   "execution_count": null,
   "metadata": {},
   "outputs": [],
   "source": [
    "OBS_unforced_trend_pattern_correlation_10yr = []\n",
    "for i in range(len(trend_annual_da['10yr'].run)):\n",
    "    OBS_unforced_trend_pattern_correlation_10yr.append(stats.pearsonr(IPSL_unforced_10yr_trend.isel(run=i).values.flatten(), Obs_unforced_10yr_trend['tas'].values.flatten())[0])\n",
    "    \n",
    "OBS_unforced_trend_pattern_correlation_30yr = []\n",
    "for i in range(len(trend_annual_da['30yr'].run)):\n",
    "    OBS_unforced_trend_pattern_correlation_30yr.append(stats.pearsonr(IPSL_unforced_30yr_trend.isel(run=i).values.flatten(), Obs_unforced_30yr_trend['tas'].values.flatten())[0])\n",
    "    \n",
    "OBS_unforced_trend_pattern_correlation_60yr = []\n",
    "for i in range(len(trend_annual_da['60yr'].run)):\n",
    "    OBS_unforced_trend_pattern_correlation_60yr.append(stats.pearsonr(IPSL_unforced_60yr_trend.isel(run=i).values.flatten(), Obs_unforced_60yr_trend['tas'].values.flatten())[0])"
   ]
  },
  {
   "cell_type": "code",
   "execution_count": null,
   "metadata": {},
   "outputs": [],
   "source": [
    "OBS_unforced_trend_pattern_correlation_30yr"
   ]
  },
  {
   "cell_type": "code",
   "execution_count": null,
   "metadata": {},
   "outputs": [],
   "source": [
    "# Save to a text file\n",
    "with open('obs_MMEM_unforced_vs_IPSL_unforced_pattern_correlations.txt', 'w') as file:\n",
    "    file.write('10-year Trend Pattern Correlations:\\n')\n",
    "    for correlation in OBS_unforced_trend_pattern_correlation_10yr:\n",
    "        file.write(f\"{correlation}\\n\")\n",
    "\n",
    "    file.write('\\n30-year Trend Pattern Correlations:\\n')\n",
    "    for correlation in OBS_unforced_trend_pattern_correlation_30yr:\n",
    "        file.write(f\"{correlation}\\n\")\n",
    "\n",
    "    file.write('\\n60-year Trend Pattern Correlations:\\n')\n",
    "    for correlation in OBS_unforced_trend_pattern_correlation_60yr:\n",
    "        file.write(f\"{correlation}\\n\")"
   ]
  },
  {
   "cell_type": "code",
   "execution_count": null,
   "metadata": {},
   "outputs": [],
   "source": []
  }
 ],
 "metadata": {
  "kernelspec": {
   "display_name": "My Kernel",
   "language": "python",
   "name": "my-kernel"
  },
  "language_info": {
   "codemirror_mode": {
    "name": "ipython",
    "version": 3
   },
   "file_extension": ".py",
   "mimetype": "text/x-python",
   "name": "python",
   "nbconvert_exporter": "python",
   "pygments_lexer": "ipython3",
   "version": "3.9.16"
  }
 },
 "nbformat": 4,
 "nbformat_minor": 2
}
