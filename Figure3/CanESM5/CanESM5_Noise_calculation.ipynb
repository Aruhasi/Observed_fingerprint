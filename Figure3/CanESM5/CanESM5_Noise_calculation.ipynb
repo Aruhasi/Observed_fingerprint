{
 "cells": [
  {
   "cell_type": "markdown",
   "id": "16b9370f-6718-47da-a1a5-862f7f35f1ca",
   "metadata": {},
   "source": [
    "### Calculation of the ratio S/N"
   ]
  },
  {
   "cell_type": "code",
   "execution_count": null,
   "id": "89fc7789-c98b-4eb3-bd53-7b6a80515a0f",
   "metadata": {
    "tags": []
   },
   "outputs": [],
   "source": [
    "import numpy as np\n",
    "import xarray as xr\n",
    "import pandas as pd\n",
    "import matplotlib.pyplot as plt\n",
    "import cartopy.crs as ccrs\n",
    "import cartopy.feature as cfeature\n",
    "#In[2]:\n",
    "# define function\n",
    "import src.SAT_function as data_process\n",
    "import src.Data_Preprocess as preprosess"
   ]
  },
  {
   "cell_type": "code",
   "execution_count": null,
   "id": "47083f7a",
   "metadata": {},
   "outputs": [],
   "source": [
    "import src.slurm_cluster as scluster\n",
    "client, scluster = scluster.init_dask_slurm_cluster()"
   ]
  },
  {
   "cell_type": "markdown",
   "id": "696e96fa",
   "metadata": {},
   "source": [
    "### Input both the forced and ICV_std trend data "
   ]
  },
  {
   "cell_type": "code",
   "execution_count": null,
   "id": "d0588375",
   "metadata": {},
   "outputs": [],
   "source": [
    "# dir_in= '/work/mh0033/m301036/Land_surf_temp/Disentangling_OBS_SAT_trend/LE_evaluation/Fig3_CanESM5/output/'\n",
    "\n",
    "# CanESM5_forced_ds = xr.open_mfdataset(dir_in + 'CanESM5_forced_segmented_trend.nc')\n",
    "# print(CanESM5_forced_ds)"
   ]
  },
  {
   "cell_type": "code",
   "execution_count": null,
   "id": "eddcda02",
   "metadata": {},
   "outputs": [],
   "source": [
    "dir_ICV = '/work/mh0033/m301036/Land_surf_temp/Disentangling_OBS_SAT_trend/LE_evaluation/Fig3_CanESM5/output/'\n",
    "# Input multiple runs ICV into one dataset with new variable dimension 'run'\n",
    "variable_indices = np.arange(0, 50, 1).astype(str)\n",
    "segment_lengths = np.arange(10, 74, 1).astype(str)\n",
    "\n",
    "# Directory containing input files\n",
    "dir_ICV = '/work/mh0033/m301036/Land_surf_temp/Disentangling_OBS_SAT_trend/LE_evaluation/Fig3_CanESM5/output/'\n",
    "\n",
    "# Initialize an empty list to collect datasets\n",
    "datasets = []\n",
    "\n",
    "for var in variable_indices:\n",
    "    print(f\"Processing run {var}\")\n",
    "    file = dir_ICV + f'CanESM5_ICV_segments_1850_2022_run{var}_trend.nc'\n",
    "    \n",
    "    # Open the dataset for the current run\n",
    "    try:\n",
    "        ds = xr.open_mfdataset(file, engine=\"netcdf4\",combine='by_coords')\n",
    "    except FileNotFoundError:\n",
    "        print(f\"File not found: {file}\")\n",
    "        continue\n",
    "    \n",
    "    # Expand dimensions to add a `run` dimension\n",
    "    ds = ds.expand_dims(run=[int(var)])\n",
    "    datasets.append(ds)\n",
    "\n",
    "# Combine all datasets along the `run` dimension\n",
    "if datasets:\n",
    "    CanESM5_ICV_ds = xr.concat(datasets, dim=\"run\")\n",
    "    # change the run dimension range from 0-49 to 1-50\n",
    "    CanESM5_ICV_ds['run'] = np.arange(1, 51, 1)\n",
    "    print(\"Datasets successfully combined!\")\n",
    "else:\n",
    "    print(\"No datasets were combined.\")"
   ]
  },
  {
   "cell_type": "code",
   "execution_count": null,
   "id": "1afdad49",
   "metadata": {},
   "outputs": [],
   "source": [
    "CanESM5_ICV_ds"
   ]
  },
  {
   "cell_type": "code",
   "execution_count": null,
   "id": "5315d5bd",
   "metadata": {},
   "outputs": [],
   "source": [
    "# # Save the combined dataset to a NetCDF file\n",
    "# output_file = dir_ICV + 'CanESM5_ICV_combined_1850_2022.nc'\n",
    "# CanESM5_ICV_ds.to_netcdf(output_file)\n",
    "# print(f\"Combined dataset saved to: {output_file}\")"
   ]
  },
  {
   "cell_type": "code",
   "execution_count": null,
   "id": "a8b342d3",
   "metadata": {},
   "outputs": [],
   "source": [
    "# calculate the standard deviation of the ICV\n",
    "# define function to calculate the standard deviation of the trend pattern of each interval of segments\n",
    "def std_trend_pattern(data):\n",
    "    \"\"\"\n",
    "    data: 3D array with dimensions [segment, lat, lon]\n",
    "    segment_number: number of segments\n",
    "    \"\"\"\n",
    "    \n",
    "    # Calculate the standard deviation of the trend pattern of each interval of segments\n",
    "    std_trend_pattern = np.nanstd(data, axis=0)\n",
    "    \n",
    "    return std_trend_pattern"
   ]
  },
  {
   "cell_type": "code",
   "execution_count": null,
   "id": "05de22c0",
   "metadata": {},
   "outputs": [],
   "source": [
    "# calculate standard deviation of the trend pattern of each interval of segments\n",
    "# apply_ufunc to apply the function to the dataset along the 'segment' dimension\n",
    "CanESM5_ICV_noise_ds = xr.Dataset()\n",
    "for segment in segment_lengths:\n",
    "    print(f\"Processing segment {segment}\")\n",
    "    CanESM5_ICV_noise_ds[f'std_trend_{segment}'] = xr.apply_ufunc(std_trend_pattern, \n",
    "        CanESM5_ICV_ds[f'trend_{segment}'].chunk({'run': -1}), \n",
    "        input_core_dims=[['segment', 'lat', 'lon']], \n",
    "        output_core_dims=[['lat', 'lon']], \n",
    "        vectorize=True, dask='parallelized', \n",
    "        output_dtypes=[float])"
   ]
  },
  {
   "cell_type": "code",
   "execution_count": null,
   "id": "7b8ec728",
   "metadata": {},
   "outputs": [],
   "source": [
    "# save the standard deviation of the trend pattern of each interval of segments to a NetCDF file\n",
    "output_file = dir_ICV + 'CanESM5_ICV_noise_std_trend_pattern_1850_2022.nc'\n",
    "CanESM5_ICV_noise_ds.to_netcdf(output_file)\n",
    "print(f\"Standard deviation of the trend pattern of each interval of segments saved to: {output_file}\")"
   ]
  },
  {
   "cell_type": "code",
   "execution_count": null,
   "id": "380dd365",
   "metadata": {},
   "outputs": [],
   "source": [
    "CanESM5_ICV_noise_ds"
   ]
  },
  {
   "cell_type": "markdown",
   "id": "fd1e078b",
   "metadata": {},
   "source": [
    "### "
   ]
  }
 ],
 "metadata": {
  "kernelspec": {
   "display_name": "mykernel",
   "language": "python",
   "name": "python3"
  },
  "language_info": {
   "codemirror_mode": {
    "name": "ipython",
    "version": 3
   },
   "file_extension": ".py",
   "mimetype": "text/x-python",
   "name": "python",
   "nbconvert_exporter": "python",
   "pygments_lexer": "ipython3",
   "version": "3.9.20"
  }
 },
 "nbformat": 4,
 "nbformat_minor": 5
}
