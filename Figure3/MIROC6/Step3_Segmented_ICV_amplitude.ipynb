{
 "cells": [
  {
   "cell_type": "code",
   "execution_count": null,
   "id": "89fc7789-c98b-4eb3-bd53-7b6a80515a0f",
   "metadata": {
    "tags": []
   },
   "outputs": [],
   "source": [
    "import numpy as np\n",
    "import xarray as xr\n",
    "import pandas as pd\n",
    "import matplotlib.pyplot as plt\n",
    "import cartopy.crs as ccrs\n",
    "import cartopy.feature as cfeature"
   ]
  },
  {
   "cell_type": "code",
   "execution_count": null,
   "id": "4a8116bf",
   "metadata": {},
   "outputs": [],
   "source": [
    "#In[2]:\n",
    "# define function\n",
    "import src.SAT_function as data_process\n",
    "import src.Data_Preprocess as preprosess"
   ]
  },
  {
   "cell_type": "code",
   "execution_count": null,
   "id": "9c157868",
   "metadata": {},
   "outputs": [],
   "source": [
    "import src.slurm_cluster as scluster\n",
    "client, scluster = scluster.init_dask_slurm_cluster(walltime=\"02:00:00\")"
   ]
  },
  {
   "cell_type": "code",
   "execution_count": null,
   "id": "5952639e",
   "metadata": {},
   "outputs": [],
   "source": [
    "def func_mk(x):\n",
    "    \"\"\"\n",
    "    Mann-Kendall test for trend\n",
    "    \"\"\"\n",
    "    results = data_process.apply_mannkendall(x)\n",
    "    slope = results[0]\n",
    "    p_val = results[1]\n",
    "    return slope, p_val"
   ]
  },
  {
   "cell_type": "code",
   "execution_count": null,
   "id": "f0132846-56e9-4a2e-8fd3-02271dfb086b",
   "metadata": {
    "tags": []
   },
   "outputs": [],
   "source": [
    "# Input the MMEM of SAT-OBS internal variability\n",
    "dir_residuals = '/work/mh0033/m301036/Land_surf_temp/Disentangling_OBS_SAT_trend/Figure2/MIROC6/'\n",
    "ds_MIROC6_1850_2022 = xr.open_mfdataset(dir_residuals + 'GSAT_MIROC6_Internal_Variability_anomalies_1850_2022.nc',chunks={'run':1})"
   ]
  },
  {
   "cell_type": "code",
   "execution_count": null,
   "id": "75f10e23",
   "metadata": {},
   "outputs": [],
   "source": [
    "ds_MIROC6_1850_2022"
   ]
  },
  {
   "cell_type": "code",
   "execution_count": null,
   "id": "ccd5edcf",
   "metadata": {},
   "outputs": [],
   "source": [
    "# ds_MIROC6_1850_2022 = ds_MIROC6_1850_2022.rename({'__xarray_dataarray_variable__': 'tas'})"
   ]
  },
  {
   "cell_type": "code",
   "execution_count": null,
   "id": "6b28f988-f36c-473d-abe9-86bac086e3d4",
   "metadata": {
    "tags": []
   },
   "outputs": [],
   "source": [
    "# Generate the running windows of the residuals of SAT-OBS\n",
    "#       with a series of equal length with an interval of 5 years starting from 10 years to 100 years\n",
    "#       and calculate the trend pattern of each segment\n",
    "#       and calculate the ensemble standard deviation of the trend pattern of each interval of segments\n",
    "\n",
    "# define the function to generate the running windows of the residuals of SAT-OBS\n",
    "def generate_segments(data, segment_length):\n",
    "    \"\"\"\n",
    "    data: 3D array with dimensions [year, lat, lon]\n",
    "    segment_length: length of each segment in years\n",
    "    \"\"\"\n",
    "    years = range(int(data['year'].min().item()), int(data['year'].max().item()) - segment_length + 2)\n",
    "    print(years)\n",
    "    # Initialize an empty list to store the segments\n",
    "    segments = []\n",
    "    \n",
    "    # For each year in the range\n",
    "    for year in years:\n",
    "        # Extract the segment of data from that year to year + segment_length\n",
    "        segment = data.sel(year=slice(str(year), str(year + segment_length - 1)))\n",
    "        \n",
    "        # Append this segment to the list of segments\n",
    "        segments.append(segment)\n",
    "    \n",
    "    return segments"
   ]
  },
  {
   "cell_type": "code",
   "execution_count": null,
   "id": "9e56ac88-a9d9-49f7-b765-4660083b0068",
   "metadata": {
    "tags": []
   },
   "outputs": [],
   "source": [
    "# Generate the running windows of the residuals of SAT-OBS\n",
    "time_interval = [60]\n",
    "\n",
    "ICV_segments = {}\n",
    "for i in time_interval:\n",
    "    ICV_segments[i] = generate_segments(ds_MIROC6_1850_2022['tas'], segment_length=i)"
   ]
  },
  {
   "cell_type": "code",
   "execution_count": null,
   "id": "0d22750e-d773-4fd6-a799-a534eece1065",
   "metadata": {
    "tags": []
   },
   "outputs": [],
   "source": [
    "# Assuming ICV_segments is a dictionary with segment_length as keys and list of DataArray segments as values\n",
    "max_num_segments = max(len(segments) for segments in ICV_segments.values())\n",
    "segment_lengths = ICV_segments.keys()\n",
    "\n",
    "# Create a new Dataset to hold the new arrays\n",
    "new_ds = xr.Dataset()\n",
    "\n",
    "for segment_length in segment_lengths:\n",
    "    segments_list = ICV_segments[segment_length]\n",
    "    # print(segments_list)\n",
    "    \n",
    "    # Pad the segments list to have the same number of segments\n",
    "    padded_segments = segments_list.copy()\n",
    "    while len(padded_segments) < max_num_segments:\n",
    "        # Create a DataArray filled with NaNs to match the shape of the segments\n",
    "        nan_segment = xr.full_like(padded_segments[0], np.nan)\n",
    "        padded_segments.append(nan_segment)\n",
    "    \n",
    "    # Create a coordinate for the new segment dimension\n",
    "    segment_coord = range(max_num_segments)\n",
    "    \n",
    "    # Concatenate the padded segments with the new segment coordinate\n",
    "    concatenated = xr.concat(padded_segments, dim=segment_coord)\n",
    "    \n",
    "    # Assign a specific name to the new dimension\n",
    "    concatenated = concatenated.rename({'concat_dim': 'segment'})\n",
    "    \n",
    "    # Add the new DataArray to the new dataset\n",
    "    new_ds[f'ICV_segments_{segment_length}yr'] = concatenated"
   ]
  },
  {
   "cell_type": "code",
   "execution_count": null,
   "id": "d2d49180",
   "metadata": {},
   "outputs": [],
   "source": [
    "new_ds"
   ]
  },
  {
   "cell_type": "code",
   "execution_count": null,
   "id": "18796a6c",
   "metadata": {},
   "outputs": [],
   "source": [
    "ds_combined = xr.merge([ds_MIROC6_1850_2022, new_ds])"
   ]
  },
  {
   "cell_type": "code",
   "execution_count": null,
   "id": "e1dea401",
   "metadata": {},
   "outputs": [],
   "source": [
    "ds_combined"
   ]
  },
  {
   "cell_type": "code",
   "execution_count": null,
   "id": "13adaa4a",
   "metadata": {
    "tags": []
   },
   "outputs": [],
   "source": [
    "# check the minimum and maximum of the new variable\n",
    "# ds_combined['ICV_segments_30yr'].min().values, ds_combined['ICV_segments_30yr'].max().values"
   ]
  },
  {
   "cell_type": "code",
   "execution_count": null,
   "id": "361778be",
   "metadata": {
    "tags": []
   },
   "outputs": [],
   "source": [
    "# define function to calculate the standard deviation of the trend pattern of each interval of segments\n",
    "def std_trend_pattern(data):\n",
    "    \"\"\"\n",
    "    data: 4D array with dimensions [year, lat, lon, segment]\n",
    "    segment_length: length of each segment in years\n",
    "    \"\"\"\n",
    "    # calculate the standard deviation of the trend pattern of each interval of segments\n",
    "    std_trend_pattern = np.nanstd(data, axis=0)\n",
    "    \n",
    "    return std_trend_pattern"
   ]
  },
  {
   "cell_type": "code",
   "execution_count": null,
   "id": "848c5bdd-f1b9-4aee-8f3b-b886c6e472c1",
   "metadata": {
    "tags": []
   },
   "outputs": [],
   "source": [
    "# Calculate the trend pattern of each segment\n",
    "#       and calculate the ensemble standard deviation of the trend pattern of each interval of segments\n",
    "for segment_length in segment_lengths:\n",
    "    # Calculate the trend pattern of each segment\n",
    "    ds_combined[f'ICV_segments_{segment_length}yr_trend'], ds_combined[f'ICV_segments_{segment_length}yr_p_values'] = xr.apply_ufunc(\n",
    "        func_mk,\n",
    "        ds_combined[f'ICV_segments_{segment_length}yr'],\n",
    "        input_core_dims=[['year']],\n",
    "        output_core_dims=[[],[]],\n",
    "        vectorize=True,\n",
    "        dask='parallelized',\n",
    "        output_dtypes=[float, float]\n",
    "    )\n",
    "    # multiply the trend pattern of each segment with 10.0 to get the trend pattern in degC/decade\n",
    "    ds_combined[f'ICV_segments_{segment_length}yr_trend'] = ds_combined[f'ICV_segments_{segment_length}yr_trend']*10.0"
   ]
  },
  {
   "cell_type": "code",
   "execution_count": null,
   "id": "6df7c2b0",
   "metadata": {
    "tags": []
   },
   "outputs": [],
   "source": [
    "for segment_length in segment_lengths:\n",
    "    # Calculate the standard deviation of the trend pattern of each interval of segments\n",
    "    ds_combined[f'ICV_segments_{segment_length}yr_std_trend_pattern'] = xr.apply_ufunc(\n",
    "        std_trend_pattern,\n",
    "        ds_combined[f'ICV_segments_{segment_length}yr_trend'],\n",
    "        input_core_dims=[['segment']],\n",
    "        output_core_dims=[[ ]],\n",
    "        vectorize=True,\n",
    "        dask='parallelized',\n",
    "        output_dtypes=[float],\n",
    "        dask_gufunc_kwargs={'allow_rechunk': True}\n",
    "    )"
   ]
  },
  {
   "cell_type": "code",
   "execution_count": null,
   "id": "a580cd05",
   "metadata": {
    "tags": []
   },
   "outputs": [],
   "source": [
    "ds_combined"
   ]
  },
  {
   "cell_type": "code",
   "execution_count": null,
   "id": "4dcd9ded",
   "metadata": {},
   "outputs": [],
   "source": [
    "# calculate the ensemble mean of the trend pattern of each interval of segments;\n",
    "#     and save the ensemble mean of the trend pattern of each interval of segments to the dataset\n",
    "# for segment_length in segment_lengths:\n",
    "#     key_trend = f'ICV_segments_{segment_length}yr_trend'\n",
    "#     key_mean = f'ICV_segments_{segment_length}yr_trend_mean'\n",
    "\n",
    "#     if key_trend in ds_combined:\n",
    "#         # Calculate mean\n",
    "#         data = np.nanmean(ds_combined[key_trend], axis=0)\n",
    "        \n",
    "#         # Check if the mean key exists, if not, initialize it\n",
    "#         if key_mean not in ds_combined:\n",
    "#             ds_combined[key_mean] = []\n",
    "\n",
    "#         # Append data\n",
    "#         ds_combined[key_mean]= (['lat', 'lon'], data)"
   ]
  },
  {
   "cell_type": "code",
   "execution_count": null,
   "id": "018d9892",
   "metadata": {},
   "outputs": [],
   "source": [
    "ds_output = '/work/mh0033/m301036/Land_surf_temp/Disentangling_OBS_SAT_trend/Figure2/MIROC6/'\n",
    "# ds_combined['ICV_segments_10yr_std_trend_pattern'].to_netcdf(ds_output + 'ICV_segments_10yr_std_trend_pattern.nc')\n",
    "# ds_combined['ICV_segments_30yr_std_trend_pattern'].to_netcdf(ds_output + 'ICV_segments_30yr_std_trend_pattern.nc')\n",
    "ds_combined['ICV_segments_60yr_std_trend_pattern'].to_netcdf(ds_output + 'ICV_segments_60yr_std_trend_pattern.nc')"
   ]
  },
  {
   "cell_type": "code",
   "execution_count": null,
   "id": "c17e252a",
   "metadata": {},
   "outputs": [],
   "source": []
  }
 ],
 "metadata": {
  "kernelspec": {
   "display_name": "My Kernel",
   "language": "python",
   "name": "my-kernel"
  },
  "language_info": {
   "codemirror_mode": {
    "name": "ipython",
    "version": 3
   },
   "file_extension": ".py",
   "mimetype": "text/x-python",
   "name": "python",
   "nbconvert_exporter": "python",
   "pygments_lexer": "ipython3",
   "version": "3.9.-1"
  }
 },
 "nbformat": 4,
 "nbformat_minor": 5
}
