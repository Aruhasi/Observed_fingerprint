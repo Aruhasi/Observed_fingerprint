{
 "cells": [
  {
   "cell_type": "code",
   "execution_count": null,
   "metadata": {},
   "outputs": [],
   "source": [
    "# In[1]:\n",
    "import numpy as np\n",
    "import xarray as xr\n",
    "import pandas as pd\n",
    "import matplotlib.pyplot as plt\n",
    "import cartopy.crs as ccrs\n",
    "import cartopy.feature as cfeature\n",
    "# %%\n",
    "# define function\n",
    "import src.SAT_function as data_process\n",
    "import src.Data_Preprocess as preprocess"
   ]
  },
  {
   "cell_type": "code",
   "execution_count": null,
   "metadata": {},
   "outputs": [],
   "source": [
    "import src.slurm_cluster as scluster\n",
    "client, scluster = scluster.init_dask_slurm_cluster()"
   ]
  },
  {
   "cell_type": "code",
   "execution_count": null,
   "metadata": {},
   "outputs": [],
   "source": [
    "dir1 ='./Figure3/ACCESS/'\n",
    "ACCESS_forced = xr.open_dataset(dir1 + 'GSAT_ACCESS_Forced_anomalies_1850_2022.nc')\n",
    "ACCESS_internal = xr.open_dataset(dir1 + 'GSAT_ACCESS_Internal_Variability_anomalies_1850_2022.nc')"
   ]
  },
  {
   "cell_type": "code",
   "execution_count": null,
   "metadata": {},
   "outputs": [],
   "source": [
    "ACCESS_forced"
   ]
  },
  {
   "cell_type": "code",
   "execution_count": null,
   "metadata": {},
   "outputs": [],
   "source": [
    "ACCESS_internal"
   ]
  },
  {
   "cell_type": "markdown",
   "metadata": {},
   "source": [
    "### Calculate the trend in 10, 30, 60yr"
   ]
  },
  {
   "cell_type": "code",
   "execution_count": null,
   "metadata": {},
   "outputs": [],
   "source": [
    "variable_name = ['10yr', '30yr', '60yr']\n",
    "# define the function\n",
    "def separate_data_into_intervals(data, start_year, end_year, time_interval):\n",
    "    \"\"\"\n",
    "    This function is used to separate the data into different time intervals\n",
    "    \"\"\"\n",
    "    # create a dictionary to store the data\n",
    "    data_dict = {}\n",
    "    for i in range(len(variable_name)):\n",
    "        # calculate the start year and end year\n",
    "        start_year = time_interval[variable_name[i]][0]\n",
    "        end_year = time_interval[variable_name[i]][1]\n",
    "        # select the data\n",
    "        data_dict[variable_name[i]] = data.sel(year=slice(str(start_year), str(end_year)))\n",
    "    return data_dict"
   ]
  },
  {
   "cell_type": "code",
   "execution_count": null,
   "metadata": {},
   "outputs": [],
   "source": [
    "time_interval = {\n",
    "    \"10yr\":(2013,2022),\n",
    "    \"30yr\":(1993,2022),\n",
    "    \"60yr\":(1963,2022)\n",
    "}\n",
    "start_year = 1950\n",
    "end_year   = 2022"
   ]
  },
  {
   "cell_type": "code",
   "execution_count": null,
   "metadata": {},
   "outputs": [],
   "source": [
    "ACCESS_forced_data_dict = separate_data_into_intervals(ACCESS_forced, start_year, end_year, time_interval)\n",
    "ACCESS_unforced_data_dict = separate_data_into_intervals(ACCESS_internal, start_year, end_year, time_interval)"
   ]
  },
  {
   "cell_type": "code",
   "execution_count": null,
   "metadata": {},
   "outputs": [],
   "source": [
    "ACCESS_forced_data_dict"
   ]
  },
  {
   "cell_type": "code",
   "execution_count": null,
   "metadata": {},
   "outputs": [],
   "source": [
    "ACCESS_forced_data_dict['10yr'].tas[1,:,:,:]\n"
   ]
  },
  {
   "cell_type": "code",
   "execution_count": null,
   "metadata": {},
   "outputs": [],
   "source": [
    "# Calculate the trend and p-value for each time interval of each realization\n",
    "trend_dict = {}\n",
    "pvalue_dict = {}\n",
    "\n",
    "for i in range(len(variable_name)):\n",
    "    data_var = ACCESS_forced_data_dict[variable_name[i]]['tas']\n",
    "    print(data_var)\n",
    "    \n",
    "    slope, p_values = xr.apply_ufunc(\n",
    "        func_mk,\n",
    "        data_var,\n",
    "        input_core_dims=[[\"year\"]],\n",
    "        output_core_dims=[[], []],\n",
    "        vectorize=True,\n",
    "        dask=\"parallelized\",\n",
    "        output_dtypes=[float, float],\n",
    "        dask_gufunc_kwargs={'allow_rechunk': True}\n",
    "    )\n",
    "    trend_dict[variable_name[i]] = slope\n",
    "    pvalue_dict[variable_name[i]] = p_values"
   ]
  },
  {
   "cell_type": "code",
   "execution_count": null,
   "metadata": {},
   "outputs": [],
   "source": [
    "trend_dict['10yr'][0,:,:]"
   ]
  },
  {
   "cell_type": "code",
   "execution_count": null,
   "metadata": {},
   "outputs": [],
   "source": [
    "trend_dict['10yr'][1,:,:]"
   ]
  },
  {
   "cell_type": "code",
   "execution_count": null,
   "metadata": {},
   "outputs": [],
   "source": [
    "trend_dict['30yr'][1,:,:]"
   ]
  },
  {
   "cell_type": "code",
   "execution_count": null,
   "metadata": {},
   "outputs": [],
   "source": [
    "trend_annual_np = {}\n",
    "pvalue_annual_np = {}\n",
    "\n",
    "for i in range(len(variable_name)):\n",
    "    trend_annual_np[variable_name[i]] = trend_dict[variable_name[i]].values\n",
    "    pvalue_annual_np[variable_name[i]] = pvalue_dict[variable_name[i]].values\n",
    "    \n",
    "trend_annual_np['10yr']"
   ]
  },
  {
   "cell_type": "code",
   "execution_count": null,
   "metadata": {},
   "outputs": [],
   "source": [
    "trend_annual_da = {}\n",
    "pvalue_annual_da = {}\n",
    "\n",
    "for interval, data in trend_annual_np.items():\n",
    "    trend_annual_da[interval] = xr.DataArray(data, dims=[\"run\",\"lat\", \"lon\"], coords={\"run\": ACCESS_forced_data_dict[interval].run, \n",
    "    \"lat\": ACCESS_forced_data_dict[interval].lat, \"lon\": ACCESS_forced_data_dict[interval].lon})\n",
    "for interval, data in pvalue_annual_np.items():\n",
    "    pvalue_annual_da[interval] = xr.DataArray(data, dims=[\"run\",\"lat\", \"lon\"], coords={\"run\": ACCESS_forced_data_dict[interval].run, \n",
    "    \"lat\": ACCESS_forced_data_dict[interval].lat, \"lon\": ACCESS_forced_data_dict[interval].lon})"
   ]
  },
  {
   "cell_type": "code",
   "execution_count": null,
   "metadata": {},
   "outputs": [],
   "source": [
    "# out put the forced trend and pvalue\n",
    "dir_out ='./Figure3/ACCESS/trend/'\n",
    "\n",
    "for interval, data in trend_annual_da.items():\n",
    "    print(interval)\n",
    "    print(data.values)\n",
    "    data.to_netcdf(dir_out + 'ACCESS_forced_' + interval + '_trend.nc')\n",
    "# for interval, data in pvalue_annual_da.items():\n",
    "#     data.to_netcdf(dir_out + 'ACCESS_forced_' + interval + '_pvalue.nc')"
   ]
  },
  {
   "cell_type": "markdown",
   "metadata": {},
   "source": [
    "### Calculated the unforced trend of each realization"
   ]
  },
  {
   "cell_type": "code",
   "execution_count": null,
   "metadata": {},
   "outputs": [],
   "source": [
    "unforced_trend_dict = {}\n",
    "unforced_pvalue_dict = {}\n",
    "\n",
    "for i in range(len(variable_name)):\n",
    "    data_var = ACCESS_unforced_data_dict[variable_name[i]]['tas']\n",
    "    \n",
    "    slope, p_values = xr.apply_ufunc(\n",
    "        func_mk,\n",
    "        data_var,\n",
    "        input_core_dims=[[\"year\"]],\n",
    "        output_core_dims=[[], []],\n",
    "        vectorize=True,\n",
    "        dask=\"parallelized\",\n",
    "        output_dtypes=[float, float],\n",
    "        dask_gufunc_kwargs={'allow_rechunk': True}\n",
    "    )\n",
    "    unforced_trend_dict[variable_name[i]] = slope\n",
    "    unforced_pvalue_dict[variable_name[i]] = p_values"
   ]
  },
  {
   "cell_type": "code",
   "execution_count": null,
   "metadata": {},
   "outputs": [],
   "source": [
    "unforced_trend_np = {}\n",
    "unforced_pvalue_np = {}\n",
    "\n",
    "for i in range(len(variable_name)):\n",
    "    unforced_trend_np[variable_name[i]] = unforced_trend_dict[variable_name[i]].values\n",
    "    unforced_pvalue_np[variable_name[i]] = unforced_pvalue_dict[variable_name[i]].values\n",
    "\n",
    "unforced_trend_da = {}\n",
    "unforced_pvalue_da = {}\n",
    "\n",
    "for interval, data in unforced_trend_np.items():\n",
    "    unforced_trend_da[interval] = xr.DataArray(data, dims=[\"run\",\"lat\", \"lon\"], coords={\"run\": ACCESS_unforced_data_dict[interval].run, \n",
    "    \"lat\": ACCESS_unforced_data_dict[interval].lat, \"lon\": ACCESS_unforced_data_dict[interval].lon})\n",
    "for interval, data in unforced_pvalue_np.items():\n",
    "    unforced_pvalue_da[interval] = xr.DataArray(data, dims=[\"run\",\"lat\", \"lon\"], coords={\"run\": ACCESS_unforced_data_dict[interval].run, \n",
    "    \"lat\": ACCESS_unforced_data_dict[interval].lat, \"lon\": ACCESS_unforced_data_dict[interval].lon})\n"
   ]
  },
  {
   "cell_type": "code",
   "execution_count": null,
   "metadata": {},
   "outputs": [],
   "source": [
    "unforced_trend_da"
   ]
  },
  {
   "cell_type": "code",
   "execution_count": null,
   "metadata": {},
   "outputs": [],
   "source": [
    "for interval, data in unforced_trend_da.items():\n",
    "    data.to_netcdf(dir_out + 'ACCESS_unforced_' + interval + '_trend.nc')\n",
    "for interval, data in unforced_pvalue_da.items():\n",
    "    data.to_netcdf(dir_out + 'ACCESS_unforced_' + interval + '_pvalue.nc')"
   ]
  },
  {
   "cell_type": "code",
   "execution_count": null,
   "metadata": {},
   "outputs": [],
   "source": [
    "unforced_trend_da"
   ]
  },
  {
   "cell_type": "code",
   "execution_count": null,
   "metadata": {},
   "outputs": [],
   "source": [
    "ACCESS_unforced_10yr_trend = unforced_trend_da['10yr']\n",
    "ACCESS_unforced_30yr_trend = unforced_trend_da['30yr']\n",
    "ACCESS_unforced_60yr_trend = unforced_trend_da['60yr']"
   ]
  },
  {
   "cell_type": "code",
   "execution_count": null,
   "metadata": {},
   "outputs": [],
   "source": [
    "# Input the observational forced and unforced trend wrt. ACCESS-CM6A-LR\n",
    "dir_obs_ACCESS = '/work/mh0033/m301036/Land_surf_temp/analyses_1850_2100/Manuscript_visual_schematic/Disentangling_trend_analysis/Figure2/data/'\n",
    "\n",
    "Obs_ACCESS_forced_10yr_trend = xr.open_dataset(dir_obs_ACCESS + 'HadCRUT5_annual_forced_10yr_trend_ACCESS.nc')\n",
    "Obs_ACCESS_forced_30yr_trend = xr.open_dataset(dir_obs_ACCESS + 'HadCRUT5_annual_forced_30yr_trend_ACCESS.nc')\n",
    "Obs_ACCESS_forced_60yr_trend = xr.open_dataset(dir_obs_ACCESS + 'HadCRUT5_annual_forced_60yr_trend_ACCESS.nc')\n",
    "\n",
    "Obs_ACCESS_unforced_10yr_trend = xr.open_dataset(dir_obs_ACCESS + 'HadCRUT5_annual_internal_10yr_trend_ACCESS.nc')\n",
    "Obs_ACCESS_unforced_30yr_trend = xr.open_dataset(dir_obs_ACCESS + 'HadCRUT5_annual_internal_30yr_trend_ACCESS.nc')\n",
    "Obs_ACCESS_unforced_60yr_trend = xr.open_dataset(dir_obs_ACCESS + 'HadCRUT5_annual_internal_60yr_trend_ACCESS.nc')"
   ]
  },
  {
   "cell_type": "code",
   "execution_count": null,
   "metadata": {},
   "outputs": [],
   "source": [
    "import scipy.stats as stats\n",
    "\n",
    "OBS_unforced_trend_pattern_correlation_10yr = []\n",
    "for i in range(len(unforced_trend_da['10yr'].run)):\n",
    "    OBS_unforced_trend_pattern_correlation_10yr.append(stats.pearsonr(ACCESS_unforced_10yr_trend.isel(run=i).values.flatten(), Obs_ACCESS_unforced_10yr_trend['tas'].values.flatten())[0])\n",
    "    \n",
    "OBS_unforced_trend_pattern_correlation_30yr = []\n",
    "for i in range(len(unforced_trend_da['30yr'].run)):\n",
    "    OBS_unforced_trend_pattern_correlation_30yr.append(stats.pearsonr(ACCESS_unforced_30yr_trend.isel(run=i).values.flatten(), Obs_ACCESS_unforced_30yr_trend['tas'].values.flatten())[0])\n",
    "    \n",
    "OBS_unforced_trend_pattern_correlation_60yr = []\n",
    "for i in range(len(unforced_trend_da['60yr'].run)):\n",
    "    OBS_unforced_trend_pattern_correlation_60yr.append(stats.pearsonr(ACCESS_unforced_60yr_trend.isel(run=i).values.flatten(), Obs_ACCESS_unforced_60yr_trend['tas'].values.flatten())[0])"
   ]
  },
  {
   "cell_type": "code",
   "execution_count": null,
   "metadata": {},
   "outputs": [],
   "source": [
    "# Save to a text file\n",
    "with open('obsUnforced_ACCESSunforced_pattern_correlations.txt', 'w') as file:\n",
    "    file.write('10-year Trend Pattern Correlations:\\n')\n",
    "    for correlation in OBS_unforced_trend_pattern_correlation_10yr:\n",
    "        file.write(f\"{correlation}\\n\")\n",
    "\n",
    "    file.write('\\n30-year Trend Pattern Correlations:\\n')\n",
    "    for correlation in OBS_unforced_trend_pattern_correlation_30yr:\n",
    "        file.write(f\"{correlation}\\n\")\n",
    "\n",
    "    file.write('\\n60-year Trend Pattern Correlations:\\n')\n",
    "    for correlation in OBS_unforced_trend_pattern_correlation_60yr:\n",
    "        file.write(f\"{correlation}\\n\")"
   ]
  },
  {
   "cell_type": "code",
   "execution_count": null,
   "metadata": {},
   "outputs": [],
   "source": [
    "OBS_unforced_trend_pattern_correlation_10yr"
   ]
  },
  {
   "cell_type": "code",
   "execution_count": null,
   "metadata": {},
   "outputs": [],
   "source": [
    "client.close()\n",
    "scluster.close()"
   ]
  },
  {
   "cell_type": "code",
   "execution_count": null,
   "metadata": {},
   "outputs": [],
   "source": []
  }
 ],
 "metadata": {
  "kernelspec": {
   "display_name": "My Kernel",
   "language": "python",
   "name": "my-kernel"
  },
  "language_info": {
   "codemirror_mode": {
    "name": "ipython",
    "version": 3
   },
   "file_extension": ".py",
   "mimetype": "text/x-python",
   "name": "python",
   "nbconvert_exporter": "python",
   "pygments_lexer": "ipython3",
   "version": "3.9.16"
  }
 },
 "nbformat": 4,
 "nbformat_minor": 2
}
