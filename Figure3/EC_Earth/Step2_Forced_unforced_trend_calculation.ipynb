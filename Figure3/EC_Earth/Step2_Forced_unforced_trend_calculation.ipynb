{
 "cells": [
  {
   "cell_type": "code",
   "execution_count": null,
   "metadata": {},
   "outputs": [],
   "source": [
    "# In[1]:\n",
    "import numpy as np\n",
    "import xarray as xr\n",
    "import pandas as pd\n",
    "import matplotlib.pyplot as plt\n",
    "import cartopy.crs as ccrs\n",
    "import cartopy.feature as cfeature\n",
    "# %%\n",
    "# define function\n",
    "import src.SAT_function as data_process\n",
    "import src.Data_Preprocess as preprocess"
   ]
  },
  {
   "cell_type": "code",
   "execution_count": null,
   "metadata": {},
   "outputs": [],
   "source": [
    "import src.slurm_cluster as scluster\n",
    "client, scluster = scluster.init_dask_slurm_cluster()"
   ]
  },
  {
   "cell_type": "code",
   "execution_count": null,
   "metadata": {},
   "outputs": [],
   "source": [
    "def func_mk(x):\n",
    "    \"\"\"\n",
    "    Mann-Kendall test for trend\n",
    "    \"\"\"\n",
    "    results = data_process.mk_test(x)\n",
    "    slope = results[0]\n",
    "    p_val = results[1]\n",
    "    return slope, p_val"
   ]
  },
  {
   "cell_type": "code",
   "execution_count": null,
   "metadata": {},
   "outputs": [],
   "source": [
    "dir1 ='./Validation/EC_Earth/'\n",
    "# EC_Earth_forced = xr.open_dataset(dir1 + 'GSAT_EC_Earth_Forced_anomalies_1850_2022.nc')\n",
    "EC_Earth_internal = xr.open_dataset(dir1 + 'GSAT_EC_Earth_Internal_Variability_anomalies_1850_2022.nc')"
   ]
  },
  {
   "cell_type": "markdown",
   "metadata": {},
   "source": [
    "### Calculate the trend in 10, 30, 60yr"
   ]
  },
  {
   "cell_type": "code",
   "execution_count": null,
   "metadata": {},
   "outputs": [],
   "source": [
    "variable_name = ['10yr', '30yr', '60yr']\n",
    "# define the function\n",
    "def separate_data_into_intervals(data, start_year, end_year, time_interval):\n",
    "    \"\"\"\n",
    "    This function is used to separate the data into different time intervals\n",
    "    \"\"\"\n",
    "    # create a dictionary to store the data\n",
    "    data_dict = {}\n",
    "    for i in range(len(variable_name)):\n",
    "        # calculate the start year and end year\n",
    "        start_year = time_interval[variable_name[i]][0]\n",
    "        end_year = time_interval[variable_name[i]][1]\n",
    "        # select the data\n",
    "        data_dict[variable_name[i]] = data.sel(year=slice(str(start_year), str(end_year)))\n",
    "    return data_dict"
   ]
  },
  {
   "cell_type": "code",
   "execution_count": null,
   "metadata": {},
   "outputs": [],
   "source": [
    "time_interval = {\n",
    "    \"10yr\":(2013,2022),\n",
    "    \"30yr\":(1993,2022),\n",
    "    \"60yr\":(1963,2022)\n",
    "}\n",
    "start_year = 1950\n",
    "end_year   = 2022"
   ]
  },
  {
   "cell_type": "code",
   "execution_count": null,
   "metadata": {},
   "outputs": [],
   "source": [
    "EC_Earth_unforced_data_dict = separate_data_into_intervals(EC_Earth_internal, start_year, end_year, time_interval)"
   ]
  },
  {
   "cell_type": "code",
   "execution_count": null,
   "metadata": {},
   "outputs": [],
   "source": [
    "EC_Earth_unforced_data_dict"
   ]
  },
  {
   "cell_type": "code",
   "execution_count": null,
   "metadata": {},
   "outputs": [],
   "source": [
    "# Calculate the trend and p-value for each time interval of each realization\n",
    "trend_dict = {}\n",
    "pvalue_dict = {}\n",
    "\n",
    "for i in range(len(variable_name)):\n",
    "    data_var = EC_Earth_unforced_data_dict[variable_name[i]]['tas']\n",
    "    \n",
    "    slope, p_values = xr.apply_ufunc(\n",
    "        func_mk,\n",
    "        data_var,\n",
    "        input_core_dims=[[\"year\"]],\n",
    "        output_core_dims=[[], []],\n",
    "        vectorize=True,\n",
    "        dask=\"parallelized\",\n",
    "        output_dtypes=[float, float],\n",
    "        dask_gufunc_kwargs={'allow_rechunk': True}\n",
    "    )\n",
    "    trend_dict[variable_name[i]] = slope\n",
    "    pvalue_dict[variable_name[i]] = p_values"
   ]
  },
  {
   "cell_type": "code",
   "execution_count": null,
   "metadata": {},
   "outputs": [],
   "source": [
    "trend_dict"
   ]
  },
  {
   "cell_type": "code",
   "execution_count": null,
   "metadata": {},
   "outputs": [],
   "source": [
    "trend_annual_np = {}\n",
    "pvalue_annual_np = {}\n",
    "\n",
    "for i in range(len(variable_name)):\n",
    "    trend_annual_np[variable_name[i]] = trend_dict[variable_name[i]].values\n",
    "    pvalue_annual_np[variable_name[i]] = pvalue_dict[variable_name[i]].values\n",
    "    \n",
    "trend_annual_np['10yr']"
   ]
  },
  {
   "cell_type": "code",
   "execution_count": null,
   "metadata": {},
   "outputs": [],
   "source": [
    "trend_annual_da = {}\n",
    "pvalue_annual_da = {}\n",
    "\n",
    "for interval, data in trend_annual_np.items():\n",
    "    trend_annual_da[interval] = xr.DataArray(data, dims=[\"run\",\"lat\", \"lon\"], coords={\"run\": EC_Earth_unforced_data_dict[interval].run, \n",
    "    \"lat\": EC_Earth_unforced_data_dict[interval].lat, \"lon\": EC_Earth_unforced_data_dict[interval].lon})\n",
    "for interval, data in pvalue_annual_np.items():\n",
    "    pvalue_annual_da[interval] = xr.DataArray(data, dims=[\"run\",\"lat\", \"lon\"], coords={\"run\": EC_Earth_unforced_data_dict[interval].run, \n",
    "    \"lat\": EC_Earth_unforced_data_dict[interval].lat, \"lon\": EC_Earth_unforced_data_dict[interval].lon})"
   ]
  },
  {
   "cell_type": "code",
   "execution_count": null,
   "metadata": {},
   "outputs": [],
   "source": [
    "# out put the forced trend and pvalue\n",
    "dir_out ='./Figure3/EC_Earth/trend/'\n",
    "\n",
    "for interval, data in trend_annual_da.items():\n",
    "    data.to_netcdf(dir_out + 'EC_Earth_unforced_' + interval + '_trend.nc')\n",
    "for interval, data in pvalue_annual_da.items():\n",
    "    data.to_netcdf(dir_out + 'EC_Earth_unforced_' + interval + '_pvalue.nc')"
   ]
  },
  {
   "cell_type": "code",
   "execution_count": null,
   "metadata": {},
   "outputs": [],
   "source": [
    "trend_annual_da"
   ]
  },
  {
   "cell_type": "code",
   "execution_count": null,
   "metadata": {},
   "outputs": [],
   "source": []
  }
 ],
 "metadata": {
  "kernelspec": {
   "display_name": "My Kernel",
   "language": "python",
   "name": "my-kernel"
  },
  "language_info": {
   "codemirror_mode": {
    "name": "ipython",
    "version": 3
   },
   "file_extension": ".py",
   "mimetype": "text/x-python",
   "name": "python",
   "nbconvert_exporter": "python",
   "pygments_lexer": "ipython3",
   "version": "3.9.16"
  }
 },
 "nbformat": 4,
 "nbformat_minor": 2
}
