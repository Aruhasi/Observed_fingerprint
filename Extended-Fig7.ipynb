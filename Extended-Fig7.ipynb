{
 "cells": [
  {
   "cell_type": "markdown",
   "metadata": {},
   "source": [
    "## GSAT trend patterns"
   ]
  },
  {
   "cell_type": "code",
   "execution_count": null,
   "metadata": {},
   "outputs": [],
   "source": [
    "# In[1]:\n",
    "import numpy as np\n",
    "import xarray as xr\n",
    "import pandas as pd\n",
    "import matplotlib.pyplot as plt\n",
    "import cartopy.crs as ccrs\n",
    "import cartopy.feature as cfeature\n",
    "# %%\n",
    "# define function\n",
    "import src.SAT_function as data_process\n",
    "import src.Data_Preprocess as preprocess"
   ]
  },
  {
   "cell_type": "code",
   "execution_count": null,
   "metadata": {},
   "outputs": [],
   "source": [
    "# import src.slurm_cluster as scluster\n",
    "# client, scluster = scluster.init_dask_slurm_cluster()"
   ]
  },
  {
   "cell_type": "code",
   "execution_count": null,
   "metadata": {},
   "outputs": [],
   "source": [
    "def func_mk(x):\n",
    "    \"\"\"\n",
    "    Mann-Kendall test for trend\n",
    "    \"\"\"\n",
    "    results = data_process.apply_mannkendall(x)\n",
    "    slope = results[0]\n",
    "    p_val = results[1]\n",
    "    return slope, p_val"
   ]
  },
  {
   "cell_type": "code",
   "execution_count": null,
   "metadata": {},
   "outputs": [],
   "source": [
    "# Input the observational trend\n",
    "interval_name = ['10yr', '30yr', '60yr']\n",
    "\n",
    "# Input the Observational internal trend (wrt MMEM GSAT)\n",
    "dir_internal_input = '/work/mh0033/m301036/Land_surf_temp/Disentangling_OBS_SAT_trend/Figure3/data/ICV_std/'\n",
    "\n",
    "HadCRUT5_annual_internal_trend_da = {}\n",
    "# HadCRUT5_annual_internal_p_value_da = {}\n",
    "\n",
    "for interval in interval_name:\n",
    "    HadCRUT5_annual_internal_trend_da[interval] = xr.open_dataset(dir_internal_input + 'ICV_segments_' + interval + '_std_trend_pattern.nc')\n",
    "    # HadCRUT5_annual_internal_p_value_da[interval] = xr.open_dataset(dir_internal_input + 'HadCRUT5_annual_internal_' + interval + '_p_value.nc')"
   ]
  },
  {
   "cell_type": "code",
   "execution_count": null,
   "metadata": {},
   "outputs": [],
   "source": [
    "HadCRUT5_annual_internal_trend_da"
   ]
  },
  {
   "cell_type": "code",
   "execution_count": null,
   "metadata": {},
   "outputs": [],
   "source": [
    "# Input the MMEM annual trend\n",
    "dir_model_in = '/work/mh0033/m301036/Land_surf_temp/Disentangling_OBS_SAT_trend/Supp_Figure3/data/'\n",
    "MMEM_annual_trend_da = {}\n",
    "for interval in interval_name:\n",
    "    MMEM_annual_trend_da[interval] = xr.open_dataset(dir_model_in + 'MMEM_annual_' + interval + '_noise_trend_std.nc')\n",
    "    \n",
    "# CanESM5\n",
    "CanESM5_annual_trend_da = {}\n",
    "for interval in interval_name:\n",
    "    CanESM5_annual_trend_da[interval] = xr.open_dataset(dir_model_in + 'CanESM5_annual_' + interval + '_noise_trend_std.nc')\n",
    "\n",
    "# IPSL\n",
    "IPSL_annual_trend_da = {}\n",
    "for interval in interval_name:\n",
    "    IPSL_annual_trend_da[interval] = xr.open_dataset(dir_model_in + 'IPSL_annual_' + interval + '_noise_trend_std.nc')\n",
    "\n",
    "# EC-Earth3\n",
    "EC_Earth3_annual_trend_da = {}\n",
    "for interval in interval_name:\n",
    "    EC_Earth3_annual_trend_da[interval] = xr.open_dataset(dir_model_in + 'EC_Earth_annual_' + interval + '_noise_trend_std.nc')\n",
    "   \n",
    "# ACCESS\n",
    "ACCESS_annual_trend_da = {}\n",
    "for interval in interval_name:\n",
    "    ACCESS_annual_trend_da[interval] = xr.open_dataset(dir_model_in + 'ACCESS_annual_' + interval + '_noise_trend_std.nc')\n",
    "   \n",
    "# MPI-ESM1-2\n",
    "MPI_ESM_annual_trend_da = {}\n",
    "for interval in interval_name:\n",
    "    MPI_ESM_annual_trend_da[interval] = xr.open_dataset(dir_model_in + 'MPI_ESM_annual_' + interval + '_noise_trend_std.nc')\n",
    "   \n",
    "# MIROC6\n",
    "MIROC6_annual_trend_da = {}\n",
    "for interval in interval_name:\n",
    "    MIROC6_annual_trend_da[interval] = xr.open_dataset(dir_model_in + 'MIROC6_annual_' + interval + '_noise_trend_std.nc')\n",
    "   "
   ]
  },
  {
   "cell_type": "code",
   "execution_count": null,
   "metadata": {},
   "outputs": [],
   "source": [
    "MMEM_annual_trend_da['10yr']"
   ]
  },
  {
   "cell_type": "code",
   "execution_count": null,
   "metadata": {},
   "outputs": [],
   "source": [
    "CanESM5_annual_trend_da['10yr']"
   ]
  },
  {
   "cell_type": "code",
   "execution_count": null,
   "metadata": {},
   "outputs": [],
   "source": [
    "# loop for the rest of the data\n",
    "for interval in interval_name:\n",
    "    # HadCRUT5\n",
    "    HadCRUT5_annual_internal_trend_da[interval] = HadCRUT5_annual_internal_trend_da[interval].rename({'ICV_segments_'+interval+'_std_trend_pattern': 'tas'})\n",
    "    # HadCRUT5_annual_internal_p_value_da[interval] = HadCRUT5_annual_internal_p_value_da[interval].rename({'__xarray_dataarray_variable__': 'p_value'})\n",
    "    "
   ]
  },
  {
   "cell_type": "code",
   "execution_count": null,
   "metadata": {},
   "outputs": [],
   "source": [
    "CanESM5_annual_trend_da['10yr'].tas.min().values"
   ]
  },
  {
   "cell_type": "code",
   "execution_count": null,
   "metadata": {},
   "outputs": [],
   "source": [
    "# check the min and max value of the trend\n",
    "# HadCRUT5\n",
    "for interval in interval_name:\n",
    "    print('HadCRUT5', interval, 'min:', HadCRUT5_annual_internal_trend_da[interval].tas.min().values, 'max:', HadCRUT5_annual_internal_trend_da[interval].tas.max().values)"
   ]
  },
  {
   "cell_type": "markdown",
   "metadata": {},
   "source": [
    "### Plotting with the Robinson Projections"
   ]
  },
  {
   "cell_type": "code",
   "execution_count": null,
   "metadata": {},
   "outputs": [],
   "source": [
    "plt.rcParams['figure.figsize'] = (15, 10)\n",
    "plt.rcParams['font.size'] = 16\n",
    "# plt.rcParams['font.family'] = 'sans-serif'\n",
    "plt.rcParams['axes.labelsize'] = 16\n",
    "plt.rcParams['ytick.direction'] = 'out'\n",
    "plt.rcParams['ytick.minor.visible'] = True\n",
    "plt.rcParams['ytick.major.right'] = True\n",
    "plt.rcParams['ytick.right'] = True\n",
    "plt.rcParams['xtick.bottom'] = True\n",
    "plt.rcParams['savefig.dpi'] = 300\n",
    "plt.rcParams['savefig.transparent'] = True\n",
    "\n",
    "import cartopy.crs as ccrs\n",
    "import matplotlib.pyplot as plt\n",
    "import matplotlib.colors as colors\n",
    "import matplotlib.ticker as mticker\n",
    "import cartopy.feature as cfeature\n",
    "import cartopy.mpl.ticker as cticker\n",
    "import matplotlib.patches as mpatches\n",
    "import matplotlib.lines as mlines\n",
    "import matplotlib.gridspec as gridspec\n",
    "import matplotlib as mpl\n",
    "import seaborn as sns\n",
    "from matplotlib.colors import ListedColormap\n",
    "from matplotlib.colors import BoundaryNorm, ListedColormap\n",
    "\n",
    "def plot_trend_with_significance(trend_data, lats, lons, p_values, levels=None, extend=None, cmap=None, \n",
    "                                 title=\"\", ax=None, show_xticks=False, show_yticks=False):\n",
    "    \"\"\"\n",
    "    Plot the trend spatial pattern using Robinson projection with significance overlaid.\n",
    "\n",
    "    Parameters:\n",
    "    - trend_data: 2D numpy array with the trend values.\n",
    "    - lats, lons: 1D arrays of latitudes and longitudes.\n",
    "    - p_values: 2D array with p-values for each grid point.\n",
    "    - GMST_p_values: 2D array with GMST p-values for each grid point.\n",
    "    - title: Title for the plot.\n",
    "    - ax: Existing axis to plot on. If None, a new axis will be created.\n",
    "    - show_xticks, show_yticks: Boolean flags to show x and y axis ticks.\n",
    "    \n",
    "    Returns:\n",
    "    - contour_obj: The contour object from the plot.\n",
    "    \"\"\"\n",
    "\n",
    "    # Create a new figure/axis if none is provided\n",
    "    if ax is None:\n",
    "        fig, ax = plt.subplots(figsize=(20, 15), subplot_kw={'projection': ccrs.Robinson()})\n",
    "        ax.set_global()\n",
    "  \n",
    "    # Determine significance mask (where p-values are less than 0.10)\n",
    "    insignificance_mask = p_values >= 0.10\n",
    "    \n",
    "    # Plotting\n",
    "    # contour_obj = ax.pcolormesh(lons, lats, trend_data,  cmap='RdBu_r',vmin=-5.0, vmax=5.0, transform=ccrs.PlateCarree(central_longitude=180), shading='auto')\n",
    "    contour_obj = ax.contourf(lons, lats, trend_data, levels=levels, extend=extend, cmap=cmap, transform=ccrs.PlateCarree(central_longitude=0))\n",
    "\n",
    "    # Plot significance masks with different hatches\n",
    "    ax.contourf(lons, lats, insignificance_mask, levels=[0, 0.10, 1.0],hatches=[None,'///'], colors='none', transform=ccrs.PlateCarree())\n",
    "\n",
    "    ax.coastlines(resolution='110m')\n",
    "    gl = ax.gridlines(draw_labels=True, dms=True, x_inline=False, y_inline=False,\n",
    "                      color='gray', alpha=0.35, linestyle='--')\n",
    "\n",
    "    # Disable labels on the top and right of the plot\n",
    "    gl.top_labels = False\n",
    "    gl.right_labels = False\n",
    "\n",
    "    # Enable labels on the bottom and left of the plot\n",
    "    gl.bottom_labels = show_xticks\n",
    "    gl.left_labels = show_yticks\n",
    "    gl.xformatter = cticker.LongitudeFormatter()\n",
    "    gl.yformatter = cticker.LatitudeFormatter()\n",
    "    gl.xlabel_style = {'size': 14}\n",
    "    gl.ylabel_style = {'size': 14}\n",
    "    \n",
    "    if show_xticks:\n",
    "        gl.bottom_labels = True\n",
    "    if show_yticks:\n",
    "        gl.left_labels = True\n",
    "    \n",
    "    ax.set_title(title, loc='center', fontsize=20, fontweight='bold', pad=5.0)\n",
    "\n",
    "    return contour_obj\n"
   ]
  },
  {
   "cell_type": "code",
   "execution_count": null,
   "metadata": {},
   "outputs": [],
   "source": [
    "def plot_trend(trend_data, lats, lons, levels=None, extend=None, cmap=None, \n",
    "                                 title=\"\", ax=None, show_xticks=False, show_yticks=False):\n",
    "    \"\"\"\n",
    "    Plot the trend spatial pattern using Robinson projection with significance overlaid.\n",
    "\n",
    "    Parameters:\n",
    "    - trend_data: 2D numpy array with the trend values.\n",
    "    - lats, lons: 1D arrays of latitudes and longitudes.\n",
    "    - p_values: 2D array with p-values for each grid point.\n",
    "    - GMST_p_values: 2D array with GMST p-values for each grid point.\n",
    "    - title: Title for the plot.\n",
    "    - ax: Existing axis to plot on. If None, a new axis will be created.\n",
    "    - show_xticks, show_yticks: Boolean flags to show x and y axis ticks.\n",
    "    \n",
    "    Returns:\n",
    "    - contour_obj: The contour object from the plot.\n",
    "    \"\"\"\n",
    "\n",
    "    # Create a new figure/axis if none is provided\n",
    "    if ax is None:\n",
    "        fig, ax = plt.subplots(figsize=(20, 15), subplot_kw={'projection': ccrs.Robinson()})\n",
    "        ax.set_global()\n",
    "  \n",
    "    contour_obj = ax.contourf(lons, lats, trend_data, levels=levels, extend=extend, cmap=cmap, transform=ccrs.PlateCarree(central_longitude=0))\n",
    "\n",
    "    ax.coastlines(resolution='110m')\n",
    "    gl = ax.gridlines(draw_labels=True, dms=True, x_inline=False, y_inline=False,\n",
    "                      color='gray', alpha=0.35, linestyle='--')\n",
    "\n",
    "    # Disable labels on the top and right of the plot\n",
    "    gl.top_labels = False\n",
    "    gl.right_labels = False\n",
    "\n",
    "    # Enable labels on the bottom and left of the plot\n",
    "    gl.bottom_labels = show_xticks\n",
    "    gl.left_labels = show_yticks\n",
    "    gl.xformatter = cticker.LongitudeFormatter()\n",
    "    gl.yformatter = cticker.LatitudeFormatter()\n",
    "    gl.xlabel_style = {'size': 18}\n",
    "    gl.ylabel_style = {'size': 18}\n",
    "    \n",
    "    if show_xticks:\n",
    "        gl.bottom_labels = True\n",
    "    if show_yticks:\n",
    "        gl.left_labels = True\n",
    "    \n",
    "    ax.set_title(title, loc='center', fontsize=18, pad=5.0)\n",
    "\n",
    "    return contour_obj"
   ]
  },
  {
   "cell_type": "code",
   "execution_count": null,
   "metadata": {},
   "outputs": [],
   "source": [
    "# define an asymmetric colormap\n",
    "from matplotlib.colors import LinearSegmentedColormap, Normalize\n",
    "from matplotlib.colors import BoundaryNorm\n",
    "import cartopy.util as cutil\n",
    "import seaborn as sns\n",
    "import matplotlib.colors as mcolors\n",
    "import palettable\n",
    "\n",
    "cmap=mcolors.ListedColormap(palettable.cmocean.diverging.Balance_20.mpl_colors)"
   ]
  },
  {
   "cell_type": "markdown",
   "metadata": {},
   "source": [
    "### Plot the Original, internal, MMEM trend patterns"
   ]
  },
  {
   "cell_type": "code",
   "execution_count": null,
   "metadata": {},
   "outputs": [],
   "source": [
    "HadCRUT5_annual_internal_trend_da['10yr']"
   ]
  },
  {
   "cell_type": "code",
   "execution_count": null,
   "metadata": {},
   "outputs": [],
   "source": [
    "# arange data into a list arrocding to the variable name\n",
    "trend_10yr = {\"HadCRUT5\":HadCRUT5_annual_internal_trend_da['10yr'], \n",
    "            \"MMEM\":MMEM_annual_trend_da['10yr'],\n",
    "            \"MIROC6\":MIROC6_annual_trend_da['10yr'],\n",
    "            \"MPI_ESM\":MPI_ESM_annual_trend_da['10yr'],\n",
    "            \"ACCESS\":ACCESS_annual_trend_da['10yr'],\n",
    "            \"EC_Earth3\":EC_Earth3_annual_trend_da['10yr'],\n",
    "            \"IPSL\":IPSL_annual_trend_da['10yr'],\n",
    "            \"CanESM5\":CanESM5_annual_trend_da['10yr']  \n",
    "            }\n",
    "\n",
    "trend_30yr = {\"HadCRUT5\":HadCRUT5_annual_internal_trend_da['30yr'],\n",
    "            \"MMEM\":MMEM_annual_trend_da['30yr'],\n",
    "            \"MIROC6\":MIROC6_annual_trend_da['30yr'],\n",
    "            \"MPI_ESM\":MPI_ESM_annual_trend_da['30yr'],\n",
    "            \"ACCESS\":ACCESS_annual_trend_da['30yr'],\n",
    "            \"EC_Earth3\":EC_Earth3_annual_trend_da['30yr'],\n",
    "            \"IPSL\":IPSL_annual_trend_da['30yr'],\n",
    "            \"CanESM5\":CanESM5_annual_trend_da['30yr']\n",
    "            }\n",
    "\n",
    "trend_60yr = {\"HadCRUT5\":HadCRUT5_annual_internal_trend_da['60yr'], \n",
    "            \"MMEM\":MMEM_annual_trend_da['60yr'],\n",
    "            \"MIROC6\":MIROC6_annual_trend_da['60yr'],\n",
    "            \"MPI_ESM\":MPI_ESM_annual_trend_da['60yr'],\n",
    "            \"ACCESS\":ACCESS_annual_trend_da['60yr'], \n",
    "            \"EC_Earth3\":EC_Earth3_annual_trend_da['60yr'],\n",
    "            \"IPSL\":IPSL_annual_trend_da['60yr'],\n",
    "            \"CanESM5\":CanESM5_annual_trend_da['60yr']\n",
    "            }\n"
   ]
  },
  {
   "cell_type": "code",
   "execution_count": null,
   "metadata": {},
   "outputs": [],
   "source": [
    "trend_60yr"
   ]
  },
  {
   "cell_type": "code",
   "execution_count": null,
   "metadata": {},
   "outputs": [],
   "source": [
    "# reattribute the units for the trend\n",
    "variable_name = [\"HadCRUT5\", \"MMEM\", \"MIROC6\", \"MPI_ESM\", \"ACCESS\", \"EC_Earth3\", \"IPSL\", \"CanESM5\"]\n",
    "# degC/60yr, 30yr, 10yr\n",
    "# for i in range(len(variable_name)):\n",
    "#     trend_60yr[variable_name[i]] = trend_60yr[variable_name[i]]\n",
    "#     trend_30yr[variable_name[i]] = trend_30yr[variable_name[i]]\n",
    "#     trend_10yr[variable_name[i]] = trend_10yr[variable_name[i]]"
   ]
  },
  {
   "cell_type": "code",
   "execution_count": null,
   "metadata": {},
   "outputs": [],
   "source": [
    "# define an asymmetric colormap\n",
    "from matplotlib.colors import LinearSegmentedColormap, Normalize\n",
    "from matplotlib.colors import BoundaryNorm\n",
    "import cartopy.util as cutil\n",
    "import seaborn as sns\n",
    "import matplotlib.colors as mcolors\n",
    "import palettable"
   ]
  },
  {
   "cell_type": "code",
   "execution_count": null,
   "metadata": {},
   "outputs": [],
   "source": [
    "trend_10yr['HadCRUT5']['tas'].shape"
   ]
  },
  {
   "cell_type": "code",
   "execution_count": null,
   "metadata": {},
   "outputs": [],
   "source": [
    "# check the min and max of the trend\n",
    "for i in range(len(variable_name)):\n",
    "    print(trend_10yr[variable_name[i]]['tas'].min().values, trend_10yr[variable_name[i]]['tas'].max().values)\n",
    "    print(trend_30yr[variable_name[i]]['tas'].min().values, trend_30yr[variable_name[i]]['tas'].max().values)\n",
    "    print(trend_60yr[variable_name[i]]['tas'].min().values, trend_60yr[variable_name[i]]['tas'].max().values)"
   ]
  },
  {
   "cell_type": "code",
   "execution_count": null,
   "metadata": {},
   "outputs": [],
   "source": [
    "# pattern correlation betwenn observed internal pattern vs. Model simulated internal pattern\n",
    "import scipy.stats as stats\n",
    "\n",
    "trend_pattern_correlation_10yr = []\n",
    "\n",
    "for i in range(len(variable_name)):\n",
    "    trend_pattern_correlation_10yr.append(stats.pearsonr(trend_10yr['HadCRUT5']['tas'].values.flatten(), trend_10yr[variable_name[i]]['tas'].values.flatten())[0])\n",
    "\n",
    "trend_pattern_correlation_10yr \n"
   ]
  },
  {
   "cell_type": "code",
   "execution_count": null,
   "metadata": {},
   "outputs": [],
   "source": [
    "trend_pattern_correlation_30yr = []\n",
    "for i in range(len(variable_name)):\n",
    "    trend_pattern_correlation_30yr.append(stats.pearsonr(trend_30yr['HadCRUT5']['tas'].values.flatten(), trend_30yr[variable_name[i]]['tas'].values.flatten())[0])\n",
    "\n",
    "trend_pattern_correlation_30yr\n",
    "\n",
    "trend_pattern_correlation_60yr = []\n",
    "for i in range(len(variable_name)):\n",
    "    trend_pattern_correlation_60yr.append(stats.pearsonr(trend_60yr['HadCRUT5']['tas'].values.flatten(), trend_60yr[variable_name[i]]['tas'].values.flatten())[0])\n",
    "print(trend_pattern_correlation_60yr)"
   ]
  },
  {
   "cell_type": "code",
   "execution_count": null,
   "metadata": {},
   "outputs": [],
   "source": [
    "# trend_pattern_correlation_20yr = []\n",
    "# for i in range(len(variable_name)):\n",
    "#     trend_pattern_correlation_20yr.append(stats.pearsonr(trend_20yr['HadCRUT5']['tas'].values.flatten(), trend_20yr[variable_name[i]]['tas'].values.flatten())[0])\n",
    "# print(trend_pattern_correlation_20yr)\n",
    "# trend_pattern_correlation_40yr = []\n",
    "# for i in range(len(variable_name)):\n",
    "#     trend_pattern_correlation_40yr.append(stats.pearsonr(trend_40yr['HadCRUT5']['tas'].values.flatten(), trend_40yr[variable_name[i]]['tas'].values.flatten())[0])\n",
    "\n",
    "# trend_pattern_correlation_40yr\n",
    "\n",
    "# trend_pattern_correlation_50yr = []\n",
    "# for i in range(len(variable_name)):\n",
    "#     trend_pattern_correlation_50yr.append(stats.pearsonr(trend_50yr['HadCRUT5']['tas'].values.flatten(), trend_50yr[variable_name[i]]['tas'].values.flatten())[0])\n",
    "\n",
    "# trend_pattern_correlation_50yr\n",
    "\n",
    "# trend_pattern_correlation_70yr = []\n",
    "# for i in range(len(variable_name)):\n",
    "#     trend_pattern_correlation_70yr.append(stats.pearsonr(trend_70yr['HadCRUT5']['tas'].values.flatten(), trend_70yr[variable_name[i]]['tas'].values.flatten())[0])"
   ]
  },
  {
   "cell_type": "code",
   "execution_count": null,
   "metadata": {},
   "outputs": [],
   "source": [
    "# save the correlation into one dictionary\n",
    "trend_pattern_correlation = {'10yr': trend_pattern_correlation_10yr, '30yr': trend_pattern_correlation_30yr, '60yr': trend_pattern_correlation_60yr}"
   ]
  },
  {
   "cell_type": "code",
   "execution_count": null,
   "metadata": {},
   "outputs": [],
   "source": [
    "trend_pattern_correlation"
   ]
  },
  {
   "cell_type": "code",
   "execution_count": null,
   "metadata": {},
   "outputs": [],
   "source": [
    "HadCRUT5_annual_internal_trend_da['10yr']"
   ]
  },
  {
   "cell_type": "code",
   "execution_count": null,
   "metadata": {},
   "outputs": [],
   "source": [
    "# obs_trend = xr.Dataset({'10yr': HadCRUT5_annual_internal_trend_da['10yr']['tas'], \n",
    "#                         '30yr': HadCRUT5_annual_internal_trend_da['30yr']['tas'],\n",
    "#                         '60yr': HadCRUT5_annual_internal_trend_da['60yr']['tas']})\n",
    "# p_val_data = xr.Dataset({'10yr': HadCRUT5_annual_internal_p_value_da['10yr']['p_value'],\n",
    "#                             '30yr': HadCRUT5_annual_internal_p_value_da['30yr']['p_value'],\n",
    "#                             '60yr': HadCRUT5_annual_internal_p_value_da['60yr']['p_value']})"
   ]
  },
  {
   "cell_type": "code",
   "execution_count": null,
   "metadata": {},
   "outputs": [],
   "source": [
    "# obs_trend"
   ]
  },
  {
   "cell_type": "code",
   "execution_count": null,
   "metadata": {},
   "outputs": [],
   "source": [
    "# # save the pattern correlation from the second to the last, which corresponds to the MMEM, CanESM5, IPSL, EC-Earth3, ACCESS, MPI-ESM, MIROC6\n",
    "# with open('pattern_correlations_noise_trend_std_model_vs_Obs.txt', 'w') as file:\n",
    "#     file.write('10-year Trend Pattern Correlations:\\n')\n",
    "#     for correlation in trend_pattern_correlation_10yr:\n",
    "#         file.write(f\"{correlation}\\n\")\n",
    "\n",
    "#     file.write('\\n30-year Trend Pattern Correlations:\\n')\n",
    "#     for correlation in trend_pattern_correlation_30yr:\n",
    "#         file.write(f\"{correlation}\\n\")\n",
    "\n",
    "#     file.write('\\n60-year Trend Pattern Correlations:\\n')\n",
    "#     for correlation in trend_pattern_correlation_60yr:\n",
    "#         file.write(f\"{correlation}\\n\")\n"
   ]
  },
  {
   "cell_type": "code",
   "execution_count": null,
   "metadata": {},
   "outputs": [],
   "source": [
    "# Plotting\n",
    "lat = trend_60yr['HadCRUT5'].lat\n",
    "lon = trend_60yr['HadCRUT5'].lon\n",
    "lat, lon \n",
    "\n",
    "titles_rows = [\"HadCRUT5\", \"MMEM\", \"MIROC6\", \"MPI-ESM1.2-LR\",\"ACCESS-ESM1.5\", \"EC-Earth3\", \"IPSL-CM6A-LR\", \"CanESM5\"]\n",
    "rows_label = [\"a\", \"b\", \"c\", \"d\", \"e\", \"f\", \"g\", \"h\"]\n",
    "titles_columns = [\"2013-2022 (10yr)\", \"1993-2022 (30yr)\", \"1963-2022 (60yr)\"]\n",
    "\n",
    "import cartopy.util as cutil\n",
    "import seaborn as sns\n",
    "import matplotlib.colors as mcolors\n",
    "import palettable\n",
    "\n",
    "periods = [\"10yr\", \"30yr\", \"60yr\"]\n",
    "variable_name = [\"HadCRUT5\",\"MMEM\", \"MIROC6\", \"MPI_ESM\", \"ACCESS\", \"EC_Earth3\", \"IPSL\", \"CanESM5\"]\n",
    "\n",
    "intervals_obs = np.arange(-1.0, 1.1, 0.1)\n",
    "intervals = np.arange(0.0, 1.05, 0.05)\n",
    "\n",
    "cmap = mcolors.ListedColormap(palettable.cmocean.sequential.Amp_20.mpl_colors)\n",
    "extend = 'both'\n",
    "\n",
    "fig  = plt.figure(figsize=(20, 30))\n",
    "gs = gridspec.GridSpec(8, 3, figure=fig,wspace=0.05, hspace=0.2)\n",
    "\n",
    "# Create a 8x3 grid of subplots\n",
    "axes = {}\n",
    "\n",
    "# for i in range(0, 1):\n",
    "#     # Add cyclic points\n",
    "#     for j, period in enumerate(periods):\n",
    "#         print(period)\n",
    "#         is_left = j == 0\n",
    "#         is_bottom_row = i >= 7\n",
    "        \n",
    "#         ax = plt.subplot(gs[i, j], projection=ccrs.Robinson(180))\n",
    "#         ax.set_global()\n",
    "#         axes[i, j] = ax\n",
    "#         trend_data = obs_trend[period]\n",
    "#         pval_data = p_val_data[period]\n",
    "#         trend_with_cyclic, lons_cyclic = cutil.add_cyclic_point(trend_data, coord=lon)\n",
    "#         p_value_with_cyclic, _ = cutil.add_cyclic_point(pval_data, coord=lon)\n",
    "            \n",
    "#         contour_obj = plot_trend_with_significance(trend_with_cyclic, lat, lons_cyclic,p_value_with_cyclic, levels=intervals_obs, extend = extend,\n",
    "#                                             cmap='twilight_shifted', title=\" \", ax=ax,\n",
    "#                                             show_xticks = False, show_yticks = is_left)\n",
    "for i in np.arange(0,8,1):\n",
    "    for j, period in enumerate(periods):\n",
    "        is_left = j == 0\n",
    "        is_bottom_row = i >= 7\n",
    "        \n",
    "        ax = plt.subplot(gs[i, j], projection=ccrs.Robinson(180))\n",
    "        ax.set_global()\n",
    "        axes[i, j] = ax\n",
    "                        \n",
    "        if j == 0:\n",
    "        # Add cyclic points\n",
    "            trend_data = trend_10yr[variable_name[i]]['tas']\n",
    "            trend_with_cyclic, lons_cyclic = cutil.add_cyclic_point(trend_data, coord=lon)\n",
    "                    \n",
    "            contour_obj1 = plot_trend(trend_with_cyclic, lat, lons_cyclic, \n",
    "                                            levels=intervals, extend = 'max',\n",
    "                                            cmap=cmap, title=\" \", ax=ax, \n",
    "                                            show_xticks = is_bottom_row, show_yticks = is_left)\n",
    "        elif j == 1:\n",
    "            trend_data = trend_30yr[variable_name[i]]['tas']\n",
    "            trend_with_cyclic, lons_cyclic = cutil.add_cyclic_point(trend_data, coord=lon)\n",
    "                    \n",
    "            contour_obj2 = plot_trend(trend_with_cyclic, lat, lons_cyclic, \n",
    "                                            levels=intervals, extend = 'max',\n",
    "                                            cmap=cmap, title=\" \", ax=ax, \n",
    "                                            show_xticks = is_bottom_row, show_yticks = is_left)\n",
    "        else:\n",
    "            trend_data = trend_60yr[variable_name[i]]['tas']\n",
    "            trend_with_cyclic, lons_cyclic = cutil.add_cyclic_point(trend_data, coord=lon)\n",
    "                    \n",
    "            contour_obj3 = plot_trend(trend_with_cyclic, lat, lons_cyclic,  \n",
    "                                            levels=intervals, extend = 'max',\n",
    "                                            cmap=cmap, title=\" \", ax=ax, \n",
    "                                            show_xticks = is_bottom_row, show_yticks = is_left)\n",
    "\n",
    "# add the title for each row\n",
    "for i, var in enumerate(variable_name):\n",
    "    axes[i, 0].text(-0.2, 0.5, titles_rows[i], va='center', ha='center', rotation=90, \n",
    "                    fontsize=20,transform=axes[i, 0].transAxes)\n",
    "    axes[i, 0].text(-0.08, 1.05, rows_label[i], va='bottom', ha='right', rotation='horizontal',\n",
    "                    fontsize=24, fontweight='bold', transform=axes[i, 0].transAxes)\n",
    "\n",
    "# add the title for each column\n",
    "for j in range(3):\n",
    "    axes[0,j].text(0.5, 1.05, titles_columns[j], va='bottom', ha='center', rotation='horizontal', \n",
    "                   fontsize=22,transform=axes[0, j].transAxes)\n",
    "\n",
    "# Add the pattern correlation text to the second to last rows of each column subplot\n",
    "for i in np.arange(1,8,1):\n",
    "    axes[i, 0].text(0.65, 1.0, f\"corr: {trend_pattern_correlation_10yr[i]:.2f}\", va='bottom', ha='left', fontsize=22,transform=axes[i, 0].transAxes)\n",
    "    axes[i, 1].text(0.65, 1.0, f\"corr: {trend_pattern_correlation_30yr[i]:.2f}\", va='bottom', ha='left', fontsize=22,transform=axes[i, 1].transAxes)\n",
    "    axes[i, 2].text(0.65, 1.0, f\"corr: {trend_pattern_correlation_60yr[i]:.2f}\", va='bottom', ha='left', fontsize=22,transform=axes[i, 2].transAxes)\n",
    "\n",
    "# Add horizontal colorbars\n",
    "# cbar_ax = fig.add_axes([0.2, 0.08, 0.3, 0.012])\n",
    "# cbar = plt.colorbar(contour_obj, cax=cbar_ax, orientation='horizontal', extend=extend)\n",
    "# cbar.ax.tick_params(labelsize=16)\n",
    "# cbar.set_label('Annual SAT Trend (°C/decade)', fontsize=16)\n",
    "\n",
    "cbar_ax1 = fig.add_axes([0.25, 0.08, 0.5, 0.01])\n",
    "cbar1 = plt.colorbar(contour_obj1, cax=cbar_ax1, orientation='horizontal', extend='max')\n",
    "cbar1.ax.tick_params(labelsize=18)\n",
    "cbar1.set_label('SAT trend Stddev.(°C/decade)', fontsize=20)\n",
    "\n",
    "# plt.figure(constrained_layout=True)\n",
    "fig.savefig('Extended-Fig-3-check.png', dpi=300, bbox_inches='tight')\n",
    "fig.savefig('Extended-Fig-3-check.eps', format='eps', dpi=300, bbox_inches='tight')\n",
    "fig.savefig('Extended-Fig-3-check.pdf', format='pdf', dpi=300, bbox_inches='tight')\n",
    "plt.show()"
   ]
  },
  {
   "cell_type": "code",
   "execution_count": null,
   "metadata": {},
   "outputs": [],
   "source": []
  }
 ],
 "metadata": {
  "kernelspec": {
   "display_name": "mykernel",
   "language": "python",
   "name": "python3"
  },
  "language_info": {
   "codemirror_mode": {
    "name": "ipython",
    "version": 3
   },
   "file_extension": ".py",
   "mimetype": "text/x-python",
   "name": "python",
   "nbconvert_exporter": "python",
   "pygments_lexer": "ipython3",
   "version": "3.9.20"
  }
 },
 "nbformat": 4,
 "nbformat_minor": 2
}
