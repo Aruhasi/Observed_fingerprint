{
 "cells": [
  {
   "cell_type": "markdown",
   "metadata": {},
   "source": [
    "## GSAT trend patterns"
   ]
  },
  {
   "cell_type": "code",
   "execution_count": null,
   "metadata": {},
   "outputs": [],
   "source": [
    "# In[1]:\n",
    "import numpy as np\n",
    "import xarray as xr\n",
    "import pandas as pd\n",
    "import matplotlib.pyplot as plt\n",
    "import cartopy.crs as ccrs\n",
    "import cartopy.feature as cfeature\n",
    "# %%\n",
    "# define function\n",
    "import src.SAT_function as data_process\n",
    "import src.Data_Preprocess as preprocess"
   ]
  },
  {
   "cell_type": "code",
   "execution_count": null,
   "metadata": {},
   "outputs": [],
   "source": [
    "# import src.slurm_cluster as scluster\n",
    "# client, scluster = scluster.init_dask_slurm_cluster()"
   ]
  },
  {
   "cell_type": "code",
   "execution_count": null,
   "metadata": {},
   "outputs": [],
   "source": [
    "def func_mk(x):\n",
    "    \"\"\"\n",
    "    Mann-Kendall test for trend\n",
    "    \"\"\"\n",
    "    results = data_process.mk_test(x)\n",
    "    slope = results[0]\n",
    "    p_val = results[1]\n",
    "    return slope, p_val\n",
    " "
   ]
  },
  {
   "cell_type": "code",
   "execution_count": null,
   "metadata": {},
   "outputs": [],
   "source": [
    "variable_names = ['10yr', '30yr', '60yr']"
   ]
  },
  {
   "cell_type": "code",
   "execution_count": null,
   "metadata": {},
   "outputs": [],
   "source": [
    "# out put the forced trend and pvalue\n",
    "dir_in ='/work/mh0033/m301036/Land_surf_temp/Disentangling_OBS_SAT_trend/Figure2/ACCESS/'\n",
    "\n",
    "# trend_annual_da = {}\n",
    "# p_val_annual_da = {}\n",
    "\n",
    "# for var in variable_names:\n",
    "#     trend_annual_da[var] = xr.open_mfdataset(dir_in + 'ACCESS_unforced_' + var + '_trend.nc', chunks={'run': 1})\n"
   ]
  },
  {
   "cell_type": "code",
   "execution_count": null,
   "metadata": {},
   "outputs": [],
   "source": [
    "# for var in variable_names:\n",
    "#     trend_annual_da[var] = trend_annual_da[var].rename({'__xarray_dataarray_variable__': 'trend'})"
   ]
  },
  {
   "cell_type": "code",
   "execution_count": null,
   "metadata": {},
   "outputs": [],
   "source": [
    "# input the unforced trend and pvalue\n",
    "unforced_trend_std_da = {}\n",
    "# unforced_p_val_da = {}\n",
    "\n",
    "for var in variable_names:\n",
    "    unforced_trend_std_da[var] = xr.open_mfdataset(dir_in + 'ICV_segments_' + var + '_std_trend_pattern.nc', chunks={'run': 1})\n",
    "    # unforced_p_val_da[var] = xr.open_mfdataset(dir_in + 'ACCESS_unforced_' + var + '_pvalue.nc', chunks={'run': 1})"
   ]
  },
  {
   "cell_type": "code",
   "execution_count": null,
   "metadata": {},
   "outputs": [],
   "source": [
    "unforced_trend_std_da"
   ]
  },
  {
   "cell_type": "code",
   "execution_count": null,
   "metadata": {},
   "outputs": [],
   "source": [
    "unforced_trend_std_da['10yr']"
   ]
  },
  {
   "cell_type": "markdown",
   "metadata": {},
   "source": [
    "### calculate the pattern correlation"
   ]
  },
  {
   "cell_type": "code",
   "execution_count": null,
   "metadata": {},
   "outputs": [],
   "source": [
    "# Input the 10-year, 30-year and 60-year ensemble mean SAT trend data\n",
    "dir_input = '/work/mh0033/m301036/Land_surf_temp/Disentangling_OBS_SAT_trend/Supp_Figure3/data/'\n",
    "\n",
    "ACCESS_10yr_trend   = xr.open_dataset(dir_input + 'ACCESS_annual_10yr_noise_trend_std.nc')\n",
    "ACCESS_30yr_trend   = xr.open_dataset(dir_input + 'ACCESS_annual_30yr_noise_trend_std.nc')\n",
    "ACCESS_60yr_trend   = xr.open_dataset(dir_input + 'ACCESS_annual_60yr_noise_trend_std.nc')"
   ]
  },
  {
   "cell_type": "code",
   "execution_count": null,
   "metadata": {},
   "outputs": [],
   "source": [
    "ACCESS_10yr_trend"
   ]
  },
  {
   "cell_type": "code",
   "execution_count": null,
   "metadata": {},
   "outputs": [],
   "source": [
    "# ACCESS_10yr_trend = ACCESS_10yr_trend.rename({'__xarray_dataarray_variable__':'tas'})\n",
    "# ACCESS_30yr_trend = ACCESS_30yr_trend.rename({'__xarray_dataarray_variable__':'tas'})\n",
    "# ACCESS_60yr_trend = ACCESS_60yr_trend.rename({'__xarray_dataarray_variable__':'tas'})"
   ]
  },
  {
   "cell_type": "code",
   "execution_count": null,
   "metadata": {},
   "outputs": [],
   "source": [
    "unforced_trend_std_da['10yr']['ICV_segments_10yr_std_trend_pattern'].isel(run=0).values"
   ]
  },
  {
   "cell_type": "code",
   "execution_count": null,
   "metadata": {},
   "outputs": [],
   "source": [
    "# pattern correlation betwenn observed forced pattern vs. Model simulated forced pattern\n",
    "import scipy.stats as stats\n",
    "# 10yr unforced trend in each realization .vs. ACCESS ensemble stddev. trend ACCESS_10yr_trend\n",
    "\n",
    "ACCESS_unforced_10yr_trend = unforced_trend_std_da['10yr']['ICV_segments_10yr_std_trend_pattern']\n",
    "ACCESS_unforced_30yr_trend = unforced_trend_std_da['30yr']['ICV_segments_30yr_std_trend_pattern']\n",
    "ACCESS_unforced_60yr_trend = unforced_trend_std_da['60yr']['ICV_segments_60yr_std_trend_pattern']\n",
    "\n",
    "# Pattern correlations calculation\n",
    "trend_pattern_correlation_10yr = []\n",
    "for i in range(len(unforced_trend_std_da['10yr'].run)):\n",
    "    trend_pattern_correlation_10yr.append(stats.pearsonr(ACCESS_unforced_10yr_trend.isel(run=i).values.flatten(), ACCESS_10yr_trend['tas'].values.flatten())[0])\n",
    "\n",
    "trend_pattern_correlation_30yr = []\n",
    "for i in range(len(unforced_trend_std_da['30yr'].run)):\n",
    "    trend_pattern_correlation_30yr.append(stats.pearsonr(ACCESS_unforced_30yr_trend.isel(run=i).values.flatten(), ACCESS_30yr_trend['tas'].values.flatten())[0])\n",
    "\n",
    "trend_pattern_correlation_60yr = []\n",
    "for i in range(len(unforced_trend_std_da['60yr'].run)):\n",
    "    trend_pattern_correlation_60yr.append(stats.pearsonr(ACCESS_unforced_60yr_trend.isel(run=i).values.flatten(), ACCESS_60yr_trend['tas'].values.flatten())[0])\n",
    "    "
   ]
  },
  {
   "cell_type": "code",
   "execution_count": null,
   "metadata": {},
   "outputs": [],
   "source": [
    "trend_pattern_correlation_60yr"
   ]
  },
  {
   "cell_type": "code",
   "execution_count": null,
   "metadata": {},
   "outputs": [],
   "source": [
    "# save the pattern correlation into text file\n",
    "# Save to a text file\n",
    "with open('pattern_correlations_unforced_STD.txt', 'w') as file:\n",
    "    file.write('10-year Trend Pattern Correlations:\\n')\n",
    "    for correlation in trend_pattern_correlation_10yr:\n",
    "        file.write(f\"{correlation}\\n\")\n",
    "\n",
    "    file.write('\\n30-year Trend Pattern Correlations:\\n')\n",
    "    for correlation in trend_pattern_correlation_30yr:\n",
    "        file.write(f\"{correlation}\\n\")\n",
    "\n",
    "    file.write('\\n60-year Trend Pattern Correlations:\\n')\n",
    "    for correlation in trend_pattern_correlation_60yr:\n",
    "        file.write(f\"{correlation}\\n\")"
   ]
  },
  {
   "cell_type": "code",
   "execution_count": null,
   "metadata": {},
   "outputs": [],
   "source": [
    "# Input the observational forced and unforced trend wrt. ACCESS-CM6A-LR\n",
    "dir_obs = '/work/mh0033/m301036/Land_surf_temp/analyses_1850_2100/Manuscript_visual_schematic/Disentangling_trend_analysis/Figure2/data/'\n",
    "\n",
    "Obs_forced_10yr_trend = xr.open_dataset(dir_obs + 'HadCRUT5_annual_forced_10yr_trend.nc')\n",
    "Obs_forced_30yr_trend = xr.open_dataset(dir_obs + 'HadCRUT5_annual_forced_30yr_trend.nc')\n",
    "Obs_forced_60yr_trend = xr.open_dataset(dir_obs + 'HadCRUT5_annual_forced_60yr_trend.nc')\n",
    "\n",
    "Obs_unforced_10yr_trend = xr.open_dataset(dir_obs + 'HadCRUT5_annual_internal_10yr_trend.nc')\n",
    "Obs_unforced_30yr_trend = xr.open_dataset(dir_obs + 'HadCRUT5_annual_internal_30yr_trend.nc')\n",
    "Obs_unforced_60yr_trend = xr.open_dataset(dir_obs + 'HadCRUT5_annual_internal_60yr_trend.nc')"
   ]
  },
  {
   "cell_type": "code",
   "execution_count": null,
   "metadata": {},
   "outputs": [],
   "source": [
    "Obs_unforced_10yr_trend"
   ]
  },
  {
   "cell_type": "code",
   "execution_count": null,
   "metadata": {},
   "outputs": [],
   "source": [
    "Obs_forced_10yr_trend = Obs_forced_10yr_trend.rename({'__xarray_dataarray_variable__':'tas'})\n",
    "Obs_forced_30yr_trend = Obs_forced_30yr_trend.rename({'__xarray_dataarray_variable__':'tas'})\n",
    "Obs_forced_60yr_trend = Obs_forced_60yr_trend.rename({'__xarray_dataarray_variable__':'tas'})\n",
    "\n",
    "Obs_unforced_10yr_trend = Obs_unforced_10yr_trend.rename({'__xarray_dataarray_variable__':'tas'})\n",
    "Obs_unforced_30yr_trend = Obs_unforced_30yr_trend.rename({'__xarray_dataarray_variable__':'tas'})\n",
    "Obs_unforced_60yr_trend = Obs_unforced_60yr_trend.rename({'__xarray_dataarray_variable__':'tas'})\n"
   ]
  },
  {
   "cell_type": "code",
   "execution_count": null,
   "metadata": {},
   "outputs": [],
   "source": [
    "# calculate the pattern correlation between observed and model's each realization simulated forced and unforced trend\n",
    "OBS_trend_pattern_correlation_10yr = []\n",
    "for i in range(len(trend_annual_da['10yr'].run)):\n",
    "    OBS_trend_pattern_correlation_10yr.append(stats.pearsonr(ACCESS_forced_10yr_trend.isel(run=i).values.flatten(), Obs_forced_10yr_trend['tas'].values.flatten())[0])\n",
    "\n",
    "OBS_trend_pattern_correlation_30yr = []\n",
    "for i in range(len(trend_annual_da['30yr'].run)):\n",
    "    OBS_trend_pattern_correlation_30yr.append(stats.pearsonr(ACCESS_forced_30yr_trend.isel(run=i).values.flatten(), Obs_forced_30yr_trend['tas'].values.flatten())[0])\n",
    "\n",
    "OBS_trend_pattern_correlation_60yr = []\n",
    "for i in range(len(trend_annual_da['60yr'].run)):\n",
    "    OBS_trend_pattern_correlation_60yr.append(stats.pearsonr(ACCESS_forced_60yr_trend.isel(run=i).values.flatten(), Obs_forced_60yr_trend['tas'].values.flatten())[0])"
   ]
  },
  {
   "cell_type": "code",
   "execution_count": null,
   "metadata": {},
   "outputs": [],
   "source": [
    "OBS_trend_pattern_correlation_10yr"
   ]
  },
  {
   "cell_type": "code",
   "execution_count": null,
   "metadata": {},
   "outputs": [],
   "source": [
    "# Save to a text file\n",
    "with open('obs_MMEM_forced_vs_ACCESS_forced_pattern_correlations.txt', 'w') as file:\n",
    "    file.write('10-year Trend Pattern Correlations:\\n')\n",
    "    for correlation in OBS_trend_pattern_correlation_10yr:\n",
    "        file.write(f\"{correlation}\\n\")\n",
    "\n",
    "    file.write('\\n30-year Trend Pattern Correlations:\\n')\n",
    "    for correlation in OBS_trend_pattern_correlation_30yr:\n",
    "        file.write(f\"{correlation}\\n\")\n",
    "\n",
    "    file.write('\\n60-year Trend Pattern Correlations:\\n')\n",
    "    for correlation in OBS_trend_pattern_correlation_60yr:\n",
    "        file.write(f\"{correlation}\\n\")"
   ]
  },
  {
   "cell_type": "code",
   "execution_count": null,
   "metadata": {},
   "outputs": [],
   "source": [
    "OBS_unforced_trend_pattern_correlation_10yr = []\n",
    "for i in range(len(trend_annual_da['10yr'].run)):\n",
    "    OBS_unforced_trend_pattern_correlation_10yr.append(stats.pearsonr(ACCESS_unforced_10yr_trend.isel(run=i).values.flatten(), Obs_unforced_10yr_trend['tas'].values.flatten())[0])\n",
    "    \n",
    "OBS_unforced_trend_pattern_correlation_30yr = []\n",
    "for i in range(len(trend_annual_da['30yr'].run)):\n",
    "    OBS_unforced_trend_pattern_correlation_30yr.append(stats.pearsonr(ACCESS_unforced_30yr_trend.isel(run=i).values.flatten(), Obs_unforced_30yr_trend['tas'].values.flatten())[0])\n",
    "    \n",
    "OBS_unforced_trend_pattern_correlation_60yr = []\n",
    "for i in range(len(trend_annual_da['60yr'].run)):\n",
    "    OBS_unforced_trend_pattern_correlation_60yr.append(stats.pearsonr(ACCESS_unforced_60yr_trend.isel(run=i).values.flatten(), Obs_unforced_60yr_trend['tas'].values.flatten())[0])"
   ]
  },
  {
   "cell_type": "code",
   "execution_count": null,
   "metadata": {},
   "outputs": [],
   "source": [
    "OBS_unforced_trend_pattern_correlation_30yr"
   ]
  },
  {
   "cell_type": "code",
   "execution_count": null,
   "metadata": {},
   "outputs": [],
   "source": [
    "# Save to a text file\n",
    "with open('obs_MMEM_unforced_vs_ACCESS_unforced_pattern_correlations.txt', 'w') as file:\n",
    "    file.write('10-year Trend Pattern Correlations:\\n')\n",
    "    for correlation in OBS_unforced_trend_pattern_correlation_10yr:\n",
    "        file.write(f\"{correlation}\\n\")\n",
    "\n",
    "    file.write('\\n30-year Trend Pattern Correlations:\\n')\n",
    "    for correlation in OBS_unforced_trend_pattern_correlation_30yr:\n",
    "        file.write(f\"{correlation}\\n\")\n",
    "\n",
    "    file.write('\\n60-year Trend Pattern Correlations:\\n')\n",
    "    for correlation in OBS_unforced_trend_pattern_correlation_60yr:\n",
    "        file.write(f\"{correlation}\\n\")"
   ]
  },
  {
   "cell_type": "markdown",
   "metadata": {},
   "source": [
    "### Plotting with the Robinson Projections"
   ]
  },
  {
   "cell_type": "code",
   "execution_count": null,
   "metadata": {},
   "outputs": [],
   "source": [
    "plt.rcParams['figure.figsize'] = (8, 10)\n",
    "plt.rcParams['font.size'] = 16\n",
    "# plt.rcParams['font.family'] = 'sans-serif'\n",
    "plt.rcParams['axes.labelsize'] = 16\n",
    "plt.rcParams['ytick.direction'] = 'out'\n",
    "plt.rcParams['ytick.minor.visible'] = True\n",
    "plt.rcParams['ytick.major.right'] = True\n",
    "plt.rcParams['ytick.right'] = True\n",
    "plt.rcParams['xtick.bottom'] = True\n",
    "plt.rcParams['savefig.transparent'] = True # save the figure with a transparent background\n",
    "x = np.arange(1850, 2015, 1)"
   ]
  },
  {
   "cell_type": "code",
   "execution_count": null,
   "metadata": {},
   "outputs": [],
   "source": [
    "import cartopy.crs as ccrs\n",
    "import matplotlib.pyplot as plt\n",
    "import matplotlib.colors as colors\n",
    "import matplotlib.ticker as mticker\n",
    "import cartopy.feature as cfeature\n",
    "import cartopy.mpl.ticker as cticker\n",
    "import matplotlib.patches as mpatches\n",
    "import matplotlib.lines as mlines\n",
    "import matplotlib.gridspec as gridspec\n",
    "import matplotlib as mpl\n",
    "import seaborn as sns\n",
    "from matplotlib.colors import ListedColormap\n",
    "from matplotlib.colors import BoundaryNorm, ListedColormap"
   ]
  },
  {
   "cell_type": "code",
   "execution_count": null,
   "metadata": {},
   "outputs": [],
   "source": [
    "def plot_trend_with_significance(trend_std_data, lats, lons, p_values, GMST_p_values=None, levels=None, extend=None, cmap=None, title=\"\", ax=None, show_xticks=False, show_yticks=False):\n",
    "    \"\"\"\n",
    "    Plot the trend spatial pattern using Robinson projection with significance overlaid.\n",
    "\n",
    "    Parameters:\n",
    "    - trend_std_data: 2D numpy array with the trend values.\n",
    "    - lats, lons: 1D arrays of latitudes and longitudes.\n",
    "    - p_values: 2D array with p-values for each grid point.\n",
    "    - GMST_p_values: 2D array with GMST p-values for each grid point.\n",
    "    - title: Title for the plot.\n",
    "    - ax: Existing axis to plot on. If None, a new axis will be created.\n",
    "    - show_xticks, show_yticks: Boolean flags to show x and y axis ticks.\n",
    "    \n",
    "    Returns:\n",
    "    - contour_obj: The contour object from the plot.\n",
    "    \"\"\"\n",
    "    # Create a new figure/axis if none is provided\n",
    "    if ax is None:\n",
    "        fig, ax = plt.subplots(figsize=(20, 15), subplot_kw={'projection': ccrs.Robinson()})\n",
    "        ax.set_global()\n",
    "\n",
    "    # Determine significance mask (where p-values are less than 0.05)\n",
    "    insignificance_mask = p_values >= 0.10\n",
    "    # Plotting\n",
    "    # contour_obj = ax.pcolormesh(lons, lats, trend_std_data,  cmap='RdBu_r',vmin=-5.0, vmax=5.0, transform=ccrs.PlateCarree(central_longitude=180), shading='auto')\n",
    "    contour_obj = ax.contourf(lons, lats, trend_std_data, levels=levels, extend=extend, cmap=cmap, transform=ccrs.PlateCarree(central_longitude=0))\n",
    "\n",
    "    # Plot significance masks with different hatches\n",
    "    ax.contourf(lons, lats, insignificance_mask, levels=[0.0, 0.10, 1.5],hatches=[None,'///'], colors='none', transform=ccrs.PlateCarree())\n",
    "\n",
    "    ax.coastlines(resolution='110m')\n",
    "    gl = ax.gridlines(draw_labels=True, dms=True, x_inline=False, y_inline=False,\n",
    "                      colors='gray', alpha=0.5, linestyle='--', linewidth=0.5)\n",
    "\n",
    "    # Disable labels on the top and right of the plot\n",
    "    gl.top_labels = False\n",
    "    gl.right_labels = False\n",
    "\n",
    "    # Enable labels on the bottom and left of the plot\n",
    "    gl.bottom_labels = show_xticks\n",
    "    gl.left_labels = show_yticks\n",
    "    gl.xformatter = cticker.LongitudeFormatter()\n",
    "    gl.yformatter = cticker.LatitudeFormatter()\n",
    "    gl.xlabel_style = {'size': 14}\n",
    "    gl.ylabel_style = {'size': 14}\n",
    "    \n",
    "    if show_xticks:\n",
    "        gl.bottom_labels = True\n",
    "    if show_yticks:\n",
    "        gl.left_labels = True\n",
    "    \n",
    "    ax.set_title(title, loc='center', fontsize=18, pad=5.0)\n",
    "\n",
    "    return contour_obj"
   ]
  },
  {
   "cell_type": "code",
   "execution_count": null,
   "metadata": {},
   "outputs": [],
   "source": [
    "lat = trend_annual_da['10yr']['lat']\n",
    "lon = trend_annual_da['10yr']['lon']"
   ]
  },
  {
   "cell_type": "code",
   "execution_count": null,
   "metadata": {},
   "outputs": [],
   "source": [
    "lat"
   ]
  },
  {
   "cell_type": "code",
   "execution_count": null,
   "metadata": {},
   "outputs": [],
   "source": [
    "# define an asymmetric colormap\n",
    "from matplotlib.colors import LinearSegmentedColormap, Normalize\n",
    "from matplotlib.colors import BoundaryNorm\n",
    "import cartopy.util as cutil\n",
    "import seaborn as sns\n",
    "import matplotlib.colors as mcolors\n",
    "import palettable"
   ]
  },
  {
   "cell_type": "code",
   "execution_count": null,
   "metadata": {},
   "outputs": [],
   "source": [
    "trend_annual_da['10yr']"
   ]
  },
  {
   "cell_type": "code",
   "execution_count": null,
   "metadata": {},
   "outputs": [],
   "source": [
    "# title is from realization 1 to realization 21\n",
    "titles = ['r1', 'r2', 'r3', 'r4', 'r5', 'r6', 'r7', 'r8', 'r9', 'r10', \n",
    "          'r11', 'r12', 'r13', 'r14', 'r15', 'r16', 'r17', 'r18', 'r19', 'r20', 'r21',\n",
    "            'r22', 'r23', 'r24', 'r25', 'r26', 'r27', 'r28', 'r29', 'r30', 'r31',\n",
    "            'r32', 'r33', 'r34', 'r35', 'r36', 'r37', 'r38', 'r39', 'r40', 'r41',\n",
    "            'r42', 'r43', 'r44', 'r45', 'r46', 'r47', 'r48', 'r49', 'r50']\n",
    "trend_annual_data = trend_annual_da['60yr'].trend*10.0\n",
    "pvalue_annual_data = p_val_annual_da['60yr'].p_val\n",
    "\n",
    "levels = np.arange(-0.6, 0.65, 0.05)\n",
    "extend = 'both'"
   ]
  },
  {
   "cell_type": "code",
   "execution_count": null,
   "metadata": {},
   "outputs": [],
   "source": [
    "type(trend_annual_data)"
   ]
  },
  {
   "cell_type": "code",
   "execution_count": null,
   "metadata": {},
   "outputs": [],
   "source": [
    "print(trend_annual_data.dims)\n",
    "print(pvalue_annual_data.dims)"
   ]
  },
  {
   "cell_type": "code",
   "execution_count": null,
   "metadata": {},
   "outputs": [],
   "source": [
    "# check the min and max value of the trend\n",
    "print(trend_annual_data.min().values)\n",
    "print(trend_annual_data.max().values)"
   ]
  },
  {
   "cell_type": "code",
   "execution_count": null,
   "metadata": {},
   "outputs": [],
   "source": [
    "# Plot the trend patterns \n",
    "def plot_data(ax, title):\n",
    "    run_number = int(title.lstrip('r')) # Strip 'r' and convert to integer if necessary\n",
    "    print(run_number)\n",
    "    \n",
    "    trend_std_data = trend_annual_data.sel({'run': run_number}) \n",
    "    p_values = pvalue_annual_data.sel({'run': run_number})\n",
    "    \n",
    "    trend_std_data_with_cyclic, lon_cyclic = cutil.add_cyclic_point(trend_std_data, coord=lon)\n",
    "    p_values_with_cyclic, _ = cutil.add_cyclic_point(p_values, coord=lon)\n",
    "    \n",
    "    ax.set_global()\n",
    "    \n",
    "    # Assuming plot_trend_with_significance is defined correctly and returns a contour object\n",
    "    contour_obj = plot_trend_with_significance(trend_std_data_with_cyclic, lat, lon_cyclic,\n",
    "                                               p_values_with_cyclic,\n",
    "                                               levels=levels, extend=extend,\n",
    "                                               cmap='twilight_shifted', title=\" \",\n",
    "                                               ax=ax, \n",
    "                                               show_xticks=False, \n",
    "                                               show_yticks=False)\n",
    "    ax.text(0.5, 1.08, title, fontsize=10, ha='center', va='center', transform=ax.transAxes)  # Adjusted to use transform\n",
    "    ax.set_xticks([])\n",
    "    ax.set_yticks([])\n",
    "    return contour_obj\n",
    "\n",
    "# Prepare for the loop\n",
    "fig = plt.figure(figsize=(12, 15))\n",
    "gs = gridspec.GridSpec(10, 5, wspace=0.1, hspace=0.01)\n",
    "\n",
    "# Loop through and create subplots\n",
    "for i, title in enumerate(titles):\n",
    "    ax = fig.add_subplot(gs[i // 5, i % 5], projection=ccrs.Robinson(180))\n",
    "    contour_obj=plot_data(ax, title)\n",
    "    if i == 0:  # Arbitrarily choose the first plot's contour_obj for the colorbar\n",
    "        contour_obj_for_cbar = contour_obj\n",
    "        \n",
    "# Assuming contour_obj is defined and consistent across plots\n",
    "# Add horizontal colorbar\n",
    "cbar_ax = fig.add_axes([0.25, 0.06, 0.5, 0.012])  # Adjust these values as needed\n",
    "cbar = plt.colorbar(contour_obj, cax=cbar_ax, orientation='horizontal', extend='both')\n",
    "cbar.ax.tick_params(labelsize=14)\n",
    "cbar.set_label('Annual SAT Trend (°C/decade)', fontsize=16)\n",
    "\n",
    "plt.tight_layout()\n",
    "fig.savefig('ACCESS-1950-2022-60year-forced-trend-Patterns-sig90%.png', dpi=300, bbox_inches='tight')\n",
    "plt.show()"
   ]
  },
  {
   "cell_type": "code",
   "execution_count": null,
   "metadata": {},
   "outputs": [],
   "source": [
    "# client.close()\n",
    "# scluster.close()"
   ]
  }
 ],
 "metadata": {
  "kernelspec": {
   "display_name": "My Kernel",
   "language": "python",
   "name": "my-kernel"
  },
  "language_info": {
   "codemirror_mode": {
    "name": "ipython",
    "version": 3
   },
   "file_extension": ".py",
   "mimetype": "text/x-python",
   "name": "python",
   "nbconvert_exporter": "python",
   "pygments_lexer": "ipython3",
   "version": "3.9.16"
  }
 },
 "nbformat": 4,
 "nbformat_minor": 2
}
