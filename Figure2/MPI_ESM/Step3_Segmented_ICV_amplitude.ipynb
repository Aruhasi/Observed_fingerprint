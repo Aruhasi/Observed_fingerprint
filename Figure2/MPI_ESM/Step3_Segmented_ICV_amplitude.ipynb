{
 "cells": [
  {
   "cell_type": "code",
   "execution_count": null,
   "id": "89fc7789-c98b-4eb3-bd53-7b6a80515a0f",
   "metadata": {
    "tags": []
   },
   "outputs": [],
   "source": [
    "import numpy as np\n",
    "import xarray as xr\n",
    "import pandas as pd\n",
    "import matplotlib.pyplot as plt\n",
    "import cartopy.crs as ccrs\n",
    "import cartopy.feature as cfeature"
   ]
  },
  {
   "cell_type": "code",
   "execution_count": null,
   "id": "4a8116bf",
   "metadata": {},
   "outputs": [],
   "source": [
    "#In[2]:\n",
    "# define function\n",
    "import src.SAT_function as data_process\n",
    "import src.Data_Preprocess as preprosess"
   ]
  },
  {
   "cell_type": "code",
   "execution_count": null,
   "id": "9c157868",
   "metadata": {},
   "outputs": [],
   "source": [
    "import src.slurm_cluster as scluster\n",
    "client, scluster = scluster.init_dask_slurm_cluster(cores=40, memory=\"128GB\", walltime=\"01:30:00\")"
   ]
  },
  {
   "cell_type": "code",
   "execution_count": null,
   "id": "5952639e",
   "metadata": {},
   "outputs": [],
   "source": [
    "def func_mk(x):\n",
    "    \"\"\"\n",
    "    Mann-Kendall test for trend\n",
    "    \"\"\"\n",
    "    results = data_process.apply_mannkendall(x)\n",
    "    slope = results[0]\n",
    "    p_val = results[1]\n",
    "    return slope, p_val"
   ]
  },
  {
   "cell_type": "code",
   "execution_count": null,
   "id": "f0132846-56e9-4a2e-8fd3-02271dfb086b",
   "metadata": {
    "tags": []
   },
   "outputs": [],
   "source": [
    "# Input the MMEM of SAT-OBS internal variability\n",
    "import dask.array as da\n",
    "dir_residuals = '/work/mh0033/m301036/Land_surf_temp/Disentangling_OBS_SAT_trend/Figure2/MPI_ESM/'\n",
    "ds_MPI_ESM_1850_2022 = xr.open_mfdataset(dir_residuals + 'GSAT_MPI_ESM_Internal_Variability_anomalies_1850_2022.nc',\n",
    "                                         chunks={'run':1})"
   ]
  },
  {
   "cell_type": "code",
   "execution_count": null,
   "id": "75f10e23",
   "metadata": {},
   "outputs": [],
   "source": [
    "ds_MPI_ESM_1850_2022"
   ]
  },
  {
   "cell_type": "code",
   "execution_count": null,
   "id": "ccd5edcf",
   "metadata": {},
   "outputs": [],
   "source": [
    "# ds_MPI_ESM_1850_2022 = ds_MPI_ESM_1850_2022.rename({'__xarray_dataarray_variable__': 'tas'})"
   ]
  },
  {
   "cell_type": "code",
   "execution_count": null,
   "id": "6b28f988-f36c-473d-abe9-86bac086e3d4",
   "metadata": {
    "tags": []
   },
   "outputs": [],
   "source": [
    "# Generate the running windows of the residuals of SAT-OBS\n",
    "#       with a series of equal length with an interval of 5 years starting from 10 years to 100 years\n",
    "#       and calculate the trend pattern of each segment\n",
    "#       and calculate the ensemble standard deviation of the trend pattern of each interval of segments\n",
    "\n",
    "# define the function to generate the running windows of the residuals of SAT-OBS\n",
    "def generate_segments(data, segment_length):\n",
    "    \"\"\"\n",
    "    data: 3D array with dimensions [year, lat, lon]\n",
    "    segment_length: length of each segment in years\n",
    "    \"\"\"\n",
    "    years = range(int(data['year'].min().item()), int(data['year'].max().item()) - segment_length + 2)\n",
    "    print(years)\n",
    "    # Initialize an empty list to store the segments\n",
    "    segments = []\n",
    "    \n",
    "    # For each year in the range\n",
    "    for year in years:\n",
    "        # Extract the segment of data from that year to year + segment_length\n",
    "        segment = data.sel(year=slice(str(year), str(year + segment_length - 1)))\n",
    "        \n",
    "        # Append this segment to the list of segments\n",
    "        segments.append(segment)\n",
    "    \n",
    "    return segments"
   ]
  },
  {
   "cell_type": "code",
   "execution_count": null,
   "id": "9e56ac88-a9d9-49f7-b765-4660083b0068",
   "metadata": {
    "tags": []
   },
   "outputs": [],
   "source": [
    "# Generate the running windows of the residuals of SAT-OBS\n",
    "time_interval = [60]\n",
    "\n",
    "ICV_segments = {}\n",
    "for i in time_interval:\n",
    "    ICV_segments[i] = generate_segments(ds_MPI_ESM_1850_2022['tas'], segment_length=i)"
   ]
  },
  {
   "cell_type": "code",
   "execution_count": null,
   "id": "0d22750e-d773-4fd6-a799-a534eece1065",
   "metadata": {
    "tags": []
   },
   "outputs": [],
   "source": [
    "# Assuming ICV_segments is a dictionary with segment_length as keys and list of DataArray segments as values\n",
    "max_num_segments = max(len(segments) for segments in ICV_segments.values())\n",
    "segment_lengths = ICV_segments.keys()\n",
    "\n",
    "# Create a new Dataset to hold the new arrays\n",
    "new_ds = xr.Dataset()\n",
    "\n",
    "for segment_length in segment_lengths:\n",
    "    segments_list = ICV_segments[segment_length]\n",
    "    # print(segments_list)\n",
    "    \n",
    "    # Pad the segments list to have the same number of segments\n",
    "    padded_segments = segments_list.copy()\n",
    "    while len(padded_segments) < max_num_segments:\n",
    "        # Create a DataArray filled with NaNs to match the shape of the segments\n",
    "        nan_segment = xr.full_like(padded_segments[0], np.nan)\n",
    "        padded_segments.append(nan_segment)\n",
    "    \n",
    "    # Create a coordinate for the new segment dimension\n",
    "    segment_coord = range(max_num_segments)\n",
    "    \n",
    "    # Concatenate the padded segments with the new segment coordinate\n",
    "    concatenated = xr.concat(padded_segments, dim=segment_coord)\n",
    "    \n",
    "    # Assign a specific name to the new dimension\n",
    "    concatenated = concatenated.rename({'concat_dim': 'segment'})\n",
    "    \n",
    "    # Add the new DataArray to the new dataset\n",
    "    new_ds[f'ICV_segments_{segment_length}yr'] = concatenated"
   ]
  },
  {
   "cell_type": "code",
   "execution_count": null,
   "id": "d2d49180",
   "metadata": {},
   "outputs": [],
   "source": [
    "new_ds"
   ]
  },
  {
   "cell_type": "code",
   "execution_count": null,
   "id": "18796a6c",
   "metadata": {},
   "outputs": [],
   "source": [
    "ds_combined = xr.merge([ds_MPI_ESM_1850_2022, new_ds])"
   ]
  },
  {
   "cell_type": "code",
   "execution_count": null,
   "id": "e1dea401",
   "metadata": {},
   "outputs": [],
   "source": [
    "ds_combined"
   ]
  },
  {
   "cell_type": "code",
   "execution_count": null,
   "id": "13adaa4a",
   "metadata": {
    "tags": []
   },
   "outputs": [],
   "source": [
    "# check the minimum and maximum of the new variable\n",
    "# ds_combined['ICV_segments_30yr'].min().values, ds_combined['ICV_segments_30yr'].max().values"
   ]
  },
  {
   "cell_type": "code",
   "execution_count": null,
   "id": "361778be",
   "metadata": {
    "tags": []
   },
   "outputs": [],
   "source": [
    "# define function to calculate the standard deviation of the trend pattern of each interval of segments\n",
    "def std_trend_pattern(data):\n",
    "    \"\"\"\n",
    "    data: 4D array with dimensions [year, lat, lon, segment]\n",
    "    segment_length: length of each segment in years\n",
    "    \"\"\"\n",
    "    # calculate the standard deviation of the trend pattern of each interval of segments\n",
    "    std_trend_pattern = np.nanstd(data, axis=0)\n",
    "    \n",
    "    return std_trend_pattern"
   ]
  },
  {
   "cell_type": "code",
   "execution_count": null,
   "id": "848c5bdd-f1b9-4aee-8f3b-b886c6e472c1",
   "metadata": {
    "tags": []
   },
   "outputs": [],
   "source": [
    "# Calculate the trend pattern of each segment\n",
    "#       and calculate the ensemble standard deviation of the trend pattern of each interval of segments\n",
    "for segment_length in segment_lengths:\n",
    "    # Calculate the trend pattern of each segment\n",
    "    ds_combined[f'ICV_segments_{segment_length}yr_trend'], ds_combined[f'ICV_segments_{segment_length}yr_p_values'] = xr.apply_ufunc(\n",
    "        func_mk,\n",
    "        ds_combined[f'ICV_segments_{segment_length}yr'],\n",
    "        input_core_dims=[['year']],\n",
    "        output_core_dims=[[],[]],\n",
    "        vectorize=True,\n",
    "        dask='parallelized',\n",
    "        output_dtypes=[float, float]\n",
    "    )\n",
    "    # multiply the trend pattern of each segment with 10.0 to get the trend pattern in degC/decade\n",
    "    ds_combined[f'ICV_segments_{segment_length}yr_trend'] = ds_combined[f'ICV_segments_{segment_length}yr_trend']*10.0"
   ]
  },
  {
   "cell_type": "code",
   "execution_count": null,
   "id": "6df7c2b0",
   "metadata": {
    "tags": []
   },
   "outputs": [],
   "source": [
    "for segment_length in segment_lengths:\n",
    "    # Calculate the standard deviation of the trend pattern of each interval of segments\n",
    "    ds_combined[f'ICV_segments_{segment_length}yr_std_trend_pattern'] = xr.apply_ufunc(\n",
    "        std_trend_pattern,\n",
    "        ds_combined[f'ICV_segments_{segment_length}yr_trend'],\n",
    "        input_core_dims=[['segment']],\n",
    "        output_core_dims=[[ ]],\n",
    "        vectorize=True,\n",
    "        dask='parallelized',\n",
    "        output_dtypes=[float],\n",
    "        dask_gufunc_kwargs={'allow_rechunk': True}\n",
    "    )"
   ]
  },
  {
   "cell_type": "code",
   "execution_count": null,
   "id": "a580cd05",
   "metadata": {
    "tags": []
   },
   "outputs": [],
   "source": [
    "ds_combined"
   ]
  },
  {
   "cell_type": "code",
   "execution_count": null,
   "id": "4dcd9ded",
   "metadata": {},
   "outputs": [],
   "source": [
    "# calculate the ensemble mean of the trend pattern of each interval of segments;\n",
    "#     and save the ensemble mean of the trend pattern of each interval of segments to the dataset\n",
    "# for segment_length in segment_lengths:\n",
    "#     key_trend = f'ICV_segments_{segment_length}yr_trend'\n",
    "#     key_mean = f'ICV_segments_{segment_length}yr_trend_mean'\n",
    "\n",
    "#     if key_trend in ds_combined:\n",
    "#         # Calculate mean\n",
    "#         data = np.nanmean(ds_combined[key_trend], axis=0)\n",
    "        \n",
    "#         # Check if the mean key exists, if not, initialize it\n",
    "#         if key_mean not in ds_combined:\n",
    "#             ds_combined[key_mean] = []\n",
    "\n",
    "#         # Append data\n",
    "#         ds_combined[key_mean]= (['lat', 'lon'], data)"
   ]
  },
  {
   "cell_type": "code",
   "execution_count": null,
   "id": "018d9892",
   "metadata": {},
   "outputs": [],
   "source": [
    "ds_output = '/work/mh0033/m301036/Land_surf_temp/Disentangling_OBS_SAT_trend/Figure2/MPI_ESM/'\n",
    "# ds_combined['ICV_segments_10yr_std_trend_pattern'].to_netcdf(ds_output + 'ICV_segments_10yr_std_trend_pattern.nc')\n",
    "# ds_combined['ICV_segments_30yr_std_trend_pattern'].to_netcdf(ds_output + 'ICV_segments_30yr_std_trend_pattern.nc')\n",
    "ds_combined['ICV_segments_60yr_std_trend_pattern'].to_netcdf(ds_output + 'ICV_segments_60yr_std_trend_pattern.nc')"
   ]
  },
  {
   "cell_type": "code",
   "execution_count": null,
   "id": "2682b36f",
   "metadata": {},
   "outputs": [],
   "source": [
    "ds_combined['ICV_segments_60yr_std_trend_pattern']"
   ]
  },
  {
   "cell_type": "markdown",
   "id": "250b0183",
   "metadata": {},
   "source": [
    "### Plot the trend of the ICV patterns"
   ]
  },
  {
   "cell_type": "code",
   "execution_count": null,
   "id": "e881a39c",
   "metadata": {
    "tags": []
   },
   "outputs": [],
   "source": [
    "plt.rcParams['figure.figsize'] = (8, 10)\n",
    "plt.rcParams['font.size'] = 16\n",
    "# plt.rcParams['font.family'] = 'sans-serif'\n",
    "plt.rcParams['axes.labelsize'] = 16\n",
    "plt.rcParams['ytick.direction'] = 'out'\n",
    "plt.rcParams['ytick.minor.visible'] = True\n",
    "plt.rcParams['ytick.major.right'] = True\n",
    "plt.rcParams['ytick.right'] = True\n",
    "plt.rcParams['xtick.bottom'] = True\n",
    "plt.rcParams['savefig.dpi'] = 300\n",
    "plt.rcParams['savefig.bbox'] = 'tight'\n",
    "plt.rcParams['savefig.pad_inches'] = 0.1\n",
    "plt.rcParams['savefig.transparent'] = True\n",
    "\n",
    "import cartopy.crs as ccrs\n",
    "import matplotlib.pyplot as plt\n",
    "import matplotlib.colors as colors\n",
    "import matplotlib.ticker as mticker\n",
    "import cartopy.feature as cfeature\n",
    "import cartopy.mpl.ticker as cticker\n",
    "import matplotlib.patches as mpatches\n",
    "import matplotlib.lines as mlines\n",
    "import matplotlib.gridspec as gridspec\n",
    "import matplotlib as mpl\n",
    "import seaborn as sns\n",
    "from matplotlib.colors import ListedColormap\n",
    "from matplotlib.colors import BoundaryNorm, ListedColormap"
   ]
  },
  {
   "cell_type": "code",
   "execution_count": null,
   "id": "6f6a59d0",
   "metadata": {
    "tags": []
   },
   "outputs": [],
   "source": [
    "def plot_trend(trend_data, lats, lons, levels=None, extend=None,cmap=None, \n",
    "                                 title=\"\", ax=None, show_xticks=False, show_yticks=False):\n",
    "    \"\"\"\n",
    "    Plot the trend spatial pattern using Robinson projection with significance overlaid.\n",
    "\n",
    "    Parameters:\n",
    "    - trend_data: 2D numpy array with the trend values.\n",
    "    - lats, lons: 1D arrays of latitudes and longitudes.\n",
    "    - p_values: 2D array with p-values for each grid point.\n",
    "    - GMST_p_values: 2D array with GMST p-values for each grid point.\n",
    "    - title: Title for the plot.\n",
    "    - ax: Existing axis to plot on. If None, a new axis will be created.\n",
    "    - show_xticks, show_yticks: Boolean flags to show x and y axis ticks.\n",
    "    \n",
    "    Returns:\n",
    "    - contour_obj: The contour object from the plot.\n",
    "    \"\"\"\n",
    "# Create a new figure/axis if none is provided\n",
    "    if ax is None:\n",
    "        fig, ax = plt.subplots(figsize=(20, 15), subplot_kw={'projection': ccrs.Robinson()})\n",
    "        ax.set_global()\n",
    "        \n",
    "    contour_obj = ax.contourf(lons, lats, trend_data, levels=levels, extend=extend, cmap=cmap, transform=ccrs.PlateCarree(central_longitude=0))\n",
    "    # Plot significance masks with different hatches\n",
    "    # ax.contourf(lons, lats, significance_mask, levels=[0.05, 1.0],hatches=['///'], colors='none', transform=ccrs.PlateCarree())\n",
    "\n",
    "    ax.coastlines(resolution='110m')\n",
    "    gl = ax.gridlines(draw_labels=True, dms=True, x_inline=False, y_inline=False, linewidth=1, color='gray', alpha=0.35)\n",
    "\n",
    "    # Disable labels on the top and right of the plot\n",
    "    gl.top_labels = False\n",
    "    gl.right_labels = False\n",
    "\n",
    "    # Enable labels on the bottom and left of the plot\n",
    "    gl.bottom_labels = show_xticks\n",
    "    gl.left_labels = show_yticks\n",
    "    gl.xformatter = cticker.LongitudeFormatter()\n",
    "    gl.yformatter = cticker.LatitudeFormatter()\n",
    "    gl.xlabel_style = {'size': 14}\n",
    "    gl.ylabel_style = {'size': 14}\n",
    "    \n",
    "    if show_xticks:\n",
    "        gl.bottom_labels = True\n",
    "    if show_yticks:\n",
    "        gl.left_labels = True\n",
    "    \n",
    "    ax.set_title(title, loc='center', fontsize=18, pad=5.0)\n",
    "\n",
    "    return contour_obj"
   ]
  },
  {
   "cell_type": "code",
   "execution_count": null,
   "id": "2e4612d1",
   "metadata": {
    "tags": []
   },
   "outputs": [],
   "source": [
    "# define an asymmetric colormap\n",
    "from matplotlib.colors import LinearSegmentedColormap, Normalize\n",
    "from matplotlib.colors import BoundaryNorm\n",
    "\n",
    "intervals = [0.0, 0.05, 0.1, 0.15, 0.2, 0.3, 0.4, 0.5, 0.6, 0.7, 0.8, 0.9, 1.0, 1.2, 1.4, 1.6, 1.8, 2.0]\n",
    "\n",
    "# Normalizing the intervals to [0, 1]\n",
    "min_interval = min(intervals)\n",
    "max_interval = max(intervals)\n",
    "normalized_intervals = [(val - min_interval) / (max_interval - min_interval) for val in intervals]\n",
    "\n",
    "# colors = ['#2616D3', '#005EFF', '#0084FF', '#00A2FF', '#00BCDB', (1.0, 1.0, 1.0, 1.0),(1.0, 1.0, 1.0, 1.0),(1.0, 0.8, 0.5, 1.0),\n",
    "#     (1.0, 0.803921568627451, 0.607843137254902, 1.0), (1.0, 0.6000000000000001, 0.20000000000000018, 1.0),(1.0, 0.4039215686274509, 0.0, 1.0),(0.8999999999999999, 0.19999999999999996, 0.0, 1.0),\n",
    "#     (0.7470588235294118, 0.0, 0.0, 1.0), (0.6000000000000001, 0.0, 0.0, 1.0),(0.44705882352941173, 0.0, 0.0, 1.0),(0.30000000000000004, 0.0, 0.0, 1.0),(0.14705882352941177, 0.0, 0.0, 1.0),\n",
    "#     (0.0, 0.0, 0.0, 1.0)]\n",
    "\n",
    "# Creating a list of tuples with normalized positions and corresponding colors\n",
    "# color_list = list(zip(normalized_intervals, colors))\n",
    "\n",
    "# # Create the colormap\n",
    "# custom_cmap = LinearSegmentedColormap.from_list('my_custom_cmap', color_list)\n",
    "\n",
    "# # Create a normalization\n",
    "# norm = Normalize(vmin=min_interval, vmax=max_interval)"
   ]
  },
  {
   "cell_type": "code",
   "execution_count": null,
   "id": "f530d7ce",
   "metadata": {},
   "outputs": [],
   "source": [
    "import seaborn as sns\n",
    "import palettable\n",
    "from palettable.colorbrewer.diverging import RdBu_11_r\n",
    "import matplotlib.colors as mcolors\n",
    "\n",
    "cmap = mcolors.ListedColormap(palettable.cmocean.sequential.Amp_20.mpl_colors)"
   ]
  },
  {
   "cell_type": "markdown",
   "id": "4954da4c",
   "metadata": {},
   "source": [
    "### Plot 10yr 50 runs std pattern"
   ]
  },
  {
   "cell_type": "code",
   "execution_count": null,
   "id": "64979076",
   "metadata": {},
   "outputs": [],
   "source": [
    "import matplotlib.pyplot as plt\n",
    "from matplotlib.backends.backend_pdf import PdfPages\n",
    "\n",
    "# levels = np.arange(-0.5, 0.55, 0.05)\n",
    "levels = np.arange(0.0, 1.1, 0.1)\n",
    "extend = 'both'\n",
    "\n",
    "# Define the number of plots per page\n",
    "num_plots_per_page = 4\n",
    "num_subplots_x = 2  # Number of subplots in the x direction (columns)\n",
    "num_subplots_y = 2  # Number of subplots in the y direction (rows)\n",
    "\n",
    "# Define the dimensions of the figure for each page\n",
    "figsize_x = 20\n",
    "figsize_y = 12\n",
    "\n",
    "lat = ds_combined['lat'].values\n",
    "lon = ds_combined['lon'].values"
   ]
  },
  {
   "cell_type": "code",
   "execution_count": null,
   "id": "22551784",
   "metadata": {},
   "outputs": [],
   "source": [
    "start_year = 1950\n",
    "end_year = 2022\n",
    "min_length = 10\n",
    "\n",
    "extend = 'max'\n",
    "\"\"\"\n",
    "plot 50 runs of the trend pattern of the ICV segments of 10 years\n",
    "\"\"\"\n",
    "with PdfPages('./60yr_ICV_SAT_trend_figures.pdf') as pdf:\n",
    "    for start_page in range(0, len(ds_combined['ICV_segments_60yr_std_trend_pattern'].run), num_plots_per_page):\n",
    "        fig, axes = plt.subplots(num_subplots_y, num_subplots_x, figsize=(figsize_x, figsize_y),\n",
    "                                 subplot_kw={'projection': ccrs.Robinson(central_longitude=180)})\n",
    "        fig.subplots_adjust(hspace=0.4, wspace=0.4)\n",
    "        \n",
    "        for i in range(num_plots_per_page):\n",
    "            idx = start_page + i\n",
    "            if idx >= len(ds_combined['ICV_segments_60yr_std_trend_pattern'].run):\n",
    "                break\n",
    "            data = ds_combined['ICV_segments_60yr_std_trend_pattern'].isel(run=idx)\n",
    "            \n",
    "            ix = i % num_subplots_x\n",
    "            iy = i // num_subplots_x\n",
    "            \n",
    "            ax = axes[iy, ix]\n",
    "         \n",
    "            # # Add cyclic point to data\n",
    "            # data_with_cyclic, lon_cyclic = cutil.add_cyclic_point(data, coord=lon)\n",
    "            # p_values_with_cyclic, _ = cutil.add_cyclic_point(pvalue_annual_da[interval], coord=lon)\n",
    "            \n",
    "            # Plotting the data with significance\n",
    "            contour_obj = plot_trend(data, lat, lon, levels=levels, extend=extend, cmap=cmap,\n",
    "                                     title=\" \", ax=ax, show_xticks=True, show_yticks=True)\n",
    "            ax.set_title(f\"Trend for run {idx}\", fontsize=18)\n",
    "            ax.plot([-50,-10,-10,-50, -50], [42, 42, 60, 60, 42],\n",
    "            color='tab:blue', linewidth=2.0,\n",
    "            transform=ccrs.PlateCarree())\n",
    "\n",
    "        # Add colorbar for each page\n",
    "        cbar_ax = fig.add_axes([0.25, 0.05, 0.5, 0.02])\n",
    "        cbar = plt.colorbar(contour_obj, cax=cbar_ax, orientation='horizontal', extend=extend)\n",
    "        cbar.set_label('Annual SAT trend (°C per decade)', fontsize=16)\n",
    "        \n",
    "        # Save the page\n",
    "        pdf.savefig(fig)\n",
    "        plt.close(fig)"
   ]
  },
  {
   "cell_type": "code",
   "execution_count": null,
   "id": "d091a057",
   "metadata": {},
   "outputs": [],
   "source": [
    "\n",
    "titles = [\"10yr\",  \"30yr\", \"60yr\"]\n",
    "\n",
    "import cartopy.util as cutil\n",
    "# levels = np.arange(-0.2, 0.25, 0.025)\n",
    "# Define the GridSpec\n",
    "fig,ax = plt.subplots(1, 3, figsize=(20, 12), subplot_kw={'projection': ccrs.Robinson(180)})\n",
    "\n",
    "levels = np.arange(0.0, 1.1, 0.1)\n",
    "\n",
    "trend_data_10yr = ICV_STD_10yr['ICV_segments_10yr_std_trend_pattern'].values\n",
    "trend_with_cyclic_10yr, lon_with_cyclic = cutil.add_cyclic_point(trend_data_10yr, coord=lon)\n",
    "contour_obj = plot_trend(trend_with_cyclic_10yr, lat, lon_with_cyclic,levels=levels,extend='max',\n",
    "                    cmap=cmap,\n",
    "                    title=titles[0], ax=ax[0], show_xticks = True, show_yticks = True)\n",
    "\n",
    "trend_data_30yr = ICV_STD_30yr['ICV_segments_30yr_std_trend_pattern'].values\n",
    "trend_with_cyclic_30yr, lon_with_cyclic = cutil.add_cyclic_point(trend_data_30yr, coord=lon)\n",
    "contour_obj1 = plot_trend(trend_with_cyclic_30yr, lat, lon_with_cyclic,levels=levels,extend='max',\n",
    "                    cmap=cmap,\n",
    "                    title=titles[1], ax=ax[1], show_xticks = True, show_yticks = False)\n",
    "\n",
    "trend_data_60yr = ICV_STD_60yr['ICV_segments_60yr_std_trend_pattern'].values\n",
    "trend_with_cyclic_60yr, lon_with_cyclic = cutil.add_cyclic_point(trend_data_60yr, coord=lon)\n",
    "contour_obj2 = plot_trend(trend_with_cyclic_60yr, lat, lon_with_cyclic,levels=levels,extend='max',\n",
    "                    cmap=cmap,\n",
    "                    title=titles[2], ax=ax[2], show_xticks = True, show_yticks = False)\n",
    "# sns.color_palette(\"rocket_r\", as_cmap=True)\n",
    "# Add horizontal colorbars\n",
    "cbar_ax = fig.add_axes([0.3, 0.3, 0.5, 0.025])\n",
    "cbar = plt.colorbar(contour_obj, cax=cbar_ax, orientation='horizontal', extend='max')\n",
    "cbar.ax.tick_params(labelsize=18)\n",
    "cbar.set_label('°C/decade', fontsize=22)\n",
    "\n",
    "plt.tight_layout()\n",
    "fig.savefig('mpi-esm_realization_ICV_trend_std_patterns.png', dpi=300, bbox_inches='tight')\n",
    "plt.show()\n",
    "\n",
    "# titles = [\"10yr\", \"20yr\", \"30yr\", \"40yr\", \"50yr\", \"60yr\", \"70yr\"]\n",
    "\n",
    "# import cartopy.util as cutil\n",
    "# import matplotlib.patches as patches\n",
    "# # levels = np.arange(-0.2, 0.25, 0.025)\n",
    "# # Define the GridSpec\n",
    "# fig = plt.figure(figsize=(25, 15))\n",
    "# gs = gridspec.GridSpec(3, 3, height_ratios=[1, 1, 1], width_ratios=[1, 1, 1], wspace=0.1, hspace=0.1)\n",
    "\n",
    "# periods = [10, 20, 30, 40, 50, 60, 70]\n",
    "# for j, period in enumerate(periods):\n",
    "#     # Define the axes\n",
    "#     ax = fig.add_subplot(gs[j], projection=ccrs.Robinson(180))\n",
    "#     is_left = (j % 3 == 0)\n",
    "#     is_bottom_row = j >= (len(periods)//3)*3 \n",
    "\n",
    "#     trend_data = trend_mean_da[str(period)].values\n",
    "#     trend_with_cyclic, lon_with_cyclic = cutil.add_cyclic_point(trend_data, coord=lon)\n",
    "#     levels = np.arange(-0.2, 0.22, 0.02)\n",
    "#     contour_obj = plot_trend(trend_with_cyclic, lat, lon_with_cyclic,levels=levels,\n",
    "#                     cmap=cmap,\n",
    "#                     title=titles[j], ax=ax, show_xticks = is_bottom_row, show_yticks = is_left)\n",
    "  \n",
    "# # Add horizontal colorbars\n",
    "# cbar_ax = fig.add_axes([0.15, 0.02, 0.7, 0.035])\n",
    "# cbar = plt.colorbar(contour_obj, cax=cbar_ax, orientation='horizontal')\n",
    "# cbar.ax.tick_params(labelsize=18)\n",
    "# cbar.set_label('Annual SAT Trend (°C/decade)', fontsize=22)\n",
    "\n",
    "# plt.tight_layout()\n",
    "\n",
    "# fig.savefig('Supplementary_segmented_ICV_trend_ENSpatterns.png', dpi=300, bbox_inches='tight')\n",
    "# plt.show()"
   ]
  },
  {
   "cell_type": "code",
   "execution_count": null,
   "id": "bf98514a",
   "metadata": {},
   "outputs": [],
   "source": [
    "client.close()\n",
    "scluster.close()"
   ]
  },
  {
   "cell_type": "code",
   "execution_count": null,
   "id": "c17e252a",
   "metadata": {},
   "outputs": [],
   "source": []
  }
 ],
 "metadata": {
  "kernelspec": {
   "display_name": "My Kernel",
   "language": "python",
   "name": "my-kernel"
  },
  "language_info": {
   "codemirror_mode": {
    "name": "ipython",
    "version": 3
   },
   "file_extension": ".py",
   "mimetype": "text/x-python",
   "name": "python",
   "nbconvert_exporter": "python",
   "pygments_lexer": "ipython3",
   "version": "3.9.undefined"
  }
 },
 "nbformat": 4,
 "nbformat_minor": 5
}
