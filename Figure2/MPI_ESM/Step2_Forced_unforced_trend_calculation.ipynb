{
 "cells": [
  {
   "cell_type": "code",
   "execution_count": null,
   "metadata": {},
   "outputs": [],
   "source": [
    "# In[1]:\n",
    "import numpy as np\n",
    "import xarray as xr\n",
    "import pandas as pd\n",
    "import matplotlib.pyplot as plt\n",
    "import cartopy.crs as ccrs\n",
    "import cartopy.feature as cfeature\n",
    "# %%\n",
    "# define function\n",
    "import src.SAT_function as data_process\n",
    "import src.Data_Preprocess as preprocess"
   ]
  },
  {
   "cell_type": "code",
   "execution_count": null,
   "metadata": {},
   "outputs": [],
   "source": [
    "import src.slurm_cluster as scluster\n",
    "client, scluster = scluster.init_dask_slurm_cluster()"
   ]
  },
  {
   "cell_type": "code",
   "execution_count": null,
   "metadata": {},
   "outputs": [],
   "source": [
    "def func_mk(x):\n",
    "    \"\"\"\n",
    "    Mann-Kendall test for trend\n",
    "    \"\"\"\n",
    "    results = data_process.mk_test(x)\n",
    "    slope = results[0]\n",
    "    p_val = results[1]\n",
    "    return slope, p_val\n",
    " "
   ]
  },
  {
   "cell_type": "code",
   "execution_count": null,
   "metadata": {},
   "outputs": [],
   "source": [
    "dir1 ='/work/mh0033/m301036/Land_surf_temp/Disentangling_OBS_SAT_trend/Figure4_Validation/MPI_ESM/'\n",
    "MPI_ESM_forced = xr.open_dataset(dir1 + 'GSAT_MPI_ESM_Forced_anomalies_1850_2022.nc')\n",
    "MPI_ESM_internal = xr.open_dataset(dir1 + 'GSAT_MPI_ESM_Internal_Variability_anomalies_1850_2022.nc')"
   ]
  },
  {
   "cell_type": "code",
   "execution_count": null,
   "metadata": {},
   "outputs": [],
   "source": [
    "MPI_ESM_internal"
   ]
  },
  {
   "cell_type": "markdown",
   "metadata": {},
   "source": [
    "### Calculate the trend in 10, 30, 60yr"
   ]
  },
  {
   "cell_type": "code",
   "execution_count": null,
   "metadata": {},
   "outputs": [],
   "source": [
    "variable_name = ['10yr', '30yr', '60yr']\n",
    "# define the function\n",
    "def separate_data_into_intervals(data, start_year, end_year, time_interval):\n",
    "    \"\"\"\n",
    "    This function is used to separate the data into different time intervals\n",
    "    \"\"\"\n",
    "    # create a dictionary to store the data\n",
    "    data_dict = {}\n",
    "    for i in range(len(variable_name)):\n",
    "        # calculate the start year and end year\n",
    "        start_year = time_interval[variable_name[i]][0]\n",
    "        end_year = time_interval[variable_name[i]][1]\n",
    "        # select the data\n",
    "        data_dict[variable_name[i]] = data.sel(year=slice(str(start_year), str(end_year)))\n",
    "    return data_dict"
   ]
  },
  {
   "cell_type": "code",
   "execution_count": null,
   "metadata": {},
   "outputs": [],
   "source": [
    "time_interval = {\n",
    "    \"10yr\":(2013,2022),\n",
    "    \"30yr\":(1993,2022),\n",
    "    \"60yr\":(1963,2022)\n",
    "}\n",
    "start_year = 1950\n",
    "end_year   = 2022"
   ]
  },
  {
   "cell_type": "code",
   "execution_count": null,
   "metadata": {},
   "outputs": [],
   "source": [
    "MPI_ESM_forced_data_dict = separate_data_into_intervals(MPI_ESM_forced, start_year, end_year, time_interval)\n",
    "MPI_ESM_unforced_data_dict = separate_data_into_intervals(MPI_ESM_internal, start_year, end_year, time_interval)"
   ]
  },
  {
   "cell_type": "code",
   "execution_count": null,
   "metadata": {},
   "outputs": [],
   "source": [
    "# Calculate the trend and p-value for each time interval of each realization\n",
    "trend_dict = {}\n",
    "pvalue_dict = {}\n",
    "\n",
    "for i in range(len(variable_name)):\n",
    "    data_var = MPI_ESM_forced_data_dict[variable_name[i]]['tas']\n",
    "    \n",
    "    slope, p_values = xr.apply_ufunc(\n",
    "        func_mk,\n",
    "        data_var,\n",
    "        input_core_dims=[[\"year\"]],\n",
    "        output_core_dims=[[], []],\n",
    "        vectorize=True,\n",
    "        dask=\"parallelized\",\n",
    "        output_dtypes=[float, float],\n",
    "        dask_gufunc_kwargs={'allow_rechunk': True}\n",
    "    )\n",
    "    trend_dict[variable_name[i]] = slope\n",
    "    pvalue_dict[variable_name[i]] = p_values"
   ]
  },
  {
   "cell_type": "code",
   "execution_count": null,
   "metadata": {},
   "outputs": [],
   "source": [
    "trend_dict"
   ]
  },
  {
   "cell_type": "code",
   "execution_count": null,
   "metadata": {},
   "outputs": [],
   "source": [
    "trend_annual_np = {}\n",
    "pvalue_annual_np = {}\n",
    "\n",
    "for i in range(len(variable_name)):\n",
    "    trend_annual_np[variable_name[i]] = trend_dict[variable_name[i]].values\n",
    "    pvalue_annual_np[variable_name[i]] = pvalue_dict[variable_name[i]].values\n",
    "    \n",
    "trend_annual_np['10yr']"
   ]
  },
  {
   "cell_type": "code",
   "execution_count": null,
   "metadata": {},
   "outputs": [],
   "source": [
    "trend_annual_da = {}\n",
    "pvalue_annual_da = {}\n",
    "\n",
    "for interval, data in trend_annual_np.items():\n",
    "    trend_annual_da[interval] = xr.DataArray(data, dims=[\"run\",\"lat\", \"lon\"], coords={\"run\": MPI_ESM_forced_data_dict[interval].run, \n",
    "    \"lat\": MPI_ESM_forced_data_dict[interval].lat, \"lon\": MPI_ESM_forced_data_dict[interval].lon})\n",
    "for interval, data in pvalue_annual_np.items():\n",
    "    pvalue_annual_da[interval] = xr.DataArray(data, dims=[\"run\",\"lat\", \"lon\"], coords={\"run\": MPI_ESM_forced_data_dict[interval].run, \n",
    "    \"lat\": MPI_ESM_forced_data_dict[interval].lat, \"lon\": MPI_ESM_forced_data_dict[interval].lon})"
   ]
  },
  {
   "cell_type": "code",
   "execution_count": null,
   "metadata": {},
   "outputs": [],
   "source": [
    "# out put the forced trend and pvalue\n",
    "dir_out ='/work/mh0033/m301036/Land_surf_temp/Disentangling_OBS_SAT_trend/Figure2/MPI_ESM/trend/'\n",
    "\n",
    "for interval, data in trend_annual_da.items():\n",
    "    data.to_netcdf(dir_out + 'MPI_ESM_forced_' + interval + '_trend.nc')\n",
    "for interval, data in pvalue_annual_da.items():\n",
    "    data.to_netcdf(dir_out + 'MPI_ESM_forced_' + interval + '_pvalue.nc')"
   ]
  },
  {
   "cell_type": "code",
   "execution_count": null,
   "metadata": {},
   "outputs": [],
   "source": [
    "trend_annual_da"
   ]
  },
  {
   "cell_type": "code",
   "execution_count": null,
   "metadata": {},
   "outputs": [],
   "source": [
    "# Put the original data into a dictionary\n",
    "pvalue_annual_da"
   ]
  },
  {
   "cell_type": "markdown",
   "metadata": {},
   "source": [
    "### unforced trend calculation"
   ]
  },
  {
   "cell_type": "code",
   "execution_count": null,
   "metadata": {},
   "outputs": [],
   "source": [
    "unforced_trend_dict = {}\n",
    "unforced_pvalue_dict = {}\n",
    "\n",
    "for i in range(len(variable_name)):\n",
    "    data_var = MPI_ESM_unforced_data_dict[variable_name[i]]['tas']\n",
    "    \n",
    "    slope, p_values = xr.apply_ufunc(\n",
    "        func_mk,\n",
    "        data_var,\n",
    "        input_core_dims=[[\"year\"]],\n",
    "        output_core_dims=[[], []],\n",
    "        vectorize=True,\n",
    "        dask=\"parallelized\",\n",
    "        output_dtypes=[float, float],\n",
    "        dask_gufunc_kwargs={'allow_rechunk': True}\n",
    "    )\n",
    "    unforced_trend_dict[variable_name[i]] = slope\n",
    "    unforced_pvalue_dict[variable_name[i]] = p_values"
   ]
  },
  {
   "cell_type": "code",
   "execution_count": null,
   "metadata": {},
   "outputs": [],
   "source": [
    "unforced_trend_np = {}\n",
    "unforced_pvalue_np = {}\n",
    "\n",
    "for i in range(len(variable_name)):\n",
    "    unforced_trend_np[variable_name[i]] = unforced_trend_dict[variable_name[i]].values\n",
    "    unforced_pvalue_np[variable_name[i]] = unforced_pvalue_dict[variable_name[i]].values\n",
    "\n",
    "unforced_trend_da = {}\n",
    "unforced_pvalue_da = {}\n",
    "\n",
    "for interval, data in unforced_trend_np.items():\n",
    "    unforced_trend_da[interval] = xr.DataArray(data, dims=[\"run\",\"lat\", \"lon\"], coords={\"run\": MPI_ESM_unforced_data_dict[interval].run, \n",
    "    \"lat\": MPI_ESM_unforced_data_dict[interval].lat, \"lon\": MPI_ESM_unforced_data_dict[interval].lon})\n",
    "for interval, data in unforced_pvalue_np.items():\n",
    "    unforced_pvalue_da[interval] = xr.DataArray(data, dims=[\"run\",\"lat\", \"lon\"], coords={\"run\": MPI_ESM_unforced_data_dict[interval].run, \n",
    "    \"lat\": MPI_ESM_unforced_data_dict[interval].lat, \"lon\": MPI_ESM_unforced_data_dict[interval].lon})\n"
   ]
  },
  {
   "cell_type": "code",
   "execution_count": null,
   "metadata": {},
   "outputs": [],
   "source": [
    "unforced_trend_da"
   ]
  },
  {
   "cell_type": "code",
   "execution_count": null,
   "metadata": {},
   "outputs": [],
   "source": [
    "dir_out ='/work/mh0033/m301036/Land_surf_temp/Disentangling_OBS_SAT_trend/Figure4_Validation/MPI_ESM/trend/'\n",
    "for interval, data in unforced_trend_da.items():\n",
    "    data.to_netcdf(dir_out + 'MPI_ESM_unforced_' + interval + '_trend.nc')\n",
    "for interval, data in unforced_pvalue_da.items():\n",
    "    data.to_netcdf(dir_out + 'MPI_ESM_unforced_' + interval + '_pvalue.nc')"
   ]
  },
  {
   "cell_type": "code",
   "execution_count": null,
   "metadata": {},
   "outputs": [],
   "source": [
    "dir_input = '/work/mh0033/m301036/Land_surf_temp/Disentangling_OBS_SAT_trend/Supp_Figure1_Forced/data/MPI_ESM_Single/'\n",
    "\n",
    "MPI_ESM_10yr_trend   = xr.open_dataset(dir_input + 'MPI_ESM_annual_10yr_ensemble_mean_trend.nc')\n",
    "MPI_ESM_30yr_trend   = xr.open_dataset(dir_input + 'MPI_ESM_annual_30yr_ensemble_mean_trend.nc')\n",
    "MPI_ESM_60yr_trend   = xr.open_dataset(dir_input + 'MPI_ESM_annual_60yr_ensemble_mean_trend.nc')"
   ]
  },
  {
   "cell_type": "code",
   "execution_count": null,
   "metadata": {},
   "outputs": [],
   "source": [
    "# pattern correlation betwenn observed forced pattern vs. Model simulated forced pattern\n",
    "import scipy.stats as stats\n",
    "# 10yr forced trend in each realization .vs. MPI_ESM ensemble trend MPI_ESM_10yr_trend\n",
    "MPI_ESM_forced_10yr_trend = trend_annual_da['10yr']\n",
    "MPI_ESM_forced_30yr_trend = trend_annual_da['30yr']\n",
    "MPI_ESM_forced_60yr_trend = trend_annual_da['60yr']\n",
    "\n",
    "MPI_ESM_unforced_10yr_trend = unforced_trend_da['10yr']\n",
    "MPI_ESM_unforced_30yr_trend = unforced_trend_da['30yr']\n",
    "MPI_ESM_unforced_60yr_trend = unforced_trend_da['60yr']\n",
    "\n",
    "# Pattern correlations calculation\n",
    "trend_pattern_correlation_10yr = []\n",
    "for i in range(len(trend_annual_da['10yr'].run)):\n",
    "    trend_pattern_correlation_10yr.append(stats.pearsonr(MPI_ESM_forced_10yr_trend.isel(run=i).values.flatten(), MPI_ESM_10yr_trend['tas'].values.flatten())[0])\n",
    "\n",
    "trend_pattern_correlation_30yr = []\n",
    "for i in range(len(trend_annual_da['30yr'].run)):\n",
    "    trend_pattern_correlation_30yr.append(stats.pearsonr(MPI_ESM_forced_30yr_trend.isel(run=i).values.flatten(), MPI_ESM_30yr_trend['tas'].values.flatten())[0])\n",
    "\n",
    "trend_pattern_correlation_60yr = []\n",
    "for i in range(len(trend_annual_da['60yr'].run)):\n",
    "    trend_pattern_correlation_60yr.append(stats.pearsonr(MPI_ESM_forced_60yr_trend.isel(run=i).values.flatten(), MPI_ESM_60yr_trend['tas'].values.flatten())[0])\n",
    "    "
   ]
  },
  {
   "cell_type": "code",
   "execution_count": null,
   "metadata": {},
   "outputs": [],
   "source": [
    "trend_pattern_correlation_10yr"
   ]
  },
  {
   "cell_type": "code",
   "execution_count": null,
   "metadata": {},
   "outputs": [],
   "source": [
    "with open('pattern_correlations_vs_mean_of_trend.txt', 'w') as file:\n",
    "    file.write('10-year Trend Pattern Correlations:\\n')\n",
    "    for correlation in trend_pattern_correlation_10yr:\n",
    "        file.write(f\"{correlation}\\n\")\n",
    "\n",
    "    file.write('\\n30-year Trend Pattern Correlations:\\n')\n",
    "    for correlation in trend_pattern_correlation_30yr:\n",
    "        file.write(f\"{correlation}\\n\")\n",
    "\n",
    "    file.write('\\n60-year Trend Pattern Correlations:\\n')\n",
    "    for correlation in trend_pattern_correlation_60yr:\n",
    "        file.write(f\"{correlation}\\n\")"
   ]
  },
  {
   "cell_type": "code",
   "execution_count": null,
   "metadata": {},
   "outputs": [],
   "source": [
    "# save the pattern correlation into text file\n",
    "# Save to a text file\n",
    "with open('pattern_correlations.txt', 'w') as file:\n",
    "    file.write('10-year Trend Pattern Correlations:\\n')\n",
    "    for correlation in trend_pattern_correlation_10yr:\n",
    "        file.write(f\"{correlation}\\n\")\n",
    "\n",
    "    file.write('\\n30-year Trend Pattern Correlations:\\n')\n",
    "    for correlation in trend_pattern_correlation_30yr:\n",
    "        file.write(f\"{correlation}\\n\")\n",
    "\n",
    "    file.write('\\n60-year Trend Pattern Correlations:\\n')\n",
    "    for correlation in trend_pattern_correlation_60yr:\n",
    "        file.write(f\"{correlation}\\n\")"
   ]
  },
  {
   "cell_type": "code",
   "execution_count": null,
   "metadata": {},
   "outputs": [],
   "source": [
    "# Input the observational forced and unforced trend wrt. MPI_ESM-CM6A-LR\n",
    "dir_obs_MPI_ESM = '/work/mh0033/m301036/Land_surf_temp/Disentangling_OBS_SAT_trend/Figure1/data/'\n",
    "\n",
    "Obs_MPI_ESM_forced_10yr_trend = xr.open_dataset(dir_obs_MPI_ESM + 'HadCRUT5_annual_forced_10yr_trend_MPI_ESM.nc')\n",
    "Obs_MPI_ESM_forced_30yr_trend = xr.open_dataset(dir_obs_MPI_ESM + 'HadCRUT5_annual_forced_30yr_trend_MPI_ESM.nc')\n",
    "Obs_MPI_ESM_forced_60yr_trend = xr.open_dataset(dir_obs_MPI_ESM + 'HadCRUT5_annual_forced_60yr_trend_MPI_ESM.nc')\n",
    "\n",
    "Obs_MPI_ESM_unforced_10yr_trend = xr.open_dataset(dir_obs_MPI_ESM + 'HadCRUT5_annual_internal_10yr_trend_MPI_ESM.nc')\n",
    "Obs_MPI_ESM_unforced_30yr_trend = xr.open_dataset(dir_obs_MPI_ESM + 'HadCRUT5_annual_internal_30yr_trend_MPI_ESM.nc')\n",
    "Obs_MPI_ESM_unforced_60yr_trend = xr.open_dataset(dir_obs_MPI_ESM + 'HadCRUT5_annual_internal_60yr_trend_MPI_ESM.nc')"
   ]
  },
  {
   "cell_type": "code",
   "execution_count": null,
   "metadata": {},
   "outputs": [],
   "source": [
    "Obs_MPI_ESM_unforced_10yr_trend"
   ]
  },
  {
   "cell_type": "code",
   "execution_count": null,
   "metadata": {},
   "outputs": [],
   "source": [
    "# calculate the pattern correlation between observed and model's each realization simulated forced and unforced trend\n",
    "OBS_trend_pattern_correlation_10yr = []\n",
    "for i in range(len(trend_annual_da['10yr'].run)):\n",
    "    print(i)\n",
    "    OBS_trend_pattern_correlation_10yr.append(stats.pearsonr(MPI_ESM_forced_10yr_trend.isel(run=i).values.flatten(), Obs_MPI_ESM_forced_10yr_trend['tas'].values.flatten())[0])\n",
    "\n",
    "OBS_trend_pattern_correlation_30yr = []\n",
    "for i in range(len(trend_annual_da['30yr'].run)):\n",
    "    print(i)\n",
    "    OBS_trend_pattern_correlation_30yr.append(stats.pearsonr(MPI_ESM_forced_30yr_trend.isel(run=i).values.flatten(), Obs_MPI_ESM_forced_30yr_trend['tas'].values.flatten())[0])\n",
    "\n",
    "OBS_trend_pattern_correlation_60yr = []\n",
    "for i in range(len(trend_annual_da['60yr'].run)):\n",
    "    print(i)\n",
    "    OBS_trend_pattern_correlation_60yr.append(stats.pearsonr(MPI_ESM_forced_60yr_trend.isel(run=i).values.flatten(), Obs_MPI_ESM_forced_60yr_trend['tas'].values.flatten())[0])"
   ]
  },
  {
   "cell_type": "code",
   "execution_count": null,
   "metadata": {},
   "outputs": [],
   "source": [
    "# Save to a text file\n",
    "with open('obsForced_MPI_ESMforced_pattern_correlations.txt', 'w') as file:\n",
    "    file.write('10-year Trend Pattern Correlations:\\n')\n",
    "    for correlation in OBS_trend_pattern_correlation_10yr:\n",
    "        file.write(f\"{correlation}\\n\")\n",
    "\n",
    "    file.write('\\n30-year Trend Pattern Correlations:\\n')\n",
    "    for correlation in OBS_trend_pattern_correlation_30yr:\n",
    "        file.write(f\"{correlation}\\n\")\n",
    "\n",
    "    file.write('\\n60-year Trend Pattern Correlations:\\n')\n",
    "    for correlation in OBS_trend_pattern_correlation_60yr:\n",
    "        file.write(f\"{correlation}\\n\")"
   ]
  },
  {
   "cell_type": "code",
   "execution_count": null,
   "metadata": {},
   "outputs": [],
   "source": [
    "OBS_trend_pattern_correlation_10yr"
   ]
  },
  {
   "cell_type": "code",
   "execution_count": null,
   "metadata": {},
   "outputs": [],
   "source": [
    "OBS_unforced_trend_pattern_correlation_10yr = []\n",
    "for i in range(len(trend_annual_da['10yr'].run)):\n",
    "    OBS_unforced_trend_pattern_correlation_10yr.append(stats.pearsonr(MPI_ESM_unforced_10yr_trend.isel(run=i).values.flatten(), Obs_MPI_ESM_unforced_10yr_trend['tas'].values.flatten())[0])\n",
    "    \n",
    "OBS_unforced_trend_pattern_correlation_30yr = []\n",
    "for i in range(len(trend_annual_da['30yr'].run)):\n",
    "    OBS_unforced_trend_pattern_correlation_30yr.append(stats.pearsonr(MPI_ESM_unforced_30yr_trend.isel(run=i).values.flatten(), Obs_MPI_ESM_unforced_30yr_trend['tas'].values.flatten())[0])\n",
    "    \n",
    "OBS_unforced_trend_pattern_correlation_60yr = []\n",
    "for i in range(len(trend_annual_da['60yr'].run)):\n",
    "    OBS_unforced_trend_pattern_correlation_60yr.append(stats.pearsonr(MPI_ESM_unforced_60yr_trend.isel(run=i).values.flatten(), Obs_MPI_ESM_unforced_60yr_trend['tas'].values.flatten())[0])"
   ]
  },
  {
   "cell_type": "code",
   "execution_count": null,
   "metadata": {},
   "outputs": [],
   "source": [
    "OBS_unforced_trend_pattern_correlation_30yr"
   ]
  },
  {
   "cell_type": "code",
   "execution_count": null,
   "metadata": {},
   "outputs": [],
   "source": [
    "# Save to a text file\n",
    "with open('obsUnforced_MPI_ESMunforced_pattern_correlations.txt', 'w') as file:\n",
    "    file.write('10-year Trend Pattern Correlations:\\n')\n",
    "    for correlation in OBS_unforced_trend_pattern_correlation_10yr:\n",
    "        file.write(f\"{correlation}\\n\")\n",
    "\n",
    "    file.write('\\n30-year Trend Pattern Correlations:\\n')\n",
    "    for correlation in OBS_unforced_trend_pattern_correlation_30yr:\n",
    "        file.write(f\"{correlation}\\n\")\n",
    "\n",
    "    file.write('\\n60-year Trend Pattern Correlations:\\n')\n",
    "    for correlation in OBS_unforced_trend_pattern_correlation_60yr:\n",
    "        file.write(f\"{correlation}\\n\")"
   ]
  },
  {
   "cell_type": "code",
   "execution_count": null,
   "metadata": {},
   "outputs": [],
   "source": [
    "client.close()\n",
    "scluster.close()"
   ]
  }
 ],
 "metadata": {
  "kernelspec": {
   "display_name": "My Kernel",
   "language": "python",
   "name": "my-kernel"
  },
  "language_info": {
   "codemirror_mode": {
    "name": "ipython",
    "version": 3
   },
   "file_extension": ".py",
   "mimetype": "text/x-python",
   "name": "python",
   "nbconvert_exporter": "python",
   "pygments_lexer": "ipython3",
   "version": "3.9.16"
  }
 },
 "nbformat": 4,
 "nbformat_minor": 2
}
