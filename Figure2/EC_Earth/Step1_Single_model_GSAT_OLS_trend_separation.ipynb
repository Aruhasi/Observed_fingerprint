{
 "cells": [
  {
   "cell_type": "code",
   "execution_count": null,
   "metadata": {},
   "outputs": [],
   "source": [
    "# In[1]:\n",
    "import numpy as np\n",
    "import xarray as xr\n",
    "import pandas as pd\n",
    "import matplotlib.pyplot as plt\n",
    "import cartopy.crs as ccrs\n",
    "import cartopy.feature as cfeature\n",
    "# %%\n",
    "# define function\n",
    "import src.SAT_function as data_process\n",
    "import src.Data_Preprocess as preprocess"
   ]
  },
  {
   "cell_type": "code",
   "execution_count": null,
   "metadata": {},
   "outputs": [],
   "source": [
    "import src.slurm_cluster as scluster\n",
    "# client, scluster = scluster.init_dask_slurm_cluster()"
   ]
  },
  {
   "cell_type": "code",
   "execution_count": null,
   "metadata": {},
   "outputs": [],
   "source": [
    "def func_mk(x):\n",
    "    \"\"\"\n",
    "    Mann-Kendall test for trend\n",
    "    \"\"\"\n",
    "    results = data_process.mk_test(x)\n",
    "    slope = results[0]\n",
    "    p_val = results[1]\n",
    "    return slope, p_val\n",
    " "
   ]
  },
  {
   "cell_type": "code",
   "execution_count": null,
   "metadata": {},
   "outputs": [],
   "source": [
    "# Input the MMEM annual mean SAT data\n",
    "input_model = '/work/mh0033/m301036/Land_surf_temp/Disentangling_OBS_SAT_trend/Datafiles/'\n",
    "\n",
    "EC_Earth_data = xr.open_mfdataset(input_model + 'tas_EC_Earth_annual_ano_1850_2022.nc',chunks = {'run':1})"
   ]
  },
  {
   "cell_type": "code",
   "execution_count": null,
   "metadata": {},
   "outputs": [],
   "source": [
    "EC_Earth_data"
   ]
  },
  {
   "cell_type": "markdown",
   "metadata": {},
   "source": [
    "### Apply the MMEs GSAT timeseries to extract forced and unforced component of GSAT"
   ]
  },
  {
   "cell_type": "code",
   "execution_count": null,
   "metadata": {},
   "outputs": [],
   "source": [
    "# input GSAT time series\n",
    "input_ts_dir = '/work/mh0033/m301036/Land_surf_temp/Disentangling_OBS_SAT_trend/Figure1/'\n",
    "\n",
    "GSAT_EC_Earth_annual = xr.open_dataset(input_ts_dir + 'GMSAT_EC_Earth_annual_timeseries_ENS.nc')\n",
    "GSAT_EC_Earth_annual"
   ]
  },
  {
   "cell_type": "code",
   "execution_count": null,
   "metadata": {},
   "outputs": [],
   "source": [
    "EC_Earth_data['tas'].values.shape"
   ]
  },
  {
   "cell_type": "code",
   "execution_count": null,
   "metadata": {},
   "outputs": [],
   "source": [
    "slope_Forced_signal, intercept_Forced_signal = data_process.linear_regression_single_gmst_multi_sat(\n",
    "    GSAT_EC_Earth_annual['tas'],\n",
    "    EC_Earth_data['tas'].values)"
   ]
  },
  {
   "cell_type": "code",
   "execution_count": null,
   "metadata": {},
   "outputs": [],
   "source": [
    "# separate the GSAT into forced and internal variability\n",
    "lat = EC_Earth_data['lat']\n",
    "lon = EC_Earth_data['lon']\n",
    "run = EC_Earth_data['run']"
   ]
  },
  {
   "cell_type": "code",
   "execution_count": null,
   "metadata": {},
   "outputs": [],
   "source": [
    "slope_Forced_signal.shape"
   ]
  },
  {
   "cell_type": "code",
   "execution_count": null,
   "metadata": {},
   "outputs": [],
   "source": [
    "slope_Forced_signal_da = xr.DataArray(slope_Forced_signal, coords=[run,lat, lon], dims=['run','lat', 'lon'])\n",
    "intercept_Forced_signal_da = xr.DataArray(intercept_Forced_signal, coords=[run, lat, lon], dims=['run','lat', 'lon'])"
   ]
  },
  {
   "cell_type": "code",
   "execution_count": null,
   "metadata": {},
   "outputs": [],
   "source": [
    "intercept_Forced_signal_da"
   ]
  },
  {
   "cell_type": "code",
   "execution_count": null,
   "metadata": {},
   "outputs": [],
   "source": [
    "# reconstruct the forced signal\n",
    "GSAT_EC_Earth_Forced_signal = GSAT_EC_Earth_annual['tas'] * slope_Forced_signal_da  + intercept_Forced_signal_da\n"
   ]
  },
  {
   "cell_type": "code",
   "execution_count": null,
   "metadata": {},
   "outputs": [],
   "source": [
    "# reorder the dimensions\n",
    "GSAT_EC_Earth_Forced_signal = GSAT_EC_Earth_Forced_signal.transpose('run','year','lat','lon') "
   ]
  },
  {
   "cell_type": "code",
   "execution_count": null,
   "metadata": {},
   "outputs": [],
   "source": [
    "GSAT_EC_Earth_Forced_signal"
   ]
  },
  {
   "cell_type": "code",
   "execution_count": null,
   "metadata": {},
   "outputs": [],
   "source": [
    "# calculate the internal variability\n",
    "GSAT_EC_Earth_Internal_variability = EC_Earth_data - GSAT_EC_Earth_Forced_signal"
   ]
  },
  {
   "cell_type": "code",
   "execution_count": null,
   "metadata": {},
   "outputs": [],
   "source": [
    "GSAT_EC_Earth_Internal_variability['tas'].min().values"
   ]
  },
  {
   "cell_type": "code",
   "execution_count": null,
   "metadata": {},
   "outputs": [],
   "source": [
    "# output the forced and unforced anomalies\n",
    "output_dir = '/work/mh0033/m301036/Land_surf_temp/Disentangling_OBS_SAT_trend/Figure2/EC_Earth/'\n",
    "\n",
    "GSAT_EC_Earth_Forced_signal.to_netcdf(output_dir + 'GSAT_EC_Earth_Forced_anomalies_1850_2022.nc')\n",
    "GSAT_EC_Earth_Internal_variability.to_netcdf(output_dir + 'GSAT_EC_Earth_Internal_Variability_anomalies_1850_2022.nc')"
   ]
  },
  {
   "cell_type": "code",
   "execution_count": null,
   "metadata": {},
   "outputs": [],
   "source": []
  }
 ],
 "metadata": {
  "kernelspec": {
   "display_name": "My Kernel",
   "language": "python",
   "name": "my-kernel"
  },
  "language_info": {
   "codemirror_mode": {
    "name": "ipython",
    "version": 3
   },
   "file_extension": ".py",
   "mimetype": "text/x-python",
   "name": "python",
   "nbconvert_exporter": "python",
   "pygments_lexer": "ipython3",
   "version": "3.9.16"
  }
 },
 "nbformat": 4,
 "nbformat_minor": 2
}
