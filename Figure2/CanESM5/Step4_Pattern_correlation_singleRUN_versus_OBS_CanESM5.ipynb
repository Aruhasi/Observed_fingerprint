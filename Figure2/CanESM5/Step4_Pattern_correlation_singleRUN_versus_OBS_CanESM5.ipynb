{
 "cells": [
  {
   "cell_type": "code",
   "execution_count": null,
   "metadata": {},
   "outputs": [],
   "source": [
    "# In[1]:\n",
    "import numpy as np\n",
    "import xarray as xr\n",
    "import pandas as pd\n",
    "import matplotlib.pyplot as plt\n",
    "import cartopy.crs as ccrs\n",
    "import cartopy.feature as cfeature\n",
    "# %%\n",
    "# define function\n",
    "import src.SAT_function as data_process\n",
    "import src.Data_Preprocess as preprocess"
   ]
  },
  {
   "cell_type": "code",
   "execution_count": null,
   "metadata": {},
   "outputs": [],
   "source": [
    "# import src.slurm_cluster as scluster\n",
    "# client, scluster = scluster.init_dask_slurm_cluster()"
   ]
  },
  {
   "cell_type": "code",
   "execution_count": null,
   "metadata": {},
   "outputs": [],
   "source": [
    "def func_mk(x):\n",
    "    \"\"\"\n",
    "    Mann-Kendall test for trend\n",
    "    \"\"\"\n",
    "    results = data_process.mk_test(x)\n",
    "    slope = results[0]\n",
    "    p_val = results[1]\n",
    "    return slope, p_val\n",
    " "
   ]
  },
  {
   "cell_type": "code",
   "execution_count": null,
   "metadata": {},
   "outputs": [],
   "source": [
    "variable_names = ['10yr', '30yr', '60yr']"
   ]
  },
  {
   "cell_type": "code",
   "execution_count": null,
   "metadata": {},
   "outputs": [],
   "source": [
    "# out put the forced trend and pvalue\n",
    "dir_in ='/work/mh0033/m301036/Land_surf_temp/Disentangling_OBS_SAT_trend/Figure2/CanESM5/trend/'\n",
    "\n",
    "trend_annual_da = {}\n",
    "p_val_annual_da = {}\n",
    "\n",
    "for var in variable_names:\n",
    "    trend_annual_da[var] = xr.open_mfdataset(dir_in + 'CanESM5_forced_' + var + '_trend.nc', chunks={'run': 1})\n",
    "    p_val_annual_da[var] = xr.open_mfdataset(dir_in + 'CanESM5_forced_' + var + '_pvalue.nc', chunks={'run': 1})\n"
   ]
  },
  {
   "cell_type": "code",
   "execution_count": null,
   "metadata": {},
   "outputs": [],
   "source": [
    "# input the unforced trend and pvalue\n",
    "unforced_trend_da = {}\n",
    "unforced_p_val_da = {}\n",
    "\n",
    "for var in variable_names:\n",
    "    unforced_trend_da[var] = xr.open_mfdataset(dir_in + 'CanESM5_unforced_' + var + '_trend.nc', chunks={'run': 1})\n",
    "    unforced_p_val_da[var] = xr.open_mfdataset(dir_in + 'CanESM5_unforced_' + var + '_pvalue.nc', chunks={'run': 1})"
   ]
  },
  {
   "cell_type": "code",
   "execution_count": null,
   "metadata": {},
   "outputs": [],
   "source": [
    "unforced_trend_da"
   ]
  },
  {
   "cell_type": "markdown",
   "metadata": {},
   "source": [
    "### calculate the pattern correlation"
   ]
  },
  {
   "cell_type": "code",
   "execution_count": null,
   "metadata": {},
   "outputs": [],
   "source": [
    "# Input the 10-year, 30-year and 60-year ensemble mean SAT trend data\n",
    "dir_input = '/work/mh0033/m301036/Land_surf_temp/Disentangling_OBS_SAT_trend/Supp_Figure1_Forced/data/Smiles_ensemble/'\n",
    "\n",
    "CanESM5_10yr_trend   = xr.open_dataset(dir_input + 'CanESM5_annual_forced_10yr_trend.nc')\n",
    "CanESM5_30yr_trend   = xr.open_dataset(dir_input + 'CanESM5_annual_forced_30yr_trend.nc')\n",
    "CanESM5_60yr_trend   = xr.open_dataset(dir_input + 'CanESM5_annual_forced_60yr_trend.nc')"
   ]
  },
  {
   "cell_type": "code",
   "execution_count": null,
   "metadata": {},
   "outputs": [],
   "source": [
    "CanESM5_10yr_trend = CanESM5_10yr_trend.rename({'__xarray_dataarray_variable__':'tas'})\n",
    "CanESM5_30yr_trend = CanESM5_30yr_trend.rename({'__xarray_dataarray_variable__':'tas'})\n",
    "CanESM5_60yr_trend = CanESM5_60yr_trend.rename({'__xarray_dataarray_variable__':'tas'})"
   ]
  },
  {
   "cell_type": "code",
   "execution_count": null,
   "metadata": {},
   "outputs": [],
   "source": [
    "trend_annual_da['10yr'].trend.isel(run=1)"
   ]
  },
  {
   "cell_type": "code",
   "execution_count": null,
   "metadata": {},
   "outputs": [],
   "source": [
    "# pattern correlation betwenn observed forced pattern vs. Model simulated forced pattern\n",
    "import scipy.stats as stats\n",
    "# 10yr forced trend in each realization .vs. CanESM5 ensemble trend CanESM5_10yr_trend\n",
    "CanESM5_forced_10yr_trend = trend_annual_da['10yr'].trend\n",
    "CanESM5_forced_30yr_trend = trend_annual_da['30yr'].trend\n",
    "CanESM5_forced_60yr_trend = trend_annual_da['60yr'].trend\n",
    "\n",
    "CanESM5_unforced_10yr_trend = unforced_trend_da['10yr'].trend\n",
    "CanESM5_unforced_30yr_trend = unforced_trend_da['30yr'].trend\n",
    "CanESM5_unforced_60yr_trend = unforced_trend_da['60yr'].trend\n",
    "\n",
    "# Pattern correlations calculation\n",
    "trend_pattern_correlation_10yr = []\n",
    "for i in range(len(trend_annual_da['10yr'].run)):\n",
    "    trend_pattern_correlation_10yr.append(stats.pearsonr(CanESM5_forced_10yr_trend.isel(run=i).values.flatten(), CanESM5_10yr_trend['tas'].values.flatten())[0])\n",
    "\n",
    "trend_pattern_correlation_30yr = []\n",
    "for i in range(len(trend_annual_da['30yr'].run)):\n",
    "    trend_pattern_correlation_30yr.append(stats.pearsonr(CanESM5_forced_30yr_trend.isel(run=i).values.flatten(), CanESM5_30yr_trend['tas'].values.flatten())[0])\n",
    "\n",
    "trend_pattern_correlation_60yr = []\n",
    "for i in range(len(trend_annual_da['60yr'].run)):\n",
    "    trend_pattern_correlation_60yr.append(stats.pearsonr(CanESM5_forced_60yr_trend.isel(run=i).values.flatten(), CanESM5_60yr_trend['tas'].values.flatten())[0])\n",
    "    "
   ]
  },
  {
   "cell_type": "code",
   "execution_count": null,
   "metadata": {},
   "outputs": [],
   "source": [
    "trend_pattern_correlation_60yr"
   ]
  },
  {
   "cell_type": "code",
   "execution_count": null,
   "metadata": {},
   "outputs": [],
   "source": [
    "# save the pattern correlation into text file\n",
    "# Save to a text file\n",
    "with open('pattern_correlations.txt', 'w') as file:\n",
    "    file.write('10-year Trend Pattern Correlations:\\n')\n",
    "    for correlation in trend_pattern_correlation_10yr:\n",
    "        file.write(f\"{correlation}\\n\")\n",
    "\n",
    "    file.write('\\n30-year Trend Pattern Correlations:\\n')\n",
    "    for correlation in trend_pattern_correlation_30yr:\n",
    "        file.write(f\"{correlation}\\n\")\n",
    "\n",
    "    file.write('\\n60-year Trend Pattern Correlations:\\n')\n",
    "    for correlation in trend_pattern_correlation_60yr:\n",
    "        file.write(f\"{correlation}\\n\")"
   ]
  },
  {
   "cell_type": "code",
   "execution_count": null,
   "metadata": {},
   "outputs": [],
   "source": [
    "# Input the observational forced and unforced trend wrt. CanESM5-CM6A-LR\n",
    "dir_obs = '/work/mh0033/m301036/Land_surf_temp/analyses_1850_2100/Manuscript_visual_schematic/Disentangling_trend_analysis/Figure2/data/'\n",
    "\n",
    "Obs_forced_10yr_trend = xr.open_dataset(dir_obs + 'HadCRUT5_annual_forced_10yr_trend.nc')\n",
    "Obs_forced_30yr_trend = xr.open_dataset(dir_obs + 'HadCRUT5_annual_forced_30yr_trend.nc')\n",
    "Obs_forced_60yr_trend = xr.open_dataset(dir_obs + 'HadCRUT5_annual_forced_60yr_trend.nc')\n",
    "\n",
    "Obs_unforced_10yr_trend = xr.open_dataset(dir_obs + 'HadCRUT5_annual_internal_10yr_trend.nc')\n",
    "Obs_unforced_30yr_trend = xr.open_dataset(dir_obs + 'HadCRUT5_annual_internal_30yr_trend.nc')\n",
    "Obs_unforced_60yr_trend = xr.open_dataset(dir_obs + 'HadCRUT5_annual_internal_60yr_trend.nc')"
   ]
  },
  {
   "cell_type": "code",
   "execution_count": null,
   "metadata": {},
   "outputs": [],
   "source": [
    "Obs_unforced_10yr_trend"
   ]
  },
  {
   "cell_type": "code",
   "execution_count": null,
   "metadata": {},
   "outputs": [],
   "source": [
    "Obs_forced_10yr_trend = Obs_forced_10yr_trend.rename({'__xarray_dataarray_variable__':'tas'})\n",
    "Obs_forced_30yr_trend = Obs_forced_30yr_trend.rename({'__xarray_dataarray_variable__':'tas'})\n",
    "Obs_forced_60yr_trend = Obs_forced_60yr_trend.rename({'__xarray_dataarray_variable__':'tas'})\n",
    "\n",
    "Obs_unforced_10yr_trend = Obs_unforced_10yr_trend.rename({'__xarray_dataarray_variable__':'tas'})\n",
    "Obs_unforced_30yr_trend = Obs_unforced_30yr_trend.rename({'__xarray_dataarray_variable__':'tas'})\n",
    "Obs_unforced_60yr_trend = Obs_unforced_60yr_trend.rename({'__xarray_dataarray_variable__':'tas'})\n"
   ]
  },
  {
   "cell_type": "code",
   "execution_count": null,
   "metadata": {},
   "outputs": [],
   "source": [
    "# calculate the pattern correlation between observed and model's each realization simulated forced and unforced trend\n",
    "OBS_trend_pattern_correlation_10yr = []\n",
    "for i in range(len(trend_annual_da['10yr'].run)):\n",
    "    OBS_trend_pattern_correlation_10yr.append(stats.pearsonr(CanESM5_forced_10yr_trend.isel(run=i).values.flatten(), Obs_forced_10yr_trend['tas'].values.flatten())[0])\n",
    "\n",
    "OBS_trend_pattern_correlation_30yr = []\n",
    "for i in range(len(trend_annual_da['30yr'].run)):\n",
    "    OBS_trend_pattern_correlation_30yr.append(stats.pearsonr(CanESM5_forced_30yr_trend.isel(run=i).values.flatten(), Obs_forced_30yr_trend['tas'].values.flatten())[0])\n",
    "\n",
    "OBS_trend_pattern_correlation_60yr = []\n",
    "for i in range(len(trend_annual_da['60yr'].run)):\n",
    "    OBS_trend_pattern_correlation_60yr.append(stats.pearsonr(CanESM5_forced_60yr_trend.isel(run=i).values.flatten(), Obs_forced_60yr_trend['tas'].values.flatten())[0])"
   ]
  },
  {
   "cell_type": "code",
   "execution_count": null,
   "metadata": {},
   "outputs": [],
   "source": [
    "OBS_trend_pattern_correlation_10yr"
   ]
  },
  {
   "cell_type": "code",
   "execution_count": null,
   "metadata": {},
   "outputs": [],
   "source": [
    "# Save to a text file\n",
    "with open('obs_MMEM_forced_vs_CanESM5_forced_pattern_correlations.txt', 'w') as file:\n",
    "    file.write('10-year Trend Pattern Correlations:\\n')\n",
    "    for correlation in OBS_trend_pattern_correlation_10yr:\n",
    "        file.write(f\"{correlation}\\n\")\n",
    "\n",
    "    file.write('\\n30-year Trend Pattern Correlations:\\n')\n",
    "    for correlation in OBS_trend_pattern_correlation_30yr:\n",
    "        file.write(f\"{correlation}\\n\")\n",
    "\n",
    "    file.write('\\n60-year Trend Pattern Correlations:\\n')\n",
    "    for correlation in OBS_trend_pattern_correlation_60yr:\n",
    "        file.write(f\"{correlation}\\n\")"
   ]
  },
  {
   "cell_type": "code",
   "execution_count": null,
   "metadata": {},
   "outputs": [],
   "source": [
    "OBS_unforced_trend_pattern_correlation_10yr = []\n",
    "for i in range(len(trend_annual_da['10yr'].run)):\n",
    "    OBS_unforced_trend_pattern_correlation_10yr.append(stats.pearsonr(CanESM5_unforced_10yr_trend.isel(run=i).values.flatten(), Obs_unforced_10yr_trend['tas'].values.flatten())[0])\n",
    "    \n",
    "OBS_unforced_trend_pattern_correlation_30yr = []\n",
    "for i in range(len(trend_annual_da['30yr'].run)):\n",
    "    OBS_unforced_trend_pattern_correlation_30yr.append(stats.pearsonr(CanESM5_unforced_30yr_trend.isel(run=i).values.flatten(), Obs_unforced_30yr_trend['tas'].values.flatten())[0])\n",
    "    \n",
    "OBS_unforced_trend_pattern_correlation_60yr = []\n",
    "for i in range(len(trend_annual_da['60yr'].run)):\n",
    "    OBS_unforced_trend_pattern_correlation_60yr.append(stats.pearsonr(CanESM5_unforced_60yr_trend.isel(run=i).values.flatten(), Obs_unforced_60yr_trend['tas'].values.flatten())[0])"
   ]
  },
  {
   "cell_type": "code",
   "execution_count": null,
   "metadata": {},
   "outputs": [],
   "source": [
    "OBS_unforced_trend_pattern_correlation_30yr"
   ]
  },
  {
   "cell_type": "code",
   "execution_count": null,
   "metadata": {},
   "outputs": [],
   "source": [
    "# Save to a text file\n",
    "with open('obs_MMEM_unforced_vs_CanESM5_unforced_pattern_correlations.txt', 'w') as file:\n",
    "    file.write('10-year Trend Pattern Correlations:\\n')\n",
    "    for correlation in OBS_unforced_trend_pattern_correlation_10yr:\n",
    "        file.write(f\"{correlation}\\n\")\n",
    "\n",
    "    file.write('\\n30-year Trend Pattern Correlations:\\n')\n",
    "    for correlation in OBS_unforced_trend_pattern_correlation_30yr:\n",
    "        file.write(f\"{correlation}\\n\")\n",
    "\n",
    "    file.write('\\n60-year Trend Pattern Correlations:\\n')\n",
    "    for correlation in OBS_unforced_trend_pattern_correlation_60yr:\n",
    "        file.write(f\"{correlation}\\n\")"
   ]
  },
  {
   "cell_type": "code",
   "execution_count": null,
   "metadata": {},
   "outputs": [],
   "source": []
  }
 ],
 "metadata": {
  "kernelspec": {
   "display_name": "My Kernel",
   "language": "python",
   "name": "my-kernel"
  },
  "language_info": {
   "codemirror_mode": {
    "name": "ipython",
    "version": 3
   },
   "file_extension": ".py",
   "mimetype": "text/x-python",
   "name": "python",
   "nbconvert_exporter": "python",
   "pygments_lexer": "ipython3",
   "version": "3.9.16"
  }
 },
 "nbformat": 4,
 "nbformat_minor": 2
}
