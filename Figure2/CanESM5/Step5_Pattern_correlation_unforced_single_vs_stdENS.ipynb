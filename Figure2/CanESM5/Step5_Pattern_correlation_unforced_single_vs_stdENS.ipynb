{
 "cells": [
  {
   "cell_type": "code",
   "execution_count": null,
   "metadata": {},
   "outputs": [],
   "source": [
    "# In[1]:\n",
    "import numpy as np\n",
    "import xarray as xr\n",
    "import pandas as pd\n",
    "import matplotlib.pyplot as plt\n",
    "import cartopy.crs as ccrs\n",
    "import cartopy.feature as cfeature\n",
    "# %%\n",
    "# define function\n",
    "import src.SAT_function as data_process\n",
    "import src.Data_Preprocess as preprocess"
   ]
  },
  {
   "cell_type": "code",
   "execution_count": null,
   "metadata": {},
   "outputs": [],
   "source": [
    "variable_names = ['10yr', '30yr', '60yr']"
   ]
  },
  {
   "cell_type": "code",
   "execution_count": null,
   "metadata": {},
   "outputs": [],
   "source": [
    "# out put the forced trend and pvalue\n",
    "dir_in ='/work/mh0033/m301036/Land_surf_temp/Disentangling_OBS_SAT_trend/Figure2/CanESM5/'\n",
    "\n",
    "# trend_annual_da = {}\n",
    "# p_val_annual_da = {}\n",
    "\n",
    "# for var in variable_names:\n",
    "#     trend_annual_da[var] = xr.open_mfdataset(dir_in + 'CanESM5_unforced_' + var + '_trend.nc', chunks={'run': 1})\n"
   ]
  },
  {
   "cell_type": "code",
   "execution_count": null,
   "metadata": {},
   "outputs": [],
   "source": [
    "# for var in variable_names:\n",
    "#     trend_annual_da[var] = trend_annual_da[var].rename({'__xarray_dataarray_variable__': 'trend'})"
   ]
  },
  {
   "cell_type": "code",
   "execution_count": null,
   "metadata": {},
   "outputs": [],
   "source": [
    "# input the unforced trend and pvalue\n",
    "unforced_trend_da = {}\n",
    "# unforced_p_val_da = {}\n",
    "\n",
    "for var in variable_names:\n",
    "    unforced_trend_da[var] = xr.open_mfdataset(dir_in + 'ICV_segments_' + var + '_std_trend_pattern.nc', chunks={'run': 1})\n",
    "    # unforced_p_val_da[var] = xr.open_mfdataset(dir_in + 'CanESM5_unforced_' + var + '_pvalue.nc', chunks={'run': 1})"
   ]
  },
  {
   "cell_type": "code",
   "execution_count": null,
   "metadata": {},
   "outputs": [],
   "source": [
    "unforced_trend_da"
   ]
  },
  {
   "cell_type": "markdown",
   "metadata": {},
   "source": [
    "### calculate the pattern correlation"
   ]
  },
  {
   "cell_type": "code",
   "execution_count": null,
   "metadata": {},
   "outputs": [],
   "source": [
    "# Input the 10-year, 30-year and 60-year ensemble mean SAT trend data\n",
    "dir_input = '/work/mh0033/m301036/Land_surf_temp/Disentangling_OBS_SAT_trend/Supp_Figure7/data/'\n",
    "\n",
    "CanESM5_10yr_trend   = xr.open_dataset(dir_input + 'CanESM5_annual_10yr_noise_trend_std.nc')\n",
    "CanESM5_30yr_trend   = xr.open_dataset(dir_input + 'CanESM5_annual_30yr_noise_trend_std.nc')\n",
    "CanESM5_60yr_trend   = xr.open_dataset(dir_input + 'CanESM5_annual_60yr_noise_trend_std.nc')"
   ]
  },
  {
   "cell_type": "code",
   "execution_count": null,
   "metadata": {},
   "outputs": [],
   "source": [
    "CanESM5_10yr_trend"
   ]
  },
  {
   "cell_type": "code",
   "execution_count": null,
   "metadata": {},
   "outputs": [],
   "source": [
    "# pattern correlation betwenn observed forced pattern vs. Model simulated forced pattern\n",
    "import scipy.stats as stats\n",
    "# 10yr unforced trend in each realization .vs. CanESM5 ensemble stddev. trend CanESM5_10yr_trend\n",
    "\n",
    "CanESM5_unforced_10yr_trend = unforced_trend_da['10yr']['ICV_segments_10yr_std_trend_pattern']\n",
    "CanESM5_unforced_30yr_trend = unforced_trend_da['30yr']['ICV_segments_30yr_std_trend_pattern']\n",
    "CanESM5_unforced_60yr_trend = unforced_trend_da['60yr']['ICV_segments_60yr_std_trend_pattern']\n",
    "\n",
    "# Pattern correlations calculation\n",
    "trend_pattern_correlation_10yr = []\n",
    "for i in range(len(unforced_trend_da['10yr'].run)):\n",
    "    trend_pattern_correlation_10yr.append(stats.pearsonr(CanESM5_unforced_10yr_trend.isel(run=i).values.flatten(), CanESM5_10yr_trend['tas'].values.flatten())[0])\n",
    "\n",
    "trend_pattern_correlation_30yr = []\n",
    "for i in range(len(unforced_trend_da['30yr'].run)):\n",
    "    trend_pattern_correlation_30yr.append(stats.pearsonr(CanESM5_unforced_30yr_trend.isel(run=i).values.flatten(), CanESM5_30yr_trend['tas'].values.flatten())[0])\n",
    "\n",
    "trend_pattern_correlation_60yr = []\n",
    "for i in range(len(unforced_trend_da['60yr'].run)):\n",
    "    trend_pattern_correlation_60yr.append(stats.pearsonr(CanESM5_unforced_60yr_trend.isel(run=i).values.flatten(), CanESM5_60yr_trend['tas'].values.flatten())[0])\n",
    "    "
   ]
  },
  {
   "cell_type": "code",
   "execution_count": null,
   "metadata": {},
   "outputs": [],
   "source": [
    "trend_pattern_correlation_60yr"
   ]
  },
  {
   "cell_type": "code",
   "execution_count": null,
   "metadata": {},
   "outputs": [],
   "source": [
    "# save the pattern correlation into text file\n",
    "# Save to a text file\n",
    "with open('pattern_correlations_unforced_STD.txt', 'w') as file:\n",
    "    file.write('10-year Trend Pattern Correlations:\\n')\n",
    "    for correlation in trend_pattern_correlation_10yr:\n",
    "        file.write(f\"{correlation}\\n\")\n",
    "\n",
    "    file.write('\\n30-year Trend Pattern Correlations:\\n')\n",
    "    for correlation in trend_pattern_correlation_30yr:\n",
    "        file.write(f\"{correlation}\\n\")\n",
    "\n",
    "    file.write('\\n60-year Trend Pattern Correlations:\\n')\n",
    "    for correlation in trend_pattern_correlation_60yr:\n",
    "        file.write(f\"{correlation}\\n\")"
   ]
  },
  {
   "cell_type": "code",
   "execution_count": null,
   "metadata": {},
   "outputs": [],
   "source": []
  }
 ],
 "metadata": {
  "kernelspec": {
   "display_name": "My Kernel",
   "language": "python",
   "name": "my-kernel"
  },
  "language_info": {
   "codemirror_mode": {
    "name": "ipython",
    "version": 3
   },
   "file_extension": ".py",
   "mimetype": "text/x-python",
   "name": "python",
   "nbconvert_exporter": "python",
   "pygments_lexer": "ipython3",
   "version": "3.9.20"
  }
 },
 "nbformat": 4,
 "nbformat_minor": 2
}
